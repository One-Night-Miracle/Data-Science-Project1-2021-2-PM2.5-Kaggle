{
 "cells": [
  {
   "cell_type": "code",
   "execution_count": null,
   "metadata": {},
   "outputs": [],
   "source": [
    "#Import the libraries\n",
    "import numpy as np\n",
    "import pandas as pd\n",
    "\n",
    "import pickle\n",
    "\n",
    "import warnings\n",
    "warnings.filterwarnings(\"ignore\")"
   ]
  },
  {
   "cell_type": "code",
   "execution_count": null,
   "metadata": {},
   "outputs": [],
   "source": [
    "sb_bkk = pd.read_csv('answer_dataset/submission_answer/y_pred_BKK.csv', names=['Predict'], skiprows=1)\n",
    "\n",
    "sb_cnx = pd.read_csv('answer_dataset/submission_answer/y_pred_CNX.csv', names=['Predict'], skiprows=1)\n",
    "\n",
    "sb_kkc = pd.read_csv('answer_dataset/submission_answer/y_pred_KKC.csv', names=['Predict'], skiprows=1)\n",
    "\n",
    "sb_ray = pd.read_csv('answer_dataset/submission_answer/y_pred_RAY.csv', names=['Predict'], skiprows=1)\n",
    "\n",
    "sb_sara = pd.read_csv('answer_dataset/submission_answer/y_pred_SARA.csv', names=['Predict'], skiprows=1)\n",
    "\n",
    "sb_surat = pd.read_csv('answer_dataset/submission_answer/y_pred_SURAT.csv', names=['Predict'], skiprows=1)"
   ]
  },
  {
   "cell_type": "code",
   "execution_count": null,
   "metadata": {},
   "outputs": [],
   "source": [
    "ms_date = {}\n",
    "ms_date_bkk = pd.read_csv('datasci_dataset_2022/_missing_date/missing_test_date_bkk.csv',names=['Time'],skiprows=1)\n",
    "ms_date_cnx = pd.read_csv('datasci_dataset_2022/_missing_date/missing_test_date_chiangmai.csv',names=['Time'],skiprows=1)\n",
    "ms_date_kkc = pd.read_csv('datasci_dataset_2022/_missing_date/missing_test_date_khonkaen.csv',names=['Time'],skiprows=1)\n",
    "ms_date_ray = pd.read_csv('datasci_dataset_2022/_missing_date/missing_test_date_rayong.csv',names=['Time'],skiprows=1)\n",
    "ms_date_sara = pd.read_csv('datasci_dataset_2022/_missing_date/missing_test_date_saraburi.csv',names=['Time'],skiprows=1)\n",
    "ms_date_surat = pd.read_csv('datasci_dataset_2022/_missing_date/missing_test_date_surat.csv',names=['Time'],skiprows=1)"
   ]
  },
  {
   "cell_type": "code",
   "execution_count": null,
   "metadata": {},
   "outputs": [],
   "source": [
    "duplicates = pd.merge(sb_bkk,ms_date_bkk,how='inner',on=['Time'])['Time']\n",
    "sb_bkk = sb_bkk[ ~sb_bkk['Time'].isin(duplicates) ]\n",
    "\n",
    "duplicates = pd.merge(sb_cnx,ms_date_cnx,how='inner',on=['Time'])['Time']\n",
    "sb_cnx = sb_cnx[ ~sb_cnx['Time'].isin(duplicates) ]\n",
    "\n",
    "duplicates = pd.merge(sb_kkc,ms_date_kkc,how='inner',on=['Time'])['Time']\n",
    "sb_kkc = sb_kkc[ ~sb_kkc['Time'].isin(duplicates) ]\n",
    "\n",
    "duplicates = pd.merge(sb_ray,ms_date_ray,how='inner',on=['Time'])['Time']\n",
    "sb_ray = sb_ray[ ~sb_ray['Time'].isin(duplicates) ]\n",
    "\n",
    "duplicates = pd.merge(sb_sara,ms_date_sara,how='inner',on=['Time'])['Time']\n",
    "sb_sara = sb_sara[ ~sb_sara['Time'].isin(duplicates) ]\n",
    "\n",
    "duplicates = pd.merge(sb_surat,ms_date_surat,how='inner',on=['Time'])['Time']\n",
    "sb_surat = sb_surat[ ~sb_surat['Time'].isin(duplicates) ]"
   ]
  },
  {
   "cell_type": "code",
   "execution_count": null,
   "metadata": {},
   "outputs": [],
   "source": [
    "sb_bkk.head()"
   ]
  },
  {
   "cell_type": "code",
   "execution_count": null,
   "metadata": {},
   "outputs": [],
   "source": [
    "ls_sb = [sb_bkk, sb_cnx, sb_ray, sb_sara, sb_kkc, sb_surat]\n",
    "\n",
    "final_answer = pd.concat(ls_sb)\n",
    "final_answer['Predicted'] = final_answer['Predict']\n",
    "final_answer = final_answer[['Predicted']].reset_index()\n",
    "final_answer"
   ]
  },
  {
   "cell_type": "code",
   "execution_count": null,
   "metadata": {},
   "outputs": [],
   "source": [
    "final_answer[['Predicted']].to_csv('testing_submission.csv')"
   ]
  }
 ],
 "metadata": {
  "language_info": {
   "name": "python"
  },
  "orig_nbformat": 4
 },
 "nbformat": 4,
 "nbformat_minor": 2
}
