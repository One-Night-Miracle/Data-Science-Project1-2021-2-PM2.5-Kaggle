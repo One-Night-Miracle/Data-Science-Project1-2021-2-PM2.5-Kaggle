{
 "cells": [
  {
   "cell_type": "code",
   "execution_count": 1,
   "metadata": {},
   "outputs": [],
   "source": [
    "#Import the libraries\n",
    "import numpy as np\n",
    "import pandas as pd\n",
    "\n",
    "import pickle\n",
    "\n",
    "import warnings\n",
    "warnings.filterwarnings(\"ignore\")"
   ]
  },
  {
   "cell_type": "code",
   "execution_count": 2,
   "metadata": {},
   "outputs": [],
   "source": [
    "sb_bkk = pd.read_csv('answer_dataset/pred_and_actual/y_pred_sav_BKK.csv', names=['Time','Predict','Actual'], skiprows=79)\n",
    "\n",
    "sb_cnx = pd.read_csv('answer_dataset/pred_and_actual/y_pred_sav_CNX.csv', names=['Time','Predict','Actual'], skiprows=79)\n",
    "\n",
    "sb_kkc = pd.read_csv('answer_dataset/pred_and_actual/y_pred_sav_KKC.csv', names=['Time','Predict','Actual'], skiprows=79)\n",
    "\n",
    "sb_ray = pd.read_csv('answer_dataset/pred_and_actual/y_pred_sav_RAY.csv', names=['Time','Predict','Actual'], skiprows=79)\n",
    "\n",
    "sb_sara = pd.read_csv('answer_dataset/pred_and_actual/y_pred_sav_SARA.csv', names=['Time','Predict','Actual'], skiprows=79)\n",
    "\n",
    "sb_surat = pd.read_csv('answer_dataset/pred_and_actual/y_pred_sav_SURAT.csv', names=['Time','Predict','Actual'], skiprows=79)"
   ]
  },
  {
   "cell_type": "code",
   "execution_count": 3,
   "metadata": {},
   "outputs": [],
   "source": [
    "ms_date = {}\n",
    "ms_date_bkk = pd.read_csv('datasci_dataset_2022/_missing_date/missing_test_date_bkk.csv',names=['Time'],skiprows=1)\n",
    "ms_date_cnx = pd.read_csv('datasci_dataset_2022/_missing_date/missing_test_date_chiangmai.csv',names=['Time'],skiprows=1)\n",
    "ms_date_kkc = pd.read_csv('datasci_dataset_2022/_missing_date/missing_test_date_khonkaen.csv',names=['Time'],skiprows=1)\n",
    "ms_date_ray = pd.read_csv('datasci_dataset_2022/_missing_date/missing_test_date_rayong.csv',names=['Time'],skiprows=1)\n",
    "ms_date_sara = pd.read_csv('datasci_dataset_2022/_missing_date/missing_test_date_saraburi.csv',names=['Time'],skiprows=1)\n",
    "ms_date_surat = pd.read_csv('datasci_dataset_2022/_missing_date/missing_test_date_surat.csv',names=['Time'],skiprows=1)"
   ]
  },
  {
   "cell_type": "code",
   "execution_count": 4,
   "metadata": {},
   "outputs": [],
   "source": [
    "duplicates = pd.merge(sb_bkk,ms_date_bkk,how='inner',on=['Time'])['Time']\n",
    "sb_bkk = sb_bkk[ ~sb_bkk['Time'].isin(duplicates) ]\n",
    "\n",
    "duplicates = pd.merge(sb_cnx,ms_date_cnx,how='inner',on=['Time'])['Time']\n",
    "sb_cnx = sb_cnx[ ~sb_cnx['Time'].isin(duplicates) ]\n",
    "\n",
    "duplicates = pd.merge(sb_kkc,ms_date_kkc,how='inner',on=['Time'])['Time']\n",
    "sb_kkc = sb_kkc[ ~sb_kkc['Time'].isin(duplicates) ]\n",
    "\n",
    "duplicates = pd.merge(sb_ray,ms_date_ray,how='inner',on=['Time'])['Time']\n",
    "sb_ray = sb_ray[ ~sb_ray['Time'].isin(duplicates) ]\n",
    "\n",
    "duplicates = pd.merge(sb_sara,ms_date_sara,how='inner',on=['Time'])['Time']\n",
    "sb_sara = sb_sara[ ~sb_sara['Time'].isin(duplicates) ]\n",
    "\n",
    "duplicates = pd.merge(sb_surat,ms_date_surat,how='inner',on=['Time'])['Time']\n",
    "sb_surat = sb_surat[ ~sb_surat['Time'].isin(duplicates) ]"
   ]
  },
  {
   "cell_type": "markdown",
   "metadata": {},
   "source": [
    "RMSE"
   ]
  },
  {
   "cell_type": "code",
   "execution_count": 5,
   "metadata": {},
   "outputs": [
    {
     "name": "stdout",
     "output_type": "stream",
     "text": [
      "6.281831172379205\n",
      "9.728588813388583\n",
      "7.654525010453233\n",
      "11.909303886843485\n",
      "10.754259361356352\n",
      "8.048499800056202\n"
     ]
    }
   ],
   "source": [
    "for sb in [sb_bkk, sb_cnx, sb_ray, sb_sara, sb_kkc, sb_surat]:\n",
    "    sb[sb['Predict']<0] = 0\n",
    "    diff = np.sqrt((np.array(sb['Predict'] - sb['Actual'])**2).mean())\n",
    "    print(diff)"
   ]
  },
  {
   "cell_type": "code",
   "execution_count": 6,
   "metadata": {},
   "outputs": [
    {
     "data": {
      "text/html": [
       "<div>\n",
       "<style scoped>\n",
       "    .dataframe tbody tr th:only-of-type {\n",
       "        vertical-align: middle;\n",
       "    }\n",
       "\n",
       "    .dataframe tbody tr th {\n",
       "        vertical-align: top;\n",
       "    }\n",
       "\n",
       "    .dataframe thead th {\n",
       "        text-align: right;\n",
       "    }\n",
       "</style>\n",
       "<table border=\"1\" class=\"dataframe\">\n",
       "  <thead>\n",
       "    <tr style=\"text-align: right;\">\n",
       "      <th></th>\n",
       "      <th>index</th>\n",
       "      <th>Time</th>\n",
       "      <th>Predict</th>\n",
       "      <th>Actual</th>\n",
       "      <th>Predicted</th>\n",
       "    </tr>\n",
       "    <tr>\n",
       "      <th>id</th>\n",
       "      <th></th>\n",
       "      <th></th>\n",
       "      <th></th>\n",
       "      <th></th>\n",
       "      <th></th>\n",
       "    </tr>\n",
       "  </thead>\n",
       "  <tbody>\n",
       "    <tr>\n",
       "      <th>0</th>\n",
       "      <td>78</td>\n",
       "      <td>2020-07-01 06:00:00</td>\n",
       "      <td>10.954869</td>\n",
       "      <td>11.0</td>\n",
       "      <td>10.954869</td>\n",
       "    </tr>\n",
       "    <tr>\n",
       "      <th>1</th>\n",
       "      <td>79</td>\n",
       "      <td>2020-07-01 12:00:00</td>\n",
       "      <td>9.431580</td>\n",
       "      <td>15.0</td>\n",
       "      <td>9.431580</td>\n",
       "    </tr>\n",
       "    <tr>\n",
       "      <th>2</th>\n",
       "      <td>80</td>\n",
       "      <td>2020-07-01 18:00:00</td>\n",
       "      <td>10.293018</td>\n",
       "      <td>14.0</td>\n",
       "      <td>10.293018</td>\n",
       "    </tr>\n",
       "    <tr>\n",
       "      <th>3</th>\n",
       "      <td>81</td>\n",
       "      <td>2020-07-02 00:00:00</td>\n",
       "      <td>9.477980</td>\n",
       "      <td>18.0</td>\n",
       "      <td>9.477980</td>\n",
       "    </tr>\n",
       "    <tr>\n",
       "      <th>4</th>\n",
       "      <td>82</td>\n",
       "      <td>2020-07-02 06:00:00</td>\n",
       "      <td>9.813760</td>\n",
       "      <td>12.0</td>\n",
       "      <td>9.813760</td>\n",
       "    </tr>\n",
       "    <tr>\n",
       "      <th>...</th>\n",
       "      <td>...</td>\n",
       "      <td>...</td>\n",
       "      <td>...</td>\n",
       "      <td>...</td>\n",
       "      <td>...</td>\n",
       "    </tr>\n",
       "    <tr>\n",
       "      <th>94243</th>\n",
       "      <td>17563</td>\n",
       "      <td>2021-07-01 12:00:00</td>\n",
       "      <td>13.477184</td>\n",
       "      <td>13.0</td>\n",
       "      <td>13.477184</td>\n",
       "    </tr>\n",
       "    <tr>\n",
       "      <th>94244</th>\n",
       "      <td>17564</td>\n",
       "      <td>2021-07-01 18:00:00</td>\n",
       "      <td>16.282404</td>\n",
       "      <td>13.0</td>\n",
       "      <td>16.282404</td>\n",
       "    </tr>\n",
       "    <tr>\n",
       "      <th>94245</th>\n",
       "      <td>17565</td>\n",
       "      <td>2021-07-01 12:00:00</td>\n",
       "      <td>10.787779</td>\n",
       "      <td>13.0</td>\n",
       "      <td>10.787779</td>\n",
       "    </tr>\n",
       "    <tr>\n",
       "      <th>94246</th>\n",
       "      <td>17566</td>\n",
       "      <td>2021-07-01 18:00:00</td>\n",
       "      <td>14.698055</td>\n",
       "      <td>13.0</td>\n",
       "      <td>14.698055</td>\n",
       "    </tr>\n",
       "    <tr>\n",
       "      <th>94247</th>\n",
       "      <td>17567</td>\n",
       "      <td>2021-07-01 18:00:00</td>\n",
       "      <td>13.150704</td>\n",
       "      <td>13.0</td>\n",
       "      <td>13.150704</td>\n",
       "    </tr>\n",
       "  </tbody>\n",
       "</table>\n",
       "<p>94248 rows × 5 columns</p>\n",
       "</div>"
      ],
      "text/plain": [
       "       index                 Time    Predict  Actual  Predicted\n",
       "id                                                             \n",
       "0         78  2020-07-01 06:00:00  10.954869    11.0  10.954869\n",
       "1         79  2020-07-01 12:00:00   9.431580    15.0   9.431580\n",
       "2         80  2020-07-01 18:00:00  10.293018    14.0  10.293018\n",
       "3         81  2020-07-02 00:00:00   9.477980    18.0   9.477980\n",
       "4         82  2020-07-02 06:00:00   9.813760    12.0   9.813760\n",
       "...      ...                  ...        ...     ...        ...\n",
       "94243  17563  2021-07-01 12:00:00  13.477184    13.0  13.477184\n",
       "94244  17564  2021-07-01 18:00:00  16.282404    13.0  16.282404\n",
       "94245  17565  2021-07-01 12:00:00  10.787779    13.0  10.787779\n",
       "94246  17566  2021-07-01 18:00:00  14.698055    13.0  14.698055\n",
       "94247  17567  2021-07-01 18:00:00  13.150704    13.0  13.150704\n",
       "\n",
       "[94248 rows x 5 columns]"
      ]
     },
     "execution_count": 6,
     "metadata": {},
     "output_type": "execute_result"
    }
   ],
   "source": [
    "ls_sb = [sb_bkk, sb_cnx, sb_ray, sb_sara, sb_kkc, sb_surat]\n",
    "\n",
    "final_answer = pd.concat(ls_sb)\n",
    "final_answer[final_answer['Predict']<0] = 0\n",
    "final_answer['Predicted'] = final_answer['Predict']\n",
    "# final_answer = final_answer[['Predicted']].reset_index()\n",
    "final_answer = final_answer.reset_index()\n",
    "final_answer = final_answer.rename_axis('id')\n",
    "final_answer"
   ]
  },
  {
   "cell_type": "code",
   "execution_count": 7,
   "metadata": {},
   "outputs": [
    {
     "data": {
      "text/plain": [
       "9.252201061880456"
      ]
     },
     "execution_count": 7,
     "metadata": {},
     "output_type": "execute_result"
    }
   ],
   "source": [
    "np.sqrt((np.array(final_answer['Predict'] - final_answer['Actual'])**2).mean())"
   ]
  },
  {
   "cell_type": "code",
   "execution_count": 8,
   "metadata": {},
   "outputs": [],
   "source": [
    "final_answer[['Predicted']].to_csv('testing_submission.csv')"
   ]
  }
 ],
 "metadata": {
  "interpreter": {
   "hash": "f6dbfcbd98b0ac394f24d96bedfb0bb0156c4fd54eb61167ff2e8fedb4cd16de"
  },
  "kernelspec": {
   "display_name": "Python 3.9.7 ('base')",
   "language": "python",
   "name": "python3"
  },
  "language_info": {
   "codemirror_mode": {
    "name": "ipython",
    "version": 3
   },
   "file_extension": ".py",
   "mimetype": "text/x-python",
   "name": "python",
   "nbconvert_exporter": "python",
   "pygments_lexer": "ipython3",
   "version": "3.9.7"
  },
  "orig_nbformat": 4
 },
 "nbformat": 4,
 "nbformat_minor": 2
}
