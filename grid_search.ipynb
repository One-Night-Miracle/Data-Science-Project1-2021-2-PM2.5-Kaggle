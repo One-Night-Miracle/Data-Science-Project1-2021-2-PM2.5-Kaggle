{
 "cells": [
  {
   "cell_type": "markdown",
   "metadata": {},
   "source": [
    "# Grid Search"
   ]
  },
  {
   "cell_type": "code",
   "execution_count": null,
   "metadata": {},
   "outputs": [],
   "source": [
    "#Import the libraries\n",
    "import numpy as np\n",
    "import pandas as pd\n",
    "\n",
    "import pickle\n",
    "\n",
    "import warnings\n",
    "warnings.filterwarnings(\"ignore\")\n",
    "\n",
    "import itertools\n",
    "from tqdm import tqdm"
   ]
  },
  {
   "cell_type": "code",
   "execution_count": null,
   "metadata": {},
   "outputs": [],
   "source": [
    "from sklearn.metrics import mean_squared_error\n",
    "from statsmodels.tsa.statespace.sarimax import SARIMAX\n",
    "\n",
    "from matplotlib.pyplot import figure\n",
    "import matplotlib.pyplot as plt"
   ]
  },
  {
   "cell_type": "code",
   "execution_count": null,
   "metadata": {},
   "outputs": [],
   "source": [
    "from importlib import reload\n",
    "\n",
    "from custom_function import minimalSARIMAX\n",
    "\n",
    "reload(minimalSARIMAX)\n",
    "\n",
    "from custom_function.minimalSARIMAX import MinimalSARIMAX"
   ]
  },
  {
   "cell_type": "code",
   "execution_count": null,
   "metadata": {},
   "outputs": [],
   "source": [
    "p = d = q = range(0, 3)\n",
    "pdq = list(itertools.product(p, d, q))"
   ]
  },
  {
   "cell_type": "code",
   "execution_count": null,
   "metadata": {},
   "outputs": [],
   "source": [
    "pdqs = [(x[0], x[1], x[2], 1461) for x in list(itertools.product(p, d, q))]"
   ]
  },
  {
   "cell_type": "code",
   "execution_count": null,
   "metadata": {},
   "outputs": [],
   "source": [
    "# Define function\n",
    "def sarimax_gridsearch(y_train, y_test, pdq, PDQs, y_val = None, x_train = None, x_test = None, x_val = None, verbose=0, model_exog=None):\n",
    "    '''\n",
    "    Input: \n",
    "        y_train: training data\n",
    "        y_test: test data\n",
    "        pdq : ARIMA combinations \n",
    "        pdqs : seasonal ARIMA combinations \n",
    "        x_train: exogenous training data\n",
    "        x_test: exogenous test data\n",
    "\n",
    "    Return:\n",
    "        Returns dataframe of parameter combinations with the least RMSE\n",
    "    '''\n",
    "    tqdm_disable = True\n",
    "    if verbose: tqdm_disable = False\n",
    "\n",
    "    ans_df = pd.DataFrame(columns=['pdq', 'pdqs', 'rmse'])\n",
    "    \n",
    "    for comb in tqdm(pdq, disable=tqdm_disable):\n",
    "        for combs in PDQs:\n",
    "            p, d, q = comb[0], comb[1], comb[2]\n",
    "            P, D, Q = combs[0], combs[1], combs[2]\n",
    "            if (p+q <= 2) and (d <= 1) and (D <= 1) and (P <= 1) and (Q <= 1):  \n",
    "                model = MinimalSARIMAX(y_train, comb, combs, exog=x_train)\n",
    "                model.fit(lr=1e-5, lr_decay=0.999 ,verbose=0) \n",
    "\n",
    "                if (y_val is None):\n",
    "                    y_pred, err = model.predict(y_test, y_exog=x_test, verbose=0)\n",
    "                    # y_pred = y_pred[:-1] # remove last value since it's a list of all the predicted values which makes the scoring fail (inconsistent shape with the y_test)\n",
    "                    rmse = model.scoring(y_pred, y_test)\n",
    "\n",
    "                else:\n",
    "                    Result = model.predict_step(y_val, y_test, val_X_exog=x_val, y_exog=x_test,\n",
    "                                                model_exog=model_exog, lr=np.array([1e-7, 1e-7, 1e-7, 5e-9]), lr_decay=0.9998975, learn=True)\n",
    "\n",
    "                    _, y_pred_sav, _, _ = Result\n",
    "                    \n",
    "                    rmse = model.scoring(y_pred_sav.iloc[:,[1]], y_pred_sav.iloc[:,[2]])\n",
    "                \n",
    "\n",
    "                ans_df = ans_df.append({'pdq':comb, 'pdqs':combs, 'rmse':rmse}, ignore_index=True)\n",
    "\n",
    "    # Sort and return a combination with the lowest RMSE\n",
    "    ans_df = ans_df.sort_values(by=['rmse'],ascending=True)\n",
    "    \n",
    "    return ans_df"
   ]
  },
  {
   "cell_type": "code",
   "execution_count": null,
   "metadata": {},
   "outputs": [],
   "source": [
    "ratio = 0.7\n",
    "\n",
    "pm_train_bkk = train_data[province[0]][['PM25']][:int(ratio*train_data[province[0]].shape[0])]\n",
    "pm_valid_bkk = train_data[province[0]][['PM25']][int(ratio*train_data[province[0]].shape[0]):]\n",
    "pm_test_bkk = test_data[province[0]][['PM25']]\n",
    "exo_train_bkk = train_data[province[0]][exog_columns][:int(ratio*train_data[province[0]].shape[0])]\n",
    "exo_valid_bkk = train_data[province[0]][exog_columns][int(ratio*train_data[province[0]].shape[0]):]\n",
    "exo_test_bkk = test_data[province[0]][exog_columns]\n",
    "\n",
    "\n",
    "pm_train_cnx = train_data[province[1]][['PM25']][:int(ratio*train_data[province[0]].shape[0])]\n",
    "pm_valid_cnx = train_data[province[1]][['PM25']][int(ratio*train_data[province[0]].shape[0]):]\n",
    "pm_test_cnx = test_data[province[1]][['PM25']]\n",
    "exo_train_cnx = train_data[province[1]][exog_columns][:int(ratio*train_data[province[0]].shape[0])]\n",
    "exo_valid_cnx = train_data[province[1]][exog_columns][int(ratio*train_data[province[0]].shape[0]):]\n",
    "exo_test_cnx = test_data[province[1]][exog_columns]\n",
    "\n",
    "\n",
    "pm_train_kkc = train_data[province[2]][['PM25']][:int(ratio*train_data[province[0]].shape[0])]\n",
    "pm_valid_kkc = train_data[province[2]][['PM25']][int(ratio*train_data[province[0]].shape[0]):]\n",
    "pm_test_kkc = test_data[province[2]][['PM25']]\n",
    "exo_train_kkc = train_data[province[2]][exog_columns][:int(ratio*train_data[province[0]].shape[0])]\n",
    "exo_valid_kkc = train_data[province[2]][exog_columns][int(ratio*train_data[province[0]].shape[0]):]\n",
    "exo_test_kkc = test_data[province[2]][exog_columns]\n",
    "\n",
    "\n",
    "pm_train_ray = train_data[province[3]][['PM25']][:int(ratio*train_data[province[0]].shape[0])]\n",
    "pm_valid_ray = train_data[province[3]][['PM25']][int(ratio*train_data[province[0]].shape[0]):]\n",
    "pm_test_ray = test_data[province[3]][['PM25']]\n",
    "exo_train_ray = train_data[province[3]][exog_columns][:int(ratio*train_data[province[0]].shape[0])]\n",
    "exo_valid_ray = train_data[province[3]][exog_columns][int(ratio*train_data[province[0]].shape[0]):]\n",
    "exo_test_ray = test_data[province[3]][exog_columns]\n",
    "\n",
    "\n",
    "pm_train_sara = train_data[province[4]][['PM25']][:int(ratio*train_data[province[0]].shape[0])]\n",
    "pm_valid_sara = train_data[province[4]][['PM25']][int(ratio*train_data[province[0]].shape[0]):]\n",
    "pm_test_sara = test_data[province[4]][['PM25']]\n",
    "exo_train_sara = train_data[province[4]][exog_columns][:int(ratio*train_data[province[0]].shape[0])]\n",
    "exo_valid_sara = train_data[province[4]][exog_columns][int(ratio*train_data[province[0]].shape[0]):]\n",
    "exo_test_sara = test_data[province[4]][exog_columns]\n",
    "\n",
    "\n",
    "pm_train_surat = train_data[province[5]][['PM25']][:int(ratio*train_data[province[0]].shape[0])]\n",
    "pm_valid_surat = train_data[province[5]][['PM25']][int(ratio*train_data[province[0]].shape[0]):]\n",
    "pm_test_surat = test_data[province[5]][['PM25']]\n",
    "exo_train_surat = train_data[province[5]][exog_columns][:int(ratio*train_data[province[0]].shape[0])]\n",
    "exo_valid_surat = train_data[province[5]][exog_columns][int(ratio*train_data[province[0]].shape[0]):]\n",
    "exo_test_surat = test_data[province[5]][exog_columns]"
   ]
  },
  {
   "cell_type": "markdown",
   "metadata": {},
   "source": [
    "## Tuning parameters for PM2.5"
   ]
  },
  {
   "cell_type": "code",
   "execution_count": null,
   "metadata": {},
   "outputs": [],
   "source": [
    "result_bkk = sarimax_gridsearch(pm_train_bkk, pm_test_bkk, pdq, pdqs, y_val=pm_valid_bkk, x_train=exo_train_bkk, x_test=exo_test_bkk, x_val=exo_valid_bkk)\n",
    "result_cnx = sarimax_gridsearch(pm_train_cnx, pm_test_cnx, pdq, pdqs, y_val=pm_valid_cnx, x_train=exo_train_cnx, x_test=exo_test_cnx, x_val=exo_valid_cnx)\n",
    "result_kkc = sarimax_gridsearch(pm_train_kkc, pm_test_kkc, pdq, pdqs, y_val=pm_valid_kkc, x_train=exo_train_kkc, x_test=exo_test_kkc, x_val=exo_valid_kkc)\n",
    "result_ray = sarimax_gridsearch(pm_train_ray, pm_test_ray, pdq, pdqs, y_val=pm_valid_ray, x_train=exo_train_ray, x_test=exo_test_ray, x_val=exo_valid_ray)\n",
    "result_sara = sarimax_gridsearch(pm_train_sara, pm_test_sara, pdq, pdqs, y_val=pm_valid_sara, x_train=exo_train_sara, x_test=exo_test_sara, x_val=exo_valid_sara)\n",
    "result_surat = sarimax_gridsearch(pm_train_surat, pm_test_surat, pdq, pdqs, y_val=pm_valid_surat, x_train=exo_train_surat, x_test=exo_test_surat, x_val=exo_valid_surat)"
   ]
  },
  {
   "cell_type": "code",
   "execution_count": null,
   "metadata": {},
   "outputs": [],
   "source": [
    "with open('answer_dataset/gridsearch/result_bkk_03.bin',\"wb\") as f:\n",
    "    pickle.dump(result_bkk, f)\n",
    "\n",
    "with open('answer_dataset/gridsearch/result_cnx_03.bin',\"wb\") as f:\n",
    "    pickle.dump(result_cnx, f)\n",
    "    \n",
    "with open('answer_dataset/gridsearch/result_ray_03.bin',\"wb\") as f:\n",
    "    pickle.dump(result_bkk, f)\n",
    "\n",
    "with open('answer_dataset/gridsearch/result_sara_03.bin',\"wb\") as f:\n",
    "    pickle.dump(result_sara, f)\n",
    "\n",
    "with open('answer_dataset/gridsearch/result_surat_03.bin',\"wb\") as f:\n",
    "    pickle.dump(result_surat, f)"
   ]
  },
  {
   "cell_type": "code",
   "execution_count": null,
   "metadata": {},
   "outputs": [],
   "source": [
    "order = {province[0]: result_bkk.pdq, province[1]: result_cnx.pdq, province[2]: result_kkc.pdq, province[3]: result_ray.pdq, province[4]: result_sara.pdq, province[5]: result_surat.pdq}\n",
    "seasonal_order = {province[0]: result_bkk.pdqs, province[1]: result_cnx.pdqs, province[2]: result_kkc.pdqs, province[3]: result_ray.pdqs, province[4]: result_sara.pdqs, province[5]: result_surat.pdqs}\n",
    "print(order)\n",
    "print(seasonal_order)"
   ]
  },
  {
   "cell_type": "markdown",
   "metadata": {},
   "source": [
    "## Tuning parameters for temperature"
   ]
  },
  {
   "cell_type": "code",
   "execution_count": null,
   "metadata": {},
   "outputs": [],
   "source": [
    "temp = exog_columns[0]\n",
    "\n",
    "temp_train_bkk = pd.DataFrame(exo_train_bkk[temp])\n",
    "temp_valid_bkk = pd.DataFrame(exo_valid_bkk[temp])\n",
    "temp_test_bkk = pd.DataFrame(exo_test_bkk[temp])\n",
    "\n",
    "temp_train_cnx = pd.DataFrame(exo_train_cnx[temp])\n",
    "temp_valid_cnx = pd.DataFrame(exo_valid_cnx[temp])\n",
    "temp_test_cnx = pd.DataFrame(exo_test_cnx[temp])\n",
    "\n",
    "temp_train_kkc = pd.DataFrame(exo_train_kkc[temp])\n",
    "temp_valid_kkc = pd.DataFrame(exo_valid_kkc[temp])\n",
    "temp_test_kkc = pd.DataFrame(exo_test_kkc[temp])\n",
    "\n",
    "temp_train_ray = pd.DataFrame(exo_train_ray[temp])\n",
    "temp_valid_ray = pd.DataFrame(exo_valid_ray[temp])\n",
    "temp_test_ray = pd.DataFrame(exo_test_ray[temp])\n",
    "\n",
    "temp_train_sara = pd.DataFrame(exo_train_sara[temp])\n",
    "temp_valid_sara = pd.DataFrame(exo_valid_sara[temp])\n",
    "temp_test_sara = pd.DataFrame(exo_test_sara[temp])\n",
    "\n",
    "temp_train_surat = pd.DataFrame(exo_train_surat[temp])\n",
    "temp_valid_surat = pd.DataFrame(exo_valid_surat[temp])\n",
    "temp_test_surat = pd.DataFrame(exo_test_surat[temp])"
   ]
  },
  {
   "cell_type": "code",
   "execution_count": null,
   "metadata": {},
   "outputs": [],
   "source": [
    "gSearch_temp_bkk = sarimax_gridsearch(temp_train_bkk, temp_test_bkk, pdq, pdqs, y_val=temp_valid_bkk)\n",
    "gSearch_temp_cnx = sarimax_gridsearch(temp_train_cnx, temp_test_cnx, pdq, pdqs, y_val=temp_valid_bkk)\n",
    "gSearch_temp_kkc = sarimax_gridsearch(temp_train_kkc, temp_test_kkc, pdq, pdqs, y_val=temp_valid_bkk)\n",
    "gSearch_temp_ray = sarimax_gridsearch(temp_train_ray, temp_test_ray, pdq, pdqs, y_val=temp_valid_bkk)\n",
    "gSearch_temp_sara = sarimax_gridsearch(temp_train_sara, temp_test_sara, pdq, pdqs, y_val=temp_valid_bkk)\n",
    "gSearch_temp_surat = sarimax_gridsearch(temp_train_surat, temp_test_surat, pdq, pdqs, y_val=temp_valid_bkk)"
   ]
  },
  {
   "cell_type": "code",
   "execution_count": null,
   "metadata": {},
   "outputs": [],
   "source": [
    "with open('answer_dataset/gSearch_temp_bkk_03.bin',\"wb\") as f:\n",
    "    pickle.dump(gSearch_temp_bkk, f)\n",
    "\n",
    "with open('answer_dataset/gSearch_temp_cnx_03.bin',\"wb\") as f:\n",
    "    pickle.dump(gSearch_temp_cnx, f)\n",
    "    \n",
    "with open('answer_dataset/gSearch_temp_ray_03.bin',\"wb\") as f:\n",
    "    pickle.dump(gSearch_temp_bkk, f)\n",
    "\n",
    "with open('answer_dataset/gSearch_temp_sara_03.bin',\"wb\") as f:\n",
    "    pickle.dump(gSearch_temp_sara, f)\n",
    "\n",
    "with open('answer_dataset/gSearch_temp_surat_03.bin',\"wb\") as f:\n",
    "    pickle.dump(gSearch_temp_surat, f)"
   ]
  },
  {
   "cell_type": "code",
   "execution_count": null,
   "metadata": {},
   "outputs": [],
   "source": [
    "temp_order = {province[0]: gSearch_temp_bkk.pdq, province[1]: gSearch_temp_cnx.pdq, province[2]: gSearch_temp_kkc.pdq, province[3]: gSearch_temp_ray.pdq, province[4]: gSearch_temp_sara.pdq, province[5]: gSearch_temp_surat.pdq}\n",
    "temp_seasonal_order = {province[0]: gSearch_temp_bkk.pdqs, province[1]: gSearch_temp_cnx.pdqs, province[2]: gSearch_temp_kkc.pdqs, province[3]: gSearch_temp_ray.pdqs, province[4]: gSearch_temp_sara.pdqs, province[5]: gSearch_temp_surat.pdqs}\n",
    "print(temp_order)\n",
    "print(temp_seasonal_order)"
   ]
  },
  {
   "cell_type": "markdown",
   "metadata": {},
   "source": [
    "## Tuning parameters for windspeed"
   ]
  },
  {
   "cell_type": "code",
   "execution_count": null,
   "metadata": {},
   "outputs": [],
   "source": [
    "windSpeed = exog_columns[1]\n",
    "windSpeed_train_bkk = pd.DataFrame(exo_train_bkk[windSpeed])\n",
    "windSpeed_valid_bkk = pd.DataFrame(exo_valid_bkk[windSpeed])\n",
    "windSpeed_test_bkk = pd.DataFrame(exo_test_bkk[windSpeed])\n",
    "\n",
    "windSpeed_train_cnx = pd.DataFrame(exo_train_cnx[windSpeed])\n",
    "windSpeed_valid_cnx = pd.DataFrame(exo_valid_cnx[windSpeed])\n",
    "windSpeed_test_cnx = pd.DataFrame(exo_test_cnx[windSpeed])\n",
    "\n",
    "windSpeed_train_kkc = pd.DataFrame(exo_train_kkc[windSpeed])\n",
    "windSpeed_valid_kkc = pd.DataFrame(exo_valid_kkc[windSpeed])\n",
    "windSpeed_test_kkc = pd.DataFrame(exo_test_kkc[windSpeed])\n",
    "\n",
    "windSpeed_train_ray = pd.DataFrame(exo_train_ray[windSpeed])\n",
    "windSpeed_valid_ray = pd.DataFrame(exo_valid_ray[windSpeed])\n",
    "windSpeed_test_ray = pd.DataFrame(exo_test_ray[windSpeed])\n",
    "\n",
    "windSpeed_train_sara = pd.DataFrame(exo_train_sara[windSpeed])\n",
    "windSpeed_valid_sara = pd.DataFrame(exo_valid_sara[windSpeed])\n",
    "windSpeed_test_sara = pd.DataFrame(exo_test_sara[windSpeed])\n",
    "\n",
    "windSpeed_train_surat = pd.DataFrame(exo_train_surat[windSpeed])\n",
    "windSpeed_valid_surat = pd.DataFrame(exo_valid_surat[windSpeed])\n",
    "windSpeed_test_surat = pd.DataFrame(exo_test_surat[windSpeed])"
   ]
  },
  {
   "cell_type": "code",
   "execution_count": null,
   "metadata": {},
   "outputs": [],
   "source": [
    "gSearch_windSpeed_bkk = sarimax_gridsearch(windSpeed_train_bkk, windSpeed_test_bkk, pdq, pdqs, y_val=windSpeed_valid_bkk)\n",
    "gSearch_windSpeed_cnx = sarimax_gridsearch(windSpeed_train_cnx, windSpeed_test_cnx, pdq, pdqs, y_val=windSpeed_valid_cnx)\n",
    "gSearch_windSpeed_kkc = sarimax_gridsearch(windSpeed_train_kkc, windSpeed_test_kkc, pdq, pdqs, y_val=windSpeed_valid_kkc)\n",
    "gSearch_windSpeed_ray = sarimax_gridsearch(windSpeed_train_ray, windSpeed_test_ray, pdq, pdqs, y_val=windSpeed_valid_ray)\n",
    "gSearch_windSpeed_sara = sarimax_gridsearch(windSpeed_train_sara, windSpeed_test_sara, pdq, pdqs, y_val=windSpeed_valid_sara)\n",
    "gSearch_windSpeed_surat = sarimax_gridsearch(windSpeed_train_surat, windSpeed_test_surat, pdq, pdqs, y_val=windSpeed_valid_surat)"
   ]
  },
  {
   "cell_type": "code",
   "execution_count": null,
   "metadata": {},
   "outputs": [],
   "source": [
    "windSpeed_order = {province[0]: gSearch_windSpeed_bkk.pdq, province[1]: gSearch_windSpeed_cnx.pdq, province[2]: gSearch_windSpeed_kkc.pdq, province[3]: gSearch_windSpeed_ray.pdq, province[4]: gSearch_windSpeed_sara.pdq, province[5]: gSearch_windSpeed_surat.pdq}\n",
    "windSpeed_seasonal_order = {province[0]: gSearch_windSpeed_bkk.pdqs, province[1]: gSearch_windSpeed_cnx.pdqs, province[2]: gSearch_windSpeed_kkc.pdqs, province[3]: gSearch_windSpeed_ray.pdqs, province[4]: gSearch_windSpeed_sara.pdqs, province[5]: gSearch_windSpeed_surat.pdqs}\n",
    "print(windSpeed_order)\n",
    "print(windSpeed_seasonal_order)"
   ]
  },
  {
   "cell_type": "markdown",
   "metadata": {},
   "source": [
    "## Tuning parameters for wind direction"
   ]
  },
  {
   "cell_type": "code",
   "execution_count": null,
   "metadata": {},
   "outputs": [],
   "source": [
    "windDir = exog_columns[2]\n",
    "windDir_train_bkk = pd.DataFrame(exo_train_bkk[windDir])\n",
    "windDir_test_bkk = pd.DataFrame(exo_test_bkk[windDir])\n",
    "\n",
    "windDir_train_cnx = pd.DataFrame(exo_train_cnx[windDir])\n",
    "windDir_test_cnx = pd.DataFrame(exo_test_cnx[windDir])\n",
    "\n",
    "windDir_train_kkc = pd.DataFrame(exo_train_kkc[windDir])\n",
    "windDir_test_kkc = pd.DataFrame(exo_test_kkc[windDir])\n",
    "\n",
    "windDir_train_ray = pd.DataFrame(exo_train_ray[windDir])\n",
    "windDir_test_ray = pd.DataFrame(exo_test_ray[windDir])\n",
    "\n",
    "windDir_train_sara = pd.DataFrame(exo_train_sara[windDir])\n",
    "windDir_test_sara = pd.DataFrame(exo_test_sara[windDir])\n",
    "\n",
    "windDir_train_surat = pd.DataFrame(exo_train_surat[windDir])\n",
    "windDir_test_surat = pd.DataFrame(exo_test_surat[windDir])"
   ]
  },
  {
   "cell_type": "code",
   "execution_count": null,
   "metadata": {},
   "outputs": [],
   "source": [
    "gSearch_windDir_bkk = sarimax_gridsearch(windDir_train_bkk, windDir_test_bkk, pdq, pdqs)\n",
    "gSearch_windDir_cnx = sarimax_gridsearch(windDir_train_cnx, windDir_test_cnx, pdq, pdqs)\n",
    "gSearch_windDir_kkc = sarimax_gridsearch(windDir_train_kkc, windDir_test_kkc, pdq, pdqs)\n",
    "gSearch_windDir_ray = sarimax_gridsearch(windDir_train_ray, windDir_test_ray, pdq, pdqs)\n",
    "gSearch_windDir_sara = sarimax_gridsearch(windDir_train_sara, windDir_test_sara, pdq, pdqs)\n",
    "gSearch_windDir_surat = sarimax_gridsearch(windDir_train_surat, windDir_test_surat, pdq, pdqs)"
   ]
  },
  {
   "cell_type": "code",
   "execution_count": null,
   "metadata": {},
   "outputs": [],
   "source": [
    "windDir_order = {province[0]: gSearch_windDir_bkk.pdq, province[1]: gSearch_windDir_cnx.pdq, province[2]: gSearch_windDir_kkc.pdq, province[3]: gSearch_windDir_ray.pdq, province[4]: gSearch_windDir_sara.pdq, province[5]: gSearch_windDir_surat.pdq}\n",
    "windDir_seasonal_order = {province[0]: gSearch_windDir_bkk.pdqs, province[1]: gSearch_windDir_cnx.pdqs, province[2]: gSearch_windDir_kkc.pdqs, province[3]: gSearch_windDir_ray.pdqs, province[4]: gSearch_windDir_sara.pdqs, province[5]: gSearch_windDir_surat.pdqs}\n",
    "print(windDir_order)\n",
    "print(windDir_seasonal_order)"
   ]
  }
 ],
 "metadata": {
  "language_info": {
   "name": "python"
  },
  "orig_nbformat": 4
 },
 "nbformat": 4,
 "nbformat_minor": 2
}
