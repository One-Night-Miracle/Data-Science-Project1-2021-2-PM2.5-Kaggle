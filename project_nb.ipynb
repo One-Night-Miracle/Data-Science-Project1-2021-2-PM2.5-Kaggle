{
  "cells": [
    {
      "cell_type": "code",
      "execution_count": 9,
      "metadata": {
        "id": "xXgecYKfoECO"
      },
      "outputs": [],
      "source": [
        "#Import the libraries\n",
        "import numpy as np\n",
        "import pandas as pd"
      ]
    },
    {
      "cell_type": "markdown",
      "metadata": {
        "id": "9Q8kjFgTgF-R"
      },
      "source": [
        "## Download and Unzip the dataset."
      ]
    },
    {
      "cell_type": "code",
      "execution_count": 10,
      "metadata": {
        "colab": {
          "base_uri": "https://localhost:8080/"
        },
        "id": "vawEUIM6oIoc",
        "outputId": "fbe039dc-0875-443c-9405-7d28316808d9"
      },
      "outputs": [],
      "source": [
        "# url_to_the_zip_file = \"https://storage.googleapis.com/kaggle-competitions-data/kaggle-v2/34330/3265183/bundle/archive.zip?GoogleAccessId=web-data@kaggle-161607.iam.gserviceaccount.com&Expires=1647437599&Signature=qVPxXAvAiFlZLpO%2Fp287NXm%2FlUOymBxRMs7NJKMGXlm3afW9PV9LuNalMJS56E%2BjsMSHh46ouLS6gNHYbyPwmdLSQiPpLQPGU6NTKTNprbDUOgYb2rqC4w6AgLOpdRh%2FGdabYAVAdjIh24Teoj5k%2Bs%2Fybm00sxAGf358%2BcxjEonvvUJDEhK7GTtv9NAFxAfsO%2F69xOWSkLEhjjnCwQ3QzfXWxbuYVnqlwy0dwQ6S%2F8iQappRaQg2%2BF9j76t1ay0B3Kg3ANj0P5EuVMDL2KVld3cQLiM7DPi9vQQV531T8snYsbiHjoE%2BhkH6w%2BWeULvu5UpDSaiVRepgtoscjgM8ig%3D%3D&response-content-disposition=attachment%3B+filename%3D2110446-data-science-and-data-engineering-2022.zip\"\n",
        "# new_file_name = \"2110446-data-science-and-data-engineering-2022.zip\"\n",
        "\n",
        "# !rm -f \"$new_file_name\"\n",
        "# !wget -c \"$url_to_the_zip_file\" -O \"$new_file_name\"\n",
        "# !unzip \"$new_file_name\""
      ]
    },
    {
      "cell_type": "markdown",
      "metadata": {
        "id": "DsnbYs9_gRM7"
      },
      "source": [
        "## read_csv()"
      ]
    },
    {
      "cell_type": "code",
      "execution_count": 11,
      "metadata": {
        "id": "vwR4ICpPpgnP"
      },
      "outputs": [],
      "source": [
        "def toDF(pm25_filename, temp_filename, wind_filename):\n",
        "  pm25_df = pd.read_csv('datasci_dataset_2022/'+pm25_filename, names=['Time', 'PM25'], skiprows=1)\n",
        "  pm25_df['Time'] = pd.to_datetime(pm25_df['Time'])\n",
        "  # pm25_df['Time'] = pm25_df['Time'].dt.tz_localize('UTC').dt.tz_convert('Asia/Bangkok')\n",
        "  # pm25_df['Time'] = pm25_df['Time'].dt.tz_localize(None)\n",
        "  pm25_df.set_index('Time', inplace=True)\n",
        "  pm25_df.columns = ['PM25']\n",
        "  pm25_df = pm25_df[~pm25_df.index.duplicated(keep='first')]\n",
        "  pm25_df.index = pd.DatetimeIndex(pm25_df.index)\n",
        "\n",
        "  temp_df = pd.read_csv('datasci_dataset_2022/'+temp_filename, names=['Time', 'Temp'], skiprows=1)\n",
        "  temp_df['Time'] = pd.to_datetime(temp_df['Time'])\n",
        "  temp_df.set_index(temp_df['Time'], inplace=True)\n",
        "  temp_df.drop(columns={'Time'}, inplace=True)\n",
        "  temp_df.columns = ['Temp']\n",
        "  # pad() is similar to fillna() with forward filling\n",
        "  temp_df = temp_df.resample('h').pad()\n",
        "  # temp_df.index = pd.DatetimeIndex(temp_df.index)\n",
        "\n",
        "  wind_df = pd.read_csv('datasci_dataset_2022/'+wind_filename, names=['Time', 'WindSpeed', 'WindDir'], skiprows=1)\n",
        "  wind_df['Time'] = pd.to_datetime(wind_df['Time'])\n",
        "  wind_df.set_index(wind_df['Time'], inplace=True)\n",
        "  wind_df.drop(columns={'Time'}, inplace=True)\n",
        "  wind_df.columns = ['WindSpeed', 'WindDir']\n",
        "  # backward filling\n",
        "  wind_df = wind_df.resample('h').bfill()\n",
        "  # wind_df.index = pd.DatetimeIndex(wind_df.index)\n",
        "\n",
        "  pm25_df['copy_index'] = pm25_df.index\n",
        "  df = pd.merge(pm25_df, temp_df, left_index=True, right_index=True)\n",
        "  df = pd.merge(df, wind_df, left_index=True, right_index=True)\n",
        "\n",
        "  df = df[['Temp','WindSpeed','WindDir','PM25']]\n",
        "  \n",
        "  # padding first and last indices\n",
        "  # df = df.ffill()\n",
        "  # df = df.bfill()\n",
        "\n",
        "  return df"
      ]
    },
    {
      "cell_type": "code",
      "execution_count": 12,
      "metadata": {
        "id": "N1z5Yu1ibV6A"
      },
      "outputs": [],
      "source": [
        "# def toDFtest(pm25_filename, temp_filename, wind_filename):\n",
        "#   pm25_df = pd.read_csv('datasci_dataset_2022/'+pm25_filename, names=['Time', 'PM25'], skiprows=1)\n",
        "#   pm25_df.columns = ['Time', 'PM25']\n",
        "#   pm25_df['Time'] = pd.to_datetime(pm25_df['Time'], infer_datetime_format=True)\n",
        "#   pm25_df.set_index('Time', inplace=True)\n",
        "#   pm25_df = pm25_df[~pm25_df.index.duplicated(keep='first')]\n",
        "#   pm25_df.index = pd.DatetimeIndex(pm25_df.index)\n",
        "\n",
        "#   temp_df = pd.read_csv('/kaggle/input/2110446-data-science-and-data-engineering-2021/DS_kaggle_edited_v3/'+temp_filename)\n",
        "#   temp_df['datetime'] = pd.to_datetime(temp_df['datetime'])\n",
        "#   temp_df.set_index(temp_df['datetime'], inplace=True)\n",
        "#   temp_df.drop(columns={'datetime','lat','long'}, inplace=True)\n",
        "#   temp_df.columns = ['Temp']\n",
        "#   temp_df = temp_df.resample('h').bfill()\n",
        "\n",
        "#   wind_df = pd.read_csv('/kaggle/input/2110446-data-science-and-data-engineering-2021/DS_kaggle_edited_v3/'+wind_filename)\n",
        "#   wind_df['datetime'] = pd.to_datetime(wind_df['datetime'])\n",
        "#   wind_df.set_index(wind_df['datetime'],inplace=True)\n",
        "#   wind_df.drop(columns={'datetime','lat','long'},inplace=True)\n",
        "#   wind_df.columns = ['WindDir', 'WindSpeed']\n",
        "#   wind_df = wind_df.resample('h').bfill()\n",
        "\n",
        "#   df = pm25_df.merge(temp_df,left_index=True,right_index=True)\n",
        "#   df = df.merge(wind_df,left_index=True,right_index=True)\n",
        "\n",
        "#   df = df[['Temp','WindSpeed','WindDir','PM25']]\n",
        "\n",
        "#   return df"
      ]
    },
    {
      "cell_type": "code",
      "execution_count": 13,
      "metadata": {
        "id": "-pesZD33wbfW"
      },
      "outputs": [],
      "source": [
        "bkk_train = toDF('BKK/train/bkk_train.csv', 'BKK/train/bkk_temp_surface.csv', 'BKK/train/bkk_weather_wind.csv')\n",
        "# bkk_test = ?\n",
        "\n",
        "cnx_train = toDF('Chiangmai/train/chiangmai_train.csv', 'Chiangmai/train/chiangmai_temp_surface.csv', 'Chiangmai/train/chiangmai_weather_wind.csv')\n",
        "# cnx_test = ?\n",
        "\n",
        "kkc_train = toDF('Khonkaen/train/khonkhan_train.csv', 'Khonkaen/train/khonkaen_temp_surface.csv', 'Khonkaen/train/khonkaen_weather_wind.csv')\n",
        "# kkc_test = ?\n",
        "\n",
        "rayong_train = toDF('Rayong/train/rayong_train.csv', 'Rayong/train/rayong_temp_surface.csv', 'Rayong/train/rayong_weather_wind.csv')\n",
        "# rayong_test = ?\n",
        "\n",
        "saraburi_train = toDF('Saraburi/train/saraburi_train.csv', 'Saraburi/train/saraburi_temp_surface.csv', 'Saraburi/train/saraburi_weather_wind.csv')\n",
        "# saraburi_test = ?\n",
        "\n",
        "surat_train = toDF('Surat/train/surat_train.csv', 'Surat/train/surat_temp_surface.csv', 'Surat/train/surat_weather_wind.csv')\n",
        "# surat_test = ?"
      ]
    },
    {
      "cell_type": "code",
      "execution_count": 14,
      "metadata": {
        "id": "gpQ8sPbqxajQ"
      },
      "outputs": [],
      "source": [
        "train_set={}"
      ]
    },
    {
      "cell_type": "code",
      "execution_count": 15,
      "metadata": {
        "id": "g6yh3t62xExb"
      },
      "outputs": [],
      "source": [
        "train_set['BKK'] = bkk_train\n",
        "train_set['CNX'] = cnx_train\n",
        "train_set['KKC'] = kkc_train\n",
        "train_set['RAY'] = rayong_train\n",
        "train_set['SARA'] = saraburi_train\n",
        "train_set['SURAT'] = surat_train"
      ]
    },
    {
      "cell_type": "markdown",
      "metadata": {
        "id": "CaU-aYrDilsN"
      },
      "source": [
        "## display()"
      ]
    },
    {
      "cell_type": "code",
      "execution_count": 16,
      "metadata": {
        "colab": {
          "base_uri": "https://localhost:8080/",
          "height": 455
        },
        "id": "xl-m4auHilHY",
        "outputId": "a61fe024-b3dc-41d8-a038-ff31405ca7e8"
      },
      "outputs": [
        {
          "data": {
            "text/html": [
              "<div>\n",
              "<style scoped>\n",
              "    .dataframe tbody tr th:only-of-type {\n",
              "        vertical-align: middle;\n",
              "    }\n",
              "\n",
              "    .dataframe tbody tr th {\n",
              "        vertical-align: top;\n",
              "    }\n",
              "\n",
              "    .dataframe thead th {\n",
              "        text-align: right;\n",
              "    }\n",
              "</style>\n",
              "<table border=\"1\" class=\"dataframe\">\n",
              "  <thead>\n",
              "    <tr style=\"text-align: right;\">\n",
              "      <th></th>\n",
              "      <th>Temp</th>\n",
              "      <th>WindSpeed</th>\n",
              "      <th>WindDir</th>\n",
              "      <th>PM25</th>\n",
              "    </tr>\n",
              "    <tr>\n",
              "      <th>Time</th>\n",
              "      <th></th>\n",
              "      <th></th>\n",
              "      <th></th>\n",
              "      <th></th>\n",
              "    </tr>\n",
              "  </thead>\n",
              "  <tbody>\n",
              "    <tr>\n",
              "      <th>2017-07-01 01:00:00</th>\n",
              "      <td>27.9</td>\n",
              "      <td>16</td>\n",
              "      <td>260</td>\n",
              "      <td>10.0</td>\n",
              "    </tr>\n",
              "    <tr>\n",
              "      <th>2017-07-01 02:00:00</th>\n",
              "      <td>27.9</td>\n",
              "      <td>16</td>\n",
              "      <td>255</td>\n",
              "      <td>17.0</td>\n",
              "    </tr>\n",
              "    <tr>\n",
              "      <th>2017-07-01 03:00:00</th>\n",
              "      <td>27.9</td>\n",
              "      <td>16</td>\n",
              "      <td>255</td>\n",
              "      <td>20.0</td>\n",
              "    </tr>\n",
              "    <tr>\n",
              "      <th>2017-07-01 04:00:00</th>\n",
              "      <td>27.4</td>\n",
              "      <td>16</td>\n",
              "      <td>255</td>\n",
              "      <td>15.0</td>\n",
              "    </tr>\n",
              "    <tr>\n",
              "      <th>2017-07-01 05:00:00</th>\n",
              "      <td>27.4</td>\n",
              "      <td>17</td>\n",
              "      <td>235</td>\n",
              "      <td>16.0</td>\n",
              "    </tr>\n",
              "    <tr>\n",
              "      <th>...</th>\n",
              "      <td>...</td>\n",
              "      <td>...</td>\n",
              "      <td>...</td>\n",
              "      <td>...</td>\n",
              "    </tr>\n",
              "    <tr>\n",
              "      <th>2020-06-30 18:00:00</th>\n",
              "      <td>32.1</td>\n",
              "      <td>36</td>\n",
              "      <td>265</td>\n",
              "      <td>11.0</td>\n",
              "    </tr>\n",
              "    <tr>\n",
              "      <th>2020-06-30 19:00:00</th>\n",
              "      <td>30.3</td>\n",
              "      <td>36</td>\n",
              "      <td>265</td>\n",
              "      <td>15.0</td>\n",
              "    </tr>\n",
              "    <tr>\n",
              "      <th>2020-06-30 20:00:00</th>\n",
              "      <td>30.3</td>\n",
              "      <td>35</td>\n",
              "      <td>270</td>\n",
              "      <td>14.0</td>\n",
              "    </tr>\n",
              "    <tr>\n",
              "      <th>2020-06-30 21:00:00</th>\n",
              "      <td>30.3</td>\n",
              "      <td>35</td>\n",
              "      <td>270</td>\n",
              "      <td>17.0</td>\n",
              "    </tr>\n",
              "    <tr>\n",
              "      <th>2020-06-30 22:00:00</th>\n",
              "      <td>29.4</td>\n",
              "      <td>35</td>\n",
              "      <td>270</td>\n",
              "      <td>5.0</td>\n",
              "    </tr>\n",
              "  </tbody>\n",
              "</table>\n",
              "<p>26302 rows × 4 columns</p>\n",
              "</div>"
            ],
            "text/plain": [
              "                     Temp  WindSpeed  WindDir  PM25\n",
              "Time                                               \n",
              "2017-07-01 01:00:00  27.9         16      260  10.0\n",
              "2017-07-01 02:00:00  27.9         16      255  17.0\n",
              "2017-07-01 03:00:00  27.9         16      255  20.0\n",
              "2017-07-01 04:00:00  27.4         16      255  15.0\n",
              "2017-07-01 05:00:00  27.4         17      235  16.0\n",
              "...                   ...        ...      ...   ...\n",
              "2020-06-30 18:00:00  32.1         36      265  11.0\n",
              "2020-06-30 19:00:00  30.3         36      265  15.0\n",
              "2020-06-30 20:00:00  30.3         35      270  14.0\n",
              "2020-06-30 21:00:00  30.3         35      270  17.0\n",
              "2020-06-30 22:00:00  29.4         35      270   5.0\n",
              "\n",
              "[26302 rows x 4 columns]"
            ]
          },
          "metadata": {},
          "output_type": "display_data"
        }
      ],
      "source": [
        "display(bkk_train)"
      ]
    },
    {
      "cell_type": "code",
      "execution_count": 17,
      "metadata": {
        "colab": {
          "base_uri": "https://localhost:8080/",
          "height": 455
        },
        "id": "aEyVV8D2iqXG",
        "outputId": "572ee459-76db-426d-ffe6-2407fff56a99"
      },
      "outputs": [
        {
          "data": {
            "text/html": [
              "<div>\n",
              "<style scoped>\n",
              "    .dataframe tbody tr th:only-of-type {\n",
              "        vertical-align: middle;\n",
              "    }\n",
              "\n",
              "    .dataframe tbody tr th {\n",
              "        vertical-align: top;\n",
              "    }\n",
              "\n",
              "    .dataframe thead th {\n",
              "        text-align: right;\n",
              "    }\n",
              "</style>\n",
              "<table border=\"1\" class=\"dataframe\">\n",
              "  <thead>\n",
              "    <tr style=\"text-align: right;\">\n",
              "      <th></th>\n",
              "      <th>Temp</th>\n",
              "      <th>WindSpeed</th>\n",
              "      <th>WindDir</th>\n",
              "      <th>PM25</th>\n",
              "    </tr>\n",
              "    <tr>\n",
              "      <th>Time</th>\n",
              "      <th></th>\n",
              "      <th></th>\n",
              "      <th></th>\n",
              "      <th></th>\n",
              "    </tr>\n",
              "  </thead>\n",
              "  <tbody>\n",
              "    <tr>\n",
              "      <th>2017-07-01 01:00:00</th>\n",
              "      <td>23.2</td>\n",
              "      <td>32</td>\n",
              "      <td>235</td>\n",
              "      <td>5.0</td>\n",
              "    </tr>\n",
              "    <tr>\n",
              "      <th>2017-07-01 02:00:00</th>\n",
              "      <td>23.2</td>\n",
              "      <td>30</td>\n",
              "      <td>250</td>\n",
              "      <td>16.0</td>\n",
              "    </tr>\n",
              "    <tr>\n",
              "      <th>2017-07-01 03:00:00</th>\n",
              "      <td>23.2</td>\n",
              "      <td>30</td>\n",
              "      <td>250</td>\n",
              "      <td>11.0</td>\n",
              "    </tr>\n",
              "    <tr>\n",
              "      <th>2017-07-01 04:00:00</th>\n",
              "      <td>22.3</td>\n",
              "      <td>30</td>\n",
              "      <td>250</td>\n",
              "      <td>12.0</td>\n",
              "    </tr>\n",
              "    <tr>\n",
              "      <th>2017-07-01 05:00:00</th>\n",
              "      <td>22.3</td>\n",
              "      <td>30</td>\n",
              "      <td>250</td>\n",
              "      <td>15.0</td>\n",
              "    </tr>\n",
              "    <tr>\n",
              "      <th>...</th>\n",
              "      <td>...</td>\n",
              "      <td>...</td>\n",
              "      <td>...</td>\n",
              "      <td>...</td>\n",
              "    </tr>\n",
              "    <tr>\n",
              "      <th>2020-06-30 18:00:00</th>\n",
              "      <td>32.2</td>\n",
              "      <td>16</td>\n",
              "      <td>235</td>\n",
              "      <td>10.0</td>\n",
              "    </tr>\n",
              "    <tr>\n",
              "      <th>2020-06-30 19:00:00</th>\n",
              "      <td>27.5</td>\n",
              "      <td>16</td>\n",
              "      <td>235</td>\n",
              "      <td>16.0</td>\n",
              "    </tr>\n",
              "    <tr>\n",
              "      <th>2020-06-30 20:00:00</th>\n",
              "      <td>27.5</td>\n",
              "      <td>17</td>\n",
              "      <td>225</td>\n",
              "      <td>19.0</td>\n",
              "    </tr>\n",
              "    <tr>\n",
              "      <th>2020-06-30 21:00:00</th>\n",
              "      <td>27.5</td>\n",
              "      <td>17</td>\n",
              "      <td>225</td>\n",
              "      <td>21.0</td>\n",
              "    </tr>\n",
              "    <tr>\n",
              "      <th>2020-06-30 22:00:00</th>\n",
              "      <td>25.2</td>\n",
              "      <td>17</td>\n",
              "      <td>225</td>\n",
              "      <td>14.0</td>\n",
              "    </tr>\n",
              "  </tbody>\n",
              "</table>\n",
              "<p>26302 rows × 4 columns</p>\n",
              "</div>"
            ],
            "text/plain": [
              "                     Temp  WindSpeed  WindDir  PM25\n",
              "Time                                               \n",
              "2017-07-01 01:00:00  23.2         32      235   5.0\n",
              "2017-07-01 02:00:00  23.2         30      250  16.0\n",
              "2017-07-01 03:00:00  23.2         30      250  11.0\n",
              "2017-07-01 04:00:00  22.3         30      250  12.0\n",
              "2017-07-01 05:00:00  22.3         30      250  15.0\n",
              "...                   ...        ...      ...   ...\n",
              "2020-06-30 18:00:00  32.2         16      235  10.0\n",
              "2020-06-30 19:00:00  27.5         16      235  16.0\n",
              "2020-06-30 20:00:00  27.5         17      225  19.0\n",
              "2020-06-30 21:00:00  27.5         17      225  21.0\n",
              "2020-06-30 22:00:00  25.2         17      225  14.0\n",
              "\n",
              "[26302 rows x 4 columns]"
            ]
          },
          "metadata": {},
          "output_type": "display_data"
        }
      ],
      "source": [
        "display(cnx_train)"
      ]
    },
    {
      "cell_type": "code",
      "execution_count": 18,
      "metadata": {
        "colab": {
          "base_uri": "https://localhost:8080/",
          "height": 455
        },
        "id": "mdRn7QOKiqeK",
        "outputId": "197a65b8-523c-4ba9-f977-11c92e379e21"
      },
      "outputs": [
        {
          "data": {
            "text/html": [
              "<div>\n",
              "<style scoped>\n",
              "    .dataframe tbody tr th:only-of-type {\n",
              "        vertical-align: middle;\n",
              "    }\n",
              "\n",
              "    .dataframe tbody tr th {\n",
              "        vertical-align: top;\n",
              "    }\n",
              "\n",
              "    .dataframe thead th {\n",
              "        text-align: right;\n",
              "    }\n",
              "</style>\n",
              "<table border=\"1\" class=\"dataframe\">\n",
              "  <thead>\n",
              "    <tr style=\"text-align: right;\">\n",
              "      <th></th>\n",
              "      <th>Temp</th>\n",
              "      <th>WindSpeed</th>\n",
              "      <th>WindDir</th>\n",
              "      <th>PM25</th>\n",
              "    </tr>\n",
              "    <tr>\n",
              "      <th>Time</th>\n",
              "      <th></th>\n",
              "      <th></th>\n",
              "      <th></th>\n",
              "      <th></th>\n",
              "    </tr>\n",
              "  </thead>\n",
              "  <tbody>\n",
              "    <tr>\n",
              "      <th>2017-07-01 01:00:00</th>\n",
              "      <td>26.5</td>\n",
              "      <td>28</td>\n",
              "      <td>235</td>\n",
              "      <td>7.0</td>\n",
              "    </tr>\n",
              "    <tr>\n",
              "      <th>2017-07-01 02:00:00</th>\n",
              "      <td>26.5</td>\n",
              "      <td>29</td>\n",
              "      <td>245</td>\n",
              "      <td>4.0</td>\n",
              "    </tr>\n",
              "    <tr>\n",
              "      <th>2017-07-01 03:00:00</th>\n",
              "      <td>26.5</td>\n",
              "      <td>29</td>\n",
              "      <td>245</td>\n",
              "      <td>9.0</td>\n",
              "    </tr>\n",
              "    <tr>\n",
              "      <th>2017-07-01 04:00:00</th>\n",
              "      <td>25.8</td>\n",
              "      <td>29</td>\n",
              "      <td>245</td>\n",
              "      <td>8.0</td>\n",
              "    </tr>\n",
              "    <tr>\n",
              "      <th>2017-07-01 05:00:00</th>\n",
              "      <td>25.8</td>\n",
              "      <td>28</td>\n",
              "      <td>245</td>\n",
              "      <td>6.0</td>\n",
              "    </tr>\n",
              "    <tr>\n",
              "      <th>...</th>\n",
              "      <td>...</td>\n",
              "      <td>...</td>\n",
              "      <td>...</td>\n",
              "      <td>...</td>\n",
              "    </tr>\n",
              "    <tr>\n",
              "      <th>2020-06-30 18:00:00</th>\n",
              "      <td>29.6</td>\n",
              "      <td>20</td>\n",
              "      <td>235</td>\n",
              "      <td>17.0</td>\n",
              "    </tr>\n",
              "    <tr>\n",
              "      <th>2020-06-30 19:00:00</th>\n",
              "      <td>29.6</td>\n",
              "      <td>20</td>\n",
              "      <td>235</td>\n",
              "      <td>13.0</td>\n",
              "    </tr>\n",
              "    <tr>\n",
              "      <th>2020-06-30 20:00:00</th>\n",
              "      <td>29.6</td>\n",
              "      <td>21</td>\n",
              "      <td>230</td>\n",
              "      <td>18.0</td>\n",
              "    </tr>\n",
              "    <tr>\n",
              "      <th>2020-06-30 21:00:00</th>\n",
              "      <td>29.6</td>\n",
              "      <td>21</td>\n",
              "      <td>230</td>\n",
              "      <td>22.0</td>\n",
              "    </tr>\n",
              "    <tr>\n",
              "      <th>2020-06-30 22:00:00</th>\n",
              "      <td>29.6</td>\n",
              "      <td>21</td>\n",
              "      <td>230</td>\n",
              "      <td>20.0</td>\n",
              "    </tr>\n",
              "  </tbody>\n",
              "</table>\n",
              "<p>26302 rows × 4 columns</p>\n",
              "</div>"
            ],
            "text/plain": [
              "                     Temp  WindSpeed  WindDir  PM25\n",
              "Time                                               \n",
              "2017-07-01 01:00:00  26.5         28      235   7.0\n",
              "2017-07-01 02:00:00  26.5         29      245   4.0\n",
              "2017-07-01 03:00:00  26.5         29      245   9.0\n",
              "2017-07-01 04:00:00  25.8         29      245   8.0\n",
              "2017-07-01 05:00:00  25.8         28      245   6.0\n",
              "...                   ...        ...      ...   ...\n",
              "2020-06-30 18:00:00  29.6         20      235  17.0\n",
              "2020-06-30 19:00:00  29.6         20      235  13.0\n",
              "2020-06-30 20:00:00  29.6         21      230  18.0\n",
              "2020-06-30 21:00:00  29.6         21      230  22.0\n",
              "2020-06-30 22:00:00  29.6         21      230  20.0\n",
              "\n",
              "[26302 rows x 4 columns]"
            ]
          },
          "metadata": {},
          "output_type": "display_data"
        }
      ],
      "source": [
        "display(kkc_train)"
      ]
    },
    {
      "cell_type": "code",
      "execution_count": 19,
      "metadata": {
        "colab": {
          "base_uri": "https://localhost:8080/",
          "height": 455
        },
        "id": "XY8eBT_ZiqgV",
        "outputId": "6cab9990-1e62-47e6-f2b0-3ad00091d1f8"
      },
      "outputs": [
        {
          "data": {
            "text/html": [
              "<div>\n",
              "<style scoped>\n",
              "    .dataframe tbody tr th:only-of-type {\n",
              "        vertical-align: middle;\n",
              "    }\n",
              "\n",
              "    .dataframe tbody tr th {\n",
              "        vertical-align: top;\n",
              "    }\n",
              "\n",
              "    .dataframe thead th {\n",
              "        text-align: right;\n",
              "    }\n",
              "</style>\n",
              "<table border=\"1\" class=\"dataframe\">\n",
              "  <thead>\n",
              "    <tr style=\"text-align: right;\">\n",
              "      <th></th>\n",
              "      <th>Temp</th>\n",
              "      <th>WindSpeed</th>\n",
              "      <th>WindDir</th>\n",
              "      <th>PM25</th>\n",
              "    </tr>\n",
              "    <tr>\n",
              "      <th>Time</th>\n",
              "      <th></th>\n",
              "      <th></th>\n",
              "      <th></th>\n",
              "      <th></th>\n",
              "    </tr>\n",
              "  </thead>\n",
              "  <tbody>\n",
              "    <tr>\n",
              "      <th>2017-07-01 01:00:00</th>\n",
              "      <td>27.9</td>\n",
              "      <td>21</td>\n",
              "      <td>250</td>\n",
              "      <td>6.0</td>\n",
              "    </tr>\n",
              "    <tr>\n",
              "      <th>2017-07-01 02:00:00</th>\n",
              "      <td>27.9</td>\n",
              "      <td>21</td>\n",
              "      <td>250</td>\n",
              "      <td>6.0</td>\n",
              "    </tr>\n",
              "    <tr>\n",
              "      <th>2017-07-01 03:00:00</th>\n",
              "      <td>27.9</td>\n",
              "      <td>21</td>\n",
              "      <td>250</td>\n",
              "      <td>5.0</td>\n",
              "    </tr>\n",
              "    <tr>\n",
              "      <th>2017-07-01 04:00:00</th>\n",
              "      <td>27.7</td>\n",
              "      <td>21</td>\n",
              "      <td>250</td>\n",
              "      <td>10.0</td>\n",
              "    </tr>\n",
              "    <tr>\n",
              "      <th>2017-07-01 05:00:00</th>\n",
              "      <td>27.7</td>\n",
              "      <td>22</td>\n",
              "      <td>230</td>\n",
              "      <td>9.0</td>\n",
              "    </tr>\n",
              "    <tr>\n",
              "      <th>...</th>\n",
              "      <td>...</td>\n",
              "      <td>...</td>\n",
              "      <td>...</td>\n",
              "      <td>...</td>\n",
              "    </tr>\n",
              "    <tr>\n",
              "      <th>2020-06-30 18:00:00</th>\n",
              "      <td>28.0</td>\n",
              "      <td>36</td>\n",
              "      <td>280</td>\n",
              "      <td>8.0</td>\n",
              "    </tr>\n",
              "    <tr>\n",
              "      <th>2020-06-30 19:00:00</th>\n",
              "      <td>27.9</td>\n",
              "      <td>36</td>\n",
              "      <td>280</td>\n",
              "      <td>11.0</td>\n",
              "    </tr>\n",
              "    <tr>\n",
              "      <th>2020-06-30 20:00:00</th>\n",
              "      <td>27.9</td>\n",
              "      <td>47</td>\n",
              "      <td>270</td>\n",
              "      <td>10.0</td>\n",
              "    </tr>\n",
              "    <tr>\n",
              "      <th>2020-06-30 21:00:00</th>\n",
              "      <td>27.9</td>\n",
              "      <td>47</td>\n",
              "      <td>270</td>\n",
              "      <td>9.0</td>\n",
              "    </tr>\n",
              "    <tr>\n",
              "      <th>2020-06-30 22:00:00</th>\n",
              "      <td>28.5</td>\n",
              "      <td>47</td>\n",
              "      <td>270</td>\n",
              "      <td>8.0</td>\n",
              "    </tr>\n",
              "  </tbody>\n",
              "</table>\n",
              "<p>26302 rows × 4 columns</p>\n",
              "</div>"
            ],
            "text/plain": [
              "                     Temp  WindSpeed  WindDir  PM25\n",
              "Time                                               \n",
              "2017-07-01 01:00:00  27.9         21      250   6.0\n",
              "2017-07-01 02:00:00  27.9         21      250   6.0\n",
              "2017-07-01 03:00:00  27.9         21      250   5.0\n",
              "2017-07-01 04:00:00  27.7         21      250  10.0\n",
              "2017-07-01 05:00:00  27.7         22      230   9.0\n",
              "...                   ...        ...      ...   ...\n",
              "2020-06-30 18:00:00  28.0         36      280   8.0\n",
              "2020-06-30 19:00:00  27.9         36      280  11.0\n",
              "2020-06-30 20:00:00  27.9         47      270  10.0\n",
              "2020-06-30 21:00:00  27.9         47      270   9.0\n",
              "2020-06-30 22:00:00  28.5         47      270   8.0\n",
              "\n",
              "[26302 rows x 4 columns]"
            ]
          },
          "metadata": {},
          "output_type": "display_data"
        }
      ],
      "source": [
        "display(rayong_train)"
      ]
    },
    {
      "cell_type": "code",
      "execution_count": 20,
      "metadata": {
        "colab": {
          "base_uri": "https://localhost:8080/",
          "height": 455
        },
        "id": "5eKdmpxdiw8t",
        "outputId": "95bbefa9-5c66-403e-b6f6-0fab47ef4dc5"
      },
      "outputs": [
        {
          "data": {
            "text/html": [
              "<div>\n",
              "<style scoped>\n",
              "    .dataframe tbody tr th:only-of-type {\n",
              "        vertical-align: middle;\n",
              "    }\n",
              "\n",
              "    .dataframe tbody tr th {\n",
              "        vertical-align: top;\n",
              "    }\n",
              "\n",
              "    .dataframe thead th {\n",
              "        text-align: right;\n",
              "    }\n",
              "</style>\n",
              "<table border=\"1\" class=\"dataframe\">\n",
              "  <thead>\n",
              "    <tr style=\"text-align: right;\">\n",
              "      <th></th>\n",
              "      <th>Temp</th>\n",
              "      <th>WindSpeed</th>\n",
              "      <th>WindDir</th>\n",
              "      <th>PM25</th>\n",
              "    </tr>\n",
              "    <tr>\n",
              "      <th>Time</th>\n",
              "      <th></th>\n",
              "      <th></th>\n",
              "      <th></th>\n",
              "      <th></th>\n",
              "    </tr>\n",
              "  </thead>\n",
              "  <tbody>\n",
              "    <tr>\n",
              "      <th>2017-07-01 01:00:00</th>\n",
              "      <td>26.6</td>\n",
              "      <td>38</td>\n",
              "      <td>250</td>\n",
              "      <td>16.0</td>\n",
              "    </tr>\n",
              "    <tr>\n",
              "      <th>2017-07-01 02:00:00</th>\n",
              "      <td>26.6</td>\n",
              "      <td>38</td>\n",
              "      <td>250</td>\n",
              "      <td>13.0</td>\n",
              "    </tr>\n",
              "    <tr>\n",
              "      <th>2017-07-01 03:00:00</th>\n",
              "      <td>26.6</td>\n",
              "      <td>38</td>\n",
              "      <td>250</td>\n",
              "      <td>18.0</td>\n",
              "    </tr>\n",
              "    <tr>\n",
              "      <th>2017-07-01 04:00:00</th>\n",
              "      <td>26.0</td>\n",
              "      <td>38</td>\n",
              "      <td>250</td>\n",
              "      <td>29.0</td>\n",
              "    </tr>\n",
              "    <tr>\n",
              "      <th>2017-07-01 05:00:00</th>\n",
              "      <td>26.0</td>\n",
              "      <td>38</td>\n",
              "      <td>250</td>\n",
              "      <td>32.0</td>\n",
              "    </tr>\n",
              "    <tr>\n",
              "      <th>...</th>\n",
              "      <td>...</td>\n",
              "      <td>...</td>\n",
              "      <td>...</td>\n",
              "      <td>...</td>\n",
              "    </tr>\n",
              "    <tr>\n",
              "      <th>2020-06-30 18:00:00</th>\n",
              "      <td>31.8</td>\n",
              "      <td>31</td>\n",
              "      <td>245</td>\n",
              "      <td>11.0</td>\n",
              "    </tr>\n",
              "    <tr>\n",
              "      <th>2020-06-30 19:00:00</th>\n",
              "      <td>27.4</td>\n",
              "      <td>31</td>\n",
              "      <td>245</td>\n",
              "      <td>17.0</td>\n",
              "    </tr>\n",
              "    <tr>\n",
              "      <th>2020-06-30 20:00:00</th>\n",
              "      <td>27.4</td>\n",
              "      <td>41</td>\n",
              "      <td>250</td>\n",
              "      <td>19.0</td>\n",
              "    </tr>\n",
              "    <tr>\n",
              "      <th>2020-06-30 21:00:00</th>\n",
              "      <td>27.4</td>\n",
              "      <td>41</td>\n",
              "      <td>250</td>\n",
              "      <td>16.0</td>\n",
              "    </tr>\n",
              "    <tr>\n",
              "      <th>2020-06-30 22:00:00</th>\n",
              "      <td>25.9</td>\n",
              "      <td>41</td>\n",
              "      <td>250</td>\n",
              "      <td>11.0</td>\n",
              "    </tr>\n",
              "  </tbody>\n",
              "</table>\n",
              "<p>26302 rows × 4 columns</p>\n",
              "</div>"
            ],
            "text/plain": [
              "                     Temp  WindSpeed  WindDir  PM25\n",
              "Time                                               \n",
              "2017-07-01 01:00:00  26.6         38      250  16.0\n",
              "2017-07-01 02:00:00  26.6         38      250  13.0\n",
              "2017-07-01 03:00:00  26.6         38      250  18.0\n",
              "2017-07-01 04:00:00  26.0         38      250  29.0\n",
              "2017-07-01 05:00:00  26.0         38      250  32.0\n",
              "...                   ...        ...      ...   ...\n",
              "2020-06-30 18:00:00  31.8         31      245  11.0\n",
              "2020-06-30 19:00:00  27.4         31      245  17.0\n",
              "2020-06-30 20:00:00  27.4         41      250  19.0\n",
              "2020-06-30 21:00:00  27.4         41      250  16.0\n",
              "2020-06-30 22:00:00  25.9         41      250  11.0\n",
              "\n",
              "[26302 rows x 4 columns]"
            ]
          },
          "metadata": {},
          "output_type": "display_data"
        }
      ],
      "source": [
        "display(saraburi_train)"
      ]
    },
    {
      "cell_type": "code",
      "execution_count": 21,
      "metadata": {
        "colab": {
          "base_uri": "https://localhost:8080/",
          "height": 455
        },
        "id": "JZLJEWaoizPm",
        "outputId": "d10b4bed-160e-484e-fd34-271204e7d2b3"
      },
      "outputs": [
        {
          "data": {
            "text/html": [
              "<div>\n",
              "<style scoped>\n",
              "    .dataframe tbody tr th:only-of-type {\n",
              "        vertical-align: middle;\n",
              "    }\n",
              "\n",
              "    .dataframe tbody tr th {\n",
              "        vertical-align: top;\n",
              "    }\n",
              "\n",
              "    .dataframe thead th {\n",
              "        text-align: right;\n",
              "    }\n",
              "</style>\n",
              "<table border=\"1\" class=\"dataframe\">\n",
              "  <thead>\n",
              "    <tr style=\"text-align: right;\">\n",
              "      <th></th>\n",
              "      <th>Temp</th>\n",
              "      <th>WindSpeed</th>\n",
              "      <th>WindDir</th>\n",
              "      <th>PM25</th>\n",
              "    </tr>\n",
              "    <tr>\n",
              "      <th>Time</th>\n",
              "      <th></th>\n",
              "      <th></th>\n",
              "      <th></th>\n",
              "      <th></th>\n",
              "    </tr>\n",
              "  </thead>\n",
              "  <tbody>\n",
              "    <tr>\n",
              "      <th>2018-10-01 00:00:00</th>\n",
              "      <td>26.6</td>\n",
              "      <td>3</td>\n",
              "      <td>90</td>\n",
              "      <td>22.0</td>\n",
              "    </tr>\n",
              "    <tr>\n",
              "      <th>2018-10-01 01:00:00</th>\n",
              "      <td>25.8</td>\n",
              "      <td>3</td>\n",
              "      <td>90</td>\n",
              "      <td>17.0</td>\n",
              "    </tr>\n",
              "    <tr>\n",
              "      <th>2018-10-01 02:00:00</th>\n",
              "      <td>25.8</td>\n",
              "      <td>1</td>\n",
              "      <td>105</td>\n",
              "      <td>13.0</td>\n",
              "    </tr>\n",
              "    <tr>\n",
              "      <th>2018-10-01 03:00:00</th>\n",
              "      <td>25.8</td>\n",
              "      <td>1</td>\n",
              "      <td>105</td>\n",
              "      <td>12.0</td>\n",
              "    </tr>\n",
              "    <tr>\n",
              "      <th>2018-10-01 04:00:00</th>\n",
              "      <td>25.2</td>\n",
              "      <td>1</td>\n",
              "      <td>105</td>\n",
              "      <td>11.0</td>\n",
              "    </tr>\n",
              "    <tr>\n",
              "      <th>...</th>\n",
              "      <td>...</td>\n",
              "      <td>...</td>\n",
              "      <td>...</td>\n",
              "      <td>...</td>\n",
              "    </tr>\n",
              "    <tr>\n",
              "      <th>2020-06-30 18:00:00</th>\n",
              "      <td>30.8</td>\n",
              "      <td>19</td>\n",
              "      <td>250</td>\n",
              "      <td>36.0</td>\n",
              "    </tr>\n",
              "    <tr>\n",
              "      <th>2020-06-30 19:00:00</th>\n",
              "      <td>26.7</td>\n",
              "      <td>19</td>\n",
              "      <td>250</td>\n",
              "      <td>29.0</td>\n",
              "    </tr>\n",
              "    <tr>\n",
              "      <th>2020-06-30 20:00:00</th>\n",
              "      <td>26.7</td>\n",
              "      <td>23</td>\n",
              "      <td>260</td>\n",
              "      <td>16.0</td>\n",
              "    </tr>\n",
              "    <tr>\n",
              "      <th>2020-06-30 21:00:00</th>\n",
              "      <td>26.7</td>\n",
              "      <td>23</td>\n",
              "      <td>260</td>\n",
              "      <td>15.0</td>\n",
              "    </tr>\n",
              "    <tr>\n",
              "      <th>2020-06-30 22:00:00</th>\n",
              "      <td>25.9</td>\n",
              "      <td>23</td>\n",
              "      <td>260</td>\n",
              "      <td>20.0</td>\n",
              "    </tr>\n",
              "  </tbody>\n",
              "</table>\n",
              "<p>15335 rows × 4 columns</p>\n",
              "</div>"
            ],
            "text/plain": [
              "                     Temp  WindSpeed  WindDir  PM25\n",
              "Time                                               \n",
              "2018-10-01 00:00:00  26.6          3       90  22.0\n",
              "2018-10-01 01:00:00  25.8          3       90  17.0\n",
              "2018-10-01 02:00:00  25.8          1      105  13.0\n",
              "2018-10-01 03:00:00  25.8          1      105  12.0\n",
              "2018-10-01 04:00:00  25.2          1      105  11.0\n",
              "...                   ...        ...      ...   ...\n",
              "2020-06-30 18:00:00  30.8         19      250  36.0\n",
              "2020-06-30 19:00:00  26.7         19      250  29.0\n",
              "2020-06-30 20:00:00  26.7         23      260  16.0\n",
              "2020-06-30 21:00:00  26.7         23      260  15.0\n",
              "2020-06-30 22:00:00  25.9         23      260  20.0\n",
              "\n",
              "[15335 rows x 4 columns]"
            ]
          },
          "metadata": {},
          "output_type": "display_data"
        }
      ],
      "source": [
        "display(surat_train)"
      ]
    },
    {
      "cell_type": "markdown",
      "metadata": {
        "id": "jFyqozn2gCfP"
      },
      "source": [
        "## Number of null values"
      ]
    },
    {
      "cell_type": "markdown",
      "metadata": {
        "id": "1sIgs-pZk9-o"
      },
      "source": [
        "### Before Dropping"
      ]
    },
    {
      "cell_type": "code",
      "execution_count": 22,
      "metadata": {
        "colab": {
          "base_uri": "https://localhost:8080/"
        },
        "id": "-QMUjz5lSKcb",
        "outputId": "5e1409ba-6e13-4728-c13f-c95f46b52143"
      },
      "outputs": [
        {
          "name": "stdout",
          "output_type": "stream",
          "text": [
            "[bkk_train] Number of null values in each column:\n",
            "Temp           3\n",
            "WindSpeed      0\n",
            "WindDir        0\n",
            "PM25         176\n",
            "dtype: int64\n",
            "\n",
            "\n",
            "[cnx_train] Number of null values in each column:\n",
            "Temp           6\n",
            "WindSpeed      0\n",
            "WindDir        0\n",
            "PM25         470\n",
            "dtype: int64\n",
            "\n",
            "\n",
            "[kkc_train] Number of null values in each column:\n",
            "Temp            0\n",
            "WindSpeed       0\n",
            "WindDir         0\n",
            "PM25         2689\n",
            "dtype: int64\n",
            "\n",
            "\n",
            "[rayong_train] Number of null values in each column:\n",
            "Temp            0\n",
            "WindSpeed       0\n",
            "WindDir         0\n",
            "PM25         2126\n",
            "dtype: int64\n",
            "\n",
            "\n",
            "[saraburi_train] Number of null values in each column:\n",
            "Temp            0\n",
            "WindSpeed       0\n",
            "WindDir         0\n",
            "PM25         1588\n",
            "dtype: int64\n",
            "\n",
            "\n",
            "[surat_train] Number of null values in each column:\n",
            "Temp         126\n",
            "WindSpeed      0\n",
            "WindDir        0\n",
            "PM25         369\n",
            "dtype: int64\n"
          ]
        }
      ],
      "source": [
        "null_counts_bkk_train = bkk_train.isnull().sum()\n",
        "print(\"[bkk_train] Number of null values in each column:\\n{}\".format(null_counts_bkk_train))\n",
        "print('\\n')\n",
        "\n",
        "null_counts_cnx_train = cnx_train.isnull().sum()\n",
        "print(\"[cnx_train] Number of null values in each column:\\n{}\".format(null_counts_cnx_train))\n",
        "print('\\n')\n",
        "\n",
        "null_counts_kkc_train = kkc_train.isnull().sum()\n",
        "print(\"[kkc_train] Number of null values in each column:\\n{}\".format(null_counts_kkc_train))\n",
        "print('\\n')\n",
        "\n",
        "null_counts_rayong_train = rayong_train.isnull().sum()\n",
        "print(\"[rayong_train] Number of null values in each column:\\n{}\".format(null_counts_rayong_train))\n",
        "print('\\n')\n",
        "\n",
        "null_counts_saraburi_train = saraburi_train.isnull().sum()\n",
        "print(\"[saraburi_train] Number of null values in each column:\\n{}\".format(null_counts_saraburi_train))\n",
        "print('\\n')\n",
        "\n",
        "null_counts_surat_train = surat_train.isnull().sum()\n",
        "print(\"[surat_train] Number of null values in each column:\\n{}\".format(null_counts_surat_train))"
      ]
    },
    {
      "cell_type": "markdown",
      "metadata": {
        "id": "4CCQLxJfkJH7"
      },
      "source": [
        "### Drop null-valued rows (Temp & PM25)"
      ]
    },
    {
      "cell_type": "code",
      "execution_count": 23,
      "metadata": {
        "id": "CsXSNDKNgbcZ"
      },
      "outputs": [],
      "source": [
        "bkk_train.dropna(subset=['Temp','PM25'],inplace=True)\n",
        "\n",
        "cnx_train.dropna(subset=['Temp','PM25'],inplace=True)\n",
        "\n",
        "kkc_train.dropna(subset=['Temp','PM25'],inplace=True)\n",
        "\n",
        "rayong_train.dropna(subset=['Temp','PM25'],inplace=True)\n",
        "\n",
        "saraburi_train.dropna(subset=['Temp','PM25'],inplace=True)\n",
        "\n",
        "surat_train.dropna(subset=['Temp','PM25'],inplace=True)"
      ]
    },
    {
      "cell_type": "markdown",
      "metadata": {
        "id": "7y2JL7qjleFi"
      },
      "source": [
        "## Handle outliers"
      ]
    },
    {
      "cell_type": "code",
      "execution_count": 24,
      "metadata": {
        "id": "jehuJYr8liF-"
      },
      "outputs": [],
      "source": [
        "import matplotlib.pyplot as plt\n",
        "import seaborn as sns\n",
        "\n",
        "from scipy.stats import kurtosis, skew\n",
        "\n",
        "%matplotlib inline"
      ]
    },
    {
      "cell_type": "code",
      "execution_count": 25,
      "metadata": {
        "id": "y-zzUaiUnI4a"
      },
      "outputs": [],
      "source": [
        "class Handle_Outliers:\n",
        "  def __init__(self, dataset):\n",
        "    self.dataset=dataset\n",
        "   \n",
        "  def plotIQR(self, province, col, title=\"\"):\n",
        "    dataset = self.dataset\n",
        "\n",
        "    plt.figure(figsize=(10,8))\n",
        "    plt.subplot(211)\n",
        "    plt.title(title)\n",
        "    plt.xlim(dataset[province][col].min(), dataset[province][col].max()*1.1)\n",
        "\n",
        "    ax = dataset[province][col].plot(kind='kde')\n",
        "\n",
        "    plt.subplot(212)\n",
        "    plt.xlim(dataset[province][col].min(), dataset[province][col].max()*1.1)\n",
        "    sns.boxplot(x=dataset[province][col])\n",
        "\n",
        "    plt.show()\n",
        "  \n",
        "  def showKS(self, province, col):\n",
        "    dataset = self.dataset\n",
        "    \n",
        "    kurtosis_value = kurtosis(dataset[province][col])\n",
        "    print(\"kurtosis_value = \", kurtosis_value)\n",
        "    skew_value = skew(dataset[province][col])\n",
        "    print(\"skew_value = \", skew_value)"
      ]
    },
    {
      "cell_type": "markdown",
      "metadata": {
        "id": "2gp5C_mpmHIh"
      },
      "source": [
        "### Using IQR to detect outliers"
      ]
    },
    {
      "cell_type": "code",
      "execution_count": 26,
      "metadata": {
        "id": "1zNGh889orze"
      },
      "outputs": [],
      "source": [
        "handle_outliers = Handle_Outliers(train_set)"
      ]
    },
    {
      "cell_type": "markdown",
      "metadata": {
        "id": "zth7aXeErTuJ"
      },
      "source": [
        "#### Before Log"
      ]
    },
    {
      "cell_type": "code",
      "execution_count": 27,
      "metadata": {
        "colab": {
          "base_uri": "https://localhost:8080/",
          "height": 548
        },
        "id": "N1dYhGk8ljJT",
        "outputId": "48e9d10e-65c7-4633-8a87-2eff56871f07"
      },
      "outputs": [
        {
          "data": {
            "image/png": "[encoded data removed]",
            "text/plain": [
              "<Figure size 720x576 with 2 Axes>"
            ]
          },
          "metadata": {
            "needs_background": "light"
          },
          "output_type": "display_data"
        },
        {
          "name": "stdout",
          "output_type": "stream",
          "text": [
            "kurtosis_value =  3.7542328442592394\n",
            "skew_value =  1.6427231226444095\n"
          ]
        }
      ],
      "source": [
        "handle_outliers.plotIQR('BKK', 'PM25', \"Bangkok_Train PM2.5\")\n",
        "handle_outliers.showKS('BKK', 'PM25')"
      ]
    },
    {
      "cell_type": "code",
      "execution_count": 28,
      "metadata": {
        "colab": {
          "base_uri": "https://localhost:8080/",
          "height": 548
        },
        "id": "HNfSlKTMlqZw",
        "outputId": "573375b3-7b64-4de8-e1d3-70fc325ec7e5"
      },
      "outputs": [
        {
          "data": {
            "image/png": "[encoded data removed]",
            "text/plain": [
              "<Figure size 720x576 with 2 Axes>"
            ]
          },
          "metadata": {
            "needs_background": "light"
          },
          "output_type": "display_data"
        },
        {
          "name": "stdout",
          "output_type": "stream",
          "text": [
            "kurtosis_value =  22.160191851504727\n",
            "skew_value =  3.6004308937451492\n"
          ]
        }
      ],
      "source": [
        "handle_outliers.plotIQR('CNX', 'PM25', \"Chiangmai_Train PM2.5\")\n",
        "handle_outliers.showKS('CNX', 'PM25')"
      ]
    },
    {
      "cell_type": "code",
      "execution_count": 29,
      "metadata": {
        "colab": {
          "base_uri": "https://localhost:8080/",
          "height": 548
        },
        "id": "EPht5qPamirr",
        "outputId": "ac2cd880-eba4-440a-cd39-f0052dda9f9a"
      },
      "outputs": [
        {
          "data": {
            "image/png": "[encoded data removed]",
            "text/plain": [
              "<Figure size 720x576 with 2 Axes>"
            ]
          },
          "metadata": {
            "needs_background": "light"
          },
          "output_type": "display_data"
        },
        {
          "name": "stdout",
          "output_type": "stream",
          "text": [
            "kurtosis_value =  2.852633308292953\n",
            "skew_value =  1.4363591505579454\n"
          ]
        }
      ],
      "source": [
        "handle_outliers.plotIQR('KKC', 'PM25', \"Khonkaen_Train PM2.5\")\n",
        "handle_outliers.showKS('KKC', 'PM25')"
      ]
    },
    {
      "cell_type": "code",
      "execution_count": 30,
      "metadata": {
        "colab": {
          "base_uri": "https://localhost:8080/",
          "height": 548
        },
        "id": "VXEeJlvXmss3",
        "outputId": "7c553f2c-105b-434e-938b-bc9a3ca9d684"
      },
      "outputs": [
        {
          "data": {
            "image/png": "[encoded data removed]",
            "text/plain": [
              "<Figure size 720x576 with 2 Axes>"
            ]
          },
          "metadata": {
            "needs_background": "light"
          },
          "output_type": "display_data"
        },
        {
          "name": "stdout",
          "output_type": "stream",
          "text": [
            "kurtosis_value =  7.6970807915660515\n",
            "skew_value =  2.13269492588504\n"
          ]
        }
      ],
      "source": [
        "handle_outliers.plotIQR('RAY', 'PM25', \"Rayong_Train PM2.5\")\n",
        "handle_outliers.showKS('RAY', 'PM25')"
      ]
    },
    {
      "cell_type": "code",
      "execution_count": 31,
      "metadata": {
        "colab": {
          "base_uri": "https://localhost:8080/",
          "height": 548
        },
        "id": "8GRia0a9ms-V",
        "outputId": "e7149e44-a6b4-4864-dd51-64bee391cf57"
      },
      "outputs": [
        {
          "data": {
            "image/png": "[encoded data removed]",
            "text/plain": [
              "<Figure size 720x576 with 2 Axes>"
            ]
          },
          "metadata": {
            "needs_background": "light"
          },
          "output_type": "display_data"
        },
        {
          "name": "stdout",
          "output_type": "stream",
          "text": [
            "kurtosis_value =  6.864162324600022\n",
            "skew_value =  1.650534135184398\n"
          ]
        }
      ],
      "source": [
        "handle_outliers.plotIQR(\"SARA\", 'PM25', \"Saraburi_Train PM2.5\")\n",
        "handle_outliers.showKS(\"SARA\", 'PM25')"
      ]
    },
    {
      "cell_type": "code",
      "execution_count": 32,
      "metadata": {
        "colab": {
          "base_uri": "https://localhost:8080/",
          "height": 548
        },
        "id": "kx2AAC29m02T",
        "outputId": "dce7308a-a921-4351-ccc7-4060f13c2642"
      },
      "outputs": [
        {
          "data": {
            "image/png": "[encoded data removed]",
            "text/plain": [
              "<Figure size 720x576 with 2 Axes>"
            ]
          },
          "metadata": {
            "needs_background": "light"
          },
          "output_type": "display_data"
        },
        {
          "name": "stdout",
          "output_type": "stream",
          "text": [
            "kurtosis_value =  0.6334880093938624\n",
            "skew_value =  0.7291329868115642\n"
          ]
        }
      ],
      "source": [
        "handle_outliers.plotIQR('SURAT', 'PM25', \"Surat_Train PM2.5\")\n",
        "handle_outliers.showKS('SURAT', 'PM25')"
      ]
    },
    {
      "cell_type": "markdown",
      "metadata": {
        "id": "4_eE7bdoress"
      },
      "source": [
        "#### After Log"
      ]
    },
    {
      "cell_type": "code",
      "execution_count": 33,
      "metadata": {
        "id": "PWoiAj2dsfGw"
      },
      "outputs": [],
      "source": [
        "train_set['BKK']['Log_PM25'] = np.log(1+train_set['BKK']['PM25'])\n",
        "train_set['CNX']['Log_PM25'] = np.log(1+train_set['CNX']['PM25'])\n",
        "train_set['KKC']['Log_PM25'] = np.log(1+train_set['KKC']['PM25'])\n",
        "train_set['RAY']['Log_PM25'] = np.log(1+train_set['RAY']['PM25'])\n",
        "train_set['SARA']['Log_PM25'] = np.log(1+train_set['SARA']['PM25'])\n",
        "train_set['SURAT']['Log_PM25'] = np.log(1+train_set['SURAT']['PM25'])"
      ]
    },
    {
      "cell_type": "code",
      "execution_count": 34,
      "metadata": {
        "colab": {
          "base_uri": "https://localhost:8080/",
          "height": 549
        },
        "id": "qJXgJwbTm3hH",
        "outputId": "f3bd1dfa-74d3-4ba4-f1ec-71456fb18542"
      },
      "outputs": [
        {
          "data": {
            "image/png": "[encoded data removed]",
            "text/plain": [
              "<Figure size 720x576 with 2 Axes>"
            ]
          },
          "metadata": {
            "needs_background": "light"
          },
          "output_type": "display_data"
        },
        {
          "name": "stdout",
          "output_type": "stream",
          "text": [
            "kurtosis_value =  -0.19354695008339684\n",
            "skew_value =  0.2150268983994971\n"
          ]
        }
      ],
      "source": [
        "handle_outliers.plotIQR('BKK', 'Log_PM25', \"Bangkok_Train Log(PM2.5)\")\n",
        "handle_outliers.showKS('BKK', 'Log_PM25')"
      ]
    },
    {
      "cell_type": "code",
      "execution_count": 35,
      "metadata": {
        "colab": {
          "base_uri": "https://localhost:8080/",
          "height": 549
        },
        "id": "hBlNkvGhs90S",
        "outputId": "526a3548-f006-43cc-aadc-dc009770f5b2"
      },
      "outputs": [
        {
          "data": {
            "image/png": "[encoded data removed]",
            "text/plain": [
              "<Figure size 720x576 with 2 Axes>"
            ]
          },
          "metadata": {
            "needs_background": "light"
          },
          "output_type": "display_data"
        },
        {
          "name": "stdout",
          "output_type": "stream",
          "text": [
            "kurtosis_value =  0.16234853991746867\n",
            "skew_value =  0.5609039691419486\n"
          ]
        }
      ],
      "source": [
        "handle_outliers.plotIQR('CNX', 'Log_PM25', \"Chiangmai_Train Log(PM2.5)\")\n",
        "handle_outliers.showKS('CNX', 'Log_PM25')"
      ]
    },
    {
      "cell_type": "code",
      "execution_count": 36,
      "metadata": {
        "colab": {
          "base_uri": "https://localhost:8080/",
          "height": 549
        },
        "id": "E4y1vjTzypBE",
        "outputId": "41618fd7-868d-4970-f54f-3062c302325e"
      },
      "outputs": [
        {
          "data": {
            "image/png": "[encoded data removed]",
            "text/plain": [
              "<Figure size 720x576 with 2 Axes>"
            ]
          },
          "metadata": {
            "needs_background": "light"
          },
          "output_type": "display_data"
        },
        {
          "name": "stdout",
          "output_type": "stream",
          "text": [
            "kurtosis_value =  -0.21392060653719458\n",
            "skew_value =  -0.013772394097134611\n"
          ]
        }
      ],
      "source": [
        "handle_outliers.plotIQR('KKC', 'Log_PM25', \"Khonkaen_Train Log(PM2.5)\")\n",
        "handle_outliers.showKS('KKC', 'Log_PM25')"
      ]
    },
    {
      "cell_type": "code",
      "execution_count": 37,
      "metadata": {
        "colab": {
          "base_uri": "https://localhost:8080/",
          "height": 549
        },
        "id": "46EzEOgaysIY",
        "outputId": "2f767150-ad5a-4993-9f9b-e1536ae319f2"
      },
      "outputs": [
        {
          "data": {
            "image/png": "[encoded data removed]",
            "text/plain": [
              "<Figure size 720x576 with 2 Axes>"
            ]
          },
          "metadata": {
            "needs_background": "light"
          },
          "output_type": "display_data"
        },
        {
          "name": "stdout",
          "output_type": "stream",
          "text": [
            "kurtosis_value =  -0.0970150611450924\n",
            "skew_value =  -0.0034067186098447467\n"
          ]
        }
      ],
      "source": [
        "handle_outliers.plotIQR('RAY', 'Log_PM25', \"Rayong_Train Log(PM2.5)\")\n",
        "handle_outliers.showKS('RAY', 'Log_PM25')"
      ]
    },
    {
      "cell_type": "code",
      "execution_count": 38,
      "metadata": {
        "colab": {
          "base_uri": "https://localhost:8080/",
          "height": 549
        },
        "id": "69vV1VnzyuUg",
        "outputId": "7332c8d2-3551-46f0-89c3-014a883785e7"
      },
      "outputs": [
        {
          "data": {
            "image/png": "[encoded data removed]",
            "text/plain": [
              "<Figure size 720x576 with 2 Axes>"
            ]
          },
          "metadata": {
            "needs_background": "light"
          },
          "output_type": "display_data"
        },
        {
          "name": "stdout",
          "output_type": "stream",
          "text": [
            "kurtosis_value =  0.90036786488337\n",
            "skew_value =  -0.5859147529476278\n"
          ]
        }
      ],
      "source": [
        "handle_outliers.plotIQR('SARA', 'Log_PM25', \"Saraburi_Train Log(PM2.5)\")\n",
        "handle_outliers.showKS('SARA', 'Log_PM25')"
      ]
    },
    {
      "cell_type": "code",
      "execution_count": 39,
      "metadata": {
        "colab": {
          "base_uri": "https://localhost:8080/",
          "height": 549
        },
        "id": "YWNAS6Q_yzCD",
        "outputId": "04684352-bbdd-45b9-e772-d6aa64434a6c"
      },
      "outputs": [
        {
          "data": {
            "image/png": "[encoded data removed]",
            "text/plain": [
              "<Figure size 720x576 with 2 Axes>"
            ]
          },
          "metadata": {
            "needs_background": "light"
          },
          "output_type": "display_data"
        },
        {
          "name": "stdout",
          "output_type": "stream",
          "text": [
            "kurtosis_value =  0.7869783044769383\n",
            "skew_value =  -0.7758753751207673\n"
          ]
        }
      ],
      "source": [
        "handle_outliers.plotIQR('SURAT', 'Log_PM25', \"Surat_Train Log(PM2.5)\")\n",
        "handle_outliers.showKS('SURAT', 'Log_PM25')"
      ]
    },
    {
      "cell_type": "markdown",
      "metadata": {
        "id": "7wQjPl3pzPOZ"
      },
      "source": [
        "#### Cut with IQR\n",
        "\n",
        "in process =====>======="
      ]
    },
    {
      "cell_type": "code",
      "execution_count": 40,
      "metadata": {
        "colab": {
          "base_uri": "https://localhost:8080/"
        },
        "id": "KoSqxWqQy2ei",
        "outputId": "f6b89b23-f7cb-4d40-9775-80e5b32c7b98"
      },
      "outputs": [
        {
          "name": "stdout",
          "output_type": "stream",
          "text": [
            "0.664976303593249\n"
          ]
        }
      ],
      "source": [
        "q75, q25 = np.percentile(train_set['BKK'].Log_PM25.dropna(), [75 ,25])\n",
        "iqr = q75 - q25\n",
        "\n",
        "min = q25 - (iqr*1.5)\n",
        "max = q75 + (iqr*1.5)\n",
        "\n",
        "print(iqr)"
      ]
    },
    {
      "cell_type": "markdown",
      "metadata": {},
      "source": [
        "#### just trying on BKK only"
      ]
    },
    {
      "cell_type": "code",
      "execution_count": 47,
      "metadata": {
        "colab": {
          "base_uri": "https://localhost:8080/",
          "height": 515
        },
        "id": "TZuO5S_Czuf4",
        "outputId": "dcf5af71-d6fb-436f-f32a-65c38b9de443"
      },
      "outputs": [
        {
          "data": {
            "image/png": "[encoded data removed]",
            "text/plain": [
              "<Figure size 720x576 with 2 Axes>"
            ]
          },
          "metadata": {
            "needs_background": "light"
          },
          "output_type": "display_data"
        }
      ],
      "source": [
        "plt.figure(figsize=(10,8))\n",
        "plt.subplot(211)\n",
        "plt.xlim(train_set['BKK'].Log_PM25.min(), train_set['BKK'].Log_PM25.max()*1.1)\n",
        "plt.axvline(x=min)\n",
        "plt.axvline(x=max)\n",
        "\n",
        "ax = train_set['BKK'].Log_PM25.plot(kind='kde')\n",
        "\n",
        "plt.subplot(212)\n",
        "plt.xlim(train_set['BKK'].Log_PM25.min(), train_set['BKK'].Log_PM25.max()*1.1)\n",
        "sns.boxplot(x=train_set['BKK'].Log_PM25)\n",
        "plt.axvline(x=min)\n",
        "plt.axvline(x=max)\n",
        "\n",
        "plt.show()"
      ]
    },
    {
      "cell_type": "code",
      "execution_count": 48,
      "metadata": {
        "id": "EPH05sVtzzRu"
      },
      "outputs": [],
      "source": [
        "df_out = train_set['BKK'].copy()"
      ]
    },
    {
      "cell_type": "code",
      "execution_count": 49,
      "metadata": {
        "id": "E1_yBA0p0ALW"
      },
      "outputs": [],
      "source": [
        "df_out.loc[df_out['Log_PM25']<min, 'Log_PM25'] = min\n",
        "df_out.loc[df_out['Log_PM25']>max, 'Log_PM25'] = max"
      ]
    },
    {
      "cell_type": "code",
      "execution_count": 53,
      "metadata": {
        "colab": {
          "base_uri": "https://localhost:8080/",
          "height": 515
        },
        "id": "vx2q6hYm0DF4",
        "outputId": "9acf3d76-b039-4564-cd44-4eb9e0253ab5"
      },
      "outputs": [
        {
          "data": {
            "image/png": "[encoded data removed]",
            "text/plain": [
              "<Figure size 720x576 with 2 Axes>"
            ]
          },
          "metadata": {
            "needs_background": "light"
          },
          "output_type": "display_data"
        }
      ],
      "source": [
        "plt.figure(figsize=(10,8))\n",
        "plt.subplot(211)\n",
        "plt.xlim(df_out.Log_PM25.min(), df_out.Log_PM25.max()*1.1)\n",
        "plt.axvline(x=min)\n",
        "plt.axvline(x=max)\n",
        "\n",
        "ax = df_out.Log_PM25.plot(kind='kde')\n",
        "\n",
        "plt.subplot(212)\n",
        "plt.xlim(df_out.Log_PM25.min(), df_out.Log_PM25.max()*1.1)\n",
        "sns.boxplot(x=df_out.Log_PM25)\n",
        "plt.axvline(x=min)\n",
        "plt.axvline(x=max)\n",
        "\n",
        "plt.show()"
      ]
    },
    {
      "cell_type": "code",
      "execution_count": 54,
      "metadata": {
        "colab": {
          "base_uri": "https://localhost:8080/",
          "height": 300
        },
        "id": "Ytzp6eKh0Oa2",
        "outputId": "800df8bc-ee09-4a06-8637-f66327a56b86"
      },
      "outputs": [
        {
          "data": {
            "text/html": [
              "<div>\n",
              "<style scoped>\n",
              "    .dataframe tbody tr th:only-of-type {\n",
              "        vertical-align: middle;\n",
              "    }\n",
              "\n",
              "    .dataframe tbody tr th {\n",
              "        vertical-align: top;\n",
              "    }\n",
              "\n",
              "    .dataframe thead th {\n",
              "        text-align: right;\n",
              "    }\n",
              "</style>\n",
              "<table border=\"1\" class=\"dataframe\">\n",
              "  <thead>\n",
              "    <tr style=\"text-align: right;\">\n",
              "      <th></th>\n",
              "      <th>Temp</th>\n",
              "      <th>WindSpeed</th>\n",
              "      <th>WindDir</th>\n",
              "      <th>PM25</th>\n",
              "      <th>Log_PM25</th>\n",
              "    </tr>\n",
              "  </thead>\n",
              "  <tbody>\n",
              "    <tr>\n",
              "      <th>count</th>\n",
              "      <td>26123.000000</td>\n",
              "      <td>26123.000000</td>\n",
              "      <td>26123.000000</td>\n",
              "      <td>26123.000000</td>\n",
              "      <td>26123.000000</td>\n",
              "    </tr>\n",
              "    <tr>\n",
              "      <th>mean</th>\n",
              "      <td>29.803254</td>\n",
              "      <td>20.499368</td>\n",
              "      <td>167.735329</td>\n",
              "      <td>27.298052</td>\n",
              "      <td>3.216784</td>\n",
              "    </tr>\n",
              "    <tr>\n",
              "      <th>std</th>\n",
              "      <td>2.653206</td>\n",
              "      <td>13.039739</td>\n",
              "      <td>92.336964</td>\n",
              "      <td>15.382631</td>\n",
              "      <td>0.494660</td>\n",
              "    </tr>\n",
              "    <tr>\n",
              "      <th>min</th>\n",
              "      <td>17.200000</td>\n",
              "      <td>0.000000</td>\n",
              "      <td>0.000000</td>\n",
              "      <td>3.000000</td>\n",
              "      <td>1.386294</td>\n",
              "    </tr>\n",
              "    <tr>\n",
              "      <th>25%</th>\n",
              "      <td>28.000000</td>\n",
              "      <td>11.000000</td>\n",
              "      <td>80.000000</td>\n",
              "      <td>17.000000</td>\n",
              "      <td>2.890372</td>\n",
              "    </tr>\n",
              "    <tr>\n",
              "      <th>50%</th>\n",
              "      <td>29.600000</td>\n",
              "      <td>17.000000</td>\n",
              "      <td>155.000000</td>\n",
              "      <td>23.000000</td>\n",
              "      <td>3.178054</td>\n",
              "    </tr>\n",
              "    <tr>\n",
              "      <th>75%</th>\n",
              "      <td>31.600000</td>\n",
              "      <td>27.000000</td>\n",
              "      <td>260.000000</td>\n",
              "      <td>34.000000</td>\n",
              "      <td>3.555348</td>\n",
              "    </tr>\n",
              "    <tr>\n",
              "      <th>max</th>\n",
              "      <td>38.100000</td>\n",
              "      <td>85.000000</td>\n",
              "      <td>360.000000</td>\n",
              "      <td>130.000000</td>\n",
              "      <td>4.875197</td>\n",
              "    </tr>\n",
              "  </tbody>\n",
              "</table>\n",
              "</div>"
            ],
            "text/plain": [
              "               Temp     WindSpeed       WindDir          PM25      Log_PM25\n",
              "count  26123.000000  26123.000000  26123.000000  26123.000000  26123.000000\n",
              "mean      29.803254     20.499368    167.735329     27.298052      3.216784\n",
              "std        2.653206     13.039739     92.336964     15.382631      0.494660\n",
              "min       17.200000      0.000000      0.000000      3.000000      1.386294\n",
              "25%       28.000000     11.000000     80.000000     17.000000      2.890372\n",
              "50%       29.600000     17.000000    155.000000     23.000000      3.178054\n",
              "75%       31.600000     27.000000    260.000000     34.000000      3.555348\n",
              "max       38.100000     85.000000    360.000000    130.000000      4.875197"
            ]
          },
          "execution_count": 54,
          "metadata": {},
          "output_type": "execute_result"
        }
      ],
      "source": [
        "train_set['BKK'].describe(include='all')"
      ]
    },
    {
      "cell_type": "code",
      "execution_count": 55,
      "metadata": {
        "colab": {
          "base_uri": "https://localhost:8080/",
          "height": 300
        },
        "id": "2aNwuZ9p0kc-",
        "outputId": "4d631b75-3e80-4e74-d677-11e656a4c72b"
      },
      "outputs": [
        {
          "data": {
            "text/html": [
              "<div>\n",
              "<style scoped>\n",
              "    .dataframe tbody tr th:only-of-type {\n",
              "        vertical-align: middle;\n",
              "    }\n",
              "\n",
              "    .dataframe tbody tr th {\n",
              "        vertical-align: top;\n",
              "    }\n",
              "\n",
              "    .dataframe thead th {\n",
              "        text-align: right;\n",
              "    }\n",
              "</style>\n",
              "<table border=\"1\" class=\"dataframe\">\n",
              "  <thead>\n",
              "    <tr style=\"text-align: right;\">\n",
              "      <th></th>\n",
              "      <th>Temp</th>\n",
              "      <th>WindSpeed</th>\n",
              "      <th>WindDir</th>\n",
              "      <th>PM25</th>\n",
              "      <th>Log_PM25</th>\n",
              "      <th>new_PM25</th>\n",
              "    </tr>\n",
              "  </thead>\n",
              "  <tbody>\n",
              "    <tr>\n",
              "      <th>count</th>\n",
              "      <td>26123.000000</td>\n",
              "      <td>26123.000000</td>\n",
              "      <td>26123.000000</td>\n",
              "      <td>26123.000000</td>\n",
              "      <td>26123.000000</td>\n",
              "      <td>26123.000000</td>\n",
              "    </tr>\n",
              "    <tr>\n",
              "      <th>mean</th>\n",
              "      <td>29.803254</td>\n",
              "      <td>20.499368</td>\n",
              "      <td>167.735329</td>\n",
              "      <td>27.298052</td>\n",
              "      <td>3.216612</td>\n",
              "      <td>27.255783</td>\n",
              "    </tr>\n",
              "    <tr>\n",
              "      <th>std</th>\n",
              "      <td>2.653206</td>\n",
              "      <td>13.039739</td>\n",
              "      <td>92.336964</td>\n",
              "      <td>15.382631</td>\n",
              "      <td>0.492703</td>\n",
              "      <td>15.162809</td>\n",
              "    </tr>\n",
              "    <tr>\n",
              "      <th>min</th>\n",
              "      <td>17.200000</td>\n",
              "      <td>0.000000</td>\n",
              "      <td>0.000000</td>\n",
              "      <td>3.000000</td>\n",
              "      <td>1.892907</td>\n",
              "      <td>5.638641</td>\n",
              "    </tr>\n",
              "    <tr>\n",
              "      <th>25%</th>\n",
              "      <td>28.000000</td>\n",
              "      <td>11.000000</td>\n",
              "      <td>80.000000</td>\n",
              "      <td>17.000000</td>\n",
              "      <td>2.890372</td>\n",
              "      <td>17.000000</td>\n",
              "    </tr>\n",
              "    <tr>\n",
              "      <th>50%</th>\n",
              "      <td>29.600000</td>\n",
              "      <td>17.000000</td>\n",
              "      <td>155.000000</td>\n",
              "      <td>23.000000</td>\n",
              "      <td>3.178054</td>\n",
              "      <td>23.000000</td>\n",
              "    </tr>\n",
              "    <tr>\n",
              "      <th>75%</th>\n",
              "      <td>31.600000</td>\n",
              "      <td>27.000000</td>\n",
              "      <td>260.000000</td>\n",
              "      <td>34.000000</td>\n",
              "      <td>3.555348</td>\n",
              "      <td>34.000000</td>\n",
              "    </tr>\n",
              "    <tr>\n",
              "      <th>max</th>\n",
              "      <td>38.100000</td>\n",
              "      <td>85.000000</td>\n",
              "      <td>360.000000</td>\n",
              "      <td>130.000000</td>\n",
              "      <td>4.552813</td>\n",
              "      <td>93.898938</td>\n",
              "    </tr>\n",
              "  </tbody>\n",
              "</table>\n",
              "</div>"
            ],
            "text/plain": [
              "               Temp     WindSpeed       WindDir          PM25      Log_PM25  \\\n",
              "count  26123.000000  26123.000000  26123.000000  26123.000000  26123.000000   \n",
              "mean      29.803254     20.499368    167.735329     27.298052      3.216612   \n",
              "std        2.653206     13.039739     92.336964     15.382631      0.492703   \n",
              "min       17.200000      0.000000      0.000000      3.000000      1.892907   \n",
              "25%       28.000000     11.000000     80.000000     17.000000      2.890372   \n",
              "50%       29.600000     17.000000    155.000000     23.000000      3.178054   \n",
              "75%       31.600000     27.000000    260.000000     34.000000      3.555348   \n",
              "max       38.100000     85.000000    360.000000    130.000000      4.552813   \n",
              "\n",
              "           new_PM25  \n",
              "count  26123.000000  \n",
              "mean      27.255783  \n",
              "std       15.162809  \n",
              "min        5.638641  \n",
              "25%       17.000000  \n",
              "50%       23.000000  \n",
              "75%       34.000000  \n",
              "max       93.898938  "
            ]
          },
          "execution_count": 55,
          "metadata": {},
          "output_type": "execute_result"
        }
      ],
      "source": [
        "df_out['new_PM25'] = (np.exp(df_out['Log_PM25'])-1)\n",
        "df_out.describe(include='all')"
      ]
    },
    {
      "cell_type": "code",
      "execution_count": null,
      "metadata": {
        "id": "HJX7cVdI1B_F"
      },
      "outputs": [],
      "source": []
    }
  ],
  "metadata": {
    "colab": {
      "name": "project_nb.ipynb",
      "provenance": [],
      "toc_visible": true
    },
    "kernelspec": {
      "display_name": "Python 3",
      "name": "python3"
    },
    "language_info": {
      "name": "python",
      "version": "3.9.7"
    }
  },
  "nbformat": 4,
  "nbformat_minor": 0
}
