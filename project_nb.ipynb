{
  "nbformat": 4,
  "nbformat_minor": 0,
  "metadata": {
    "colab": {
      "name": "project_nb.ipynb",
      "provenance": [],
      "toc_visible": true
    },
    "kernelspec": {
      "name": "python3",
      "display_name": "Python 3"
    },
    "language_info": {
      "name": "python"
    }
  },
  "cells": [
    {
      "cell_type": "code",
      "execution_count": 14,
      "metadata": {
        "id": "xXgecYKfoECO"
      },
      "outputs": [],
      "source": [
        "#Import the libraries\n",
        "import numpy as np\n",
        "import pandas as pd"
      ]
    },
    {
      "cell_type": "markdown",
      "source": [
        "## Download and Unzip the dataset."
      ],
      "metadata": {
        "id": "9Q8kjFgTgF-R"
      }
    },
    {
      "cell_type": "code",
      "source": [
        "url_to_the_zip_file = \"https://storage.googleapis.com/kaggle-competitions-data/kaggle-v2/34330/3265183/bundle/archive.zip?GoogleAccessId=web-data@kaggle-161607.iam.gserviceaccount.com&Expires=1647437599&Signature=qVPxXAvAiFlZLpO%2Fp287NXm%2FlUOymBxRMs7NJKMGXlm3afW9PV9LuNalMJS56E%2BjsMSHh46ouLS6gNHYbyPwmdLSQiPpLQPGU6NTKTNprbDUOgYb2rqC4w6AgLOpdRh%2FGdabYAVAdjIh24Teoj5k%2Bs%2Fybm00sxAGf358%2BcxjEonvvUJDEhK7GTtv9NAFxAfsO%2F69xOWSkLEhjjnCwQ3QzfXWxbuYVnqlwy0dwQ6S%2F8iQappRaQg2%2BF9j76t1ay0B3Kg3ANj0P5EuVMDL2KVld3cQLiM7DPi9vQQV531T8snYsbiHjoE%2BhkH6w%2BWeULvu5UpDSaiVRepgtoscjgM8ig%3D%3D&response-content-disposition=attachment%3B+filename%3D2110446-data-science-and-data-engineering-2022.zip\"\n",
        "new_file_name = \"2110446-data-science-and-data-engineering-2022.zip\""
      ],
      "metadata": {
        "id": "DhG3S5ZXoGs1"
      },
      "execution_count": 15,
      "outputs": []
    },
    {
      "cell_type": "code",
      "source": [
        "!rm -f \"$new_file_name\"\n",
        "!wget -c \"$url_to_the_zip_file\" -O \"$new_file_name\"\n",
        "!unzip \"$new_file_name\""
      ],
      "metadata": {
        "id": "vawEUIM6oIoc",
        "colab": {
          "base_uri": "https://localhost:8080/"
        },
        "outputId": "fbe039dc-0875-443c-9405-7d28316808d9"
      },
      "execution_count": 18,
      "outputs": [
        {
          "output_type": "stream",
          "name": "stdout",
          "text": [
            "--2022-03-13 14:32:28--  https://storage.googleapis.com/kaggle-competitions-data/kaggle-v2/34330/3265183/bundle/archive.zip?GoogleAccessId=web-data@kaggle-161607.iam.gserviceaccount.com&Expires=1647437599&Signature=qVPxXAvAiFlZLpO%2Fp287NXm%2FlUOymBxRMs7NJKMGXlm3afW9PV9LuNalMJS56E%2BjsMSHh46ouLS6gNHYbyPwmdLSQiPpLQPGU6NTKTNprbDUOgYb2rqC4w6AgLOpdRh%2FGdabYAVAdjIh24Teoj5k%2Bs%2Fybm00sxAGf358%2BcxjEonvvUJDEhK7GTtv9NAFxAfsO%2F69xOWSkLEhjjnCwQ3QzfXWxbuYVnqlwy0dwQ6S%2F8iQappRaQg2%2BF9j76t1ay0B3Kg3ANj0P5EuVMDL2KVld3cQLiM7DPi9vQQV531T8snYsbiHjoE%2BhkH6w%2BWeULvu5UpDSaiVRepgtoscjgM8ig%3D%3D&response-content-disposition=attachment%3B+filename%3D2110446-data-science-and-data-engineering-2022.zip\n",
            "Resolving storage.googleapis.com (storage.googleapis.com)... 74.125.31.128, 74.125.141.128, 173.194.210.128, ...\n",
            "Connecting to storage.googleapis.com (storage.googleapis.com)|74.125.31.128|:443... connected.\n",
            "HTTP request sent, awaiting response... 200 OK\n",
            "Length: 6603223 (6.3M) [application/zip]\n",
            "Saving to: ‘2110446-data-science-and-data-engineering-2022.zip’\n",
            "\n",
            "\r          2110446-d   0%[                    ]       0  --.-KB/s               \r2110446-data-scienc 100%[===================>]   6.30M  --.-KB/s    in 0.05s   \n",
            "\n",
            "2022-03-13 14:32:28 (131 MB/s) - ‘2110446-data-science-and-data-engineering-2022.zip’ saved [6603223/6603223]\n",
            "\n",
            "Archive:  2110446-data-science-and-data-engineering-2022.zip\n",
            "  inflating: datasci_dataset_2022/BKK/position.txt  \n",
            "  inflating: datasci_dataset_2022/BKK/test/bkk_test.csv  \n",
            "  inflating: datasci_dataset_2022/BKK/train/bkk_temp_surface.csv  \n",
            "  inflating: datasci_dataset_2022/BKK/train/bkk_train.csv  \n",
            "  inflating: datasci_dataset_2022/BKK/train/bkk_weather_wind.csv  \n",
            "  inflating: datasci_dataset_2022/Chiangmai/position.txt  \n",
            "  inflating: datasci_dataset_2022/Chiangmai/test/chiangmai_test.csv  \n",
            "  inflating: datasci_dataset_2022/Chiangmai/train/chiangmai_temp_surface.csv  \n",
            "  inflating: datasci_dataset_2022/Chiangmai/train/chiangmai_train.csv  \n",
            "  inflating: datasci_dataset_2022/Chiangmai/train/chiangmai_weather_wind.csv  \n",
            "  inflating: datasci_dataset_2022/Khonkaen/position.txt  \n",
            "  inflating: datasci_dataset_2022/Khonkaen/test/khonkhan_test.csv  \n",
            "  inflating: datasci_dataset_2022/Khonkaen/train/khonkaen_temp_surface.csv  \n",
            "  inflating: datasci_dataset_2022/Khonkaen/train/khonkaen_weather_wind.csv  \n",
            "  inflating: datasci_dataset_2022/Khonkaen/train/khonkhan_train.csv  \n",
            "  inflating: datasci_dataset_2022/Rayong/position.txt  \n",
            "  inflating: datasci_dataset_2022/Rayong/test/rayong_test.csv  \n",
            "  inflating: datasci_dataset_2022/Rayong/train/rayong_temp_surface.csv  \n",
            "  inflating: datasci_dataset_2022/Rayong/train/rayong_train.csv  \n",
            "  inflating: datasci_dataset_2022/Rayong/train/rayong_weather_wind.csv  \n",
            "  inflating: datasci_dataset_2022/Saraburi/position.txt  \n",
            "  inflating: datasci_dataset_2022/Saraburi/test/saraburi_test.csv  \n",
            "  inflating: datasci_dataset_2022/Saraburi/train/saraburi_temp_surface.csv  \n",
            "  inflating: datasci_dataset_2022/Saraburi/train/saraburi_train.csv  \n",
            "  inflating: datasci_dataset_2022/Saraburi/train/saraburi_weather_wind.csv  \n",
            "  inflating: datasci_dataset_2022/Surat/position.txt  \n",
            "  inflating: datasci_dataset_2022/Surat/test/surat_test.csv  \n",
            "  inflating: datasci_dataset_2022/Surat/train/surat_temp_surface.csv  \n",
            "  inflating: datasci_dataset_2022/Surat/train/surat_train.csv  \n",
            "  inflating: datasci_dataset_2022/Surat/train/surat_weather_wind.csv  \n",
            "  inflating: datasci_dataset_2022/_missing_date/missing_test_date_bkk.csv  \n",
            "  inflating: datasci_dataset_2022/_missing_date/missing_test_date_chiangmai.csv  \n",
            "  inflating: datasci_dataset_2022/_missing_date/missing_test_date_khonkaen.csv  \n",
            "  inflating: datasci_dataset_2022/_missing_date/missing_test_date_rayong.csv  \n",
            "  inflating: datasci_dataset_2022/_missing_date/missing_test_date_saraburi.csv  \n",
            "  inflating: datasci_dataset_2022/_missing_date/missing_test_date_surat.csv  \n",
            "  inflating: datasci_dataset_2022/_submission_example/Example_df_kaggle_test2022_with_nan.xlsx  \n",
            "  inflating: datasci_dataset_2022/_submission_example/Example_df_kaggle_test2022_without_nan.xlsx  \n",
            "  inflating: datasci_dataset_2022/_submission_example/Example_kaggle_submit_form.csv  \n",
            "  inflating: datasci_dataset_2022/sending_order.txt  \n"
          ]
        }
      ]
    },
    {
      "cell_type": "markdown",
      "source": [
        "## read_csv()"
      ],
      "metadata": {
        "id": "DsnbYs9_gRM7"
      }
    },
    {
      "cell_type": "code",
      "source": [
        "def toDF(pm25_filename, temp_filename, wind_filename):\n",
        "  pm25_df = pd.read_csv('datasci_dataset_2022/'+pm25_filename, names=['Time', 'PM25'], skiprows=1)\n",
        "  pm25_df['Time'] = pd.to_datetime(pm25_df['Time'])\n",
        "  # pm25_df['Time'] = pm25_df['Time'].dt.tz_localize('UTC').dt.tz_convert('Asia/Bangkok')\n",
        "  # pm25_df['Time'] = pm25_df['Time'].dt.tz_localize(None)\n",
        "  pm25_df.set_index('Time', inplace=True)\n",
        "  pm25_df.columns = ['PM25']\n",
        "  pm25_df = pm25_df[~pm25_df.index.duplicated(keep='first')]\n",
        "  pm25_df.index = pd.DatetimeIndex(pm25_df.index)\n",
        "\n",
        "  temp_df = pd.read_csv('datasci_dataset_2022/'+temp_filename, names=['Time', 'Temp'], skiprows=1)\n",
        "  temp_df['Time'] = pd.to_datetime(temp_df['Time'])\n",
        "  temp_df.set_index(temp_df['Time'], inplace=True)\n",
        "  temp_df.drop(columns={'Time'}, inplace=True)\n",
        "  temp_df.columns = ['Temp']\n",
        "  # pad() is similar to fillna() with forward filling\n",
        "  temp_df = temp_df.resample('h').pad()\n",
        "  # temp_df.index = pd.DatetimeIndex(temp_df.index)\n",
        "\n",
        "  wind_df = pd.read_csv('datasci_dataset_2022/'+wind_filename, names=['Time', 'WindSpeed', 'WindDir'], skiprows=1)\n",
        "  wind_df['Time'] = pd.to_datetime(wind_df['Time'])\n",
        "  wind_df.set_index(wind_df['Time'], inplace=True)\n",
        "  wind_df.drop(columns={'Time'}, inplace=True)\n",
        "  wind_df.columns = ['WindSpeed', 'WindDir']\n",
        "  # backward filling\n",
        "  wind_df = wind_df.resample('h').bfill()\n",
        "  # wind_df.index = pd.DatetimeIndex(wind_df.index)\n",
        "\n",
        "  pm25_df['copy_index'] = pm25_df.index\n",
        "  df = pd.merge(pm25_df, temp_df, left_index=True, right_index=True)\n",
        "  df = pd.merge(df, wind_df, left_index=True, right_index=True)\n",
        "\n",
        "  df = df[['Temp','WindSpeed','WindDir','PM25']]\n",
        "  \n",
        "  # padding first and last indices\n",
        "  # df = df.ffill()\n",
        "  # df = df.bfill()\n",
        "\n",
        "  return df"
      ],
      "metadata": {
        "id": "vwR4ICpPpgnP"
      },
      "execution_count": 206,
      "outputs": []
    },
    {
      "cell_type": "code",
      "source": [
        "# def toDFtest(pm25_filename, temp_filename, wind_filename):\n",
        "#   pm25_df = pd.read_csv('datasci_dataset_2022/'+pm25_filename, names=['Time', 'PM25'], skiprows=1)\n",
        "#   pm25_df.columns = ['Time', 'PM25']\n",
        "#   pm25_df['Time'] = pd.to_datetime(pm25_df['Time'], infer_datetime_format=True)\n",
        "#   pm25_df.set_index('Time', inplace=True)\n",
        "#   pm25_df = pm25_df[~pm25_df.index.duplicated(keep='first')]\n",
        "#   pm25_df.index = pd.DatetimeIndex(pm25_df.index)\n",
        "\n",
        "#   temp_df = pd.read_csv('/kaggle/input/2110446-data-science-and-data-engineering-2021/DS_kaggle_edited_v3/'+temp_filename)\n",
        "#   temp_df['datetime'] = pd.to_datetime(temp_df['datetime'])\n",
        "#   temp_df.set_index(temp_df['datetime'], inplace=True)\n",
        "#   temp_df.drop(columns={'datetime','lat','long'}, inplace=True)\n",
        "#   temp_df.columns = ['Temp']\n",
        "#   temp_df = temp_df.resample('h').bfill()\n",
        "\n",
        "#   wind_df = pd.read_csv('/kaggle/input/2110446-data-science-and-data-engineering-2021/DS_kaggle_edited_v3/'+wind_filename)\n",
        "#   wind_df['datetime'] = pd.to_datetime(wind_df['datetime'])\n",
        "#   wind_df.set_index(wind_df['datetime'],inplace=True)\n",
        "#   wind_df.drop(columns={'datetime','lat','long'},inplace=True)\n",
        "#   wind_df.columns = ['WindDir', 'WindSpeed']\n",
        "#   wind_df = wind_df.resample('h').bfill()\n",
        "\n",
        "#   df = pm25_df.merge(temp_df,left_index=True,right_index=True)\n",
        "#   df = df.merge(wind_df,left_index=True,right_index=True)\n",
        "\n",
        "#   df = df[['Temp','WindSpeed','WindDir','PM25']]\n",
        "\n",
        "#   return df"
      ],
      "metadata": {
        "id": "N1z5Yu1ibV6A"
      },
      "execution_count": 207,
      "outputs": []
    },
    {
      "cell_type": "code",
      "source": [
        "bkk_train = toDF('BKK/train/bkk_train.csv', 'BKK/train/bkk_temp_surface.csv', 'BKK/train/bkk_weather_wind.csv')\n",
        "# bkk_test = ?\n",
        "\n",
        "cnx_train = toDF('Chiangmai/train/chiangmai_train.csv', 'Chiangmai/train/chiangmai_temp_surface.csv', 'Chiangmai/train/chiangmai_weather_wind.csv')\n",
        "# cnx_test = ?\n",
        "\n",
        "kkc_train = toDF('Khonkaen/train/khonkhan_train.csv', 'Khonkaen/train/khonkaen_temp_surface.csv', 'Khonkaen/train/khonkaen_weather_wind.csv')\n",
        "# kkc_test = ?\n",
        "\n",
        "rayong_train = toDF('Rayong/train/rayong_train.csv', 'Rayong/train/rayong_temp_surface.csv', 'Rayong/train/rayong_weather_wind.csv')\n",
        "# rayong_test = ?\n",
        "\n",
        "saraburi_train = toDF('Saraburi/train/saraburi_train.csv', 'Saraburi/train/saraburi_temp_surface.csv', 'Saraburi/train/saraburi_weather_wind.csv')\n",
        "# saraburi_test = ?\n",
        "\n",
        "surat_train = toDF('Surat/train/surat_train.csv', 'Surat/train/surat_temp_surface.csv', 'Surat/train/surat_weather_wind.csv')\n",
        "# surat_test = ?"
      ],
      "metadata": {
        "id": "-pesZD33wbfW"
      },
      "execution_count": 208,
      "outputs": []
    },
    {
      "cell_type": "code",
      "source": [
        "train_set={}"
      ],
      "metadata": {
        "id": "gpQ8sPbqxajQ"
      },
      "execution_count": 282,
      "outputs": []
    },
    {
      "cell_type": "code",
      "source": [
        "train_set['BKK'] = bkk_train\n",
        "train_set['CNX'] = cnx_train\n",
        "train_set['KKC'] = kkc_train\n",
        "train_set['RAY'] = rayong_train\n",
        "train_set['SARA'] = saraburi_train\n",
        "train_set['SURAT'] = surat_train"
      ],
      "metadata": {
        "id": "g6yh3t62xExb"
      },
      "execution_count": 283,
      "outputs": []
    },
    {
      "cell_type": "markdown",
      "source": [
        "## display()"
      ],
      "metadata": {
        "id": "CaU-aYrDilsN"
      }
    },
    {
      "cell_type": "code",
      "source": [
        "display(bkk_train)"
      ],
      "metadata": {
        "colab": {
          "base_uri": "https://localhost:8080/",
          "height": 455
        },
        "id": "xl-m4auHilHY",
        "outputId": "a61fe024-b3dc-41d8-a038-ff31405ca7e8"
      },
      "execution_count": 220,
      "outputs": [
        {
          "output_type": "display_data",
          "data": {
            "text/plain": [
              "                     Temp  WindSpeed  WindDir  PM25\n",
              "Time                                               \n",
              "2017-07-01 01:00:00  27.9         16      260  10.0\n",
              "2017-07-01 02:00:00  27.9         16      255  17.0\n",
              "2017-07-01 03:00:00  27.9         16      255  20.0\n",
              "2017-07-01 04:00:00  27.4         16      255  15.0\n",
              "2017-07-01 05:00:00  27.4         17      235  16.0\n",
              "...                   ...        ...      ...   ...\n",
              "2020-06-30 18:00:00  32.1         36      265  11.0\n",
              "2020-06-30 19:00:00  30.3         36      265  15.0\n",
              "2020-06-30 20:00:00  30.3         35      270  14.0\n",
              "2020-06-30 21:00:00  30.3         35      270  17.0\n",
              "2020-06-30 22:00:00  29.4         35      270   5.0\n",
              "\n",
              "[26302 rows x 4 columns]"
            ],
            "text/html": [
              "\n",
              "  <div id=\"df-631b5011-9e62-4955-af42-48bde6cef3c5\">\n",
              "    <div class=\"colab-df-container\">\n",
              "      <div>\n",
              "<style scoped>\n",
              "    .dataframe tbody tr th:only-of-type {\n",
              "        vertical-align: middle;\n",
              "    }\n",
              "\n",
              "    .dataframe tbody tr th {\n",
              "        vertical-align: top;\n",
              "    }\n",
              "\n",
              "    .dataframe thead th {\n",
              "        text-align: right;\n",
              "    }\n",
              "</style>\n",
              "<table border=\"1\" class=\"dataframe\">\n",
              "  <thead>\n",
              "    <tr style=\"text-align: right;\">\n",
              "      <th></th>\n",
              "      <th>Temp</th>\n",
              "      <th>WindSpeed</th>\n",
              "      <th>WindDir</th>\n",
              "      <th>PM25</th>\n",
              "    </tr>\n",
              "    <tr>\n",
              "      <th>Time</th>\n",
              "      <th></th>\n",
              "      <th></th>\n",
              "      <th></th>\n",
              "      <th></th>\n",
              "    </tr>\n",
              "  </thead>\n",
              "  <tbody>\n",
              "    <tr>\n",
              "      <th>2017-07-01 01:00:00</th>\n",
              "      <td>27.9</td>\n",
              "      <td>16</td>\n",
              "      <td>260</td>\n",
              "      <td>10.0</td>\n",
              "    </tr>\n",
              "    <tr>\n",
              "      <th>2017-07-01 02:00:00</th>\n",
              "      <td>27.9</td>\n",
              "      <td>16</td>\n",
              "      <td>255</td>\n",
              "      <td>17.0</td>\n",
              "    </tr>\n",
              "    <tr>\n",
              "      <th>2017-07-01 03:00:00</th>\n",
              "      <td>27.9</td>\n",
              "      <td>16</td>\n",
              "      <td>255</td>\n",
              "      <td>20.0</td>\n",
              "    </tr>\n",
              "    <tr>\n",
              "      <th>2017-07-01 04:00:00</th>\n",
              "      <td>27.4</td>\n",
              "      <td>16</td>\n",
              "      <td>255</td>\n",
              "      <td>15.0</td>\n",
              "    </tr>\n",
              "    <tr>\n",
              "      <th>2017-07-01 05:00:00</th>\n",
              "      <td>27.4</td>\n",
              "      <td>17</td>\n",
              "      <td>235</td>\n",
              "      <td>16.0</td>\n",
              "    </tr>\n",
              "    <tr>\n",
              "      <th>...</th>\n",
              "      <td>...</td>\n",
              "      <td>...</td>\n",
              "      <td>...</td>\n",
              "      <td>...</td>\n",
              "    </tr>\n",
              "    <tr>\n",
              "      <th>2020-06-30 18:00:00</th>\n",
              "      <td>32.1</td>\n",
              "      <td>36</td>\n",
              "      <td>265</td>\n",
              "      <td>11.0</td>\n",
              "    </tr>\n",
              "    <tr>\n",
              "      <th>2020-06-30 19:00:00</th>\n",
              "      <td>30.3</td>\n",
              "      <td>36</td>\n",
              "      <td>265</td>\n",
              "      <td>15.0</td>\n",
              "    </tr>\n",
              "    <tr>\n",
              "      <th>2020-06-30 20:00:00</th>\n",
              "      <td>30.3</td>\n",
              "      <td>35</td>\n",
              "      <td>270</td>\n",
              "      <td>14.0</td>\n",
              "    </tr>\n",
              "    <tr>\n",
              "      <th>2020-06-30 21:00:00</th>\n",
              "      <td>30.3</td>\n",
              "      <td>35</td>\n",
              "      <td>270</td>\n",
              "      <td>17.0</td>\n",
              "    </tr>\n",
              "    <tr>\n",
              "      <th>2020-06-30 22:00:00</th>\n",
              "      <td>29.4</td>\n",
              "      <td>35</td>\n",
              "      <td>270</td>\n",
              "      <td>5.0</td>\n",
              "    </tr>\n",
              "  </tbody>\n",
              "</table>\n",
              "<p>26302 rows × 4 columns</p>\n",
              "</div>\n",
              "      <button class=\"colab-df-convert\" onclick=\"convertToInteractive('df-631b5011-9e62-4955-af42-48bde6cef3c5')\"\n",
              "              title=\"Convert this dataframe to an interactive table.\"\n",
              "              style=\"display:none;\">\n",
              "        \n",
              "  <svg xmlns=\"http://www.w3.org/2000/svg\" height=\"24px\"viewBox=\"0 0 24 24\"\n",
              "       width=\"24px\">\n",
              "    <path d=\"M0 0h24v24H0V0z\" fill=\"none\"/>\n",
              "    <path d=\"M18.56 5.44l.94 2.06.94-2.06 2.06-.94-2.06-.94-.94-2.06-.94 2.06-2.06.94zm-11 1L8.5 8.5l.94-2.06 2.06-.94-2.06-.94L8.5 2.5l-.94 2.06-2.06.94zm10 10l.94 2.06.94-2.06 2.06-.94-2.06-.94-.94-2.06-.94 2.06-2.06.94z\"/><path d=\"M17.41 7.96l-1.37-1.37c-.4-.4-.92-.59-1.43-.59-.52 0-1.04.2-1.43.59L10.3 9.45l-7.72 7.72c-.78.78-.78 2.05 0 2.83L4 21.41c.39.39.9.59 1.41.59.51 0 1.02-.2 1.41-.59l7.78-7.78 2.81-2.81c.8-.78.8-2.07 0-2.86zM5.41 20L4 18.59l7.72-7.72 1.47 1.35L5.41 20z\"/>\n",
              "  </svg>\n",
              "      </button>\n",
              "      \n",
              "  <style>\n",
              "    .colab-df-container {\n",
              "      display:flex;\n",
              "      flex-wrap:wrap;\n",
              "      gap: 12px;\n",
              "    }\n",
              "\n",
              "    .colab-df-convert {\n",
              "      background-color: #E8F0FE;\n",
              "      border: none;\n",
              "      border-radius: 50%;\n",
              "      cursor: pointer;\n",
              "      display: none;\n",
              "      fill: #1967D2;\n",
              "      height: 32px;\n",
              "      padding: 0 0 0 0;\n",
              "      width: 32px;\n",
              "    }\n",
              "\n",
              "    .colab-df-convert:hover {\n",
              "      background-color: #E2EBFA;\n",
              "      box-shadow: 0px 1px 2px rgba(60, 64, 67, 0.3), 0px 1px 3px 1px rgba(60, 64, 67, 0.15);\n",
              "      fill: #174EA6;\n",
              "    }\n",
              "\n",
              "    [theme=dark] .colab-df-convert {\n",
              "      background-color: #3B4455;\n",
              "      fill: #D2E3FC;\n",
              "    }\n",
              "\n",
              "    [theme=dark] .colab-df-convert:hover {\n",
              "      background-color: #434B5C;\n",
              "      box-shadow: 0px 1px 3px 1px rgba(0, 0, 0, 0.15);\n",
              "      filter: drop-shadow(0px 1px 2px rgba(0, 0, 0, 0.3));\n",
              "      fill: #FFFFFF;\n",
              "    }\n",
              "  </style>\n",
              "\n",
              "      <script>\n",
              "        const buttonEl =\n",
              "          document.querySelector('#df-631b5011-9e62-4955-af42-48bde6cef3c5 button.colab-df-convert');\n",
              "        buttonEl.style.display =\n",
              "          google.colab.kernel.accessAllowed ? 'block' : 'none';\n",
              "\n",
              "        async function convertToInteractive(key) {\n",
              "          const element = document.querySelector('#df-631b5011-9e62-4955-af42-48bde6cef3c5');\n",
              "          const dataTable =\n",
              "            await google.colab.kernel.invokeFunction('convertToInteractive',\n",
              "                                                     [key], {});\n",
              "          if (!dataTable) return;\n",
              "\n",
              "          const docLinkHtml = 'Like what you see? Visit the ' +\n",
              "            '<a target=\"_blank\" href=https://colab.research.google.com/notebooks/data_table.ipynb>data table notebook</a>'\n",
              "            + ' to learn more about interactive tables.';\n",
              "          element.innerHTML = '';\n",
              "          dataTable['output_type'] = 'display_data';\n",
              "          await google.colab.output.renderOutput(dataTable, element);\n",
              "          const docLink = document.createElement('div');\n",
              "          docLink.innerHTML = docLinkHtml;\n",
              "          element.appendChild(docLink);\n",
              "        }\n",
              "      </script>\n",
              "    </div>\n",
              "  </div>\n",
              "  "
            ]
          },
          "metadata": {}
        }
      ]
    },
    {
      "cell_type": "code",
      "source": [
        "display(cnx_train)"
      ],
      "metadata": {
        "colab": {
          "base_uri": "https://localhost:8080/",
          "height": 455
        },
        "id": "aEyVV8D2iqXG",
        "outputId": "572ee459-76db-426d-ffe6-2407fff56a99"
      },
      "execution_count": 221,
      "outputs": [
        {
          "output_type": "display_data",
          "data": {
            "text/plain": [
              "                     Temp  WindSpeed  WindDir  PM25\n",
              "Time                                               \n",
              "2017-07-01 01:00:00  23.2         32      235   5.0\n",
              "2017-07-01 02:00:00  23.2         30      250  16.0\n",
              "2017-07-01 03:00:00  23.2         30      250  11.0\n",
              "2017-07-01 04:00:00  22.3         30      250  12.0\n",
              "2017-07-01 05:00:00  22.3         30      250  15.0\n",
              "...                   ...        ...      ...   ...\n",
              "2020-06-30 18:00:00  32.2         16      235  10.0\n",
              "2020-06-30 19:00:00  27.5         16      235  16.0\n",
              "2020-06-30 20:00:00  27.5         17      225  19.0\n",
              "2020-06-30 21:00:00  27.5         17      225  21.0\n",
              "2020-06-30 22:00:00  25.2         17      225  14.0\n",
              "\n",
              "[26302 rows x 4 columns]"
            ],
            "text/html": [
              "\n",
              "  <div id=\"df-e6c237eb-b5fb-496e-ac4e-0612a1405258\">\n",
              "    <div class=\"colab-df-container\">\n",
              "      <div>\n",
              "<style scoped>\n",
              "    .dataframe tbody tr th:only-of-type {\n",
              "        vertical-align: middle;\n",
              "    }\n",
              "\n",
              "    .dataframe tbody tr th {\n",
              "        vertical-align: top;\n",
              "    }\n",
              "\n",
              "    .dataframe thead th {\n",
              "        text-align: right;\n",
              "    }\n",
              "</style>\n",
              "<table border=\"1\" class=\"dataframe\">\n",
              "  <thead>\n",
              "    <tr style=\"text-align: right;\">\n",
              "      <th></th>\n",
              "      <th>Temp</th>\n",
              "      <th>WindSpeed</th>\n",
              "      <th>WindDir</th>\n",
              "      <th>PM25</th>\n",
              "    </tr>\n",
              "    <tr>\n",
              "      <th>Time</th>\n",
              "      <th></th>\n",
              "      <th></th>\n",
              "      <th></th>\n",
              "      <th></th>\n",
              "    </tr>\n",
              "  </thead>\n",
              "  <tbody>\n",
              "    <tr>\n",
              "      <th>2017-07-01 01:00:00</th>\n",
              "      <td>23.2</td>\n",
              "      <td>32</td>\n",
              "      <td>235</td>\n",
              "      <td>5.0</td>\n",
              "    </tr>\n",
              "    <tr>\n",
              "      <th>2017-07-01 02:00:00</th>\n",
              "      <td>23.2</td>\n",
              "      <td>30</td>\n",
              "      <td>250</td>\n",
              "      <td>16.0</td>\n",
              "    </tr>\n",
              "    <tr>\n",
              "      <th>2017-07-01 03:00:00</th>\n",
              "      <td>23.2</td>\n",
              "      <td>30</td>\n",
              "      <td>250</td>\n",
              "      <td>11.0</td>\n",
              "    </tr>\n",
              "    <tr>\n",
              "      <th>2017-07-01 04:00:00</th>\n",
              "      <td>22.3</td>\n",
              "      <td>30</td>\n",
              "      <td>250</td>\n",
              "      <td>12.0</td>\n",
              "    </tr>\n",
              "    <tr>\n",
              "      <th>2017-07-01 05:00:00</th>\n",
              "      <td>22.3</td>\n",
              "      <td>30</td>\n",
              "      <td>250</td>\n",
              "      <td>15.0</td>\n",
              "    </tr>\n",
              "    <tr>\n",
              "      <th>...</th>\n",
              "      <td>...</td>\n",
              "      <td>...</td>\n",
              "      <td>...</td>\n",
              "      <td>...</td>\n",
              "    </tr>\n",
              "    <tr>\n",
              "      <th>2020-06-30 18:00:00</th>\n",
              "      <td>32.2</td>\n",
              "      <td>16</td>\n",
              "      <td>235</td>\n",
              "      <td>10.0</td>\n",
              "    </tr>\n",
              "    <tr>\n",
              "      <th>2020-06-30 19:00:00</th>\n",
              "      <td>27.5</td>\n",
              "      <td>16</td>\n",
              "      <td>235</td>\n",
              "      <td>16.0</td>\n",
              "    </tr>\n",
              "    <tr>\n",
              "      <th>2020-06-30 20:00:00</th>\n",
              "      <td>27.5</td>\n",
              "      <td>17</td>\n",
              "      <td>225</td>\n",
              "      <td>19.0</td>\n",
              "    </tr>\n",
              "    <tr>\n",
              "      <th>2020-06-30 21:00:00</th>\n",
              "      <td>27.5</td>\n",
              "      <td>17</td>\n",
              "      <td>225</td>\n",
              "      <td>21.0</td>\n",
              "    </tr>\n",
              "    <tr>\n",
              "      <th>2020-06-30 22:00:00</th>\n",
              "      <td>25.2</td>\n",
              "      <td>17</td>\n",
              "      <td>225</td>\n",
              "      <td>14.0</td>\n",
              "    </tr>\n",
              "  </tbody>\n",
              "</table>\n",
              "<p>26302 rows × 4 columns</p>\n",
              "</div>\n",
              "      <button class=\"colab-df-convert\" onclick=\"convertToInteractive('df-e6c237eb-b5fb-496e-ac4e-0612a1405258')\"\n",
              "              title=\"Convert this dataframe to an interactive table.\"\n",
              "              style=\"display:none;\">\n",
              "        \n",
              "  <svg xmlns=\"http://www.w3.org/2000/svg\" height=\"24px\"viewBox=\"0 0 24 24\"\n",
              "       width=\"24px\">\n",
              "    <path d=\"M0 0h24v24H0V0z\" fill=\"none\"/>\n",
              "    <path d=\"M18.56 5.44l.94 2.06.94-2.06 2.06-.94-2.06-.94-.94-2.06-.94 2.06-2.06.94zm-11 1L8.5 8.5l.94-2.06 2.06-.94-2.06-.94L8.5 2.5l-.94 2.06-2.06.94zm10 10l.94 2.06.94-2.06 2.06-.94-2.06-.94-.94-2.06-.94 2.06-2.06.94z\"/><path d=\"M17.41 7.96l-1.37-1.37c-.4-.4-.92-.59-1.43-.59-.52 0-1.04.2-1.43.59L10.3 9.45l-7.72 7.72c-.78.78-.78 2.05 0 2.83L4 21.41c.39.39.9.59 1.41.59.51 0 1.02-.2 1.41-.59l7.78-7.78 2.81-2.81c.8-.78.8-2.07 0-2.86zM5.41 20L4 18.59l7.72-7.72 1.47 1.35L5.41 20z\"/>\n",
              "  </svg>\n",
              "      </button>\n",
              "      \n",
              "  <style>\n",
              "    .colab-df-container {\n",
              "      display:flex;\n",
              "      flex-wrap:wrap;\n",
              "      gap: 12px;\n",
              "    }\n",
              "\n",
              "    .colab-df-convert {\n",
              "      background-color: #E8F0FE;\n",
              "      border: none;\n",
              "      border-radius: 50%;\n",
              "      cursor: pointer;\n",
              "      display: none;\n",
              "      fill: #1967D2;\n",
              "      height: 32px;\n",
              "      padding: 0 0 0 0;\n",
              "      width: 32px;\n",
              "    }\n",
              "\n",
              "    .colab-df-convert:hover {\n",
              "      background-color: #E2EBFA;\n",
              "      box-shadow: 0px 1px 2px rgba(60, 64, 67, 0.3), 0px 1px 3px 1px rgba(60, 64, 67, 0.15);\n",
              "      fill: #174EA6;\n",
              "    }\n",
              "\n",
              "    [theme=dark] .colab-df-convert {\n",
              "      background-color: #3B4455;\n",
              "      fill: #D2E3FC;\n",
              "    }\n",
              "\n",
              "    [theme=dark] .colab-df-convert:hover {\n",
              "      background-color: #434B5C;\n",
              "      box-shadow: 0px 1px 3px 1px rgba(0, 0, 0, 0.15);\n",
              "      filter: drop-shadow(0px 1px 2px rgba(0, 0, 0, 0.3));\n",
              "      fill: #FFFFFF;\n",
              "    }\n",
              "  </style>\n",
              "\n",
              "      <script>\n",
              "        const buttonEl =\n",
              "          document.querySelector('#df-e6c237eb-b5fb-496e-ac4e-0612a1405258 button.colab-df-convert');\n",
              "        buttonEl.style.display =\n",
              "          google.colab.kernel.accessAllowed ? 'block' : 'none';\n",
              "\n",
              "        async function convertToInteractive(key) {\n",
              "          const element = document.querySelector('#df-e6c237eb-b5fb-496e-ac4e-0612a1405258');\n",
              "          const dataTable =\n",
              "            await google.colab.kernel.invokeFunction('convertToInteractive',\n",
              "                                                     [key], {});\n",
              "          if (!dataTable) return;\n",
              "\n",
              "          const docLinkHtml = 'Like what you see? Visit the ' +\n",
              "            '<a target=\"_blank\" href=https://colab.research.google.com/notebooks/data_table.ipynb>data table notebook</a>'\n",
              "            + ' to learn more about interactive tables.';\n",
              "          element.innerHTML = '';\n",
              "          dataTable['output_type'] = 'display_data';\n",
              "          await google.colab.output.renderOutput(dataTable, element);\n",
              "          const docLink = document.createElement('div');\n",
              "          docLink.innerHTML = docLinkHtml;\n",
              "          element.appendChild(docLink);\n",
              "        }\n",
              "      </script>\n",
              "    </div>\n",
              "  </div>\n",
              "  "
            ]
          },
          "metadata": {}
        }
      ]
    },
    {
      "cell_type": "code",
      "source": [
        "display(kkc_train)"
      ],
      "metadata": {
        "colab": {
          "base_uri": "https://localhost:8080/",
          "height": 455
        },
        "id": "mdRn7QOKiqeK",
        "outputId": "197a65b8-523c-4ba9-f977-11c92e379e21"
      },
      "execution_count": 222,
      "outputs": [
        {
          "output_type": "display_data",
          "data": {
            "text/plain": [
              "                     Temp  WindSpeed  WindDir  PM25\n",
              "Time                                               \n",
              "2017-07-01 01:00:00  26.5         28      235   7.0\n",
              "2017-07-01 02:00:00  26.5         29      245   4.0\n",
              "2017-07-01 03:00:00  26.5         29      245   9.0\n",
              "2017-07-01 04:00:00  25.8         29      245   8.0\n",
              "2017-07-01 05:00:00  25.8         28      245   6.0\n",
              "...                   ...        ...      ...   ...\n",
              "2020-06-30 18:00:00  29.6         20      235  17.0\n",
              "2020-06-30 19:00:00  29.6         20      235  13.0\n",
              "2020-06-30 20:00:00  29.6         21      230  18.0\n",
              "2020-06-30 21:00:00  29.6         21      230  22.0\n",
              "2020-06-30 22:00:00  29.6         21      230  20.0\n",
              "\n",
              "[26302 rows x 4 columns]"
            ],
            "text/html": [
              "\n",
              "  <div id=\"df-2445acad-4d0d-4bc2-9f86-e19df1762361\">\n",
              "    <div class=\"colab-df-container\">\n",
              "      <div>\n",
              "<style scoped>\n",
              "    .dataframe tbody tr th:only-of-type {\n",
              "        vertical-align: middle;\n",
              "    }\n",
              "\n",
              "    .dataframe tbody tr th {\n",
              "        vertical-align: top;\n",
              "    }\n",
              "\n",
              "    .dataframe thead th {\n",
              "        text-align: right;\n",
              "    }\n",
              "</style>\n",
              "<table border=\"1\" class=\"dataframe\">\n",
              "  <thead>\n",
              "    <tr style=\"text-align: right;\">\n",
              "      <th></th>\n",
              "      <th>Temp</th>\n",
              "      <th>WindSpeed</th>\n",
              "      <th>WindDir</th>\n",
              "      <th>PM25</th>\n",
              "    </tr>\n",
              "    <tr>\n",
              "      <th>Time</th>\n",
              "      <th></th>\n",
              "      <th></th>\n",
              "      <th></th>\n",
              "      <th></th>\n",
              "    </tr>\n",
              "  </thead>\n",
              "  <tbody>\n",
              "    <tr>\n",
              "      <th>2017-07-01 01:00:00</th>\n",
              "      <td>26.5</td>\n",
              "      <td>28</td>\n",
              "      <td>235</td>\n",
              "      <td>7.0</td>\n",
              "    </tr>\n",
              "    <tr>\n",
              "      <th>2017-07-01 02:00:00</th>\n",
              "      <td>26.5</td>\n",
              "      <td>29</td>\n",
              "      <td>245</td>\n",
              "      <td>4.0</td>\n",
              "    </tr>\n",
              "    <tr>\n",
              "      <th>2017-07-01 03:00:00</th>\n",
              "      <td>26.5</td>\n",
              "      <td>29</td>\n",
              "      <td>245</td>\n",
              "      <td>9.0</td>\n",
              "    </tr>\n",
              "    <tr>\n",
              "      <th>2017-07-01 04:00:00</th>\n",
              "      <td>25.8</td>\n",
              "      <td>29</td>\n",
              "      <td>245</td>\n",
              "      <td>8.0</td>\n",
              "    </tr>\n",
              "    <tr>\n",
              "      <th>2017-07-01 05:00:00</th>\n",
              "      <td>25.8</td>\n",
              "      <td>28</td>\n",
              "      <td>245</td>\n",
              "      <td>6.0</td>\n",
              "    </tr>\n",
              "    <tr>\n",
              "      <th>...</th>\n",
              "      <td>...</td>\n",
              "      <td>...</td>\n",
              "      <td>...</td>\n",
              "      <td>...</td>\n",
              "    </tr>\n",
              "    <tr>\n",
              "      <th>2020-06-30 18:00:00</th>\n",
              "      <td>29.6</td>\n",
              "      <td>20</td>\n",
              "      <td>235</td>\n",
              "      <td>17.0</td>\n",
              "    </tr>\n",
              "    <tr>\n",
              "      <th>2020-06-30 19:00:00</th>\n",
              "      <td>29.6</td>\n",
              "      <td>20</td>\n",
              "      <td>235</td>\n",
              "      <td>13.0</td>\n",
              "    </tr>\n",
              "    <tr>\n",
              "      <th>2020-06-30 20:00:00</th>\n",
              "      <td>29.6</td>\n",
              "      <td>21</td>\n",
              "      <td>230</td>\n",
              "      <td>18.0</td>\n",
              "    </tr>\n",
              "    <tr>\n",
              "      <th>2020-06-30 21:00:00</th>\n",
              "      <td>29.6</td>\n",
              "      <td>21</td>\n",
              "      <td>230</td>\n",
              "      <td>22.0</td>\n",
              "    </tr>\n",
              "    <tr>\n",
              "      <th>2020-06-30 22:00:00</th>\n",
              "      <td>29.6</td>\n",
              "      <td>21</td>\n",
              "      <td>230</td>\n",
              "      <td>20.0</td>\n",
              "    </tr>\n",
              "  </tbody>\n",
              "</table>\n",
              "<p>26302 rows × 4 columns</p>\n",
              "</div>\n",
              "      <button class=\"colab-df-convert\" onclick=\"convertToInteractive('df-2445acad-4d0d-4bc2-9f86-e19df1762361')\"\n",
              "              title=\"Convert this dataframe to an interactive table.\"\n",
              "              style=\"display:none;\">\n",
              "        \n",
              "  <svg xmlns=\"http://www.w3.org/2000/svg\" height=\"24px\"viewBox=\"0 0 24 24\"\n",
              "       width=\"24px\">\n",
              "    <path d=\"M0 0h24v24H0V0z\" fill=\"none\"/>\n",
              "    <path d=\"M18.56 5.44l.94 2.06.94-2.06 2.06-.94-2.06-.94-.94-2.06-.94 2.06-2.06.94zm-11 1L8.5 8.5l.94-2.06 2.06-.94-2.06-.94L8.5 2.5l-.94 2.06-2.06.94zm10 10l.94 2.06.94-2.06 2.06-.94-2.06-.94-.94-2.06-.94 2.06-2.06.94z\"/><path d=\"M17.41 7.96l-1.37-1.37c-.4-.4-.92-.59-1.43-.59-.52 0-1.04.2-1.43.59L10.3 9.45l-7.72 7.72c-.78.78-.78 2.05 0 2.83L4 21.41c.39.39.9.59 1.41.59.51 0 1.02-.2 1.41-.59l7.78-7.78 2.81-2.81c.8-.78.8-2.07 0-2.86zM5.41 20L4 18.59l7.72-7.72 1.47 1.35L5.41 20z\"/>\n",
              "  </svg>\n",
              "      </button>\n",
              "      \n",
              "  <style>\n",
              "    .colab-df-container {\n",
              "      display:flex;\n",
              "      flex-wrap:wrap;\n",
              "      gap: 12px;\n",
              "    }\n",
              "\n",
              "    .colab-df-convert {\n",
              "      background-color: #E8F0FE;\n",
              "      border: none;\n",
              "      border-radius: 50%;\n",
              "      cursor: pointer;\n",
              "      display: none;\n",
              "      fill: #1967D2;\n",
              "      height: 32px;\n",
              "      padding: 0 0 0 0;\n",
              "      width: 32px;\n",
              "    }\n",
              "\n",
              "    .colab-df-convert:hover {\n",
              "      background-color: #E2EBFA;\n",
              "      box-shadow: 0px 1px 2px rgba(60, 64, 67, 0.3), 0px 1px 3px 1px rgba(60, 64, 67, 0.15);\n",
              "      fill: #174EA6;\n",
              "    }\n",
              "\n",
              "    [theme=dark] .colab-df-convert {\n",
              "      background-color: #3B4455;\n",
              "      fill: #D2E3FC;\n",
              "    }\n",
              "\n",
              "    [theme=dark] .colab-df-convert:hover {\n",
              "      background-color: #434B5C;\n",
              "      box-shadow: 0px 1px 3px 1px rgba(0, 0, 0, 0.15);\n",
              "      filter: drop-shadow(0px 1px 2px rgba(0, 0, 0, 0.3));\n",
              "      fill: #FFFFFF;\n",
              "    }\n",
              "  </style>\n",
              "\n",
              "      <script>\n",
              "        const buttonEl =\n",
              "          document.querySelector('#df-2445acad-4d0d-4bc2-9f86-e19df1762361 button.colab-df-convert');\n",
              "        buttonEl.style.display =\n",
              "          google.colab.kernel.accessAllowed ? 'block' : 'none';\n",
              "\n",
              "        async function convertToInteractive(key) {\n",
              "          const element = document.querySelector('#df-2445acad-4d0d-4bc2-9f86-e19df1762361');\n",
              "          const dataTable =\n",
              "            await google.colab.kernel.invokeFunction('convertToInteractive',\n",
              "                                                     [key], {});\n",
              "          if (!dataTable) return;\n",
              "\n",
              "          const docLinkHtml = 'Like what you see? Visit the ' +\n",
              "            '<a target=\"_blank\" href=https://colab.research.google.com/notebooks/data_table.ipynb>data table notebook</a>'\n",
              "            + ' to learn more about interactive tables.';\n",
              "          element.innerHTML = '';\n",
              "          dataTable['output_type'] = 'display_data';\n",
              "          await google.colab.output.renderOutput(dataTable, element);\n",
              "          const docLink = document.createElement('div');\n",
              "          docLink.innerHTML = docLinkHtml;\n",
              "          element.appendChild(docLink);\n",
              "        }\n",
              "      </script>\n",
              "    </div>\n",
              "  </div>\n",
              "  "
            ]
          },
          "metadata": {}
        }
      ]
    },
    {
      "cell_type": "code",
      "source": [
        "display(rayong_train)"
      ],
      "metadata": {
        "colab": {
          "base_uri": "https://localhost:8080/",
          "height": 455
        },
        "id": "XY8eBT_ZiqgV",
        "outputId": "6cab9990-1e62-47e6-f2b0-3ad00091d1f8"
      },
      "execution_count": 223,
      "outputs": [
        {
          "output_type": "display_data",
          "data": {
            "text/plain": [
              "                     Temp  WindSpeed  WindDir  PM25\n",
              "Time                                               \n",
              "2017-07-01 01:00:00  27.9         21      250   6.0\n",
              "2017-07-01 02:00:00  27.9         21      250   6.0\n",
              "2017-07-01 03:00:00  27.9         21      250   5.0\n",
              "2017-07-01 04:00:00  27.7         21      250  10.0\n",
              "2017-07-01 05:00:00  27.7         22      230   9.0\n",
              "...                   ...        ...      ...   ...\n",
              "2020-06-30 18:00:00  28.0         36      280   8.0\n",
              "2020-06-30 19:00:00  27.9         36      280  11.0\n",
              "2020-06-30 20:00:00  27.9         47      270  10.0\n",
              "2020-06-30 21:00:00  27.9         47      270   9.0\n",
              "2020-06-30 22:00:00  28.5         47      270   8.0\n",
              "\n",
              "[26302 rows x 4 columns]"
            ],
            "text/html": [
              "\n",
              "  <div id=\"df-2aefaba5-2377-4cff-9d37-e53738646854\">\n",
              "    <div class=\"colab-df-container\">\n",
              "      <div>\n",
              "<style scoped>\n",
              "    .dataframe tbody tr th:only-of-type {\n",
              "        vertical-align: middle;\n",
              "    }\n",
              "\n",
              "    .dataframe tbody tr th {\n",
              "        vertical-align: top;\n",
              "    }\n",
              "\n",
              "    .dataframe thead th {\n",
              "        text-align: right;\n",
              "    }\n",
              "</style>\n",
              "<table border=\"1\" class=\"dataframe\">\n",
              "  <thead>\n",
              "    <tr style=\"text-align: right;\">\n",
              "      <th></th>\n",
              "      <th>Temp</th>\n",
              "      <th>WindSpeed</th>\n",
              "      <th>WindDir</th>\n",
              "      <th>PM25</th>\n",
              "    </tr>\n",
              "    <tr>\n",
              "      <th>Time</th>\n",
              "      <th></th>\n",
              "      <th></th>\n",
              "      <th></th>\n",
              "      <th></th>\n",
              "    </tr>\n",
              "  </thead>\n",
              "  <tbody>\n",
              "    <tr>\n",
              "      <th>2017-07-01 01:00:00</th>\n",
              "      <td>27.9</td>\n",
              "      <td>21</td>\n",
              "      <td>250</td>\n",
              "      <td>6.0</td>\n",
              "    </tr>\n",
              "    <tr>\n",
              "      <th>2017-07-01 02:00:00</th>\n",
              "      <td>27.9</td>\n",
              "      <td>21</td>\n",
              "      <td>250</td>\n",
              "      <td>6.0</td>\n",
              "    </tr>\n",
              "    <tr>\n",
              "      <th>2017-07-01 03:00:00</th>\n",
              "      <td>27.9</td>\n",
              "      <td>21</td>\n",
              "      <td>250</td>\n",
              "      <td>5.0</td>\n",
              "    </tr>\n",
              "    <tr>\n",
              "      <th>2017-07-01 04:00:00</th>\n",
              "      <td>27.7</td>\n",
              "      <td>21</td>\n",
              "      <td>250</td>\n",
              "      <td>10.0</td>\n",
              "    </tr>\n",
              "    <tr>\n",
              "      <th>2017-07-01 05:00:00</th>\n",
              "      <td>27.7</td>\n",
              "      <td>22</td>\n",
              "      <td>230</td>\n",
              "      <td>9.0</td>\n",
              "    </tr>\n",
              "    <tr>\n",
              "      <th>...</th>\n",
              "      <td>...</td>\n",
              "      <td>...</td>\n",
              "      <td>...</td>\n",
              "      <td>...</td>\n",
              "    </tr>\n",
              "    <tr>\n",
              "      <th>2020-06-30 18:00:00</th>\n",
              "      <td>28.0</td>\n",
              "      <td>36</td>\n",
              "      <td>280</td>\n",
              "      <td>8.0</td>\n",
              "    </tr>\n",
              "    <tr>\n",
              "      <th>2020-06-30 19:00:00</th>\n",
              "      <td>27.9</td>\n",
              "      <td>36</td>\n",
              "      <td>280</td>\n",
              "      <td>11.0</td>\n",
              "    </tr>\n",
              "    <tr>\n",
              "      <th>2020-06-30 20:00:00</th>\n",
              "      <td>27.9</td>\n",
              "      <td>47</td>\n",
              "      <td>270</td>\n",
              "      <td>10.0</td>\n",
              "    </tr>\n",
              "    <tr>\n",
              "      <th>2020-06-30 21:00:00</th>\n",
              "      <td>27.9</td>\n",
              "      <td>47</td>\n",
              "      <td>270</td>\n",
              "      <td>9.0</td>\n",
              "    </tr>\n",
              "    <tr>\n",
              "      <th>2020-06-30 22:00:00</th>\n",
              "      <td>28.5</td>\n",
              "      <td>47</td>\n",
              "      <td>270</td>\n",
              "      <td>8.0</td>\n",
              "    </tr>\n",
              "  </tbody>\n",
              "</table>\n",
              "<p>26302 rows × 4 columns</p>\n",
              "</div>\n",
              "      <button class=\"colab-df-convert\" onclick=\"convertToInteractive('df-2aefaba5-2377-4cff-9d37-e53738646854')\"\n",
              "              title=\"Convert this dataframe to an interactive table.\"\n",
              "              style=\"display:none;\">\n",
              "        \n",
              "  <svg xmlns=\"http://www.w3.org/2000/svg\" height=\"24px\"viewBox=\"0 0 24 24\"\n",
              "       width=\"24px\">\n",
              "    <path d=\"M0 0h24v24H0V0z\" fill=\"none\"/>\n",
              "    <path d=\"M18.56 5.44l.94 2.06.94-2.06 2.06-.94-2.06-.94-.94-2.06-.94 2.06-2.06.94zm-11 1L8.5 8.5l.94-2.06 2.06-.94-2.06-.94L8.5 2.5l-.94 2.06-2.06.94zm10 10l.94 2.06.94-2.06 2.06-.94-2.06-.94-.94-2.06-.94 2.06-2.06.94z\"/><path d=\"M17.41 7.96l-1.37-1.37c-.4-.4-.92-.59-1.43-.59-.52 0-1.04.2-1.43.59L10.3 9.45l-7.72 7.72c-.78.78-.78 2.05 0 2.83L4 21.41c.39.39.9.59 1.41.59.51 0 1.02-.2 1.41-.59l7.78-7.78 2.81-2.81c.8-.78.8-2.07 0-2.86zM5.41 20L4 18.59l7.72-7.72 1.47 1.35L5.41 20z\"/>\n",
              "  </svg>\n",
              "      </button>\n",
              "      \n",
              "  <style>\n",
              "    .colab-df-container {\n",
              "      display:flex;\n",
              "      flex-wrap:wrap;\n",
              "      gap: 12px;\n",
              "    }\n",
              "\n",
              "    .colab-df-convert {\n",
              "      background-color: #E8F0FE;\n",
              "      border: none;\n",
              "      border-radius: 50%;\n",
              "      cursor: pointer;\n",
              "      display: none;\n",
              "      fill: #1967D2;\n",
              "      height: 32px;\n",
              "      padding: 0 0 0 0;\n",
              "      width: 32px;\n",
              "    }\n",
              "\n",
              "    .colab-df-convert:hover {\n",
              "      background-color: #E2EBFA;\n",
              "      box-shadow: 0px 1px 2px rgba(60, 64, 67, 0.3), 0px 1px 3px 1px rgba(60, 64, 67, 0.15);\n",
              "      fill: #174EA6;\n",
              "    }\n",
              "\n",
              "    [theme=dark] .colab-df-convert {\n",
              "      background-color: #3B4455;\n",
              "      fill: #D2E3FC;\n",
              "    }\n",
              "\n",
              "    [theme=dark] .colab-df-convert:hover {\n",
              "      background-color: #434B5C;\n",
              "      box-shadow: 0px 1px 3px 1px rgba(0, 0, 0, 0.15);\n",
              "      filter: drop-shadow(0px 1px 2px rgba(0, 0, 0, 0.3));\n",
              "      fill: #FFFFFF;\n",
              "    }\n",
              "  </style>\n",
              "\n",
              "      <script>\n",
              "        const buttonEl =\n",
              "          document.querySelector('#df-2aefaba5-2377-4cff-9d37-e53738646854 button.colab-df-convert');\n",
              "        buttonEl.style.display =\n",
              "          google.colab.kernel.accessAllowed ? 'block' : 'none';\n",
              "\n",
              "        async function convertToInteractive(key) {\n",
              "          const element = document.querySelector('#df-2aefaba5-2377-4cff-9d37-e53738646854');\n",
              "          const dataTable =\n",
              "            await google.colab.kernel.invokeFunction('convertToInteractive',\n",
              "                                                     [key], {});\n",
              "          if (!dataTable) return;\n",
              "\n",
              "          const docLinkHtml = 'Like what you see? Visit the ' +\n",
              "            '<a target=\"_blank\" href=https://colab.research.google.com/notebooks/data_table.ipynb>data table notebook</a>'\n",
              "            + ' to learn more about interactive tables.';\n",
              "          element.innerHTML = '';\n",
              "          dataTable['output_type'] = 'display_data';\n",
              "          await google.colab.output.renderOutput(dataTable, element);\n",
              "          const docLink = document.createElement('div');\n",
              "          docLink.innerHTML = docLinkHtml;\n",
              "          element.appendChild(docLink);\n",
              "        }\n",
              "      </script>\n",
              "    </div>\n",
              "  </div>\n",
              "  "
            ]
          },
          "metadata": {}
        }
      ]
    },
    {
      "cell_type": "code",
      "source": [
        "display(saraburi_train)"
      ],
      "metadata": {
        "colab": {
          "base_uri": "https://localhost:8080/",
          "height": 455
        },
        "id": "5eKdmpxdiw8t",
        "outputId": "95bbefa9-5c66-403e-b6f6-0fab47ef4dc5"
      },
      "execution_count": 224,
      "outputs": [
        {
          "output_type": "display_data",
          "data": {
            "text/plain": [
              "                     Temp  WindSpeed  WindDir  PM25\n",
              "Time                                               \n",
              "2017-07-01 01:00:00  26.6         38      250  16.0\n",
              "2017-07-01 02:00:00  26.6         38      250  13.0\n",
              "2017-07-01 03:00:00  26.6         38      250  18.0\n",
              "2017-07-01 04:00:00  26.0         38      250  29.0\n",
              "2017-07-01 05:00:00  26.0         38      250  32.0\n",
              "...                   ...        ...      ...   ...\n",
              "2020-06-30 18:00:00  31.8         31      245  11.0\n",
              "2020-06-30 19:00:00  27.4         31      245  17.0\n",
              "2020-06-30 20:00:00  27.4         41      250  19.0\n",
              "2020-06-30 21:00:00  27.4         41      250  16.0\n",
              "2020-06-30 22:00:00  25.9         41      250  11.0\n",
              "\n",
              "[26302 rows x 4 columns]"
            ],
            "text/html": [
              "\n",
              "  <div id=\"df-5678941b-3ad0-4dee-8b45-57be50b2e823\">\n",
              "    <div class=\"colab-df-container\">\n",
              "      <div>\n",
              "<style scoped>\n",
              "    .dataframe tbody tr th:only-of-type {\n",
              "        vertical-align: middle;\n",
              "    }\n",
              "\n",
              "    .dataframe tbody tr th {\n",
              "        vertical-align: top;\n",
              "    }\n",
              "\n",
              "    .dataframe thead th {\n",
              "        text-align: right;\n",
              "    }\n",
              "</style>\n",
              "<table border=\"1\" class=\"dataframe\">\n",
              "  <thead>\n",
              "    <tr style=\"text-align: right;\">\n",
              "      <th></th>\n",
              "      <th>Temp</th>\n",
              "      <th>WindSpeed</th>\n",
              "      <th>WindDir</th>\n",
              "      <th>PM25</th>\n",
              "    </tr>\n",
              "    <tr>\n",
              "      <th>Time</th>\n",
              "      <th></th>\n",
              "      <th></th>\n",
              "      <th></th>\n",
              "      <th></th>\n",
              "    </tr>\n",
              "  </thead>\n",
              "  <tbody>\n",
              "    <tr>\n",
              "      <th>2017-07-01 01:00:00</th>\n",
              "      <td>26.6</td>\n",
              "      <td>38</td>\n",
              "      <td>250</td>\n",
              "      <td>16.0</td>\n",
              "    </tr>\n",
              "    <tr>\n",
              "      <th>2017-07-01 02:00:00</th>\n",
              "      <td>26.6</td>\n",
              "      <td>38</td>\n",
              "      <td>250</td>\n",
              "      <td>13.0</td>\n",
              "    </tr>\n",
              "    <tr>\n",
              "      <th>2017-07-01 03:00:00</th>\n",
              "      <td>26.6</td>\n",
              "      <td>38</td>\n",
              "      <td>250</td>\n",
              "      <td>18.0</td>\n",
              "    </tr>\n",
              "    <tr>\n",
              "      <th>2017-07-01 04:00:00</th>\n",
              "      <td>26.0</td>\n",
              "      <td>38</td>\n",
              "      <td>250</td>\n",
              "      <td>29.0</td>\n",
              "    </tr>\n",
              "    <tr>\n",
              "      <th>2017-07-01 05:00:00</th>\n",
              "      <td>26.0</td>\n",
              "      <td>38</td>\n",
              "      <td>250</td>\n",
              "      <td>32.0</td>\n",
              "    </tr>\n",
              "    <tr>\n",
              "      <th>...</th>\n",
              "      <td>...</td>\n",
              "      <td>...</td>\n",
              "      <td>...</td>\n",
              "      <td>...</td>\n",
              "    </tr>\n",
              "    <tr>\n",
              "      <th>2020-06-30 18:00:00</th>\n",
              "      <td>31.8</td>\n",
              "      <td>31</td>\n",
              "      <td>245</td>\n",
              "      <td>11.0</td>\n",
              "    </tr>\n",
              "    <tr>\n",
              "      <th>2020-06-30 19:00:00</th>\n",
              "      <td>27.4</td>\n",
              "      <td>31</td>\n",
              "      <td>245</td>\n",
              "      <td>17.0</td>\n",
              "    </tr>\n",
              "    <tr>\n",
              "      <th>2020-06-30 20:00:00</th>\n",
              "      <td>27.4</td>\n",
              "      <td>41</td>\n",
              "      <td>250</td>\n",
              "      <td>19.0</td>\n",
              "    </tr>\n",
              "    <tr>\n",
              "      <th>2020-06-30 21:00:00</th>\n",
              "      <td>27.4</td>\n",
              "      <td>41</td>\n",
              "      <td>250</td>\n",
              "      <td>16.0</td>\n",
              "    </tr>\n",
              "    <tr>\n",
              "      <th>2020-06-30 22:00:00</th>\n",
              "      <td>25.9</td>\n",
              "      <td>41</td>\n",
              "      <td>250</td>\n",
              "      <td>11.0</td>\n",
              "    </tr>\n",
              "  </tbody>\n",
              "</table>\n",
              "<p>26302 rows × 4 columns</p>\n",
              "</div>\n",
              "      <button class=\"colab-df-convert\" onclick=\"convertToInteractive('df-5678941b-3ad0-4dee-8b45-57be50b2e823')\"\n",
              "              title=\"Convert this dataframe to an interactive table.\"\n",
              "              style=\"display:none;\">\n",
              "        \n",
              "  <svg xmlns=\"http://www.w3.org/2000/svg\" height=\"24px\"viewBox=\"0 0 24 24\"\n",
              "       width=\"24px\">\n",
              "    <path d=\"M0 0h24v24H0V0z\" fill=\"none\"/>\n",
              "    <path d=\"M18.56 5.44l.94 2.06.94-2.06 2.06-.94-2.06-.94-.94-2.06-.94 2.06-2.06.94zm-11 1L8.5 8.5l.94-2.06 2.06-.94-2.06-.94L8.5 2.5l-.94 2.06-2.06.94zm10 10l.94 2.06.94-2.06 2.06-.94-2.06-.94-.94-2.06-.94 2.06-2.06.94z\"/><path d=\"M17.41 7.96l-1.37-1.37c-.4-.4-.92-.59-1.43-.59-.52 0-1.04.2-1.43.59L10.3 9.45l-7.72 7.72c-.78.78-.78 2.05 0 2.83L4 21.41c.39.39.9.59 1.41.59.51 0 1.02-.2 1.41-.59l7.78-7.78 2.81-2.81c.8-.78.8-2.07 0-2.86zM5.41 20L4 18.59l7.72-7.72 1.47 1.35L5.41 20z\"/>\n",
              "  </svg>\n",
              "      </button>\n",
              "      \n",
              "  <style>\n",
              "    .colab-df-container {\n",
              "      display:flex;\n",
              "      flex-wrap:wrap;\n",
              "      gap: 12px;\n",
              "    }\n",
              "\n",
              "    .colab-df-convert {\n",
              "      background-color: #E8F0FE;\n",
              "      border: none;\n",
              "      border-radius: 50%;\n",
              "      cursor: pointer;\n",
              "      display: none;\n",
              "      fill: #1967D2;\n",
              "      height: 32px;\n",
              "      padding: 0 0 0 0;\n",
              "      width: 32px;\n",
              "    }\n",
              "\n",
              "    .colab-df-convert:hover {\n",
              "      background-color: #E2EBFA;\n",
              "      box-shadow: 0px 1px 2px rgba(60, 64, 67, 0.3), 0px 1px 3px 1px rgba(60, 64, 67, 0.15);\n",
              "      fill: #174EA6;\n",
              "    }\n",
              "\n",
              "    [theme=dark] .colab-df-convert {\n",
              "      background-color: #3B4455;\n",
              "      fill: #D2E3FC;\n",
              "    }\n",
              "\n",
              "    [theme=dark] .colab-df-convert:hover {\n",
              "      background-color: #434B5C;\n",
              "      box-shadow: 0px 1px 3px 1px rgba(0, 0, 0, 0.15);\n",
              "      filter: drop-shadow(0px 1px 2px rgba(0, 0, 0, 0.3));\n",
              "      fill: #FFFFFF;\n",
              "    }\n",
              "  </style>\n",
              "\n",
              "      <script>\n",
              "        const buttonEl =\n",
              "          document.querySelector('#df-5678941b-3ad0-4dee-8b45-57be50b2e823 button.colab-df-convert');\n",
              "        buttonEl.style.display =\n",
              "          google.colab.kernel.accessAllowed ? 'block' : 'none';\n",
              "\n",
              "        async function convertToInteractive(key) {\n",
              "          const element = document.querySelector('#df-5678941b-3ad0-4dee-8b45-57be50b2e823');\n",
              "          const dataTable =\n",
              "            await google.colab.kernel.invokeFunction('convertToInteractive',\n",
              "                                                     [key], {});\n",
              "          if (!dataTable) return;\n",
              "\n",
              "          const docLinkHtml = 'Like what you see? Visit the ' +\n",
              "            '<a target=\"_blank\" href=https://colab.research.google.com/notebooks/data_table.ipynb>data table notebook</a>'\n",
              "            + ' to learn more about interactive tables.';\n",
              "          element.innerHTML = '';\n",
              "          dataTable['output_type'] = 'display_data';\n",
              "          await google.colab.output.renderOutput(dataTable, element);\n",
              "          const docLink = document.createElement('div');\n",
              "          docLink.innerHTML = docLinkHtml;\n",
              "          element.appendChild(docLink);\n",
              "        }\n",
              "      </script>\n",
              "    </div>\n",
              "  </div>\n",
              "  "
            ]
          },
          "metadata": {}
        }
      ]
    },
    {
      "cell_type": "code",
      "source": [
        "display(surat_train)"
      ],
      "metadata": {
        "colab": {
          "base_uri": "https://localhost:8080/",
          "height": 455
        },
        "id": "JZLJEWaoizPm",
        "outputId": "d10b4bed-160e-484e-fd34-271204e7d2b3"
      },
      "execution_count": 225,
      "outputs": [
        {
          "output_type": "display_data",
          "data": {
            "text/plain": [
              "                     Temp  WindSpeed  WindDir  PM25\n",
              "Time                                               \n",
              "2018-10-01 00:00:00  26.6          3       90  22.0\n",
              "2018-10-01 01:00:00  25.8          3       90  17.0\n",
              "2018-10-01 02:00:00  25.8          1      105  13.0\n",
              "2018-10-01 03:00:00  25.8          1      105  12.0\n",
              "2018-10-01 04:00:00  25.2          1      105  11.0\n",
              "...                   ...        ...      ...   ...\n",
              "2020-06-30 18:00:00  30.8         19      250  36.0\n",
              "2020-06-30 19:00:00  26.7         19      250  29.0\n",
              "2020-06-30 20:00:00  26.7         23      260  16.0\n",
              "2020-06-30 21:00:00  26.7         23      260  15.0\n",
              "2020-06-30 22:00:00  25.9         23      260  20.0\n",
              "\n",
              "[15335 rows x 4 columns]"
            ],
            "text/html": [
              "\n",
              "  <div id=\"df-60348f24-8aa6-48fd-aa5e-5b9cf3bc7599\">\n",
              "    <div class=\"colab-df-container\">\n",
              "      <div>\n",
              "<style scoped>\n",
              "    .dataframe tbody tr th:only-of-type {\n",
              "        vertical-align: middle;\n",
              "    }\n",
              "\n",
              "    .dataframe tbody tr th {\n",
              "        vertical-align: top;\n",
              "    }\n",
              "\n",
              "    .dataframe thead th {\n",
              "        text-align: right;\n",
              "    }\n",
              "</style>\n",
              "<table border=\"1\" class=\"dataframe\">\n",
              "  <thead>\n",
              "    <tr style=\"text-align: right;\">\n",
              "      <th></th>\n",
              "      <th>Temp</th>\n",
              "      <th>WindSpeed</th>\n",
              "      <th>WindDir</th>\n",
              "      <th>PM25</th>\n",
              "    </tr>\n",
              "    <tr>\n",
              "      <th>Time</th>\n",
              "      <th></th>\n",
              "      <th></th>\n",
              "      <th></th>\n",
              "      <th></th>\n",
              "    </tr>\n",
              "  </thead>\n",
              "  <tbody>\n",
              "    <tr>\n",
              "      <th>2018-10-01 00:00:00</th>\n",
              "      <td>26.6</td>\n",
              "      <td>3</td>\n",
              "      <td>90</td>\n",
              "      <td>22.0</td>\n",
              "    </tr>\n",
              "    <tr>\n",
              "      <th>2018-10-01 01:00:00</th>\n",
              "      <td>25.8</td>\n",
              "      <td>3</td>\n",
              "      <td>90</td>\n",
              "      <td>17.0</td>\n",
              "    </tr>\n",
              "    <tr>\n",
              "      <th>2018-10-01 02:00:00</th>\n",
              "      <td>25.8</td>\n",
              "      <td>1</td>\n",
              "      <td>105</td>\n",
              "      <td>13.0</td>\n",
              "    </tr>\n",
              "    <tr>\n",
              "      <th>2018-10-01 03:00:00</th>\n",
              "      <td>25.8</td>\n",
              "      <td>1</td>\n",
              "      <td>105</td>\n",
              "      <td>12.0</td>\n",
              "    </tr>\n",
              "    <tr>\n",
              "      <th>2018-10-01 04:00:00</th>\n",
              "      <td>25.2</td>\n",
              "      <td>1</td>\n",
              "      <td>105</td>\n",
              "      <td>11.0</td>\n",
              "    </tr>\n",
              "    <tr>\n",
              "      <th>...</th>\n",
              "      <td>...</td>\n",
              "      <td>...</td>\n",
              "      <td>...</td>\n",
              "      <td>...</td>\n",
              "    </tr>\n",
              "    <tr>\n",
              "      <th>2020-06-30 18:00:00</th>\n",
              "      <td>30.8</td>\n",
              "      <td>19</td>\n",
              "      <td>250</td>\n",
              "      <td>36.0</td>\n",
              "    </tr>\n",
              "    <tr>\n",
              "      <th>2020-06-30 19:00:00</th>\n",
              "      <td>26.7</td>\n",
              "      <td>19</td>\n",
              "      <td>250</td>\n",
              "      <td>29.0</td>\n",
              "    </tr>\n",
              "    <tr>\n",
              "      <th>2020-06-30 20:00:00</th>\n",
              "      <td>26.7</td>\n",
              "      <td>23</td>\n",
              "      <td>260</td>\n",
              "      <td>16.0</td>\n",
              "    </tr>\n",
              "    <tr>\n",
              "      <th>2020-06-30 21:00:00</th>\n",
              "      <td>26.7</td>\n",
              "      <td>23</td>\n",
              "      <td>260</td>\n",
              "      <td>15.0</td>\n",
              "    </tr>\n",
              "    <tr>\n",
              "      <th>2020-06-30 22:00:00</th>\n",
              "      <td>25.9</td>\n",
              "      <td>23</td>\n",
              "      <td>260</td>\n",
              "      <td>20.0</td>\n",
              "    </tr>\n",
              "  </tbody>\n",
              "</table>\n",
              "<p>15335 rows × 4 columns</p>\n",
              "</div>\n",
              "      <button class=\"colab-df-convert\" onclick=\"convertToInteractive('df-60348f24-8aa6-48fd-aa5e-5b9cf3bc7599')\"\n",
              "              title=\"Convert this dataframe to an interactive table.\"\n",
              "              style=\"display:none;\">\n",
              "        \n",
              "  <svg xmlns=\"http://www.w3.org/2000/svg\" height=\"24px\"viewBox=\"0 0 24 24\"\n",
              "       width=\"24px\">\n",
              "    <path d=\"M0 0h24v24H0V0z\" fill=\"none\"/>\n",
              "    <path d=\"M18.56 5.44l.94 2.06.94-2.06 2.06-.94-2.06-.94-.94-2.06-.94 2.06-2.06.94zm-11 1L8.5 8.5l.94-2.06 2.06-.94-2.06-.94L8.5 2.5l-.94 2.06-2.06.94zm10 10l.94 2.06.94-2.06 2.06-.94-2.06-.94-.94-2.06-.94 2.06-2.06.94z\"/><path d=\"M17.41 7.96l-1.37-1.37c-.4-.4-.92-.59-1.43-.59-.52 0-1.04.2-1.43.59L10.3 9.45l-7.72 7.72c-.78.78-.78 2.05 0 2.83L4 21.41c.39.39.9.59 1.41.59.51 0 1.02-.2 1.41-.59l7.78-7.78 2.81-2.81c.8-.78.8-2.07 0-2.86zM5.41 20L4 18.59l7.72-7.72 1.47 1.35L5.41 20z\"/>\n",
              "  </svg>\n",
              "      </button>\n",
              "      \n",
              "  <style>\n",
              "    .colab-df-container {\n",
              "      display:flex;\n",
              "      flex-wrap:wrap;\n",
              "      gap: 12px;\n",
              "    }\n",
              "\n",
              "    .colab-df-convert {\n",
              "      background-color: #E8F0FE;\n",
              "      border: none;\n",
              "      border-radius: 50%;\n",
              "      cursor: pointer;\n",
              "      display: none;\n",
              "      fill: #1967D2;\n",
              "      height: 32px;\n",
              "      padding: 0 0 0 0;\n",
              "      width: 32px;\n",
              "    }\n",
              "\n",
              "    .colab-df-convert:hover {\n",
              "      background-color: #E2EBFA;\n",
              "      box-shadow: 0px 1px 2px rgba(60, 64, 67, 0.3), 0px 1px 3px 1px rgba(60, 64, 67, 0.15);\n",
              "      fill: #174EA6;\n",
              "    }\n",
              "\n",
              "    [theme=dark] .colab-df-convert {\n",
              "      background-color: #3B4455;\n",
              "      fill: #D2E3FC;\n",
              "    }\n",
              "\n",
              "    [theme=dark] .colab-df-convert:hover {\n",
              "      background-color: #434B5C;\n",
              "      box-shadow: 0px 1px 3px 1px rgba(0, 0, 0, 0.15);\n",
              "      filter: drop-shadow(0px 1px 2px rgba(0, 0, 0, 0.3));\n",
              "      fill: #FFFFFF;\n",
              "    }\n",
              "  </style>\n",
              "\n",
              "      <script>\n",
              "        const buttonEl =\n",
              "          document.querySelector('#df-60348f24-8aa6-48fd-aa5e-5b9cf3bc7599 button.colab-df-convert');\n",
              "        buttonEl.style.display =\n",
              "          google.colab.kernel.accessAllowed ? 'block' : 'none';\n",
              "\n",
              "        async function convertToInteractive(key) {\n",
              "          const element = document.querySelector('#df-60348f24-8aa6-48fd-aa5e-5b9cf3bc7599');\n",
              "          const dataTable =\n",
              "            await google.colab.kernel.invokeFunction('convertToInteractive',\n",
              "                                                     [key], {});\n",
              "          if (!dataTable) return;\n",
              "\n",
              "          const docLinkHtml = 'Like what you see? Visit the ' +\n",
              "            '<a target=\"_blank\" href=https://colab.research.google.com/notebooks/data_table.ipynb>data table notebook</a>'\n",
              "            + ' to learn more about interactive tables.';\n",
              "          element.innerHTML = '';\n",
              "          dataTable['output_type'] = 'display_data';\n",
              "          await google.colab.output.renderOutput(dataTable, element);\n",
              "          const docLink = document.createElement('div');\n",
              "          docLink.innerHTML = docLinkHtml;\n",
              "          element.appendChild(docLink);\n",
              "        }\n",
              "      </script>\n",
              "    </div>\n",
              "  </div>\n",
              "  "
            ]
          },
          "metadata": {}
        }
      ]
    },
    {
      "cell_type": "markdown",
      "source": [
        "## Number of null values"
      ],
      "metadata": {
        "id": "jFyqozn2gCfP"
      }
    },
    {
      "cell_type": "markdown",
      "source": [
        "### Before Dropping"
      ],
      "metadata": {
        "id": "1sIgs-pZk9-o"
      }
    },
    {
      "cell_type": "code",
      "source": [
        "null_counts_bkk_train = bkk_train.isnull().sum()\n",
        "print(\"[bkk_train] Number of null values in each column:\\n{}\".format(null_counts_bkk_train))\n",
        "print('\\n')\n",
        "\n",
        "null_counts_cnx_train = cnx_train.isnull().sum()\n",
        "print(\"[cnx_train] Number of null values in each column:\\n{}\".format(null_counts_cnx_train))\n",
        "print('\\n')\n",
        "\n",
        "null_counts_kkc_train = kkc_train.isnull().sum()\n",
        "print(\"[kkc_train] Number of null values in each column:\\n{}\".format(null_counts_kkc_train))\n",
        "print('\\n')\n",
        "\n",
        "null_counts_rayong_train = rayong_train.isnull().sum()\n",
        "print(\"[rayong_train] Number of null values in each column:\\n{}\".format(null_counts_rayong_train))\n",
        "print('\\n')\n",
        "\n",
        "null_counts_saraburi_train = saraburi_train.isnull().sum()\n",
        "print(\"[saraburi_train] Number of null values in each column:\\n{}\".format(null_counts_saraburi_train))\n",
        "print('\\n')\n",
        "\n",
        "null_counts_surat_train = surat_train.isnull().sum()\n",
        "print(\"[surat_train] Number of null values in each column:\\n{}\".format(null_counts_surat_train))"
      ],
      "metadata": {
        "colab": {
          "base_uri": "https://localhost:8080/"
        },
        "id": "-QMUjz5lSKcb",
        "outputId": "5e1409ba-6e13-4728-c13f-c95f46b52143"
      },
      "execution_count": 219,
      "outputs": [
        {
          "output_type": "stream",
          "name": "stdout",
          "text": [
            "[bkk_train] Number of null values in each column:\n",
            "Temp           3\n",
            "WindSpeed      0\n",
            "WindDir        0\n",
            "PM25         176\n",
            "dtype: int64\n",
            "\n",
            "\n",
            "[cnx_train] Number of null values in each column:\n",
            "Temp           6\n",
            "WindSpeed      0\n",
            "WindDir        0\n",
            "PM25         470\n",
            "dtype: int64\n",
            "\n",
            "\n",
            "[kkc_train] Number of null values in each column:\n",
            "Temp            0\n",
            "WindSpeed       0\n",
            "WindDir         0\n",
            "PM25         2689\n",
            "dtype: int64\n",
            "\n",
            "\n",
            "[rayong_train] Number of null values in each column:\n",
            "Temp            0\n",
            "WindSpeed       0\n",
            "WindDir         0\n",
            "PM25         2126\n",
            "dtype: int64\n",
            "\n",
            "\n",
            "[saraburi_train] Number of null values in each column:\n",
            "Temp            0\n",
            "WindSpeed       0\n",
            "WindDir         0\n",
            "PM25         1588\n",
            "dtype: int64\n",
            "\n",
            "\n",
            "[surat_train] Number of null values in each column:\n",
            "Temp         126\n",
            "WindSpeed      0\n",
            "WindDir        0\n",
            "PM25         369\n",
            "dtype: int64\n"
          ]
        }
      ]
    },
    {
      "cell_type": "markdown",
      "source": [
        "### Drop null-valued rows (Temp & PM25)"
      ],
      "metadata": {
        "id": "4CCQLxJfkJH7"
      }
    },
    {
      "cell_type": "code",
      "source": [
        "bkk_train.dropna(subset=['Temp','PM25'],inplace=True)\n",
        "\n",
        "cnx_train.dropna(subset=['Temp','PM25'],inplace=True)\n",
        "\n",
        "kkc_train.dropna(subset=['Temp','PM25'],inplace=True)\n",
        "\n",
        "rayong_train.dropna(subset=['Temp','PM25'],inplace=True)\n",
        "\n",
        "saraburi_train.dropna(subset=['Temp','PM25'],inplace=True)\n",
        "\n",
        "surat_train.dropna(subset=['Temp','PM25'],inplace=True)"
      ],
      "metadata": {
        "id": "CsXSNDKNgbcZ"
      },
      "execution_count": 228,
      "outputs": []
    },
    {
      "cell_type": "markdown",
      "source": [
        "## Handle outliers"
      ],
      "metadata": {
        "id": "7y2JL7qjleFi"
      }
    },
    {
      "cell_type": "code",
      "source": [
        "import matplotlib.pyplot as plt\n",
        "import seaborn as sns\n",
        "\n",
        "from scipy.stats import kurtosis, skew\n",
        "\n",
        "%matplotlib inline"
      ],
      "metadata": {
        "id": "jehuJYr8liF-"
      },
      "execution_count": 284,
      "outputs": []
    },
    {
      "cell_type": "code",
      "source": [
        "class Handle_Outliers:\n",
        "  def __init__(self, dataset):\n",
        "    self.dataset=dataset\n",
        "   \n",
        "  def plotIQR(self, province, col, title=\"\"):\n",
        "    dataset = self.dataset\n",
        "\n",
        "    plt.figure(figsize=(10,8))\n",
        "    plt.subplot(211)\n",
        "    plt.title(title)\n",
        "    plt.xlim(dataset[province][col].min(), dataset[province][col].max()*1.1)\n",
        "\n",
        "    ax = dataset[province][col].plot(kind='kde')\n",
        "\n",
        "    plt.subplot(212)\n",
        "    plt.xlim(dataset[province][col].min(), dataset[province][col].max()*1.1)\n",
        "    sns.boxplot(x=dataset[province][col])\n",
        "\n",
        "    plt.show()\n",
        "  \n",
        "  def showKS(self, province, col):\n",
        "    dataset = self.dataset\n",
        "    \n",
        "    kurtosis_value = kurtosis(dataset[province][col])\n",
        "    print(\"kurtosis_value = \", kurtosis_value)\n",
        "    skew_value = skew(dataset[province][col])\n",
        "    print(\"skew_value = \", skew_value)"
      ],
      "metadata": {
        "id": "y-zzUaiUnI4a"
      },
      "execution_count": 285,
      "outputs": []
    },
    {
      "cell_type": "markdown",
      "source": [
        "### Using IQR to detect outliers"
      ],
      "metadata": {
        "id": "2gp5C_mpmHIh"
      }
    },
    {
      "cell_type": "code",
      "source": [
        "handle_outliers = Handle_Outliers(train_set)"
      ],
      "metadata": {
        "id": "1zNGh889orze"
      },
      "execution_count": 287,
      "outputs": []
    },
    {
      "cell_type": "markdown",
      "source": [
        "#### Before Log"
      ],
      "metadata": {
        "id": "zth7aXeErTuJ"
      }
    },
    {
      "cell_type": "code",
      "source": [
        "handle_outliers.plotIQR('BKK', 'PM25', \"Bangkok_Train PM2.5\")\n",
        "handle_outliers.showKS('BKK', 'PM25')"
      ],
      "metadata": {
        "colab": {
          "base_uri": "https://localhost:8080/",
          "height": 548
        },
        "id": "N1dYhGk8ljJT",
        "outputId": "48e9d10e-65c7-4633-8a87-2eff56871f07"
      },
      "execution_count": 288,
      "outputs": [
        {
          "output_type": "display_data",
          "data": {
            "text/plain": [
              "<Figure size 720x576 with 2 Axes>"
            ],
            "image/png": "[encoded data removed]"
          },
          "metadata": {
            "needs_background": "light"
          }
        },
        {
          "output_type": "stream",
          "name": "stdout",
          "text": [
            "kurtosis_value =  3.7542328442592394\n",
            "skew_value =  1.6427231226444095\n"
          ]
        }
      ]
    },
    {
      "cell_type": "code",
      "source": [
        "handle_outliers.plotIQR('CNX', 'PM25', \"Chiangmai_Train PM2.5\")\n",
        "handle_outliers.showKS('CNX', 'PM25')"
      ],
      "metadata": {
        "colab": {
          "base_uri": "https://localhost:8080/",
          "height": 548
        },
        "id": "HNfSlKTMlqZw",
        "outputId": "573375b3-7b64-4de8-e1d3-70fc325ec7e5"
      },
      "execution_count": 289,
      "outputs": [
        {
          "output_type": "display_data",
          "data": {
            "text/plain": [
              "<Figure size 720x576 with 2 Axes>"
            ],
            "image/png": "[encoded data removed]"
          },
          "metadata": {
            "needs_background": "light"
          }
        },
        {
          "output_type": "stream",
          "name": "stdout",
          "text": [
            "kurtosis_value =  22.160191851504727\n",
            "skew_value =  3.6004308937451492\n"
          ]
        }
      ]
    },
    {
      "cell_type": "code",
      "source": [
        "handle_outliers.plotIQR('KKC', 'PM25', \"Khonkaen_Train PM2.5\")\n",
        "handle_outliers.showKS('KKC', 'PM25')"
      ],
      "metadata": {
        "colab": {
          "base_uri": "https://localhost:8080/",
          "height": 548
        },
        "id": "EPht5qPamirr",
        "outputId": "ac2cd880-eba4-440a-cd39-f0052dda9f9a"
      },
      "execution_count": 260,
      "outputs": [
        {
          "output_type": "display_data",
          "data": {
            "text/plain": [
              "<Figure size 720x576 with 2 Axes>"
            ],
            "image/png": "[encoded data removed]"
          },
          "metadata": {
            "needs_background": "light"
          }
        },
        {
          "output_type": "stream",
          "name": "stdout",
          "text": [
            "kurtosis_value =  2.852633308292953\n",
            "skew_value =  1.4363591505579454\n"
          ]
        }
      ]
    },
    {
      "cell_type": "code",
      "source": [
        "handle_outliers.plotIQR('RAY', 'PM25', \"Rayong_Train PM2.5\")\n",
        "handle_outliers.showKS('RAY', 'PM25')"
      ],
      "metadata": {
        "colab": {
          "base_uri": "https://localhost:8080/",
          "height": 548
        },
        "id": "VXEeJlvXmss3",
        "outputId": "7c553f2c-105b-434e-938b-bc9a3ca9d684"
      },
      "execution_count": 290,
      "outputs": [
        {
          "output_type": "display_data",
          "data": {
            "text/plain": [
              "<Figure size 720x576 with 2 Axes>"
            ],
            "image/png": "[encoded data removed]"
          },
          "metadata": {
            "needs_background": "light"
          }
        },
        {
          "output_type": "stream",
          "name": "stdout",
          "text": [
            "kurtosis_value =  7.6970807915660515\n",
            "skew_value =  2.13269492588504\n"
          ]
        }
      ]
    },
    {
      "cell_type": "code",
      "source": [
        "handle_outliers.plotIQR(\"SARA\", 'PM25', \"Saraburi_Train PM2.5\")\n",
        "handle_outliers.showKS(\"SARA\", 'PM25')"
      ],
      "metadata": {
        "colab": {
          "base_uri": "https://localhost:8080/",
          "height": 548
        },
        "id": "8GRia0a9ms-V",
        "outputId": "e7149e44-a6b4-4864-dd51-64bee391cf57"
      },
      "execution_count": 291,
      "outputs": [
        {
          "output_type": "display_data",
          "data": {
            "text/plain": [
              "<Figure size 720x576 with 2 Axes>"
            ],
            "image/png": "[encoded data removed]"
          },
          "metadata": {
            "needs_background": "light"
          }
        },
        {
          "output_type": "stream",
          "name": "stdout",
          "text": [
            "kurtosis_value =  6.864162324600022\n",
            "skew_value =  1.650534135184398\n"
          ]
        }
      ]
    },
    {
      "cell_type": "code",
      "source": [
        "handle_outliers.plotIQR('SURAT', 'PM25', \"Surat_Train PM2.5\")\n",
        "handle_outliers.showKS('SURAT', 'PM25')"
      ],
      "metadata": {
        "colab": {
          "base_uri": "https://localhost:8080/",
          "height": 548
        },
        "id": "kx2AAC29m02T",
        "outputId": "dce7308a-a921-4351-ccc7-4060f13c2642"
      },
      "execution_count": 293,
      "outputs": [
        {
          "output_type": "display_data",
          "data": {
            "text/plain": [
              "<Figure size 720x576 with 2 Axes>"
            ],
            "image/png": "[encoded data removed]"
          },
          "metadata": {
            "needs_background": "light"
          }
        },
        {
          "output_type": "stream",
          "name": "stdout",
          "text": [
            "kurtosis_value =  0.6334880093938624\n",
            "skew_value =  0.7291329868115642\n"
          ]
        }
      ]
    },
    {
      "cell_type": "markdown",
      "source": [
        "#### After Log"
      ],
      "metadata": {
        "id": "4_eE7bdoress"
      }
    },
    {
      "cell_type": "code",
      "source": [
        "train_set['BKK']['Log_PM25'] = np.log(1+train_set['BKK']['PM25'])\n",
        "train_set['CNX']['Log_PM25'] = np.log(1+train_set['CNX']['PM25'])\n",
        "train_set['KKC']['Log_PM25'] = np.log(1+train_set['KKC']['PM25'])\n",
        "train_set['RAY']['Log_PM25'] = np.log(1+train_set['RAY']['PM25'])\n",
        "train_set['SARA']['Log_PM25'] = np.log(1+train_set['SARA']['PM25'])\n",
        "train_set['SURAT']['Log_PM25'] = np.log(1+train_set['SURAT']['PM25'])"
      ],
      "metadata": {
        "id": "PWoiAj2dsfGw"
      },
      "execution_count": 294,
      "outputs": []
    },
    {
      "cell_type": "code",
      "source": [
        "handle_outliers.plotIQR('BKK', 'Log_PM25', \"Bangkok_Train Log(PM2.5)\")\n",
        "handle_outliers.showKS('BKK', 'Log_PM25')"
      ],
      "metadata": {
        "colab": {
          "base_uri": "https://localhost:8080/",
          "height": 549
        },
        "id": "qJXgJwbTm3hH",
        "outputId": "f3bd1dfa-74d3-4ba4-f1ec-71456fb18542"
      },
      "execution_count": 295,
      "outputs": [
        {
          "output_type": "display_data",
          "data": {
            "text/plain": [
              "<Figure size 720x576 with 2 Axes>"
            ],
            "image/png": "[encoded data removed]"
          },
          "metadata": {
            "needs_background": "light"
          }
        },
        {
          "output_type": "stream",
          "name": "stdout",
          "text": [
            "kurtosis_value =  -0.19354695008339684\n",
            "skew_value =  0.2150268983994971\n"
          ]
        }
      ]
    },
    {
      "cell_type": "code",
      "source": [
        "handle_outliers.plotIQR('CNX', 'Log_PM25', \"Chiangmai_Train Log(PM2.5)\")\n",
        "handle_outliers.showKS('CNX', 'Log_PM25')"
      ],
      "metadata": {
        "colab": {
          "base_uri": "https://localhost:8080/",
          "height": 549
        },
        "id": "hBlNkvGhs90S",
        "outputId": "526a3548-f006-43cc-aadc-dc009770f5b2"
      },
      "execution_count": 296,
      "outputs": [
        {
          "output_type": "display_data",
          "data": {
            "text/plain": [
              "<Figure size 720x576 with 2 Axes>"
            ],
            "image/png": "[encoded data removed]"
          },
          "metadata": {
            "needs_background": "light"
          }
        },
        {
          "output_type": "stream",
          "name": "stdout",
          "text": [
            "kurtosis_value =  0.16234853991746867\n",
            "skew_value =  0.5609039691419486\n"
          ]
        }
      ]
    },
    {
      "cell_type": "code",
      "source": [
        "handle_outliers.plotIQR('KKC', 'Log_PM25', \"Khonkaen_Train Log(PM2.5)\")\n",
        "handle_outliers.showKS('KKC', 'Log_PM25')"
      ],
      "metadata": {
        "colab": {
          "base_uri": "https://localhost:8080/",
          "height": 549
        },
        "id": "E4y1vjTzypBE",
        "outputId": "41618fd7-868d-4970-f54f-3062c302325e"
      },
      "execution_count": 297,
      "outputs": [
        {
          "output_type": "display_data",
          "data": {
            "text/plain": [
              "<Figure size 720x576 with 2 Axes>"
            ],
            "image/png": "[encoded data removed]"
          },
          "metadata": {
            "needs_background": "light"
          }
        },
        {
          "output_type": "stream",
          "name": "stdout",
          "text": [
            "kurtosis_value =  -0.21392060653719458\n",
            "skew_value =  -0.013772394097134611\n"
          ]
        }
      ]
    },
    {
      "cell_type": "code",
      "source": [
        "handle_outliers.plotIQR('RAY', 'Log_PM25', \"Rayong_Train Log(PM2.5)\")\n",
        "handle_outliers.showKS('RAY', 'Log_PM25')"
      ],
      "metadata": {
        "colab": {
          "base_uri": "https://localhost:8080/",
          "height": 549
        },
        "id": "46EzEOgaysIY",
        "outputId": "2f767150-ad5a-4993-9f9b-e1536ae319f2"
      },
      "execution_count": 298,
      "outputs": [
        {
          "output_type": "display_data",
          "data": {
            "text/plain": [
              "<Figure size 720x576 with 2 Axes>"
            ],
            "image/png": "[encoded data removed]"
          },
          "metadata": {
            "needs_background": "light"
          }
        },
        {
          "output_type": "stream",
          "name": "stdout",
          "text": [
            "kurtosis_value =  -0.0970150611450924\n",
            "skew_value =  -0.0034067186098447467\n"
          ]
        }
      ]
    },
    {
      "cell_type": "code",
      "source": [
        "handle_outliers.plotIQR('SARA', 'Log_PM25', \"Saraburi_Train Log(PM2.5)\")\n",
        "handle_outliers.showKS('SARA', 'Log_PM25')"
      ],
      "metadata": {
        "colab": {
          "base_uri": "https://localhost:8080/",
          "height": 549
        },
        "id": "69vV1VnzyuUg",
        "outputId": "7332c8d2-3551-46f0-89c3-014a883785e7"
      },
      "execution_count": 299,
      "outputs": [
        {
          "output_type": "display_data",
          "data": {
            "text/plain": [
              "<Figure size 720x576 with 2 Axes>"
            ],
            "image/png": "[encoded data removed]"
          },
          "metadata": {
            "needs_background": "light"
          }
        },
        {
          "output_type": "stream",
          "name": "stdout",
          "text": [
            "kurtosis_value =  0.90036786488337\n",
            "skew_value =  -0.5859147529476278\n"
          ]
        }
      ]
    },
    {
      "cell_type": "code",
      "source": [
        "handle_outliers.plotIQR('SURAT', 'Log_PM25', \"Surat_Train Log(PM2.5)\")\n",
        "handle_outliers.showKS('SURAT', 'Log_PM25')"
      ],
      "metadata": {
        "colab": {
          "base_uri": "https://localhost:8080/",
          "height": 549
        },
        "id": "YWNAS6Q_yzCD",
        "outputId": "04684352-bbdd-45b9-e772-d6aa64434a6c"
      },
      "execution_count": 300,
      "outputs": [
        {
          "output_type": "display_data",
          "data": {
            "text/plain": [
              "<Figure size 720x576 with 2 Axes>"
            ],
            "image/png": "[encoded data removed]"
          },
          "metadata": {
            "needs_background": "light"
          }
        },
        {
          "output_type": "stream",
          "name": "stdout",
          "text": [
            "kurtosis_value =  0.7869783044769383\n",
            "skew_value =  -0.7758753751207673\n"
          ]
        }
      ]
    },
    {
      "cell_type": "markdown",
      "source": [
        "#### Cut with IQR\n",
        "\n",
        "ยังทำไม่เสร็จ"
      ],
      "metadata": {
        "id": "7wQjPl3pzPOZ"
      }
    },
    {
      "cell_type": "code",
      "source": [
        "q75, q25 = np.percentile(train_set['BKK'].Log_PM25.dropna(), [75 ,25])\n",
        "iqr = q75 - q25\n",
        "\n",
        "min = q25 - (iqr*1.5)\n",
        "max = q75 + (iqr*1.5)\n",
        "\n",
        "print(iqr)"
      ],
      "metadata": {
        "colab": {
          "base_uri": "https://localhost:8080/"
        },
        "id": "KoSqxWqQy2ei",
        "outputId": "f6b89b23-f7cb-4d40-9775-80e5b32c7b98"
      },
      "execution_count": 301,
      "outputs": [
        {
          "output_type": "stream",
          "name": "stdout",
          "text": [
            "0.664976303593249\n"
          ]
        }
      ]
    },
    {
      "cell_type": "code",
      "source": [
        "plt.figure(figsize=(10,8))\n",
        "plt.subplot(211)\n",
        "plt.xlim(train_set['BKK'].Log_PM25.min(), train_set['BKK'].Log_PM25.max()*1.1)\n",
        "plt.axvline(x=min)\n",
        "plt.axvline(x=max)\n",
        "\n",
        "ax = train_set['BKK'].Log_PM25.plot(kind='kde')\n",
        "\n",
        "plt.subplot(212)\n",
        "plt.xlim(train_set['BKK'].Log_PM25.min(), train_set['BKK'].Log_PM25.max()*1.1)\n",
        "sns.boxplot(x=train_set['BKK'].Log_PM25)\n",
        "plt.axvline(x=min)\n",
        "plt.axvline(x=max)"
      ],
      "metadata": {
        "colab": {
          "base_uri": "https://localhost:8080/",
          "height": 515
        },
        "id": "TZuO5S_Czuf4",
        "outputId": "dcf5af71-d6fb-436f-f32a-65c38b9de443"
      },
      "execution_count": 302,
      "outputs": [
        {
          "output_type": "execute_result",
          "data": {
            "text/plain": [
              "<matplotlib.lines.Line2D at 0x7fa5305600d0>"
            ]
          },
          "metadata": {},
          "execution_count": 302
        },
        {
          "output_type": "display_data",
          "data": {
            "text/plain": [
              "<Figure size 720x576 with 2 Axes>"
            ],
            "image/png": "[encoded data removed]"
          },
          "metadata": {
            "needs_background": "light"
          }
        }
      ]
    },
    {
      "cell_type": "code",
      "source": [
        "df_out = train_set['BKK'].copy()"
      ],
      "metadata": {
        "id": "EPH05sVtzzRu"
      },
      "execution_count": 306,
      "outputs": []
    },
    {
      "cell_type": "code",
      "source": [
        "df_out.loc[df_out['Log_PM25']<min, 'Log_PM25'] = min\n",
        "df_out.loc[df_out['Log_PM25']>max, 'Log_PM25'] = max"
      ],
      "metadata": {
        "id": "E1_yBA0p0ALW"
      },
      "execution_count": 309,
      "outputs": []
    },
    {
      "cell_type": "code",
      "source": [
        "plt.figure(figsize=(10,8))\n",
        "plt.subplot(211)\n",
        "plt.xlim(df_out.Log_PM25.min(), df_out.Log_PM25.max()*1.1)\n",
        "plt.axvline(x=min)\n",
        "plt.axvline(x=max)\n",
        "\n",
        "ax = df_out.Log_PM25.plot(kind='kde')\n",
        "\n",
        "plt.subplot(212)\n",
        "plt.xlim(df_out.Log_PM25.min(), df_out.Log_PM25.max()*1.1)\n",
        "sns.boxplot(x=df_out.Log_PM25)\n",
        "plt.axvline(x=min)\n",
        "plt.axvline(x=max)"
      ],
      "metadata": {
        "colab": {
          "base_uri": "https://localhost:8080/",
          "height": 515
        },
        "id": "vx2q6hYm0DF4",
        "outputId": "9acf3d76-b039-4564-cd44-4eb9e0253ab5"
      },
      "execution_count": 311,
      "outputs": [
        {
          "output_type": "execute_result",
          "data": {
            "text/plain": [
              "<matplotlib.lines.Line2D at 0x7fa52f45ac10>"
            ]
          },
          "metadata": {},
          "execution_count": 311
        },
        {
          "output_type": "display_data",
          "data": {
            "text/plain": [
              "<Figure size 720x576 with 2 Axes>"
            ],
            "image/png": "[encoded data removed]"
          },
          "metadata": {
            "needs_background": "light"
          }
        }
      ]
    },
    {
      "cell_type": "code",
      "source": [
        "train_set['BKK'].describe(include='all')"
      ],
      "metadata": {
        "colab": {
          "base_uri": "https://localhost:8080/",
          "height": 300
        },
        "id": "Ytzp6eKh0Oa2",
        "outputId": "800df8bc-ee09-4a06-8637-f66327a56b86"
      },
      "execution_count": 312,
      "outputs": [
        {
          "output_type": "execute_result",
          "data": {
            "text/plain": [
              "               Temp     WindSpeed       WindDir          PM25      Log_PM25\n",
              "count  26123.000000  26123.000000  26123.000000  26123.000000  26123.000000\n",
              "mean      29.803254     20.499368    167.735329     27.298052      3.216784\n",
              "std        2.653206     13.039739     92.336964     15.382631      0.494660\n",
              "min       17.200000      0.000000      0.000000      3.000000      1.386294\n",
              "25%       28.000000     11.000000     80.000000     17.000000      2.890372\n",
              "50%       29.600000     17.000000    155.000000     23.000000      3.178054\n",
              "75%       31.600000     27.000000    260.000000     34.000000      3.555348\n",
              "max       38.100000     85.000000    360.000000    130.000000      4.875197"
            ],
            "text/html": [
              "\n",
              "  <div id=\"df-58d66497-fe46-43f5-aa63-98cea46c5043\">\n",
              "    <div class=\"colab-df-container\">\n",
              "      <div>\n",
              "<style scoped>\n",
              "    .dataframe tbody tr th:only-of-type {\n",
              "        vertical-align: middle;\n",
              "    }\n",
              "\n",
              "    .dataframe tbody tr th {\n",
              "        vertical-align: top;\n",
              "    }\n",
              "\n",
              "    .dataframe thead th {\n",
              "        text-align: right;\n",
              "    }\n",
              "</style>\n",
              "<table border=\"1\" class=\"dataframe\">\n",
              "  <thead>\n",
              "    <tr style=\"text-align: right;\">\n",
              "      <th></th>\n",
              "      <th>Temp</th>\n",
              "      <th>WindSpeed</th>\n",
              "      <th>WindDir</th>\n",
              "      <th>PM25</th>\n",
              "      <th>Log_PM25</th>\n",
              "    </tr>\n",
              "  </thead>\n",
              "  <tbody>\n",
              "    <tr>\n",
              "      <th>count</th>\n",
              "      <td>26123.000000</td>\n",
              "      <td>26123.000000</td>\n",
              "      <td>26123.000000</td>\n",
              "      <td>26123.000000</td>\n",
              "      <td>26123.000000</td>\n",
              "    </tr>\n",
              "    <tr>\n",
              "      <th>mean</th>\n",
              "      <td>29.803254</td>\n",
              "      <td>20.499368</td>\n",
              "      <td>167.735329</td>\n",
              "      <td>27.298052</td>\n",
              "      <td>3.216784</td>\n",
              "    </tr>\n",
              "    <tr>\n",
              "      <th>std</th>\n",
              "      <td>2.653206</td>\n",
              "      <td>13.039739</td>\n",
              "      <td>92.336964</td>\n",
              "      <td>15.382631</td>\n",
              "      <td>0.494660</td>\n",
              "    </tr>\n",
              "    <tr>\n",
              "      <th>min</th>\n",
              "      <td>17.200000</td>\n",
              "      <td>0.000000</td>\n",
              "      <td>0.000000</td>\n",
              "      <td>3.000000</td>\n",
              "      <td>1.386294</td>\n",
              "    </tr>\n",
              "    <tr>\n",
              "      <th>25%</th>\n",
              "      <td>28.000000</td>\n",
              "      <td>11.000000</td>\n",
              "      <td>80.000000</td>\n",
              "      <td>17.000000</td>\n",
              "      <td>2.890372</td>\n",
              "    </tr>\n",
              "    <tr>\n",
              "      <th>50%</th>\n",
              "      <td>29.600000</td>\n",
              "      <td>17.000000</td>\n",
              "      <td>155.000000</td>\n",
              "      <td>23.000000</td>\n",
              "      <td>3.178054</td>\n",
              "    </tr>\n",
              "    <tr>\n",
              "      <th>75%</th>\n",
              "      <td>31.600000</td>\n",
              "      <td>27.000000</td>\n",
              "      <td>260.000000</td>\n",
              "      <td>34.000000</td>\n",
              "      <td>3.555348</td>\n",
              "    </tr>\n",
              "    <tr>\n",
              "      <th>max</th>\n",
              "      <td>38.100000</td>\n",
              "      <td>85.000000</td>\n",
              "      <td>360.000000</td>\n",
              "      <td>130.000000</td>\n",
              "      <td>4.875197</td>\n",
              "    </tr>\n",
              "  </tbody>\n",
              "</table>\n",
              "</div>\n",
              "      <button class=\"colab-df-convert\" onclick=\"convertToInteractive('df-58d66497-fe46-43f5-aa63-98cea46c5043')\"\n",
              "              title=\"Convert this dataframe to an interactive table.\"\n",
              "              style=\"display:none;\">\n",
              "        \n",
              "  <svg xmlns=\"http://www.w3.org/2000/svg\" height=\"24px\"viewBox=\"0 0 24 24\"\n",
              "       width=\"24px\">\n",
              "    <path d=\"M0 0h24v24H0V0z\" fill=\"none\"/>\n",
              "    <path d=\"M18.56 5.44l.94 2.06.94-2.06 2.06-.94-2.06-.94-.94-2.06-.94 2.06-2.06.94zm-11 1L8.5 8.5l.94-2.06 2.06-.94-2.06-.94L8.5 2.5l-.94 2.06-2.06.94zm10 10l.94 2.06.94-2.06 2.06-.94-2.06-.94-.94-2.06-.94 2.06-2.06.94z\"/><path d=\"M17.41 7.96l-1.37-1.37c-.4-.4-.92-.59-1.43-.59-.52 0-1.04.2-1.43.59L10.3 9.45l-7.72 7.72c-.78.78-.78 2.05 0 2.83L4 21.41c.39.39.9.59 1.41.59.51 0 1.02-.2 1.41-.59l7.78-7.78 2.81-2.81c.8-.78.8-2.07 0-2.86zM5.41 20L4 18.59l7.72-7.72 1.47 1.35L5.41 20z\"/>\n",
              "  </svg>\n",
              "      </button>\n",
              "      \n",
              "  <style>\n",
              "    .colab-df-container {\n",
              "      display:flex;\n",
              "      flex-wrap:wrap;\n",
              "      gap: 12px;\n",
              "    }\n",
              "\n",
              "    .colab-df-convert {\n",
              "      background-color: #E8F0FE;\n",
              "      border: none;\n",
              "      border-radius: 50%;\n",
              "      cursor: pointer;\n",
              "      display: none;\n",
              "      fill: #1967D2;\n",
              "      height: 32px;\n",
              "      padding: 0 0 0 0;\n",
              "      width: 32px;\n",
              "    }\n",
              "\n",
              "    .colab-df-convert:hover {\n",
              "      background-color: #E2EBFA;\n",
              "      box-shadow: 0px 1px 2px rgba(60, 64, 67, 0.3), 0px 1px 3px 1px rgba(60, 64, 67, 0.15);\n",
              "      fill: #174EA6;\n",
              "    }\n",
              "\n",
              "    [theme=dark] .colab-df-convert {\n",
              "      background-color: #3B4455;\n",
              "      fill: #D2E3FC;\n",
              "    }\n",
              "\n",
              "    [theme=dark] .colab-df-convert:hover {\n",
              "      background-color: #434B5C;\n",
              "      box-shadow: 0px 1px 3px 1px rgba(0, 0, 0, 0.15);\n",
              "      filter: drop-shadow(0px 1px 2px rgba(0, 0, 0, 0.3));\n",
              "      fill: #FFFFFF;\n",
              "    }\n",
              "  </style>\n",
              "\n",
              "      <script>\n",
              "        const buttonEl =\n",
              "          document.querySelector('#df-58d66497-fe46-43f5-aa63-98cea46c5043 button.colab-df-convert');\n",
              "        buttonEl.style.display =\n",
              "          google.colab.kernel.accessAllowed ? 'block' : 'none';\n",
              "\n",
              "        async function convertToInteractive(key) {\n",
              "          const element = document.querySelector('#df-58d66497-fe46-43f5-aa63-98cea46c5043');\n",
              "          const dataTable =\n",
              "            await google.colab.kernel.invokeFunction('convertToInteractive',\n",
              "                                                     [key], {});\n",
              "          if (!dataTable) return;\n",
              "\n",
              "          const docLinkHtml = 'Like what you see? Visit the ' +\n",
              "            '<a target=\"_blank\" href=https://colab.research.google.com/notebooks/data_table.ipynb>data table notebook</a>'\n",
              "            + ' to learn more about interactive tables.';\n",
              "          element.innerHTML = '';\n",
              "          dataTable['output_type'] = 'display_data';\n",
              "          await google.colab.output.renderOutput(dataTable, element);\n",
              "          const docLink = document.createElement('div');\n",
              "          docLink.innerHTML = docLinkHtml;\n",
              "          element.appendChild(docLink);\n",
              "        }\n",
              "      </script>\n",
              "    </div>\n",
              "  </div>\n",
              "  "
            ]
          },
          "metadata": {},
          "execution_count": 312
        }
      ]
    },
    {
      "cell_type": "code",
      "source": [
        "df_out['new_PM25'] = (np.exp(df_out['Log_PM25'])-1)\n",
        "df_out.describe(include='all')"
      ],
      "metadata": {
        "colab": {
          "base_uri": "https://localhost:8080/",
          "height": 300
        },
        "id": "2aNwuZ9p0kc-",
        "outputId": "4d631b75-3e80-4e74-d677-11e656a4c72b"
      },
      "execution_count": 315,
      "outputs": [
        {
          "output_type": "execute_result",
          "data": {
            "text/plain": [
              "               Temp     WindSpeed       WindDir          PM25      Log_PM25  \\\n",
              "count  26123.000000  26123.000000  26123.000000  26123.000000  26123.000000   \n",
              "mean      29.803254     20.499368    167.735329     27.298052      3.216612   \n",
              "std        2.653206     13.039739     92.336964     15.382631      0.492703   \n",
              "min       17.200000      0.000000      0.000000      3.000000      1.892907   \n",
              "25%       28.000000     11.000000     80.000000     17.000000      2.890372   \n",
              "50%       29.600000     17.000000    155.000000     23.000000      3.178054   \n",
              "75%       31.600000     27.000000    260.000000     34.000000      3.555348   \n",
              "max       38.100000     85.000000    360.000000    130.000000      4.552813   \n",
              "\n",
              "           back_log      new_PM25  \n",
              "count  26123.000000  26123.000000  \n",
              "mean      27.255783     27.255783  \n",
              "std       15.162809     15.162809  \n",
              "min        5.638641      5.638641  \n",
              "25%       17.000000     17.000000  \n",
              "50%       23.000000     23.000000  \n",
              "75%       34.000000     34.000000  \n",
              "max       93.898938     93.898938  "
            ],
            "text/html": [
              "\n",
              "  <div id=\"df-b66b32fa-a81b-42ec-a668-fc621d9e1945\">\n",
              "    <div class=\"colab-df-container\">\n",
              "      <div>\n",
              "<style scoped>\n",
              "    .dataframe tbody tr th:only-of-type {\n",
              "        vertical-align: middle;\n",
              "    }\n",
              "\n",
              "    .dataframe tbody tr th {\n",
              "        vertical-align: top;\n",
              "    }\n",
              "\n",
              "    .dataframe thead th {\n",
              "        text-align: right;\n",
              "    }\n",
              "</style>\n",
              "<table border=\"1\" class=\"dataframe\">\n",
              "  <thead>\n",
              "    <tr style=\"text-align: right;\">\n",
              "      <th></th>\n",
              "      <th>Temp</th>\n",
              "      <th>WindSpeed</th>\n",
              "      <th>WindDir</th>\n",
              "      <th>PM25</th>\n",
              "      <th>Log_PM25</th>\n",
              "      <th>back_log</th>\n",
              "      <th>new_PM25</th>\n",
              "    </tr>\n",
              "  </thead>\n",
              "  <tbody>\n",
              "    <tr>\n",
              "      <th>count</th>\n",
              "      <td>26123.000000</td>\n",
              "      <td>26123.000000</td>\n",
              "      <td>26123.000000</td>\n",
              "      <td>26123.000000</td>\n",
              "      <td>26123.000000</td>\n",
              "      <td>26123.000000</td>\n",
              "      <td>26123.000000</td>\n",
              "    </tr>\n",
              "    <tr>\n",
              "      <th>mean</th>\n",
              "      <td>29.803254</td>\n",
              "      <td>20.499368</td>\n",
              "      <td>167.735329</td>\n",
              "      <td>27.298052</td>\n",
              "      <td>3.216612</td>\n",
              "      <td>27.255783</td>\n",
              "      <td>27.255783</td>\n",
              "    </tr>\n",
              "    <tr>\n",
              "      <th>std</th>\n",
              "      <td>2.653206</td>\n",
              "      <td>13.039739</td>\n",
              "      <td>92.336964</td>\n",
              "      <td>15.382631</td>\n",
              "      <td>0.492703</td>\n",
              "      <td>15.162809</td>\n",
              "      <td>15.162809</td>\n",
              "    </tr>\n",
              "    <tr>\n",
              "      <th>min</th>\n",
              "      <td>17.200000</td>\n",
              "      <td>0.000000</td>\n",
              "      <td>0.000000</td>\n",
              "      <td>3.000000</td>\n",
              "      <td>1.892907</td>\n",
              "      <td>5.638641</td>\n",
              "      <td>5.638641</td>\n",
              "    </tr>\n",
              "    <tr>\n",
              "      <th>25%</th>\n",
              "      <td>28.000000</td>\n",
              "      <td>11.000000</td>\n",
              "      <td>80.000000</td>\n",
              "      <td>17.000000</td>\n",
              "      <td>2.890372</td>\n",
              "      <td>17.000000</td>\n",
              "      <td>17.000000</td>\n",
              "    </tr>\n",
              "    <tr>\n",
              "      <th>50%</th>\n",
              "      <td>29.600000</td>\n",
              "      <td>17.000000</td>\n",
              "      <td>155.000000</td>\n",
              "      <td>23.000000</td>\n",
              "      <td>3.178054</td>\n",
              "      <td>23.000000</td>\n",
              "      <td>23.000000</td>\n",
              "    </tr>\n",
              "    <tr>\n",
              "      <th>75%</th>\n",
              "      <td>31.600000</td>\n",
              "      <td>27.000000</td>\n",
              "      <td>260.000000</td>\n",
              "      <td>34.000000</td>\n",
              "      <td>3.555348</td>\n",
              "      <td>34.000000</td>\n",
              "      <td>34.000000</td>\n",
              "    </tr>\n",
              "    <tr>\n",
              "      <th>max</th>\n",
              "      <td>38.100000</td>\n",
              "      <td>85.000000</td>\n",
              "      <td>360.000000</td>\n",
              "      <td>130.000000</td>\n",
              "      <td>4.552813</td>\n",
              "      <td>93.898938</td>\n",
              "      <td>93.898938</td>\n",
              "    </tr>\n",
              "  </tbody>\n",
              "</table>\n",
              "</div>\n",
              "      <button class=\"colab-df-convert\" onclick=\"convertToInteractive('df-b66b32fa-a81b-42ec-a668-fc621d9e1945')\"\n",
              "              title=\"Convert this dataframe to an interactive table.\"\n",
              "              style=\"display:none;\">\n",
              "        \n",
              "  <svg xmlns=\"http://www.w3.org/2000/svg\" height=\"24px\"viewBox=\"0 0 24 24\"\n",
              "       width=\"24px\">\n",
              "    <path d=\"M0 0h24v24H0V0z\" fill=\"none\"/>\n",
              "    <path d=\"M18.56 5.44l.94 2.06.94-2.06 2.06-.94-2.06-.94-.94-2.06-.94 2.06-2.06.94zm-11 1L8.5 8.5l.94-2.06 2.06-.94-2.06-.94L8.5 2.5l-.94 2.06-2.06.94zm10 10l.94 2.06.94-2.06 2.06-.94-2.06-.94-.94-2.06-.94 2.06-2.06.94z\"/><path d=\"M17.41 7.96l-1.37-1.37c-.4-.4-.92-.59-1.43-.59-.52 0-1.04.2-1.43.59L10.3 9.45l-7.72 7.72c-.78.78-.78 2.05 0 2.83L4 21.41c.39.39.9.59 1.41.59.51 0 1.02-.2 1.41-.59l7.78-7.78 2.81-2.81c.8-.78.8-2.07 0-2.86zM5.41 20L4 18.59l7.72-7.72 1.47 1.35L5.41 20z\"/>\n",
              "  </svg>\n",
              "      </button>\n",
              "      \n",
              "  <style>\n",
              "    .colab-df-container {\n",
              "      display:flex;\n",
              "      flex-wrap:wrap;\n",
              "      gap: 12px;\n",
              "    }\n",
              "\n",
              "    .colab-df-convert {\n",
              "      background-color: #E8F0FE;\n",
              "      border: none;\n",
              "      border-radius: 50%;\n",
              "      cursor: pointer;\n",
              "      display: none;\n",
              "      fill: #1967D2;\n",
              "      height: 32px;\n",
              "      padding: 0 0 0 0;\n",
              "      width: 32px;\n",
              "    }\n",
              "\n",
              "    .colab-df-convert:hover {\n",
              "      background-color: #E2EBFA;\n",
              "      box-shadow: 0px 1px 2px rgba(60, 64, 67, 0.3), 0px 1px 3px 1px rgba(60, 64, 67, 0.15);\n",
              "      fill: #174EA6;\n",
              "    }\n",
              "\n",
              "    [theme=dark] .colab-df-convert {\n",
              "      background-color: #3B4455;\n",
              "      fill: #D2E3FC;\n",
              "    }\n",
              "\n",
              "    [theme=dark] .colab-df-convert:hover {\n",
              "      background-color: #434B5C;\n",
              "      box-shadow: 0px 1px 3px 1px rgba(0, 0, 0, 0.15);\n",
              "      filter: drop-shadow(0px 1px 2px rgba(0, 0, 0, 0.3));\n",
              "      fill: #FFFFFF;\n",
              "    }\n",
              "  </style>\n",
              "\n",
              "      <script>\n",
              "        const buttonEl =\n",
              "          document.querySelector('#df-b66b32fa-a81b-42ec-a668-fc621d9e1945 button.colab-df-convert');\n",
              "        buttonEl.style.display =\n",
              "          google.colab.kernel.accessAllowed ? 'block' : 'none';\n",
              "\n",
              "        async function convertToInteractive(key) {\n",
              "          const element = document.querySelector('#df-b66b32fa-a81b-42ec-a668-fc621d9e1945');\n",
              "          const dataTable =\n",
              "            await google.colab.kernel.invokeFunction('convertToInteractive',\n",
              "                                                     [key], {});\n",
              "          if (!dataTable) return;\n",
              "\n",
              "          const docLinkHtml = 'Like what you see? Visit the ' +\n",
              "            '<a target=\"_blank\" href=https://colab.research.google.com/notebooks/data_table.ipynb>data table notebook</a>'\n",
              "            + ' to learn more about interactive tables.';\n",
              "          element.innerHTML = '';\n",
              "          dataTable['output_type'] = 'display_data';\n",
              "          await google.colab.output.renderOutput(dataTable, element);\n",
              "          const docLink = document.createElement('div');\n",
              "          docLink.innerHTML = docLinkHtml;\n",
              "          element.appendChild(docLink);\n",
              "        }\n",
              "      </script>\n",
              "    </div>\n",
              "  </div>\n",
              "  "
            ]
          },
          "metadata": {},
          "execution_count": 315
        }
      ]
    },
    {
      "cell_type": "code",
      "source": [
        ""
      ],
      "metadata": {
        "id": "HJX7cVdI1B_F"
      },
      "execution_count": null,
      "outputs": []
    }
  ]
}