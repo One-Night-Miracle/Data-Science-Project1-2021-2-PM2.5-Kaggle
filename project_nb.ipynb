{
  "cells": [
    {
      "cell_type": "code",
      "execution_count": 1,
      "metadata": {
        "id": "xXgecYKfoECO"
      },
      "outputs": [],
      "source": [
        "#Import the libraries\n",
        "import numpy as np\n",
        "import pandas as pd\n",
        "import warnings\n",
        "warnings.filterwarnings(\"ignore\")"
      ]
    },
    {
      "cell_type": "markdown",
      "metadata": {
        "id": "9Q8kjFgTgF-R"
      },
      "source": [
        "## Download and Unzip the dataset."
      ]
    },
    {
      "cell_type": "code",
      "execution_count": 2,
      "metadata": {
        "colab": {
          "base_uri": "https://localhost:8080/"
        },
        "id": "vawEUIM6oIoc",
        "outputId": "6a5219ba-aa9b-4f88-b2df-325524590b6e"
      },
      "outputs": [],
      "source": [
        "# url_to_the_zip_file = \"https://storage.googleapis.com/kaggle-competitions-data/kaggle-v2/34330/3265183/bundle/archive.zip?GoogleAccessId=web-data@kaggle-161607.iam.gserviceaccount.com&Expires=1647437599&Signature=qVPxXAvAiFlZLpO%2Fp287NXm%2FlUOymBxRMs7NJKMGXlm3afW9PV9LuNalMJS56E%2BjsMSHh46ouLS6gNHYbyPwmdLSQiPpLQPGU6NTKTNprbDUOgYb2rqC4w6AgLOpdRh%2FGdabYAVAdjIh24Teoj5k%2Bs%2Fybm00sxAGf358%2BcxjEonvvUJDEhK7GTtv9NAFxAfsO%2F69xOWSkLEhjjnCwQ3QzfXWxbuYVnqlwy0dwQ6S%2F8iQappRaQg2%2BF9j76t1ay0B3Kg3ANj0P5EuVMDL2KVld3cQLiM7DPi9vQQV531T8snYsbiHjoE%2BhkH6w%2BWeULvu5UpDSaiVRepgtoscjgM8ig%3D%3D&response-content-disposition=attachment%3B+filename%3D2110446-data-science-and-data-engineering-2022.zip\"\n",
        "# new_file_name = \"2110446-data-science-and-data-engineering-2022.zip\"\n",
        "\n",
        "# !rm -f \"$new_file_name\"\n",
        "# !wget -c \"$url_to_the_zip_file\" -O \"$new_file_name\"\n",
        "# !unzip \"$new_file_name\""
      ]
    },
    {
      "cell_type": "markdown",
      "metadata": {
        "id": "DsnbYs9_gRM7"
      },
      "source": [
        "## read_csv()"
      ]
    },
    {
      "cell_type": "code",
      "execution_count": 3,
      "metadata": {
        "id": "vwR4ICpPpgnP"
      },
      "outputs": [],
      "source": [
        "def toDF(pm25_filename, temp_filename, wind_filename):\n",
        "  pm25_df = pd.read_csv('datasci_dataset_2022/'+pm25_filename, names=['Time', 'PM25'], skiprows=1)\n",
        "  pm25_df['Time'] = pd.to_datetime(pm25_df['Time'])\n",
        "  # pm25_df['Time'] = pm25_df['Time'].dt.tz_localize('UTC').dt.tz_convert('Asia/Bangkok')\n",
        "  # pm25_df['Time'] = pm25_df['Time'].dt.tz_localize(None)\n",
        "  pm25_df.set_index('Time', inplace=True)\n",
        "  pm25_df.columns = ['PM25']\n",
        "  pm25_df = pm25_df[~pm25_df.index.duplicated(keep='first')]\n",
        "  pm25_df.interpolate(inplace=True)\n",
        "  pm25_df.index = pd.DatetimeIndex(pm25_df.index)\n",
        "\n",
        "  temp_df = pd.read_csv('datasci_dataset_2022/'+temp_filename, names=['Time', 'Temp'], skiprows=1)\n",
        "  temp_df['Time'] = pd.to_datetime(temp_df['Time'])\n",
        "  temp_df.set_index(temp_df['Time'], inplace=True)\n",
        "  temp_df.drop(columns={'Time'}, inplace=True)\n",
        "  temp_df.columns = ['Temp']\n",
        "  # pad() is similar to fillna() with forward filling\n",
        "  temp_df = temp_df.resample('h').pad()\n",
        "  # temp_df.index = pd.DatetimeIndex(temp_df.index)\n",
        "\n",
        "  wind_df = pd.read_csv('datasci_dataset_2022/'+wind_filename, names=['Time', 'WindSpeed', 'WindDir'], skiprows=1)\n",
        "  wind_df['Time'] = pd.to_datetime(wind_df['Time'])\n",
        "  wind_df.set_index(wind_df['Time'], inplace=True)\n",
        "  wind_df.drop(columns={'Time'}, inplace=True)\n",
        "  wind_df.columns = ['WindSpeed', 'WindDir']\n",
        "  # backward filling\n",
        "  wind_df = wind_df.resample('h').bfill()\n",
        "  # wind_df.index = pd.DatetimeIndex(wind_df.index)\n",
        "\n",
        "  pm25_df['copy_index'] = pm25_df.index\n",
        "  df = pd.merge(pm25_df, temp_df, left_index=True, right_index=True)\n",
        "  df = pd.merge(df, wind_df, left_index=True, right_index=True)\n",
        "\n",
        "  df = df[['Temp','WindSpeed','WindDir','PM25']]\n",
        "  \n",
        "  # padding first and last indices\n",
        "  # df = df.ffill()\n",
        "  # df = df.bfill()\n",
        "\n",
        "  return df"
      ]
    },
    {
      "cell_type": "code",
      "execution_count": 4,
      "metadata": {
        "id": "N1z5Yu1ibV6A"
      },
      "outputs": [],
      "source": [
        "def toDFtest(pm25_filename, temp_filename, wind_filename):\n",
        "  pm25_df = pd.read_csv('datasci_dataset_2022/'+pm25_filename, names=['Time', 'PM25'], skiprows=1)\n",
        "  pm25_df['Time'] = pd.to_datetime(pm25_df['Time'])\n",
        "  pm25_df.set_index('Time', inplace=True)\n",
        "  pm25_df.columns = ['PM25']\n",
        "  pm25_df = pm25_df[~pm25_df.index.duplicated(keep='first')]\n",
        "  pm25_df.index = pd.DatetimeIndex(pm25_df.index)\n",
        "\n",
        "  temp_df = pd.read_csv('datasci_dataset_2022/'+temp_filename, names=['Time', 'Temp'], skiprows=1)\n",
        "  temp_df['Time'] = pd.to_datetime(temp_df['Time'])\n",
        "  temp_df.set_index(temp_df['Time'], inplace=True)\n",
        "  temp_df.drop(columns={'Time'}, inplace=True)\n",
        "  temp_df.columns = ['Temp']\n",
        "  temp_df = temp_df.resample('h').bfill()\n",
        "\n",
        "  wind_df = pd.read_csv('datasci_dataset_2022/'+wind_filename, names=['Time', 'WindSpeed', 'WindDir'], skiprows=1)\n",
        "  wind_df['Time'] = pd.to_datetime(wind_df['Time'])\n",
        "  wind_df.set_index(wind_df['Time'], inplace=True)\n",
        "  wind_df.drop(columns={'Time'}, inplace=True)\n",
        "  wind_df.columns = ['WindSpeed', 'WindDir']\n",
        "  # backward filling\n",
        "  wind_df = wind_df.resample('h').bfill()\n",
        "  # wind_df.index = pd.DatetimeIndex(wind_df.index)\n",
        "\n",
        "  pm25_df['copy_index'] = pm25_df.index\n",
        "  df = pd.merge(pm25_df, temp_df, left_index=True, right_index=True)\n",
        "  df = pd.merge(df, wind_df, left_index=True, right_index=True)\n",
        "\n",
        "  df = df[['Temp','WindSpeed','WindDir','PM25']]\n",
        "\n",
        "  return df"
      ]
    },
    {
      "cell_type": "code",
      "execution_count": 5,
      "metadata": {
        "id": "-pesZD33wbfW"
      },
      "outputs": [],
      "source": [
        "bkk_train = toDF('BKK/train/bkk_train.csv', 'BKK/train/bkk_temp_surface.csv', 'BKK/train/bkk_weather_wind.csv')\n",
        "bkk_test = toDF('BKK/test/bkk_test.csv', 'BKK/test/bkk_temp_test.csv', 'BKK/test/bkk_wind_test.csv')\n",
        "\n",
        "cnx_train = toDF('Chiangmai/train/chiangmai_train.csv', 'Chiangmai/train/chiangmai_temp_surface.csv', 'Chiangmai/train/chiangmai_weather_wind.csv')\n",
        "cnx_test = toDF('Chiangmai/test/chiangmai_test.csv', 'Chiangmai/test/chiangmai_temp_test.csv', 'Chiangmai/test/chiangmai_wind_test.csv')\n",
        "\n",
        "kkc_train = toDF('Khonkaen/train/khonkhan_train.csv', 'Khonkaen/train/khonkaen_temp_surface.csv', 'Khonkaen/train/khonkaen_weather_wind.csv')\n",
        "kkc_test = toDF('Khonkaen/test/khonkhan_test.csv', 'Khonkaen/test/khonkaen_temp_test.csv', 'Khonkaen/test/khonkaen_wind_test.csv')\n",
        "\n",
        "rayong_train = toDF('Rayong/train/rayong_train.csv', 'Rayong/train/rayong_temp_surface.csv', 'Rayong/train/rayong_weather_wind.csv')\n",
        "rayong_test = toDF('Rayong/test/rayong_test.csv', 'Rayong/test/rayong_temp_test.csv', 'Rayong/test/rayong_wind_test.csv')\n",
        "\n",
        "saraburi_train = toDF('Saraburi/train/saraburi_train.csv', 'Saraburi/train/saraburi_temp_surface.csv', 'Saraburi/train/saraburi_weather_wind.csv')\n",
        "saraburi_test = toDF('Saraburi/test/saraburi_test.csv', 'Saraburi/test/saraburi_temp_test.csv', 'Saraburi/test/saraburi_wind_test.csv')\n",
        "\n",
        "surat_train = toDF('Surat/train/surat_train.csv', 'Surat/train/surat_temp_surface.csv', 'Surat/train/surat_weather_wind.csv')\n",
        "surat_test = toDF('Surat/test/surat_test.csv', 'Surat/test/surat_temp_test.csv', 'Surat/test/surat_wind_test.csv')"
      ]
    },
    {
      "cell_type": "code",
      "execution_count": 6,
      "metadata": {
        "id": "g6yh3t62xExb"
      },
      "outputs": [],
      "source": [
        "train_set={}\n",
        "train_set['BKK'] = bkk_train\n",
        "train_set['CNX'] = cnx_train\n",
        "train_set['KKC'] = kkc_train\n",
        "train_set['RAY'] = rayong_train\n",
        "train_set['SARA'] = saraburi_train\n",
        "train_set['SURAT'] = surat_train\n",
        "\n",
        "test_set={}\n",
        "test_set['BKK'] = bkk_test\n",
        "test_set['CNX'] = cnx_test\n",
        "test_set['KKC'] = kkc_test\n",
        "test_set['RAY'] = rayong_test\n",
        "test_set['SARA'] = saraburi_test\n",
        "test_set['SURAT'] = surat_test"
      ]
    },
    {
      "cell_type": "markdown",
      "metadata": {
        "id": "jFyqozn2gCfP"
      },
      "source": [
        "## Number of null values"
      ]
    },
    {
      "cell_type": "markdown",
      "metadata": {
        "id": "1sIgs-pZk9-o"
      },
      "source": [
        "### Before Dropping"
      ]
    },
    {
      "cell_type": "code",
      "execution_count": 7,
      "metadata": {
        "colab": {
          "base_uri": "https://localhost:8080/"
        },
        "id": "-QMUjz5lSKcb",
        "outputId": "174a0c44-7935-4b67-dc64-4c78cccbe52b"
      },
      "outputs": [
        {
          "name": "stdout",
          "output_type": "stream",
          "text": [
            "[bkk_train] Number of null values in each column:\n",
            "Temp         3\n",
            "WindSpeed    0\n",
            "WindDir      0\n",
            "PM25         0\n",
            "dtype: int64\n",
            "\n",
            "\n",
            "[cnx_train] Number of null values in each column:\n",
            "Temp         6\n",
            "WindSpeed    0\n",
            "WindDir      0\n",
            "PM25         0\n",
            "dtype: int64\n",
            "\n",
            "\n",
            "[kkc_train] Number of null values in each column:\n",
            "Temp         0\n",
            "WindSpeed    0\n",
            "WindDir      0\n",
            "PM25         0\n",
            "dtype: int64\n",
            "\n",
            "\n",
            "[rayong_train] Number of null values in each column:\n",
            "Temp         0\n",
            "WindSpeed    0\n",
            "WindDir      0\n",
            "PM25         0\n",
            "dtype: int64\n",
            "\n",
            "\n",
            "[saraburi_train] Number of null values in each column:\n",
            "Temp         0\n",
            "WindSpeed    0\n",
            "WindDir      0\n",
            "PM25         0\n",
            "dtype: int64\n",
            "\n",
            "\n",
            "[surat_train] Number of null values in each column:\n",
            "Temp         126\n",
            "WindSpeed      0\n",
            "WindDir        0\n",
            "PM25           0\n",
            "dtype: int64\n"
          ]
        }
      ],
      "source": [
        "null_counts_bkk_train = bkk_train.isnull().sum()\n",
        "print(\"[bkk_train] Number of null values in each column:\\n{}\".format(null_counts_bkk_train))\n",
        "print('\\n')\n",
        "\n",
        "null_counts_cnx_train = cnx_train.isnull().sum()\n",
        "print(\"[cnx_train] Number of null values in each column:\\n{}\".format(null_counts_cnx_train))\n",
        "print('\\n')\n",
        "\n",
        "null_counts_kkc_train = kkc_train.isnull().sum()\n",
        "print(\"[kkc_train] Number of null values in each column:\\n{}\".format(null_counts_kkc_train))\n",
        "print('\\n')\n",
        "\n",
        "null_counts_rayong_train = rayong_train.isnull().sum()\n",
        "print(\"[rayong_train] Number of null values in each column:\\n{}\".format(null_counts_rayong_train))\n",
        "print('\\n')\n",
        "\n",
        "null_counts_saraburi_train = saraburi_train.isnull().sum()\n",
        "print(\"[saraburi_train] Number of null values in each column:\\n{}\".format(null_counts_saraburi_train))\n",
        "print('\\n')\n",
        "\n",
        "null_counts_surat_train = surat_train.isnull().sum()\n",
        "print(\"[surat_train] Number of null values in each column:\\n{}\".format(null_counts_surat_train))"
      ]
    },
    {
      "cell_type": "markdown",
      "metadata": {
        "id": "4CCQLxJfkJH7"
      },
      "source": [
        "### Drop null-valued rows (Temp & PM25)"
      ]
    },
    {
      "cell_type": "code",
      "execution_count": 8,
      "metadata": {
        "id": "CsXSNDKNgbcZ"
      },
      "outputs": [],
      "source": [
        "bkk_train.dropna(subset=['Temp','PM25'], inplace=True)\n",
        "\n",
        "cnx_train.dropna(subset=['Temp','PM25'], inplace=True)\n",
        "\n",
        "kkc_train.dropna(subset=['Temp','PM25'], inplace=True)\n",
        "\n",
        "rayong_train.dropna(subset=['Temp','PM25'], inplace=True)\n",
        "\n",
        "saraburi_train.dropna(subset=['Temp','PM25'], inplace=True)\n",
        "\n",
        "surat_train.dropna(subset=['Temp','PM25'], inplace=True)"
      ]
    },
    {
      "cell_type": "markdown",
      "metadata": {
        "id": "o8G8zw34QbBX"
      },
      "source": [
        "## Graph Plotting"
      ]
    },
    {
      "cell_type": "code",
      "execution_count": 9,
      "metadata": {
        "id": "jehuJYr8liF-"
      },
      "outputs": [],
      "source": [
        "import matplotlib.pyplot as plt\n",
        "import seaborn as sns\n",
        "\n",
        "from scipy.stats import kurtosis, skew\n",
        "\n",
        "import warnings\n",
        "warnings.simplefilter(action='ignore', category=FutureWarning)\n",
        "\n",
        "%matplotlib inline\n",
        "plt.rcParams[\"figure.figsize\"] = (10, 6)"
      ]
    },
    {
      "cell_type": "code",
      "execution_count": 10,
      "metadata": {
        "id": "voo5JkVyQpq2"
      },
      "outputs": [],
      "source": [
        "def multiDisplot(dataset, col, hist=False, xlim=None):\n",
        "  for prov, _ in dataset.items():\n",
        "    sns.distplot(dataset[prov][col], hist=hist, label=prov)\n",
        "    # print(f\"{prov} {col}={dataset[prov][col].mean()}\")\n",
        "  plt.xlim(xlim)\n",
        "  plt.legend()\n",
        "  plt.show()"
      ]
    },
    {
      "cell_type": "code",
      "execution_count": 11,
      "metadata": {
        "colab": {
          "base_uri": "https://localhost:8080/",
          "height": 387
        },
        "id": "HjqMfjGtQiD1",
        "outputId": "bb139400-1991-402a-d838-0cab841c32b1"
      },
      "outputs": [],
      "source": [
        "# multiDisplot(train_set, 'PM25', xlim=(-10, 120), hist=True)"
      ]
    },
    {
      "cell_type": "code",
      "execution_count": 12,
      "metadata": {
        "colab": {
          "base_uri": "https://localhost:8080/",
          "height": 392
        },
        "id": "gQiGswNGYaIj",
        "outputId": "049db434-1a92-4134-f306-404759595fc3"
      },
      "outputs": [],
      "source": [
        "# multiDisplot(train_set, 'Temp', hist=True)"
      ]
    },
    {
      "cell_type": "code",
      "execution_count": 13,
      "metadata": {
        "colab": {
          "base_uri": "https://localhost:8080/",
          "height": 387
        },
        "id": "3cA6qxBYYcqQ",
        "outputId": "f902577b-3297-4c83-abd3-3cb51caa5d67"
      },
      "outputs": [],
      "source": [
        "# multiDisplot(train_set, 'WindDir', hist=True)"
      ]
    },
    {
      "cell_type": "code",
      "execution_count": 14,
      "metadata": {
        "colab": {
          "base_uri": "https://localhost:8080/",
          "height": 387
        },
        "id": "7_l3n0kpYevb",
        "outputId": "59c723b7-fc5b-4ffa-9d9c-401240db0fd9"
      },
      "outputs": [],
      "source": [
        "# multiDisplot(train_set, 'WindSpeed', hist=True)"
      ]
    },
    {
      "cell_type": "markdown",
      "metadata": {
        "id": "7y2JL7qjleFi"
      },
      "source": [
        "## Handle outliers"
      ]
    },
    {
      "cell_type": "code",
      "execution_count": 15,
      "metadata": {
        "id": "y-zzUaiUnI4a"
      },
      "outputs": [],
      "source": [
        "class Handle_Outliers:\n",
        "  def __init__(self, dataset):\n",
        "    self.dataset=dataset.copy()\n",
        "    self.dataShape={}\n",
        "\n",
        "    for prov, dfcol in dataset.items():\n",
        "      self.dataShape[prov] = {}\n",
        "      for col, _ in dfcol.items():\n",
        "        self.dataShape[prov][col] = {'Kurt':{}, 'Skew':{}}\n",
        "   \n",
        "  def plotIQR(self, province, col, title=\"\", thresh=None, fig=None, subplots=None, figsize=None):\n",
        "    dataset = self.dataset\n",
        "\n",
        "    if subplots is None: subplots = [211, 212]\n",
        "    if figsize is None: figsize = (10,8)\n",
        "\n",
        "\n",
        "    if fig is not None:\n",
        "      rows = subplots[0]//100\n",
        "      cols = (subplots[0]%100)//10\n",
        "      fig.add_subplot(rows, cols, subplots[0]%10)\n",
        "    else:\n",
        "      plt.figure(figsize=figsize)\n",
        "      plt.subplot(subplots[0])\n",
        "\n",
        "    plt.title(title)\n",
        "    plt.xlim(dataset[province][col].min()/1.1, dataset[province][col].max()*1.1)\n",
        "    if thresh:\n",
        "      plt.axvline(x=thresh[province]['min'])\n",
        "      plt.axvline(x=thresh[province]['max'])\n",
        "\n",
        "    ax = dataset[province][col].plot(kind='kde')\n",
        "\n",
        "    if fig is not None:\n",
        "      rows = subplots[1]//100\n",
        "      cols = (subplots[1]%100)//10\n",
        "      fig.add_subplot(rows, cols, subplots[1]%10)\n",
        "    else:\n",
        "      plt.figure(figsize=figsize)\n",
        "      plt.subplot(subplots[1])\n",
        "      \n",
        "    plt.xlim(dataset[province][col].min()/1.1, dataset[province][col].max()*1.1)\n",
        "    sns.boxplot(x=dataset[province][col])\n",
        "\n",
        "    if thresh is not None:\n",
        "      plt.axvline(x=thresh[province]['min'])\n",
        "      plt.axvline(x=thresh[province]['max'])\n",
        "\n",
        "    if subplots is None:\n",
        "      plt.show()\n",
        "\n",
        "  def calcDataShape(self, province, col, verbose=0, save_slot=None):\n",
        "    dataset = self.dataset\n",
        "\n",
        "    kurtosis_value = kurtosis(dataset[province][col])\n",
        "    skew_value = skew(dataset[province][col])\n",
        "\n",
        "    if (verbose>0):\n",
        "      print(\"\\n\")\n",
        "      print(f\"kurtosis_value = {kurtosis_value}\")\n",
        "      print(f\"skew_value = {skew_value}\")\n",
        "\n",
        "    if (save_slot is not None):\n",
        "      self.saveDataShape(province, col, kurtosis_value, skew_value, save_slot)\n",
        "  \n",
        "  def showDataShape(self, province, col, save_slot=None):\n",
        "    dataShape = self.dataShape\n",
        "\n",
        "    if (save_slot is not None):\n",
        "      kurtosis_value = dataShape[province][col]['Kurt'][save_slot]\n",
        "      skew_value = dataShape[province][col]['Skew'][save_slot]\n",
        "      print(f\"{save_slot}:\")\n",
        "      print(f\"kurtosis_value = {kurtosis_value}\")\n",
        "      print(f\"skew_value = {skew_value}\")\n",
        "      print(\"\\n\")\n",
        "\n",
        "    else:\n",
        "      for sav_slot, _ in dataShape[province][col]['Kurt'].items():\n",
        "        kurtosis_value = dataShape[province][col]['Kurt'][sav_slot]\n",
        "        skew_value = dataShape[province][col]['Skew'][sav_slot]\n",
        "        print(f\"{sav_slot}:\")\n",
        "        print(f\"kurtosis_value = {kurtosis_value}\")\n",
        "        print(f\"skew_value = {skew_value}\")\n",
        "        print(\"\\n\")\n",
        "  \n",
        "  def saveDataShape(self, province, col, kurt, skew, save_slot):\n",
        "    dataShape = self.dataShape\n",
        "\n",
        "    dataShape[province][col]['Kurt'][save_slot] = kurt\n",
        "    dataShape[province][col]['Skew'][save_slot] = skew\n",
        "  \n",
        "  def addColumns(self, col, new_col, func):\n",
        "    dataset = self.dataset\n",
        "    dataShape = self.dataShape\n",
        "\n",
        "    for prov, _ in dataset.items():\n",
        "      dataset[prov][new_col] = func(dataset[prov][col])\n",
        "      dataShape[prov][new_col] = {'Kurt':{}, 'Skew':{}}\n",
        "  \n",
        "  def calcOutliersMinMax(self, province, col, C_std):\n",
        "    dataset = self.dataset\n",
        "\n",
        "    thresh_min = dataset[province][col].mean() - C_std*dataset[province][col].std()\n",
        "    thresh_min = 0 if (thresh_min<0) else thresh_min\n",
        "\n",
        "    thresh_max = dataset[province][col].mean() + C_std*dataset[province][col].std()\n",
        "    \n",
        "    return thresh_min, thresh_max\n",
        "  \n",
        "  def setOutliersThreshold(self, province, col, new_col, thresh):\n",
        "    dataset = self.dataset\n",
        "\n",
        "    min, max = thresh[province]['min'], thresh[province]['max']\n",
        "\n",
        "    dataset[province][new_col] = dataset[province][col]\n",
        "\n",
        "    dataset[province].loc[dataset[province][new_col]<min, new_col] = min\n",
        "    dataset[province].loc[dataset[province][new_col]>max, new_col] = max"
      ]
    },
    {
      "cell_type": "markdown",
      "metadata": {
        "id": "2gp5C_mpmHIh"
      },
      "source": [
        "### Using IQR to detect outliers"
      ]
    },
    {
      "cell_type": "code",
      "execution_count": 16,
      "metadata": {
        "id": "1zNGh889orze"
      },
      "outputs": [],
      "source": [
        "handle_outliers = Handle_Outliers(train_set)"
      ]
    },
    {
      "cell_type": "markdown",
      "metadata": {
        "id": "zth7aXeErTuJ"
      },
      "source": [
        "#### Before Log"
      ]
    },
    {
      "cell_type": "code",
      "execution_count": 17,
      "metadata": {
        "colab": {
          "base_uri": "https://localhost:8080/",
          "height": 513
        },
        "id": "N1dYhGk8ljJT",
        "outputId": "b09c5dae-0630-48d2-b631-582ac55f1b3f"
      },
      "outputs": [],
      "source": [
        "# handle_outliers.plotIQR('BKK', 'PM25', 'Bangkok_Train PM2.5')\n",
        "# handle_outliers.calcDataShape('BKK', 'PM25', save_slot='Before')"
      ]
    },
    {
      "cell_type": "code",
      "execution_count": 18,
      "metadata": {
        "colab": {
          "base_uri": "https://localhost:8080/",
          "height": 513
        },
        "id": "HNfSlKTMlqZw",
        "outputId": "c0aa08f7-3893-4c87-9a50-04692638724d"
      },
      "outputs": [],
      "source": [
        "# handle_outliers.plotIQR('CNX', 'PM25', \"Chiangmai_Train PM2.5\")\n",
        "# handle_outliers.calcDataShape('CNX', 'PM25', save_slot='Before')"
      ]
    },
    {
      "cell_type": "code",
      "execution_count": 19,
      "metadata": {
        "colab": {
          "base_uri": "https://localhost:8080/",
          "height": 513
        },
        "id": "EPht5qPamirr",
        "outputId": "fb76d78f-28ea-43c6-8d64-d9eca07b8619"
      },
      "outputs": [],
      "source": [
        "# handle_outliers.plotIQR('KKC', 'PM25', \"Khonkaen_Train PM2.5\")\n",
        "# handle_outliers.calcDataShape('KKC', 'PM25', save_slot='Before')"
      ]
    },
    {
      "cell_type": "code",
      "execution_count": 20,
      "metadata": {
        "colab": {
          "base_uri": "https://localhost:8080/",
          "height": 513
        },
        "id": "VXEeJlvXmss3",
        "outputId": "334eb7fa-67cb-4ac1-ab4a-949402de2cb6"
      },
      "outputs": [],
      "source": [
        "# handle_outliers.plotIQR('RAY', 'PM25', \"Rayong_Train PM2.5\")\n",
        "# handle_outliers.calcDataShape('RAY', 'PM25', save_slot='Before')"
      ]
    },
    {
      "cell_type": "code",
      "execution_count": 21,
      "metadata": {
        "colab": {
          "base_uri": "https://localhost:8080/",
          "height": 513
        },
        "id": "8GRia0a9ms-V",
        "outputId": "12706c46-976f-4c1e-f003-534a81641ffb"
      },
      "outputs": [],
      "source": [
        "# handle_outliers.plotIQR(\"SARA\", 'PM25', \"Saraburi_Train PM2.5\")\n",
        "# handle_outliers.calcDataShape(\"SARA\", 'PM25', save_slot='Before')"
      ]
    },
    {
      "cell_type": "code",
      "execution_count": 22,
      "metadata": {
        "colab": {
          "base_uri": "https://localhost:8080/",
          "height": 513
        },
        "id": "kx2AAC29m02T",
        "outputId": "c173dce5-422f-4fd3-f3d2-e0353aa82cfc"
      },
      "outputs": [],
      "source": [
        "# handle_outliers.plotIQR('SURAT', 'PM25', \"Surat_Train PM2.5\")\n",
        "# handle_outliers.calcDataShape('SURAT', 'PM25', save_slot='Before')"
      ]
    },
    {
      "cell_type": "markdown",
      "metadata": {
        "id": "4_eE7bdoress"
      },
      "source": [
        "#### After Log"
      ]
    },
    {
      "cell_type": "code",
      "execution_count": 23,
      "metadata": {
        "id": "b3J4EmhzFvZr"
      },
      "outputs": [],
      "source": [
        "handle_outliers.addColumns('PM25', 'Log_PM25', lambda x: np.log(1+x))"
      ]
    },
    {
      "cell_type": "code",
      "execution_count": 24,
      "metadata": {
        "colab": {
          "base_uri": "https://localhost:8080/",
          "height": 514
        },
        "id": "qJXgJwbTm3hH",
        "outputId": "33c2651e-b41d-4855-b15c-26ed7eabb5fc"
      },
      "outputs": [],
      "source": [
        "# handle_outliers.plotIQR('BKK', 'Log_PM25', \"Bangkok_Train Log(PM2.5)\")\n",
        "# handle_outliers.calcDataShape('BKK', 'Log_PM25', save_slot='After')"
      ]
    },
    {
      "cell_type": "code",
      "execution_count": 25,
      "metadata": {
        "colab": {
          "base_uri": "https://localhost:8080/",
          "height": 514
        },
        "id": "hBlNkvGhs90S",
        "outputId": "485aa080-ed28-4a17-ae86-f033c9391697"
      },
      "outputs": [],
      "source": [
        "# handle_outliers.plotIQR('CNX', 'Log_PM25', \"Chiangmai_Train Log(PM2.5)\")\n",
        "# handle_outliers.calcDataShape('CNX', 'Log_PM25', save_slot='After')"
      ]
    },
    {
      "cell_type": "code",
      "execution_count": 26,
      "metadata": {
        "colab": {
          "base_uri": "https://localhost:8080/",
          "height": 514
        },
        "id": "E4y1vjTzypBE",
        "outputId": "21f63cad-f39b-4350-8aa0-2da36d977c28"
      },
      "outputs": [],
      "source": [
        "# handle_outliers.plotIQR('KKC', 'Log_PM25', \"Khonkaen_Train Log(PM2.5)\")\n",
        "# handle_outliers.calcDataShape('KKC', 'Log_PM25', save_slot='After')"
      ]
    },
    {
      "cell_type": "code",
      "execution_count": 27,
      "metadata": {
        "colab": {
          "base_uri": "https://localhost:8080/",
          "height": 514
        },
        "id": "46EzEOgaysIY",
        "outputId": "21c14ed9-aeea-4bfe-e57f-beab143c3eff"
      },
      "outputs": [],
      "source": [
        "# handle_outliers.plotIQR('RAY', 'Log_PM25', \"Rayong_Train Log(PM2.5)\")\n",
        "# handle_outliers.calcDataShape('RAY', 'Log_PM25', save_slot='After')"
      ]
    },
    {
      "cell_type": "code",
      "execution_count": 28,
      "metadata": {
        "colab": {
          "base_uri": "https://localhost:8080/",
          "height": 514
        },
        "id": "69vV1VnzyuUg",
        "outputId": "45b98c00-dbde-407f-e4ee-03084a8fcddf"
      },
      "outputs": [],
      "source": [
        "# handle_outliers.plotIQR('SARA', 'Log_PM25', \"Saraburi_Train Log(PM2.5)\")\n",
        "# handle_outliers.calcDataShape('SARA', 'Log_PM25', save_slot='After')"
      ]
    },
    {
      "cell_type": "code",
      "execution_count": 29,
      "metadata": {
        "colab": {
          "base_uri": "https://localhost:8080/",
          "height": 514
        },
        "id": "YWNAS6Q_yzCD",
        "outputId": "430aeece-7576-4c6a-b905-eb5399b6d912"
      },
      "outputs": [],
      "source": [
        "# handle_outliers.plotIQR('SURAT', 'Log_PM25', \"Surat_Train Log(PM2.5)\")\n",
        "# handle_outliers.calcDataShape('SURAT', 'Log_PM25', save_slot='After')"
      ]
    },
    {
      "cell_type": "markdown",
      "metadata": {
        "id": "7wQjPl3pzPOZ"
      },
      "source": [
        "#### Set the outliers to min or max"
      ]
    },
    {
      "cell_type": "code",
      "execution_count": 30,
      "metadata": {
        "colab": {
          "base_uri": "https://localhost:8080/"
        },
        "id": "WA_BRSalONxs",
        "outputId": "4d4131e5-c584-4d21-ce19-d1e644f213e4"
      },
      "outputs": [],
      "source": [
        "# handle_outliers.showDataShape('BKK', 'PM25', 'Before')\n",
        "# handle_outliers.showDataShape('BKK', 'Log_PM25')"
      ]
    },
    {
      "cell_type": "code",
      "execution_count": 31,
      "metadata": {},
      "outputs": [
        {
          "data": {
            "text/html": [
              "<div>\n",
              "<style scoped>\n",
              "    .dataframe tbody tr th:only-of-type {\n",
              "        vertical-align: middle;\n",
              "    }\n",
              "\n",
              "    .dataframe tbody tr th {\n",
              "        vertical-align: top;\n",
              "    }\n",
              "\n",
              "    .dataframe thead th {\n",
              "        text-align: right;\n",
              "    }\n",
              "</style>\n",
              "<table border=\"1\" class=\"dataframe\">\n",
              "  <thead>\n",
              "    <tr style=\"text-align: right;\">\n",
              "      <th></th>\n",
              "      <th>Temp</th>\n",
              "      <th>WindSpeed</th>\n",
              "      <th>WindDir</th>\n",
              "      <th>PM25</th>\n",
              "      <th>Log_PM25</th>\n",
              "    </tr>\n",
              "  </thead>\n",
              "  <tbody>\n",
              "    <tr>\n",
              "      <th>count</th>\n",
              "      <td>26299.000000</td>\n",
              "      <td>26299.000000</td>\n",
              "      <td>26299.000000</td>\n",
              "      <td>26299.000000</td>\n",
              "      <td>26299.000000</td>\n",
              "    </tr>\n",
              "    <tr>\n",
              "      <th>mean</th>\n",
              "      <td>29.810069</td>\n",
              "      <td>20.479410</td>\n",
              "      <td>167.592684</td>\n",
              "      <td>27.309441</td>\n",
              "      <td>3.217490</td>\n",
              "    </tr>\n",
              "    <tr>\n",
              "      <th>std</th>\n",
              "      <td>2.653087</td>\n",
              "      <td>13.030854</td>\n",
              "      <td>92.230443</td>\n",
              "      <td>15.368269</td>\n",
              "      <td>0.494102</td>\n",
              "    </tr>\n",
              "    <tr>\n",
              "      <th>min</th>\n",
              "      <td>17.200000</td>\n",
              "      <td>0.000000</td>\n",
              "      <td>0.000000</td>\n",
              "      <td>3.000000</td>\n",
              "      <td>1.386294</td>\n",
              "    </tr>\n",
              "    <tr>\n",
              "      <th>25%</th>\n",
              "      <td>28.000000</td>\n",
              "      <td>11.000000</td>\n",
              "      <td>80.000000</td>\n",
              "      <td>17.000000</td>\n",
              "      <td>2.890372</td>\n",
              "    </tr>\n",
              "    <tr>\n",
              "      <th>50%</th>\n",
              "      <td>29.600000</td>\n",
              "      <td>17.000000</td>\n",
              "      <td>155.000000</td>\n",
              "      <td>23.000000</td>\n",
              "      <td>3.178054</td>\n",
              "    </tr>\n",
              "    <tr>\n",
              "      <th>75%</th>\n",
              "      <td>31.600000</td>\n",
              "      <td>27.000000</td>\n",
              "      <td>260.000000</td>\n",
              "      <td>34.000000</td>\n",
              "      <td>3.555348</td>\n",
              "    </tr>\n",
              "    <tr>\n",
              "      <th>max</th>\n",
              "      <td>38.100000</td>\n",
              "      <td>85.000000</td>\n",
              "      <td>360.000000</td>\n",
              "      <td>130.000000</td>\n",
              "      <td>4.875197</td>\n",
              "    </tr>\n",
              "  </tbody>\n",
              "</table>\n",
              "</div>"
            ],
            "text/plain": [
              "               Temp     WindSpeed       WindDir          PM25      Log_PM25\n",
              "count  26299.000000  26299.000000  26299.000000  26299.000000  26299.000000\n",
              "mean      29.810069     20.479410    167.592684     27.309441      3.217490\n",
              "std        2.653087     13.030854     92.230443     15.368269      0.494102\n",
              "min       17.200000      0.000000      0.000000      3.000000      1.386294\n",
              "25%       28.000000     11.000000     80.000000     17.000000      2.890372\n",
              "50%       29.600000     17.000000    155.000000     23.000000      3.178054\n",
              "75%       31.600000     27.000000    260.000000     34.000000      3.555348\n",
              "max       38.100000     85.000000    360.000000    130.000000      4.875197"
            ]
          },
          "execution_count": 31,
          "metadata": {},
          "output_type": "execute_result"
        }
      ],
      "source": [
        "train_set['BKK'].describe(include='all')"
      ]
    },
    {
      "cell_type": "code",
      "execution_count": 32,
      "metadata": {},
      "outputs": [],
      "source": [
        "thresh = {}\n",
        "\n",
        "for prov, _ in train_set.items():\n",
        "    thresh[prov] = {}\n",
        "    thresh[prov]['min'], thresh[prov]['max'] = handle_outliers.calcOutliersMinMax(prov, 'Log_PM25', 3)\n",
        "    handle_outliers.setOutliersThreshold(prov, 'Log_PM25', 'new_Log_PM25', thresh)\n",
        "\n",
        "handle_outliers.addColumns('new_Log_PM25','new_PM25', lambda x: np.exp(x)-1)"
      ]
    },
    {
      "cell_type": "markdown",
      "metadata": {},
      "source": [
        "##### Example 'Saraburi' : Boxplots of old and new PM2.5 after outlier handling"
      ]
    },
    {
      "cell_type": "code",
      "execution_count": 33,
      "metadata": {},
      "outputs": [
        {
          "data": {
            "text/html": [
              "<div>\n",
              "<style scoped>\n",
              "    .dataframe tbody tr th:only-of-type {\n",
              "        vertical-align: middle;\n",
              "    }\n",
              "\n",
              "    .dataframe tbody tr th {\n",
              "        vertical-align: top;\n",
              "    }\n",
              "\n",
              "    .dataframe thead th {\n",
              "        text-align: right;\n",
              "    }\n",
              "</style>\n",
              "<table border=\"1\" class=\"dataframe\">\n",
              "  <thead>\n",
              "    <tr style=\"text-align: right;\">\n",
              "      <th></th>\n",
              "      <th>Temp</th>\n",
              "      <th>WindSpeed</th>\n",
              "      <th>WindDir</th>\n",
              "      <th>PM25</th>\n",
              "      <th>Log_PM25</th>\n",
              "      <th>new_Log_PM25</th>\n",
              "      <th>new_PM25</th>\n",
              "    </tr>\n",
              "  </thead>\n",
              "  <tbody>\n",
              "    <tr>\n",
              "      <th>count</th>\n",
              "      <td>26302.000000</td>\n",
              "      <td>26302.000000</td>\n",
              "      <td>26302.000000</td>\n",
              "      <td>26302.000000</td>\n",
              "      <td>26302.000000</td>\n",
              "      <td>26302.000000</td>\n",
              "      <td>26302.000000</td>\n",
              "    </tr>\n",
              "    <tr>\n",
              "      <th>mean</th>\n",
              "      <td>28.329245</td>\n",
              "      <td>21.015360</td>\n",
              "      <td>173.065546</td>\n",
              "      <td>33.852616</td>\n",
              "      <td>3.351286</td>\n",
              "      <td>3.354525</td>\n",
              "      <td>33.851236</td>\n",
              "    </tr>\n",
              "    <tr>\n",
              "      <th>std</th>\n",
              "      <td>4.062801</td>\n",
              "      <td>13.520995</td>\n",
              "      <td>83.727460</td>\n",
              "      <td>21.925800</td>\n",
              "      <td>0.671915</td>\n",
              "      <td>0.660619</td>\n",
              "      <td>21.777554</td>\n",
              "    </tr>\n",
              "    <tr>\n",
              "      <th>min</th>\n",
              "      <td>14.000000</td>\n",
              "      <td>0.000000</td>\n",
              "      <td>0.000000</td>\n",
              "      <td>1.000000</td>\n",
              "      <td>0.693147</td>\n",
              "      <td>1.335541</td>\n",
              "      <td>2.802054</td>\n",
              "    </tr>\n",
              "    <tr>\n",
              "      <th>25%</th>\n",
              "      <td>25.400000</td>\n",
              "      <td>11.000000</td>\n",
              "      <td>90.000000</td>\n",
              "      <td>18.000000</td>\n",
              "      <td>2.944439</td>\n",
              "      <td>2.944439</td>\n",
              "      <td>18.000000</td>\n",
              "    </tr>\n",
              "    <tr>\n",
              "      <th>50%</th>\n",
              "      <td>27.800000</td>\n",
              "      <td>18.000000</td>\n",
              "      <td>180.000000</td>\n",
              "      <td>29.000000</td>\n",
              "      <td>3.401197</td>\n",
              "      <td>3.401197</td>\n",
              "      <td>29.000000</td>\n",
              "    </tr>\n",
              "    <tr>\n",
              "      <th>75%</th>\n",
              "      <td>31.200000</td>\n",
              "      <td>28.000000</td>\n",
              "      <td>250.000000</td>\n",
              "      <td>44.000000</td>\n",
              "      <td>3.806662</td>\n",
              "      <td>3.806662</td>\n",
              "      <td>44.000000</td>\n",
              "    </tr>\n",
              "    <tr>\n",
              "      <th>max</th>\n",
              "      <td>40.900000</td>\n",
              "      <td>91.000000</td>\n",
              "      <td>360.000000</td>\n",
              "      <td>407.000000</td>\n",
              "      <td>6.011267</td>\n",
              "      <td>5.367030</td>\n",
              "      <td>213.225732</td>\n",
              "    </tr>\n",
              "  </tbody>\n",
              "</table>\n",
              "</div>"
            ],
            "text/plain": [
              "               Temp     WindSpeed       WindDir          PM25      Log_PM25  \\\n",
              "count  26302.000000  26302.000000  26302.000000  26302.000000  26302.000000   \n",
              "mean      28.329245     21.015360    173.065546     33.852616      3.351286   \n",
              "std        4.062801     13.520995     83.727460     21.925800      0.671915   \n",
              "min       14.000000      0.000000      0.000000      1.000000      0.693147   \n",
              "25%       25.400000     11.000000     90.000000     18.000000      2.944439   \n",
              "50%       27.800000     18.000000    180.000000     29.000000      3.401197   \n",
              "75%       31.200000     28.000000    250.000000     44.000000      3.806662   \n",
              "max       40.900000     91.000000    360.000000    407.000000      6.011267   \n",
              "\n",
              "       new_Log_PM25      new_PM25  \n",
              "count  26302.000000  26302.000000  \n",
              "mean       3.354525     33.851236  \n",
              "std        0.660619     21.777554  \n",
              "min        1.335541      2.802054  \n",
              "25%        2.944439     18.000000  \n",
              "50%        3.401197     29.000000  \n",
              "75%        3.806662     44.000000  \n",
              "max        5.367030    213.225732  "
            ]
          },
          "execution_count": 33,
          "metadata": {},
          "output_type": "execute_result"
        }
      ],
      "source": [
        "handle_outliers.dataset['SARA'].describe()"
      ]
    },
    {
      "cell_type": "code",
      "execution_count": 34,
      "metadata": {},
      "outputs": [
        {
          "data": {
            "image/png": "[encoded data removed]",
            "text/plain": [
              "<Figure size 1440x720 with 4 Axes>"
            ]
          },
          "metadata": {
            "needs_background": "light"
          },
          "output_type": "display_data"
        }
      ],
      "source": [
        "fig = plt.figure(figsize=(20,10))\n",
        "\n",
        "handle_outliers.plotIQR('SARA', 'new_PM25', 'Saraburi_Train new PM2.5', thresh, fig=fig, subplots=[221, 223], figsize=(15,10))\n",
        "handle_outliers.plotIQR('SARA', 'PM25', 'Saraburi_Train old PM2.5', thresh, fig=fig, subplots=[222, 224], figsize=(15,10))\n",
        "plt.show()"
      ]
    },
    {
      "cell_type": "markdown",
      "metadata": {
        "id": "BVf1rACoZREf"
      },
      "source": [
        "## SARIMAX"
      ]
    },
    {
      "cell_type": "code",
      "execution_count": 35,
      "metadata": {
        "id": "5YThJtVMZlap"
      },
      "outputs": [],
      "source": [
        "from sklearn.metrics import mean_squared_error\n",
        "from statsmodels.tsa.statespace.sarimax import SARIMAX\n",
        "\n",
        "import pickle"
      ]
    },
    {
      "cell_type": "code",
      "execution_count": 36,
      "metadata": {},
      "outputs": [],
      "source": [
        "bkk_train_tmp = handle_outliers.dataset['BKK'][['new_PM25', 'Temp', 'WindSpeed', 'WindDir']]\n",
        "bkk_train_tmp.rename(columns={'new_PM25':'PM25'}, inplace=True)\n",
        "\n",
        "bkk_train_tmp = handle_outliers.dataset['BKK'][['new_PM25', 'Temp', 'WindSpeed', 'WindDir']]\n",
        "bkk_train_tmp.rename(columns={'new_PM25':'PM25'}, inplace=True)\n"
      ]
    },
    {
      "cell_type": "code",
      "execution_count": 37,
      "metadata": {},
      "outputs": [
        {
          "data": {
            "text/html": [
              "<div>\n",
              "<style scoped>\n",
              "    .dataframe tbody tr th:only-of-type {\n",
              "        vertical-align: middle;\n",
              "    }\n",
              "\n",
              "    .dataframe tbody tr th {\n",
              "        vertical-align: top;\n",
              "    }\n",
              "\n",
              "    .dataframe thead th {\n",
              "        text-align: right;\n",
              "    }\n",
              "</style>\n",
              "<table border=\"1\" class=\"dataframe\">\n",
              "  <thead>\n",
              "    <tr style=\"text-align: right;\">\n",
              "      <th></th>\n",
              "      <th>PM25</th>\n",
              "      <th>Temp</th>\n",
              "      <th>WindSpeed</th>\n",
              "      <th>WindDir</th>\n",
              "    </tr>\n",
              "    <tr>\n",
              "      <th>Time</th>\n",
              "      <th></th>\n",
              "      <th></th>\n",
              "      <th></th>\n",
              "      <th></th>\n",
              "    </tr>\n",
              "  </thead>\n",
              "  <tbody>\n",
              "    <tr>\n",
              "      <th>2017-07-01 01:00:00</th>\n",
              "      <td>10.0</td>\n",
              "      <td>27.9</td>\n",
              "      <td>16</td>\n",
              "      <td>260</td>\n",
              "    </tr>\n",
              "    <tr>\n",
              "      <th>2017-07-01 02:00:00</th>\n",
              "      <td>17.0</td>\n",
              "      <td>27.9</td>\n",
              "      <td>16</td>\n",
              "      <td>255</td>\n",
              "    </tr>\n",
              "    <tr>\n",
              "      <th>2017-07-01 03:00:00</th>\n",
              "      <td>20.0</td>\n",
              "      <td>27.9</td>\n",
              "      <td>16</td>\n",
              "      <td>255</td>\n",
              "    </tr>\n",
              "    <tr>\n",
              "      <th>2017-07-01 04:00:00</th>\n",
              "      <td>15.0</td>\n",
              "      <td>27.4</td>\n",
              "      <td>16</td>\n",
              "      <td>255</td>\n",
              "    </tr>\n",
              "    <tr>\n",
              "      <th>2017-07-01 05:00:00</th>\n",
              "      <td>16.0</td>\n",
              "      <td>27.4</td>\n",
              "      <td>17</td>\n",
              "      <td>235</td>\n",
              "    </tr>\n",
              "  </tbody>\n",
              "</table>\n",
              "</div>"
            ],
            "text/plain": [
              "                     PM25  Temp  WindSpeed  WindDir\n",
              "Time                                               \n",
              "2017-07-01 01:00:00  10.0  27.9         16      260\n",
              "2017-07-01 02:00:00  17.0  27.9         16      255\n",
              "2017-07-01 03:00:00  20.0  27.9         16      255\n",
              "2017-07-01 04:00:00  15.0  27.4         16      255\n",
              "2017-07-01 05:00:00  16.0  27.4         17      235"
            ]
          },
          "execution_count": 37,
          "metadata": {},
          "output_type": "execute_result"
        }
      ],
      "source": [
        "bkk_train_tmp.head()"
      ]
    },
    {
      "cell_type": "code",
      "execution_count": 56,
      "metadata": {},
      "outputs": [
        {
          "data": {
            "text/plain": [
              "[<matplotlib.lines.Line2D at 0x1c987fa07c0>]"
            ]
          },
          "execution_count": 56,
          "metadata": {},
          "output_type": "execute_result"
        },
        {
          "data": {
            "image/png": "[encoded data removed]",
            "text/plain": [
              "<Figure size 864x432 with 1 Axes>"
            ]
          },
          "metadata": {
            "needs_background": "light"
          },
          "output_type": "display_data"
        }
      ],
      "source": [
        "bkk_train_tmp = bkk_train_tmp.resample('6H').mean()\n",
        "plt.figure(figsize=(12,6))\n",
        "plt.plot(bkk_train_tmp['PM25'],'r')"
      ]
    },
    {
      "cell_type": "code",
      "execution_count": 57,
      "metadata": {},
      "outputs": [
        {
          "data": {
            "text/html": [
              "<div>\n",
              "<style scoped>\n",
              "    .dataframe tbody tr th:only-of-type {\n",
              "        vertical-align: middle;\n",
              "    }\n",
              "\n",
              "    .dataframe tbody tr th {\n",
              "        vertical-align: top;\n",
              "    }\n",
              "\n",
              "    .dataframe thead th {\n",
              "        text-align: right;\n",
              "    }\n",
              "</style>\n",
              "<table border=\"1\" class=\"dataframe\">\n",
              "  <thead>\n",
              "    <tr style=\"text-align: right;\">\n",
              "      <th></th>\n",
              "      <th>PM25</th>\n",
              "      <th>Temp</th>\n",
              "      <th>WindSpeed</th>\n",
              "      <th>WindDir</th>\n",
              "    </tr>\n",
              "    <tr>\n",
              "      <th>Time</th>\n",
              "      <th></th>\n",
              "      <th></th>\n",
              "      <th></th>\n",
              "      <th></th>\n",
              "    </tr>\n",
              "  </thead>\n",
              "  <tbody>\n",
              "    <tr>\n",
              "      <th>2017-07-01 00:00:00</th>\n",
              "      <td>15.600000</td>\n",
              "      <td>27.700000</td>\n",
              "      <td>16.200000</td>\n",
              "      <td>252.000000</td>\n",
              "    </tr>\n",
              "    <tr>\n",
              "      <th>2017-07-01 06:00:00</th>\n",
              "      <td>23.333333</td>\n",
              "      <td>28.933333</td>\n",
              "      <td>17.666667</td>\n",
              "      <td>240.833333</td>\n",
              "    </tr>\n",
              "    <tr>\n",
              "      <th>2017-07-01 12:00:00</th>\n",
              "      <td>13.166667</td>\n",
              "      <td>32.733333</td>\n",
              "      <td>20.833333</td>\n",
              "      <td>259.166667</td>\n",
              "    </tr>\n",
              "    <tr>\n",
              "      <th>2017-07-01 18:00:00</th>\n",
              "      <td>14.500000</td>\n",
              "      <td>29.383333</td>\n",
              "      <td>25.166667</td>\n",
              "      <td>259.166667</td>\n",
              "    </tr>\n",
              "    <tr>\n",
              "      <th>2017-07-02 00:00:00</th>\n",
              "      <td>17.166667</td>\n",
              "      <td>27.700000</td>\n",
              "      <td>18.333333</td>\n",
              "      <td>256.666667</td>\n",
              "    </tr>\n",
              "  </tbody>\n",
              "</table>\n",
              "</div>"
            ],
            "text/plain": [
              "                          PM25       Temp  WindSpeed     WindDir\n",
              "Time                                                            \n",
              "2017-07-01 00:00:00  15.600000  27.700000  16.200000  252.000000\n",
              "2017-07-01 06:00:00  23.333333  28.933333  17.666667  240.833333\n",
              "2017-07-01 12:00:00  13.166667  32.733333  20.833333  259.166667\n",
              "2017-07-01 18:00:00  14.500000  29.383333  25.166667  259.166667\n",
              "2017-07-02 00:00:00  17.166667  27.700000  18.333333  256.666667"
            ]
          },
          "execution_count": 57,
          "metadata": {},
          "output_type": "execute_result"
        }
      ],
      "source": [
        "bkk_train_tmp.head()"
      ]
    },
    {
      "cell_type": "code",
      "execution_count": 58,
      "metadata": {},
      "outputs": [],
      "source": [
        "bkk_test = test_set['BKK']"
      ]
    },
    {
      "cell_type": "code",
      "execution_count": 59,
      "metadata": {},
      "outputs": [
        {
          "data": {
            "text/plain": [
              "(4384, 4)"
            ]
          },
          "execution_count": 59,
          "metadata": {},
          "output_type": "execute_result"
        }
      ],
      "source": [
        "bkk_train_tmp.shape"
      ]
    },
    {
      "cell_type": "code",
      "execution_count": 62,
      "metadata": {},
      "outputs": [
        {
          "data": {
            "text/plain": [
              "(1464, 4)"
            ]
          },
          "execution_count": 62,
          "metadata": {},
          "output_type": "execute_result"
        }
      ],
      "source": [
        "bkk_test = bkk_test.resample('6H').mean()\n",
        "bkk_test.shape"
      ]
    },
    {
      "cell_type": "code",
      "execution_count": 63,
      "metadata": {},
      "outputs": [],
      "source": [
        "train_size, valid_size = bkk_train_tmp.shape[0]-bkk_test.shape[0], bkk_test.shape[0]\n",
        "\n",
        "bkk_train, bkk_valid = bkk_train_tmp.iloc[:train_size], bkk_train_tmp.iloc[train_size: ],"
      ]
    },
    {
      "cell_type": "code",
      "execution_count": 64,
      "metadata": {},
      "outputs": [
        {
          "data": {
            "text/plain": [
              "(2920, 4)"
            ]
          },
          "execution_count": 64,
          "metadata": {},
          "output_type": "execute_result"
        }
      ],
      "source": [
        "bkk_train.shape"
      ]
    },
    {
      "cell_type": "code",
      "execution_count": 76,
      "metadata": {},
      "outputs": [],
      "source": [
        "best_order = (4, 1, 1)\n",
        "best_seasonal_order = (1, 1, 0, 1461)\n",
        "\n",
        "exog_columns = ['Temp', 'WindSpeed', 'WindDir']"
      ]
    },
    {
      "cell_type": "code",
      "execution_count": 77,
      "metadata": {},
      "outputs": [],
      "source": [
        "mod_bkk = SARIMAX(bkk_train['PM25'],\n",
        "              exog=bkk_train[exog_columns],\n",
        "              order=best_order,\n",
        "              seasonal_order=best_seasonal_order,\n",
        "              enforce_stationarity=False,\n",
        "              enforce_invertibility=False)\n",
        "\n",
        "results_bkk = mod_bkk.fit()\n",
        "\n",
        "print(results_bkk.summary().tables[1])"
      ]
    },
    {
      "cell_type": "code",
      "execution_count": 47,
      "metadata": {},
      "outputs": [],
      "source": [
        "# Open file - Write binary mode\n",
        "model_file = open('mod_bkk.model', 'wb')\n",
        "\n",
        "# Save Decision tree model\n",
        "pickle.dump(mod_bkk, model_file)\n",
        "\n",
        "# Close file\n",
        "model_file.close()"
      ]
    },
    {
      "cell_type": "code",
      "execution_count": 48,
      "metadata": {},
      "outputs": [],
      "source": [
        "test_exog = pd.concat((bkk_valid[exog_columns], bkk_test[exog_columns]), axis=0)"
      ]
    },
    {
      "cell_type": "code",
      "execution_count": 49,
      "metadata": {},
      "outputs": [
        {
          "data": {
            "text/plain": [
              "(17564, 3)"
            ]
          },
          "execution_count": 49,
          "metadata": {},
          "output_type": "execute_result"
        }
      ],
      "source": [
        "test_exog.shape"
      ]
    },
    {
      "cell_type": "code",
      "execution_count": 50,
      "metadata": {},
      "outputs": [
        {
          "data": {
            "text/plain": [
              "Timestamp('2020-07-01 01:00:00')"
            ]
          },
          "execution_count": 50,
          "metadata": {},
          "output_type": "execute_result"
        }
      ],
      "source": [
        "bkk_test.index[0]"
      ]
    },
    {
      "cell_type": "code",
      "execution_count": 51,
      "metadata": {},
      "outputs": [
        {
          "ename": "ValueError",
          "evalue": "Provided exogenous values are not of the appropriate shape. Required (17569, 3), got (17564, 3).",
          "output_type": "error",
          "traceback": [
            "\u001b[1;31m---------------------------------------------------------------------------\u001b[0m",
            "\u001b[1;31mValueError\u001b[0m                                Traceback (most recent call last)",
            "\u001b[1;32m~\\anaconda3\\lib\\site-packages\\statsmodels\\tsa\\statespace\\mlemodel.py\u001b[0m in \u001b[0;36m_validate_out_of_sample_exog\u001b[1;34m(self, exog, out_of_sample)\u001b[0m\n\u001b[0;32m   1757\u001b[0m             \u001b[1;32mtry\u001b[0m\u001b[1;33m:\u001b[0m\u001b[1;33m\u001b[0m\u001b[1;33m\u001b[0m\u001b[0m\n\u001b[1;32m-> 1758\u001b[1;33m                 \u001b[0mexog\u001b[0m \u001b[1;33m=\u001b[0m \u001b[0mexog\u001b[0m\u001b[1;33m.\u001b[0m\u001b[0mreshape\u001b[0m\u001b[1;33m(\u001b[0m\u001b[0mrequired_exog_shape\u001b[0m\u001b[1;33m)\u001b[0m\u001b[1;33m\u001b[0m\u001b[1;33m\u001b[0m\u001b[0m\n\u001b[0m\u001b[0;32m   1759\u001b[0m             \u001b[1;32mexcept\u001b[0m \u001b[0mValueError\u001b[0m\u001b[1;33m:\u001b[0m\u001b[1;33m\u001b[0m\u001b[1;33m\u001b[0m\u001b[0m\n",
            "\u001b[1;31mValueError\u001b[0m: cannot reshape array of size 52692 into shape (17569,3)",
            "\nDuring handling of the above exception, another exception occurred:\n",
            "\u001b[1;31mValueError\u001b[0m                                Traceback (most recent call last)",
            "\u001b[1;32m~\\AppData\\Local\\Temp/ipykernel_18264/91923569.py\u001b[0m in \u001b[0;36m<module>\u001b[1;34m\u001b[0m\n\u001b[1;32m----> 1\u001b[1;33m \u001b[0mbkk_pred\u001b[0m \u001b[1;33m=\u001b[0m \u001b[0mresults_bkk\u001b[0m\u001b[1;33m.\u001b[0m\u001b[0mget_prediction\u001b[0m\u001b[1;33m(\u001b[0m\u001b[0mstart\u001b[0m\u001b[1;33m=\u001b[0m\u001b[0mbkk_test\u001b[0m\u001b[1;33m.\u001b[0m\u001b[0mindex\u001b[0m\u001b[1;33m[\u001b[0m\u001b[1;36m0\u001b[0m\u001b[1;33m]\u001b[0m\u001b[1;33m,\u001b[0m \u001b[0mend\u001b[0m\u001b[1;33m=\u001b[0m\u001b[0mbkk_test\u001b[0m\u001b[1;33m.\u001b[0m\u001b[0mindex\u001b[0m\u001b[1;33m[\u001b[0m\u001b[1;33m-\u001b[0m\u001b[1;36m1\u001b[0m\u001b[1;33m]\u001b[0m\u001b[1;33m,\u001b[0m \u001b[0mexog\u001b[0m\u001b[1;33m=\u001b[0m\u001b[0mtest_exog\u001b[0m\u001b[1;33m,\u001b[0m \u001b[0mdynamic\u001b[0m\u001b[1;33m=\u001b[0m\u001b[1;32mFalse\u001b[0m\u001b[1;33m)\u001b[0m\u001b[1;33m\u001b[0m\u001b[1;33m\u001b[0m\u001b[0m\n\u001b[0m\u001b[0;32m      2\u001b[0m \u001b[0mbkk_pred_ci\u001b[0m \u001b[1;33m=\u001b[0m \u001b[0mbkk_pred\u001b[0m\u001b[1;33m.\u001b[0m\u001b[0mconf_int\u001b[0m\u001b[1;33m(\u001b[0m\u001b[1;33m)\u001b[0m\u001b[1;33m\u001b[0m\u001b[1;33m\u001b[0m\u001b[0m\n",
            "\u001b[1;32m~\\anaconda3\\lib\\site-packages\\statsmodels\\tsa\\statespace\\mlemodel.py\u001b[0m in \u001b[0;36mget_prediction\u001b[1;34m(self, start, end, dynamic, index, exog, extend_model, extend_kwargs, **kwargs)\u001b[0m\n\u001b[0;32m   3299\u001b[0m                             not self.filter_results.time_invariant)\n\u001b[0;32m   3300\u001b[0m         \u001b[1;32mif\u001b[0m \u001b[0mout_of_sample\u001b[0m \u001b[1;32mand\u001b[0m \u001b[0mextend_model\u001b[0m\u001b[1;33m:\u001b[0m\u001b[1;33m\u001b[0m\u001b[1;33m\u001b[0m\u001b[0m\n\u001b[1;32m-> 3301\u001b[1;33m             kwargs = self.model._get_extension_time_varying_matrices(\n\u001b[0m\u001b[0;32m   3302\u001b[0m                 \u001b[0mself\u001b[0m\u001b[1;33m.\u001b[0m\u001b[0mparams\u001b[0m\u001b[1;33m,\u001b[0m \u001b[0mexog\u001b[0m\u001b[1;33m,\u001b[0m \u001b[0mout_of_sample\u001b[0m\u001b[1;33m,\u001b[0m \u001b[0mextend_kwargs\u001b[0m\u001b[1;33m,\u001b[0m\u001b[1;33m\u001b[0m\u001b[1;33m\u001b[0m\u001b[0m\n\u001b[0;32m   3303\u001b[0m                 transformed=True, includes_fixed=True, **kwargs)\n",
            "\u001b[1;32m~\\anaconda3\\lib\\site-packages\\statsmodels\\tsa\\statespace\\sarimax.py\u001b[0m in \u001b[0;36m_get_extension_time_varying_matrices\u001b[1;34m(self, params, exog, out_of_sample, extend_kwargs, transformed, includes_fixed, **kwargs)\u001b[0m\n\u001b[0;32m   1716\u001b[0m \u001b[1;33m\u001b[0m\u001b[0m\n\u001b[0;32m   1717\u001b[0m         \u001b[1;31m# Get the appropriate exog for the extended sample\u001b[0m\u001b[1;33m\u001b[0m\u001b[1;33m\u001b[0m\u001b[0m\n\u001b[1;32m-> 1718\u001b[1;33m         \u001b[0mexog\u001b[0m \u001b[1;33m=\u001b[0m \u001b[0mself\u001b[0m\u001b[1;33m.\u001b[0m\u001b[0m_validate_out_of_sample_exog\u001b[0m\u001b[1;33m(\u001b[0m\u001b[0mexog\u001b[0m\u001b[1;33m,\u001b[0m \u001b[0mout_of_sample\u001b[0m\u001b[1;33m)\u001b[0m\u001b[1;33m\u001b[0m\u001b[1;33m\u001b[0m\u001b[0m\n\u001b[0m\u001b[0;32m   1719\u001b[0m \u001b[1;33m\u001b[0m\u001b[0m\n\u001b[0;32m   1720\u001b[0m         \u001b[1;31m# Get the tmp endog, exog\u001b[0m\u001b[1;33m\u001b[0m\u001b[1;33m\u001b[0m\u001b[0m\n",
            "\u001b[1;32m~\\anaconda3\\lib\\site-packages\\statsmodels\\tsa\\statespace\\mlemodel.py\u001b[0m in \u001b[0;36m_validate_out_of_sample_exog\u001b[1;34m(self, exog, out_of_sample)\u001b[0m\n\u001b[0;32m   1758\u001b[0m                 \u001b[0mexog\u001b[0m \u001b[1;33m=\u001b[0m \u001b[0mexog\u001b[0m\u001b[1;33m.\u001b[0m\u001b[0mreshape\u001b[0m\u001b[1;33m(\u001b[0m\u001b[0mrequired_exog_shape\u001b[0m\u001b[1;33m)\u001b[0m\u001b[1;33m\u001b[0m\u001b[1;33m\u001b[0m\u001b[0m\n\u001b[0;32m   1759\u001b[0m             \u001b[1;32mexcept\u001b[0m \u001b[0mValueError\u001b[0m\u001b[1;33m:\u001b[0m\u001b[1;33m\u001b[0m\u001b[1;33m\u001b[0m\u001b[0m\n\u001b[1;32m-> 1760\u001b[1;33m                 raise ValueError('Provided exogenous values are not of the'\n\u001b[0m\u001b[0;32m   1761\u001b[0m                                  \u001b[1;34m' appropriate shape. Required %s, got %s.'\u001b[0m\u001b[1;33m\u001b[0m\u001b[1;33m\u001b[0m\u001b[0m\n\u001b[0;32m   1762\u001b[0m                                  % (str(required_exog_shape),\n",
            "\u001b[1;31mValueError\u001b[0m: Provided exogenous values are not of the appropriate shape. Required (17569, 3), got (17564, 3)."
          ]
        }
      ],
      "source": [
        "bkk_pred = results_bkk.get_prediction(start=bkk_test.index[0], end=bkk_test.index[-1], exog=test_exog, dynamic=False)\n",
        "bkk_pred_ci = bkk_pred.conf_int()"
      ]
    },
    {
      "cell_type": "code",
      "execution_count": null,
      "metadata": {},
      "outputs": [],
      "source": [
        "from matplotlib.pyplot import figure\n",
        "\n",
        "figure(num=None, figsize=(18, 6), dpi=80, facecolor='w', edgecolor='k')\n",
        "plt.plot(bkk_train['PM2.5(µg/m3)'], color='g',label='ground truth')\n",
        "bkk_pred_ci.predicted_mean.plot(alpha=.7, color='r',label='predict')\n",
        "plt.legend(loc=\"upper right\")\n",
        "\n",
        "plt.show()"
      ]
    },
    {
      "cell_type": "markdown",
      "metadata": {},
      "source": [
        "# Grid Search"
      ]
    },
    {
      "cell_type": "code",
      "execution_count": null,
      "metadata": {},
      "outputs": [],
      "source": [
        "from sklearn.model_selection import GridSearchCV"
      ]
    },
    {
      "cell_type": "code",
      "execution_count": null,
      "metadata": {},
      "outputs": [],
      "source": []
    }
  ],
  "metadata": {
    "colab": {
      "collapsed_sections": [],
      "name": "project_nb.ipynb",
      "provenance": [],
      "toc_visible": true
    },
    "kernelspec": {
      "display_name": "Python 3",
      "name": "python3"
    },
    "language_info": {
      "codemirror_mode": {
        "name": "ipython",
        "version": 3
      },
      "file_extension": ".py",
      "mimetype": "text/x-python",
      "name": "python",
      "nbconvert_exporter": "python",
      "pygments_lexer": "ipython3",
      "version": "3.9.7"
    }
  },
  "nbformat": 4,
  "nbformat_minor": 0
}
