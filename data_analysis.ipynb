{
 "cells": [
  {
   "cell_type": "code",
   "execution_count": 1,
   "metadata": {
    "id": "xXgecYKfoECO"
   },
   "outputs": [],
   "source": [
    "#Import the libraries\n",
    "import numpy as np\n",
    "import pandas as pd\n",
    "\n",
    "import pickle\n",
    "\n",
    "import warnings\n",
    "warnings.filterwarnings(\"ignore\")"
   ]
  },
  {
   "cell_type": "markdown",
   "metadata": {
    "id": "9Q8kjFgTgF-R"
   },
   "source": [
    "## Download and Unzip the dataset."
   ]
  },
  {
   "cell_type": "code",
   "execution_count": 2,
   "metadata": {
    "colab": {
     "base_uri": "https://localhost:8080/"
    },
    "id": "vawEUIM6oIoc",
    "outputId": "6a5219ba-aa9b-4f88-b2df-325524590b6e"
   },
   "outputs": [],
   "source": [
    "# url_to_the_zip_file = \"https://storage.googleapis.com/kaggle-competitions-data/kaggle-v2/34330/3265183/bundle/archive.zip?GoogleAccessId=web-data@kaggle-161607.iam.gserviceaccount.com&Expires=1647437599&Signature=qVPxXAvAiFlZLpO%2Fp287NXm%2FlUOymBxRMs7NJKMGXlm3afW9PV9LuNalMJS56E%2BjsMSHh46ouLS6gNHYbyPwmdLSQiPpLQPGU6NTKTNprbDUOgYb2rqC4w6AgLOpdRh%2FGdabYAVAdjIh24Teoj5k%2Bs%2Fybm00sxAGf358%2BcxjEonvvUJDEhK7GTtv9NAFxAfsO%2F69xOWSkLEhjjnCwQ3QzfXWxbuYVnqlwy0dwQ6S%2F8iQappRaQg2%2BF9j76t1ay0B3Kg3ANj0P5EuVMDL2KVld3cQLiM7DPi9vQQV531T8snYsbiHjoE%2BhkH6w%2BWeULvu5UpDSaiVRepgtoscjgM8ig%3D%3D&response-content-disposition=attachment%3B+filename%3D2110446-data-science-and-data-engineering-2022.zip\"\n",
    "# new_file_name = \"2110446-data-science-and-data-engineering-2022.zip\"\n",
    "\n",
    "# !rm -f \"$new_file_name\"\n",
    "# !wget -c \"$url_to_the_zip_file\" -O \"$new_file_name\"\n",
    "# !unzip \"$new_file_name\""
   ]
  },
  {
   "cell_type": "markdown",
   "metadata": {
    "id": "DsnbYs9_gRM7"
   },
   "source": [
    "## read_csv()"
   ]
  },
  {
   "cell_type": "code",
   "execution_count": 3,
   "metadata": {},
   "outputs": [],
   "source": [
    "from custom_function.csv_df import toDF, toDFtest"
   ]
  },
  {
   "cell_type": "code",
   "execution_count": 4,
   "metadata": {
    "id": "-pesZD33wbfW"
   },
   "outputs": [],
   "source": [
    "bkk_train = toDF('BKK/train/bkk_train.csv', 'BKK/train/bkk_temp_surface.csv', 'BKK/train/bkk_weather_wind.csv')\n",
    "bkk_test = toDFtest('BKK/test/bkk_test.csv', 'BKK/test/bkk_temp_test.csv', 'BKK/test/bkk_wind_test.csv')\n",
    "\n",
    "cnx_train = toDF('Chiangmai/train/chiangmai_train.csv', 'Chiangmai/train/chiangmai_temp_surface.csv', 'Chiangmai/train/chiangmai_weather_wind.csv')\n",
    "cnx_test = toDFtest('Chiangmai/test/chiangmai_test.csv', 'Chiangmai/test/chiangmai_temp_test.csv', 'Chiangmai/test/chiangmai_wind_test.csv')\n",
    "\n",
    "kkc_train = toDF('Khonkaen/train/khonkhan_train.csv', 'Khonkaen/train/khonkaen_temp_surface.csv', 'Khonkaen/train/khonkaen_weather_wind.csv')\n",
    "kkc_test = toDFtest('Khonkaen/test/khonkhan_test.csv', 'Khonkaen/test/khonkaen_temp_test.csv', 'Khonkaen/test/khonkaen_wind_test.csv')\n",
    "\n",
    "rayong_train = toDF('Rayong/train/rayong_train.csv', 'Rayong/train/rayong_temp_surface.csv', 'Rayong/train/rayong_weather_wind.csv')\n",
    "rayong_test = toDFtest('Rayong/test/rayong_test.csv', 'Rayong/test/rayong_temp_test.csv', 'Rayong/test/rayong_wind_test.csv')\n",
    "\n",
    "saraburi_train = toDF('Saraburi/train/saraburi_train.csv', 'Saraburi/train/saraburi_temp_surface.csv', 'Saraburi/train/saraburi_weather_wind.csv')\n",
    "saraburi_test = toDFtest('Saraburi/test/saraburi_test.csv', 'Saraburi/test/saraburi_temp_test.csv', 'Saraburi/test/saraburi_wind_test.csv')\n",
    "\n",
    "surat_train = toDF('Surat/train/surat_train.csv', 'Surat/train/surat_temp_surface.csv', 'Surat/train/surat_weather_wind.csv')\n",
    "surat_test = toDFtest('Surat/test/surat_test.csv', 'Surat/test/surat_temp_test.csv', 'Surat/test/surat_wind_test.csv')"
   ]
  },
  {
   "cell_type": "code",
   "execution_count": 5,
   "metadata": {
    "id": "g6yh3t62xExb"
   },
   "outputs": [],
   "source": [
    "train_set={}\n",
    "train_set['BKK'] = bkk_train\n",
    "train_set['CNX'] = cnx_train\n",
    "train_set['KKC'] = kkc_train\n",
    "train_set['RAY'] = rayong_train\n",
    "train_set['SARA'] = saraburi_train\n",
    "train_set['SURAT'] = surat_train\n",
    "\n",
    "test_set={}\n",
    "test_set['BKK'] = bkk_test\n",
    "test_set['CNX'] = cnx_test\n",
    "test_set['KKC'] = kkc_test\n",
    "test_set['RAY'] = rayong_test\n",
    "test_set['SARA'] = saraburi_test\n",
    "test_set['SURAT'] = surat_test"
   ]
  },
  {
   "cell_type": "markdown",
   "metadata": {
    "id": "jFyqozn2gCfP"
   },
   "source": [
    "## Number of null values"
   ]
  },
  {
   "cell_type": "markdown",
   "metadata": {
    "id": "1sIgs-pZk9-o"
   },
   "source": [
    "### Before Dropping"
   ]
  },
  {
   "cell_type": "code",
   "execution_count": 6,
   "metadata": {
    "colab": {
     "base_uri": "https://localhost:8080/"
    },
    "id": "-QMUjz5lSKcb",
    "outputId": "174a0c44-7935-4b67-dc64-4c78cccbe52b"
   },
   "outputs": [
    {
     "name": "stdout",
     "output_type": "stream",
     "text": [
      "[bkk_train] Number of null values in each column:\n",
      "Temp         0\n",
      "WindSpeed    0\n",
      "WindDir      0\n",
      "PM25         0\n",
      "dtype: int64\n",
      "\n",
      "\n",
      "[cnx_train] Number of null values in each column:\n",
      "Temp         0\n",
      "WindSpeed    0\n",
      "WindDir      0\n",
      "PM25         0\n",
      "dtype: int64\n",
      "\n",
      "\n",
      "[kkc_train] Number of null values in each column:\n",
      "Temp         0\n",
      "WindSpeed    0\n",
      "WindDir      0\n",
      "PM25         0\n",
      "dtype: int64\n",
      "\n",
      "\n",
      "[rayong_train] Number of null values in each column:\n",
      "Temp         0\n",
      "WindSpeed    0\n",
      "WindDir      0\n",
      "PM25         0\n",
      "dtype: int64\n",
      "\n",
      "\n",
      "[saraburi_train] Number of null values in each column:\n",
      "Temp         0\n",
      "WindSpeed    0\n",
      "WindDir      0\n",
      "PM25         0\n",
      "dtype: int64\n",
      "\n",
      "\n",
      "[surat_train] Number of null values in each column:\n",
      "Temp         0\n",
      "WindSpeed    0\n",
      "WindDir      0\n",
      "PM25         0\n",
      "dtype: int64\n"
     ]
    }
   ],
   "source": [
    "null_counts_bkk_train = bkk_train.isnull().sum()\n",
    "print(\"[bkk_train] Number of null values in each column:\\n{}\".format(null_counts_bkk_train))\n",
    "print('\\n')\n",
    "\n",
    "null_counts_cnx_train = cnx_train.isnull().sum()\n",
    "print(\"[cnx_train] Number of null values in each column:\\n{}\".format(null_counts_cnx_train))\n",
    "print('\\n')\n",
    "\n",
    "null_counts_kkc_train = kkc_train.isnull().sum()\n",
    "print(\"[kkc_train] Number of null values in each column:\\n{}\".format(null_counts_kkc_train))\n",
    "print('\\n')\n",
    "\n",
    "null_counts_rayong_train = rayong_train.isnull().sum()\n",
    "print(\"[rayong_train] Number of null values in each column:\\n{}\".format(null_counts_rayong_train))\n",
    "print('\\n')\n",
    "\n",
    "null_counts_saraburi_train = saraburi_train.isnull().sum()\n",
    "print(\"[saraburi_train] Number of null values in each column:\\n{}\".format(null_counts_saraburi_train))\n",
    "print('\\n')\n",
    "\n",
    "null_counts_surat_train = surat_train.isnull().sum()\n",
    "print(\"[surat_train] Number of null values in each column:\\n{}\".format(null_counts_surat_train))"
   ]
  },
  {
   "cell_type": "markdown",
   "metadata": {
    "id": "4CCQLxJfkJH7"
   },
   "source": [
    "### Drop null-valued rows (Temp & PM25)"
   ]
  },
  {
   "cell_type": "code",
   "execution_count": 7,
   "metadata": {
    "id": "CsXSNDKNgbcZ"
   },
   "outputs": [],
   "source": [
    "bkk_train.dropna(subset=['Temp','PM25'], inplace=True)\n",
    "\n",
    "cnx_train.dropna(subset=['Temp','PM25'], inplace=True)\n",
    "\n",
    "kkc_train.dropna(subset=['Temp','PM25'], inplace=True)\n",
    "\n",
    "rayong_train.dropna(subset=['Temp','PM25'], inplace=True)\n",
    "\n",
    "saraburi_train.dropna(subset=['Temp','PM25'], inplace=True)\n",
    "\n",
    "surat_train.dropna(subset=['Temp','PM25'], inplace=True)"
   ]
  },
  {
   "cell_type": "markdown",
   "metadata": {
    "id": "o8G8zw34QbBX"
   },
   "source": [
    "## Graph Plotting"
   ]
  },
  {
   "cell_type": "code",
   "execution_count": 8,
   "metadata": {
    "id": "jehuJYr8liF-"
   },
   "outputs": [],
   "source": [
    "import matplotlib.pyplot as plt\n",
    "import seaborn as sns\n",
    "\n",
    "import warnings\n",
    "warnings.simplefilter(action='ignore', category=FutureWarning)\n",
    "\n",
    "%matplotlib inline\n",
    "plt.rcParams[\"figure.figsize\"] = (10, 6)"
   ]
  },
  {
   "cell_type": "code",
   "execution_count": 9,
   "metadata": {
    "id": "voo5JkVyQpq2"
   },
   "outputs": [],
   "source": [
    "def multiDisplot(dataset, col, hist=False, xlim=None):\n",
    "  for prov, _ in dataset.items():\n",
    "    sns.distplot(dataset[prov][col], hist=hist, label=prov)\n",
    "    # print(f\"{prov} {col}={dataset[prov][col].mean()}\")\n",
    "  plt.xlim(xlim)\n",
    "  plt.legend()\n",
    "  plt.show()"
   ]
  },
  {
   "cell_type": "code",
   "execution_count": 10,
   "metadata": {
    "colab": {
     "base_uri": "https://localhost:8080/",
     "height": 387
    },
    "id": "HjqMfjGtQiD1",
    "outputId": "bb139400-1991-402a-d838-0cab841c32b1"
   },
   "outputs": [],
   "source": [
    "# multiDisplot(train_set, 'PM25', xlim=(-10, 120), hist=True)"
   ]
  },
  {
   "cell_type": "code",
   "execution_count": 11,
   "metadata": {
    "colab": {
     "base_uri": "https://localhost:8080/",
     "height": 392
    },
    "id": "gQiGswNGYaIj",
    "outputId": "049db434-1a92-4134-f306-404759595fc3"
   },
   "outputs": [],
   "source": [
    "# multiDisplot(train_set, 'Temp', hist=True)"
   ]
  },
  {
   "cell_type": "code",
   "execution_count": null,
   "metadata": {
    "colab": {
     "base_uri": "https://localhost:8080/",
     "height": 387
    },
    "id": "3cA6qxBYYcqQ",
    "outputId": "f902577b-3297-4c83-abd3-3cb51caa5d67"
   },
   "outputs": [],
   "source": [
    "# multiDisplot(train_set, 'WindDir', hist=True)"
   ]
  },
  {
   "cell_type": "code",
   "execution_count": null,
   "metadata": {
    "colab": {
     "base_uri": "https://localhost:8080/",
     "height": 387
    },
    "id": "7_l3n0kpYevb",
    "outputId": "59c723b7-fc5b-4ffa-9d9c-401240db0fd9"
   },
   "outputs": [],
   "source": [
    "# multiDisplot(train_set, 'WindSpeed', hist=True)"
   ]
  },
  {
   "cell_type": "markdown",
   "metadata": {
    "id": "7y2JL7qjleFi"
   },
   "source": [
    "## Handle outliers"
   ]
  },
  {
   "cell_type": "code",
   "execution_count": null,
   "metadata": {
    "id": "y-zzUaiUnI4a"
   },
   "outputs": [],
   "source": [
    "from custom_function.handle_outliers import HandleOutliers"
   ]
  },
  {
   "cell_type": "markdown",
   "metadata": {
    "id": "2gp5C_mpmHIh"
   },
   "source": [
    "### Using IQR to detect outliers"
   ]
  },
  {
   "cell_type": "code",
   "execution_count": null,
   "metadata": {
    "id": "1zNGh889orze"
   },
   "outputs": [],
   "source": [
    "handle_outliers = HandleOutliers(train_set)"
   ]
  },
  {
   "cell_type": "markdown",
   "metadata": {
    "id": "zth7aXeErTuJ"
   },
   "source": [
    "#### Before Log"
   ]
  },
  {
   "cell_type": "code",
   "execution_count": null,
   "metadata": {
    "colab": {
     "base_uri": "https://localhost:8080/",
     "height": 513
    },
    "id": "N1dYhGk8ljJT",
    "outputId": "b09c5dae-0630-48d2-b631-582ac55f1b3f"
   },
   "outputs": [],
   "source": [
    "# handle_outliers.plotIQR('BKK', 'PM25', 'Bangkok_Train PM2.5')\n",
    "# handle_outliers.calcDataShape('BKK', 'PM25', save_slot='Before')"
   ]
  },
  {
   "cell_type": "code",
   "execution_count": null,
   "metadata": {
    "colab": {
     "base_uri": "https://localhost:8080/",
     "height": 513
    },
    "id": "HNfSlKTMlqZw",
    "outputId": "c0aa08f7-3893-4c87-9a50-04692638724d"
   },
   "outputs": [],
   "source": [
    "# handle_outliers.plotIQR('CNX', 'PM25', \"Chiangmai_Train PM2.5\")\n",
    "# handle_outliers.calcDataShape('CNX', 'PM25', save_slot='Before')"
   ]
  },
  {
   "cell_type": "code",
   "execution_count": null,
   "metadata": {
    "colab": {
     "base_uri": "https://localhost:8080/",
     "height": 513
    },
    "id": "EPht5qPamirr",
    "outputId": "fb76d78f-28ea-43c6-8d64-d9eca07b8619"
   },
   "outputs": [],
   "source": [
    "# handle_outliers.plotIQR('KKC', 'PM25', \"Khonkaen_Train PM2.5\")\n",
    "# handle_outliers.calcDataShape('KKC', 'PM25', save_slot='Before')"
   ]
  },
  {
   "cell_type": "code",
   "execution_count": null,
   "metadata": {
    "colab": {
     "base_uri": "https://localhost:8080/",
     "height": 513
    },
    "id": "VXEeJlvXmss3",
    "outputId": "334eb7fa-67cb-4ac1-ab4a-949402de2cb6"
   },
   "outputs": [],
   "source": [
    "# handle_outliers.plotIQR('RAY', 'PM25', \"Rayong_Train PM2.5\")\n",
    "# handle_outliers.calcDataShape('RAY', 'PM25', save_slot='Before')"
   ]
  },
  {
   "cell_type": "code",
   "execution_count": null,
   "metadata": {
    "colab": {
     "base_uri": "https://localhost:8080/",
     "height": 513
    },
    "id": "8GRia0a9ms-V",
    "outputId": "12706c46-976f-4c1e-f003-534a81641ffb"
   },
   "outputs": [],
   "source": [
    "# handle_outliers.plotIQR(\"SARA\", 'PM25', \"Saraburi_Train PM2.5\")\n",
    "# handle_outliers.calcDataShape(\"SARA\", 'PM25', save_slot='Before')"
   ]
  },
  {
   "cell_type": "code",
   "execution_count": null,
   "metadata": {
    "colab": {
     "base_uri": "https://localhost:8080/",
     "height": 513
    },
    "id": "kx2AAC29m02T",
    "outputId": "c173dce5-422f-4fd3-f3d2-e0353aa82cfc"
   },
   "outputs": [],
   "source": [
    "# handle_outliers.plotIQR('SURAT', 'PM25', \"Surat_Train PM2.5\")\n",
    "# handle_outliers.calcDataShape('SURAT', 'PM25', save_slot='Before')"
   ]
  },
  {
   "cell_type": "markdown",
   "metadata": {
    "id": "4_eE7bdoress"
   },
   "source": [
    "#### After Log"
   ]
  },
  {
   "cell_type": "code",
   "execution_count": null,
   "metadata": {
    "id": "b3J4EmhzFvZr"
   },
   "outputs": [],
   "source": [
    "handle_outliers.addColumns('PM25', 'Log_PM25', lambda x: np.log(1+x))"
   ]
  },
  {
   "cell_type": "code",
   "execution_count": null,
   "metadata": {
    "colab": {
     "base_uri": "https://localhost:8080/",
     "height": 514
    },
    "id": "qJXgJwbTm3hH",
    "outputId": "33c2651e-b41d-4855-b15c-26ed7eabb5fc"
   },
   "outputs": [],
   "source": [
    "# handle_outliers.plotIQR('BKK', 'Log_PM25', \"Bangkok_Train Log(PM2.5)\")\n",
    "# handle_outliers.calcDataShape('BKK', 'Log_PM25', save_slot='After')"
   ]
  },
  {
   "cell_type": "code",
   "execution_count": null,
   "metadata": {
    "colab": {
     "base_uri": "https://localhost:8080/",
     "height": 514
    },
    "id": "hBlNkvGhs90S",
    "outputId": "485aa080-ed28-4a17-ae86-f033c9391697"
   },
   "outputs": [],
   "source": [
    "# handle_outliers.plotIQR('CNX', 'Log_PM25', \"Chiangmai_Train Log(PM2.5)\")\n",
    "# handle_outliers.calcDataShape('CNX', 'Log_PM25', save_slot='After')"
   ]
  },
  {
   "cell_type": "code",
   "execution_count": null,
   "metadata": {
    "colab": {
     "base_uri": "https://localhost:8080/",
     "height": 514
    },
    "id": "E4y1vjTzypBE",
    "outputId": "21f63cad-f39b-4350-8aa0-2da36d977c28"
   },
   "outputs": [],
   "source": [
    "# handle_outliers.plotIQR('KKC', 'Log_PM25', \"Khonkaen_Train Log(PM2.5)\")\n",
    "# handle_outliers.calcDataShape('KKC', 'Log_PM25', save_slot='After')"
   ]
  },
  {
   "cell_type": "code",
   "execution_count": null,
   "metadata": {
    "colab": {
     "base_uri": "https://localhost:8080/",
     "height": 514
    },
    "id": "46EzEOgaysIY",
    "outputId": "21c14ed9-aeea-4bfe-e57f-beab143c3eff"
   },
   "outputs": [],
   "source": [
    "# handle_outliers.plotIQR('RAY', 'Log_PM25', \"Rayong_Train Log(PM2.5)\")\n",
    "# handle_outliers.calcDataShape('RAY', 'Log_PM25', save_slot='After')"
   ]
  },
  {
   "cell_type": "code",
   "execution_count": null,
   "metadata": {
    "colab": {
     "base_uri": "https://localhost:8080/",
     "height": 514
    },
    "id": "69vV1VnzyuUg",
    "outputId": "45b98c00-dbde-407f-e4ee-03084a8fcddf"
   },
   "outputs": [],
   "source": [
    "# handle_outliers.plotIQR('SARA', 'Log_PM25', \"Saraburi_Train Log(PM2.5)\")\n",
    "# handle_outliers.calcDataShape('SARA', 'Log_PM25', save_slot='After')"
   ]
  },
  {
   "cell_type": "code",
   "execution_count": null,
   "metadata": {
    "colab": {
     "base_uri": "https://localhost:8080/",
     "height": 514
    },
    "id": "YWNAS6Q_yzCD",
    "outputId": "430aeece-7576-4c6a-b905-eb5399b6d912"
   },
   "outputs": [],
   "source": [
    "# handle_outliers.plotIQR('SURAT', 'Log_PM25', \"Surat_Train Log(PM2.5)\")\n",
    "# handle_outliers.calcDataShape('SURAT', 'Log_PM25', save_slot='After')"
   ]
  },
  {
   "cell_type": "markdown",
   "metadata": {
    "id": "7wQjPl3pzPOZ"
   },
   "source": [
    "#### Set the outliers to min or max"
   ]
  },
  {
   "cell_type": "code",
   "execution_count": null,
   "metadata": {
    "colab": {
     "base_uri": "https://localhost:8080/"
    },
    "id": "WA_BRSalONxs",
    "outputId": "4d4131e5-c584-4d21-ce19-d1e644f213e4"
   },
   "outputs": [],
   "source": [
    "# handle_outliers.showDataShape('BKK', 'PM25', 'Before')\n",
    "# handle_outliers.showDataShape('BKK', 'Log_PM25')"
   ]
  },
  {
   "cell_type": "code",
   "execution_count": null,
   "metadata": {},
   "outputs": [],
   "source": [
    "thresh = {}\n",
    "\n",
    "for prov, _ in train_set.items():\n",
    "    thresh[prov] = {}\n",
    "    thresh[prov]['min'], thresh[prov]['max'] = handle_outliers.calcOutliersMinMax(prov, 'Log_PM25', 3)\n",
    "    handle_outliers.setOutliersThreshold(prov, 'Log_PM25', 'new_Log_PM25', thresh)\n",
    "\n",
    "handle_outliers.addColumns('new_Log_PM25','new_PM25', lambda x: np.exp(x)-1)"
   ]
  },
  {
   "cell_type": "markdown",
   "metadata": {},
   "source": [
    "##### Example 'Saraburi' : Boxplots of old and new PM2.5 after outlier handling"
   ]
  },
  {
   "cell_type": "code",
   "execution_count": null,
   "metadata": {},
   "outputs": [],
   "source": [
    "# handle_outliers.dataset['SARA'].describe()"
   ]
  },
  {
   "cell_type": "code",
   "execution_count": null,
   "metadata": {},
   "outputs": [],
   "source": [
    "# fig = plt.figure(figsize=(20,10))\n",
    "\n",
    "# handle_outliers.plotIQR('SARA', 'new_PM25', 'Saraburi_Train new PM2.5', thresh, fig=fig, subplots=[221, 223], figsize=(15,10))\n",
    "# handle_outliers.plotIQR('SARA', 'PM25', 'Saraburi_Train old PM2.5', thresh, fig=fig, subplots=[222, 224], figsize=(15,10))\n",
    "# plt.show()"
   ]
  },
  {
   "cell_type": "code",
   "execution_count": null,
   "metadata": {},
   "outputs": [],
   "source": [
    "province = ['BKK','CNX','KKC','RAY','SARA','SURAT']"
   ]
  },
  {
   "cell_type": "code",
   "execution_count": null,
   "metadata": {},
   "outputs": [],
   "source": [
    "train_out = {} ; test_out = test_set\n",
    "\n",
    "for p in province:\n",
    "    train_out[p] = handle_outliers.dataset[p][['new_PM25', 'Temp', 'WindSpeed', 'WindDir']]\n",
    "    train_out[p].rename(columns={'new_PM25':'PM25'}, inplace=True)\n",
    "\n",
    "with open('clean_dataset_2022/train_set.bin',\"wb\") as f:\n",
    "    pickle.dump(train_out, f)\n",
    "\n",
    "with open('clean_dataset_2022/test_set.bin',\"wb\") as g:\n",
    "    pickle.dump(test_out, g)"
   ]
  }
 ],
 "metadata": {
  "colab": {
   "collapsed_sections": [],
   "name": "project_nb.ipynb",
   "provenance": [],
   "toc_visible": true
  },
  "kernelspec": {
   "display_name": "Python 3 (ipykernel)",
   "language": "python",
   "name": "python3"
  },
  "language_info": {
   "codemirror_mode": {
    "name": "ipython",
    "version": 3
   },
   "file_extension": ".py",
   "mimetype": "text/x-python",
   "name": "python",
   "nbconvert_exporter": "python",
   "pygments_lexer": "ipython3",
   "version": "3.9.7"
  }
 },
 "nbformat": 4,
 "nbformat_minor": 1
}
