{
 "cells": [
  {
   "cell_type": "markdown",
   "metadata": {},
   "source": [
    "# Random Search"
   ]
  },
  {
   "cell_type": "code",
   "execution_count": 106,
   "metadata": {},
   "outputs": [],
   "source": [
    "#Import the libraries\n",
    "import numpy as np\n",
    "import pandas as pd\n",
    "\n",
    "import pickle\n",
    "\n",
    "import random\n",
    "import warnings\n",
    "warnings.filterwarnings(\"ignore\")\n",
    "\n",
    "import itertools\n",
    "from tqdm import tqdm"
   ]
  },
  {
   "cell_type": "code",
   "execution_count": 107,
   "metadata": {},
   "outputs": [],
   "source": [
    "train_data = pickle.load(open('clean_dataset_2022/train_set.bin', 'rb'))\n",
    "\n",
    "test_data = pickle.load(open('clean_dataset_2022/test_set.bin', 'rb'))"
   ]
  },
  {
   "cell_type": "code",
   "execution_count": 108,
   "metadata": {},
   "outputs": [],
   "source": [
    "province = ['BKK','CNX','KKC','RAY','SARA','SURAT']\n",
    "exog_columns = ['Temp', 'WindSpeed', 'WindDir']"
   ]
  },
  {
   "cell_type": "code",
   "execution_count": 109,
   "metadata": {},
   "outputs": [],
   "source": [
    "from sklearn.metrics import mean_squared_error\n",
    "from statsmodels.tsa.statespace.sarimax import SARIMAX\n",
    "\n",
    "from matplotlib.pyplot import figure\n",
    "import matplotlib.pyplot as plt"
   ]
  },
  {
   "cell_type": "code",
   "execution_count": 110,
   "metadata": {},
   "outputs": [],
   "source": [
    "from importlib import reload\n",
    "\n",
    "from custom_function import minimalSARIMAX\n",
    "\n",
    "reload(minimalSARIMAX)\n",
    "\n",
    "from custom_function.minimalSARIMAX import MinimalSARIMAX"
   ]
  },
  {
   "cell_type": "code",
   "execution_count": 111,
   "metadata": {},
   "outputs": [],
   "source": [
    "p = q = range(0, 7) ; d = range(0, 2)\n",
    "pdq = list(itertools.product(p, d, q))"
   ]
  },
  {
   "cell_type": "code",
   "execution_count": 112,
   "metadata": {},
   "outputs": [],
   "source": [
    "P = Q = range(0, 3) ; D = range(0, 2) ; S = 1461\n",
    "pdqs = [(x[0], x[1], x[2], S) for x in list(itertools.product(P, D, Q))]"
   ]
  },
  {
   "cell_type": "code",
   "execution_count": 113,
   "metadata": {},
   "outputs": [],
   "source": [
    "# Define function\n",
    "def sarimax_randomsearch(y_train, y_test, pdq, PDQs, y_val = None, x_train = None, x_test = None, x_val = None, model_exog=None, verbose=0, n_rand=10):\n",
    "    '''\n",
    "    Input: \n",
    "        y_train: training data\n",
    "        y_test: test data\n",
    "        pdq : ARIMA combinations \n",
    "        pdqs : seasonal ARIMA combinations \n",
    "        x_train: exogenous training data\n",
    "        x_test: exogenous test data\n",
    "\n",
    "    Return:\n",
    "        Returns dataframe of parameter combinations with the least RMSE\n",
    "    '''\n",
    "\n",
    "    ans_df = pd.DataFrame(columns=['pdq', 'pdqs', 'rmse'])\n",
    "    \n",
    "    \n",
    "    for i in range(n_rand):\n",
    "        comb = random.sample(pdq, 1)[0]\n",
    "        combs = random.sample(PDQs, 1)[0]\n",
    "        \n",
    "        p, d, q = comb[0], comb[1], comb[2]\n",
    "        P, D, Q = combs[0], combs[1], combs[2]\n",
    "        if (d <= 1) and (D <= 1) and (P <= 1) and (Q <= 1):  \n",
    "            model = MinimalSARIMAX(y_train, comb, combs, exog=x_train)\n",
    "            model.fit(lr=1e-6, lr_decay=0.999, verbose=0) \n",
    "\n",
    "            if (y_val is None):\n",
    "                y_pred, err = model.predict(y_test, y_exog=x_test, verbose=verbose)\n",
    "                rmse = model.scoring(y_pred, y_test)\n",
    "\n",
    "            else:\n",
    "                Result = model.predict_step(y_val, y_test, val_X_exog=x_val, y_exog=x_test,\n",
    "                                            model_exog=model_exog, lr=np.array([1e-6, 1e-6, 1e-6, 5e-7]), lr_decay=0.999875,\n",
    "                                            learn=True, verbose=verbose, verbose_rmse=0)\n",
    "\n",
    "                _, y_pred_sav, _ = Result\n",
    "                \n",
    "                rmse = model.scoring(y_pred_sav.iloc[:,[1]], y_pred_sav.iloc[:,[2]])\n",
    "            \n",
    "            print(f\"ITER#{i} {comb} {combs}\")\n",
    "            \n",
    "            ans_df = ans_df.append({'pdq':comb, 'pdqs':combs, 'rmse':rmse}, ignore_index=True)\n",
    "        else:\n",
    "            i-=1\n",
    "\n",
    "    # Sort and return a combination with the lowest RMSE\n",
    "    ans_df = ans_df.sort_values(by=['rmse'],ascending=True)\n",
    "    \n",
    "    return ans_df"
   ]
  },
  {
   "cell_type": "code",
   "execution_count": 114,
   "metadata": {},
   "outputs": [],
   "source": [
    "ratio = 0.7\n",
    "\n",
    "pm_train_bkk = train_data[province[0]][['PM25']][:int(ratio*train_data[province[0]].shape[0])]\n",
    "pm_valid_bkk = train_data[province[0]][['PM25']][int(ratio*train_data[province[0]].shape[0]):]\n",
    "pm_test_bkk = test_data[province[0]][['PM25']]\n",
    "exo_train_bkk = train_data[province[0]][exog_columns][:int(ratio*train_data[province[0]].shape[0])]\n",
    "exo_valid_bkk = train_data[province[0]][exog_columns][int(ratio*train_data[province[0]].shape[0]):]\n",
    "exo_test_bkk = test_data[province[0]][exog_columns]\n",
    "\n",
    "\n",
    "pm_train_cnx = train_data[province[1]][['PM25']][:int(ratio*train_data[province[0]].shape[0])]\n",
    "pm_valid_cnx = train_data[province[1]][['PM25']][int(ratio*train_data[province[0]].shape[0]):]\n",
    "pm_test_cnx = test_data[province[1]][['PM25']]\n",
    "exo_train_cnx = train_data[province[1]][exog_columns][:int(ratio*train_data[province[0]].shape[0])]\n",
    "exo_valid_cnx = train_data[province[1]][exog_columns][int(ratio*train_data[province[0]].shape[0]):]\n",
    "exo_test_cnx = test_data[province[1]][exog_columns]\n",
    "\n",
    "\n",
    "pm_train_kkc = train_data[province[2]][['PM25']][:int(ratio*train_data[province[0]].shape[0])]\n",
    "pm_valid_kkc = train_data[province[2]][['PM25']][int(ratio*train_data[province[0]].shape[0]):]\n",
    "pm_test_kkc = test_data[province[2]][['PM25']]\n",
    "exo_train_kkc = train_data[province[2]][exog_columns][:int(ratio*train_data[province[0]].shape[0])]\n",
    "exo_valid_kkc = train_data[province[2]][exog_columns][int(ratio*train_data[province[0]].shape[0]):]\n",
    "exo_test_kkc = test_data[province[2]][exog_columns]\n",
    "\n",
    "\n",
    "pm_train_ray = train_data[province[3]][['PM25']][:int(ratio*train_data[province[0]].shape[0])]\n",
    "pm_valid_ray = train_data[province[3]][['PM25']][int(ratio*train_data[province[0]].shape[0]):]\n",
    "pm_test_ray = test_data[province[3]][['PM25']]\n",
    "exo_train_ray = train_data[province[3]][exog_columns][:int(ratio*train_data[province[0]].shape[0])]\n",
    "exo_valid_ray = train_data[province[3]][exog_columns][int(ratio*train_data[province[0]].shape[0]):]\n",
    "exo_test_ray = test_data[province[3]][exog_columns]\n",
    "\n",
    "\n",
    "pm_train_sara = train_data[province[4]][['PM25']][:int(ratio*train_data[province[0]].shape[0])]\n",
    "pm_valid_sara = train_data[province[4]][['PM25']][int(ratio*train_data[province[0]].shape[0]):]\n",
    "pm_test_sara = test_data[province[4]][['PM25']]\n",
    "exo_train_sara = train_data[province[4]][exog_columns][:int(ratio*train_data[province[0]].shape[0])]\n",
    "exo_valid_sara = train_data[province[4]][exog_columns][int(ratio*train_data[province[0]].shape[0]):]\n",
    "exo_test_sara = test_data[province[4]][exog_columns]\n",
    "\n",
    "\n",
    "pm_train_surat = train_data[province[5]][['PM25']][:int(ratio*train_data[province[0]].shape[0])]\n",
    "pm_valid_surat = train_data[province[5]][['PM25']][int(ratio*train_data[province[0]].shape[0]):]\n",
    "pm_test_surat = test_data[province[5]][['PM25']]\n",
    "exo_train_surat = train_data[province[5]][exog_columns][:int(ratio*train_data[province[0]].shape[0])]\n",
    "exo_valid_surat = train_data[province[5]][exog_columns][int(ratio*train_data[province[0]].shape[0]):]\n",
    "exo_test_surat = test_data[province[5]][exog_columns]"
   ]
  },
  {
   "cell_type": "markdown",
   "metadata": {},
   "source": [
    "## Tuning parameters for temperature"
   ]
  },
  {
   "cell_type": "code",
   "execution_count": 115,
   "metadata": {},
   "outputs": [],
   "source": [
    "temp = exog_columns[0]\n",
    "\n",
    "temp_train_bkk = pd.DataFrame(exo_train_bkk[temp])\n",
    "temp_valid_bkk = pd.DataFrame(exo_valid_bkk[temp])\n",
    "temp_test_bkk = pd.DataFrame(exo_test_bkk[temp])\n",
    "\n",
    "temp_train_cnx = pd.DataFrame(exo_train_cnx[temp])\n",
    "temp_valid_cnx = pd.DataFrame(exo_valid_cnx[temp])\n",
    "temp_test_cnx = pd.DataFrame(exo_test_cnx[temp])\n",
    "\n",
    "temp_train_kkc = pd.DataFrame(exo_train_kkc[temp])\n",
    "temp_valid_kkc = pd.DataFrame(exo_valid_kkc[temp])\n",
    "temp_test_kkc = pd.DataFrame(exo_test_kkc[temp])\n",
    "\n",
    "temp_train_ray = pd.DataFrame(exo_train_ray[temp])\n",
    "temp_valid_ray = pd.DataFrame(exo_valid_ray[temp])\n",
    "temp_test_ray = pd.DataFrame(exo_test_ray[temp])\n",
    "\n",
    "temp_train_sara = pd.DataFrame(exo_train_sara[temp])\n",
    "temp_valid_sara = pd.DataFrame(exo_valid_sara[temp])\n",
    "temp_test_sara = pd.DataFrame(exo_test_sara[temp])\n",
    "\n",
    "temp_train_surat = pd.DataFrame(exo_train_surat[temp])\n",
    "temp_valid_surat = pd.DataFrame(exo_valid_surat[temp])\n",
    "temp_test_surat = pd.DataFrame(exo_test_surat[temp])"
   ]
  },
  {
   "cell_type": "code",
   "execution_count": 102,
   "metadata": {},
   "outputs": [
    {
     "name": "stderr",
     "output_type": "stream",
     "text": [
      "100%|██████████| 16675/16675 [11:38<00:00, 23.89it/s]\n"
     ]
    },
    {
     "name": "stdout",
     "output_type": "stream",
     "text": [
      "ITER#0  RMSE:2.599983281567849\n"
     ]
    },
    {
     "name": "stderr",
     "output_type": "stream",
     "text": [
      "100%|██████████| 16675/16675 [13:43<00:00, 20.25it/s]\n"
     ]
    },
    {
     "name": "stdout",
     "output_type": "stream",
     "text": [
      "ITER#0  RMSE:2.321497724273218\n"
     ]
    },
    {
     "name": "stderr",
     "output_type": "stream",
     "text": [
      "100%|██████████| 16675/16675 [13:51<00:00, 20.05it/s]\n"
     ]
    },
    {
     "name": "stdout",
     "output_type": "stream",
     "text": [
      "ITER#0  RMSE:2.1328514989179173\n"
     ]
    },
    {
     "name": "stderr",
     "output_type": "stream",
     "text": [
      "100%|██████████| 16675/16675 [14:46<00:00, 18.80it/s]"
     ]
    },
    {
     "name": "stdout",
     "output_type": "stream",
     "text": [
      "ITER#0  RMSE:2.240611058713268\n"
     ]
    },
    {
     "name": "stderr",
     "output_type": "stream",
     "text": [
      "\n"
     ]
    }
   ],
   "source": [
    "gSearch_temp_bkk = sarimax_randomsearch(temp_train_bkk, temp_test_bkk, pdq, pdqs, y_val=temp_valid_bkk, n_rand=5, verbose=1)\n",
    "display(gSearch_temp_bkk)"
   ]
  },
  {
   "cell_type": "code",
   "execution_count": 103,
   "metadata": {},
   "outputs": [
    {
     "data": {
      "text/html": [
       "<div>\n",
       "<style scoped>\n",
       "    .dataframe tbody tr th:only-of-type {\n",
       "        vertical-align: middle;\n",
       "    }\n",
       "\n",
       "    .dataframe tbody tr th {\n",
       "        vertical-align: top;\n",
       "    }\n",
       "\n",
       "    .dataframe thead th {\n",
       "        text-align: right;\n",
       "    }\n",
       "</style>\n",
       "<table border=\"1\" class=\"dataframe\">\n",
       "  <thead>\n",
       "    <tr style=\"text-align: right;\">\n",
       "      <th></th>\n",
       "      <th>pdq</th>\n",
       "      <th>pdqs</th>\n",
       "      <th>rmse</th>\n",
       "    </tr>\n",
       "  </thead>\n",
       "  <tbody>\n",
       "    <tr>\n",
       "      <th>0</th>\n",
       "      <td>(3, 1, 2)</td>\n",
       "      <td>(0, 1, 0, 1461)</td>\n",
       "      <td>1.801819</td>\n",
       "    </tr>\n",
       "    <tr>\n",
       "      <th>2</th>\n",
       "      <td>(4, 0, 1)</td>\n",
       "      <td>(1, 0, 0, 1461)</td>\n",
       "      <td>2.770823</td>\n",
       "    </tr>\n",
       "    <tr>\n",
       "      <th>1</th>\n",
       "      <td>(6, 1, 2)</td>\n",
       "      <td>(1, 0, 1, 1461)</td>\n",
       "      <td>2.839233</td>\n",
       "    </tr>\n",
       "    <tr>\n",
       "      <th>3</th>\n",
       "      <td>(4, 0, 3)</td>\n",
       "      <td>(1, 0, 1, 1461)</td>\n",
       "      <td>3.039645</td>\n",
       "    </tr>\n",
       "  </tbody>\n",
       "</table>\n",
       "</div>"
      ],
      "text/plain": [
       "         pdq             pdqs      rmse\n",
       "0  (3, 1, 2)  (0, 1, 0, 1461)  1.801819\n",
       "2  (4, 0, 1)  (1, 0, 0, 1461)  2.770823\n",
       "1  (6, 1, 2)  (1, 0, 1, 1461)  2.839233\n",
       "3  (4, 0, 3)  (1, 0, 1, 1461)  3.039645"
      ]
     },
     "metadata": {},
     "output_type": "display_data"
    }
   ],
   "source": [
    "display(gSearch_temp_bkk)"
   ]
  },
  {
   "cell_type": "code",
   "execution_count": 104,
   "metadata": {},
   "outputs": [
    {
     "name": "stderr",
     "output_type": "stream",
     "text": [
      "100%|██████████| 16675/16675 [14:59<00:00, 18.54it/s]\n"
     ]
    },
    {
     "name": "stdout",
     "output_type": "stream",
     "text": [
      "ITER#0  RMSE:5.476901712043151\n"
     ]
    },
    {
     "name": "stderr",
     "output_type": "stream",
     "text": [
      "100%|██████████| 16675/16675 [14:55<00:00, 18.62it/s]\n"
     ]
    },
    {
     "name": "stdout",
     "output_type": "stream",
     "text": [
      "ITER#0  RMSE:5.4198102510466635\n"
     ]
    },
    {
     "name": "stderr",
     "output_type": "stream",
     "text": [
      "100%|██████████| 16675/16675 [14:54<00:00, 18.64it/s]"
     ]
    },
    {
     "name": "stdout",
     "output_type": "stream",
     "text": [
      "ITER#0  RMSE:3.5400890873706032\n"
     ]
    },
    {
     "name": "stderr",
     "output_type": "stream",
     "text": [
      "\n"
     ]
    },
    {
     "data": {
      "text/html": [
       "<div>\n",
       "<style scoped>\n",
       "    .dataframe tbody tr th:only-of-type {\n",
       "        vertical-align: middle;\n",
       "    }\n",
       "\n",
       "    .dataframe tbody tr th {\n",
       "        vertical-align: top;\n",
       "    }\n",
       "\n",
       "    .dataframe thead th {\n",
       "        text-align: right;\n",
       "    }\n",
       "</style>\n",
       "<table border=\"1\" class=\"dataframe\">\n",
       "  <thead>\n",
       "    <tr style=\"text-align: right;\">\n",
       "      <th></th>\n",
       "      <th>pdq</th>\n",
       "      <th>pdqs</th>\n",
       "      <th>rmse</th>\n",
       "    </tr>\n",
       "  </thead>\n",
       "  <tbody>\n",
       "    <tr>\n",
       "      <th>1</th>\n",
       "      <td>(1, 0, 6)</td>\n",
       "      <td>(0, 1, 1, 1461)</td>\n",
       "      <td>1.798262</td>\n",
       "    </tr>\n",
       "    <tr>\n",
       "      <th>0</th>\n",
       "      <td>(1, 0, 4)</td>\n",
       "      <td>(1, 1, 1, 1461)</td>\n",
       "      <td>1.806863</td>\n",
       "    </tr>\n",
       "    <tr>\n",
       "      <th>2</th>\n",
       "      <td>(3, 0, 2)</td>\n",
       "      <td>(1, 1, 1, 1461)</td>\n",
       "      <td>2.001401</td>\n",
       "    </tr>\n",
       "  </tbody>\n",
       "</table>\n",
       "</div>"
      ],
      "text/plain": [
       "         pdq             pdqs      rmse\n",
       "1  (1, 0, 6)  (0, 1, 1, 1461)  1.798262\n",
       "0  (1, 0, 4)  (1, 1, 1, 1461)  1.806863\n",
       "2  (3, 0, 2)  (1, 1, 1, 1461)  2.001401"
      ]
     },
     "metadata": {},
     "output_type": "display_data"
    }
   ],
   "source": [
    "gSearch_temp_cnx = sarimax_randomsearch(temp_train_cnx, temp_test_cnx, pdq, pdqs, y_val=temp_valid_bkk, n_rand=5, verbose=1)\n",
    "display(gSearch_temp_cnx)"
   ]
  },
  {
   "cell_type": "code",
   "execution_count": 116,
   "metadata": {},
   "outputs": [],
   "source": [
    "gSearch_temp_kkc = sarimax_randomsearch(temp_train_kkc, temp_test_kkc, pdq, pdqs, y_val=temp_valid_bkk, n_rand=5, verbose=1)\n",
    "display(gSearch_temp_kkc)"
   ]
  },
  {
   "cell_type": "code",
   "execution_count": null,
   "metadata": {},
   "outputs": [],
   "source": [
    "gSearch_temp_sara = sarimax_randomsearch(temp_train_sara, temp_test_sara, pdq, pdqs, y_val=temp_valid_bkk, n_rand=5, verbose=1)\n",
    "display(gSearch_temp_sara)"
   ]
  },
  {
   "cell_type": "code",
   "execution_count": null,
   "metadata": {},
   "outputs": [],
   "source": [
    "gSearch_temp_surat = sarimax_randomsearch(temp_train_surat, temp_test_surat, pdq, pdqs, y_val=temp_valid_bkk, n_rand=5, verbose=1)\n",
    "display(gSearch_temp_surat)"
   ]
  },
  {
   "cell_type": "code",
   "execution_count": null,
   "metadata": {},
   "outputs": [],
   "source": [
    "with open('answer_dataset/gSearch_temp_bkk_03.bin',\"wb\") as f:\n",
    "    pickle.dump(gSearch_temp_bkk, f)\n",
    "\n",
    "with open('answer_dataset/gSearch_temp_cnx_03.bin',\"wb\") as f:\n",
    "    pickle.dump(gSearch_temp_cnx, f)\n",
    "    \n",
    "with open('answer_dataset/gSearch_temp_ray_03.bin',\"wb\") as f:\n",
    "    pickle.dump(gSearch_temp_bkk, f)\n",
    "\n",
    "with open('answer_dataset/gSearch_temp_sara_03.bin',\"wb\") as f:\n",
    "    pickle.dump(gSearch_temp_sara, f)\n",
    "\n",
    "with open('answer_dataset/gSearch_temp_surat_03.bin',\"wb\") as f:\n",
    "    pickle.dump(gSearch_temp_surat, f)"
   ]
  },
  {
   "cell_type": "code",
   "execution_count": null,
   "metadata": {},
   "outputs": [],
   "source": [
    "temp_order = {province[0]: gSearch_temp_bkk.pdq, province[1]: gSearch_temp_cnx.pdq, province[2]: gSearch_temp_kkc.pdq, province[3]: gSearch_temp_ray.pdq, province[4]: gSearch_temp_sara.pdq, province[5]: gSearch_temp_surat.pdq}\n",
    "temp_seasonal_order = {province[0]: gSearch_temp_bkk.pdqs, province[1]: gSearch_temp_cnx.pdqs, province[2]: gSearch_temp_kkc.pdqs, province[3]: gSearch_temp_ray.pdqs, province[4]: gSearch_temp_sara.pdqs, province[5]: gSearch_temp_surat.pdqs}\n",
    "print(temp_order)\n",
    "print(temp_seasonal_order)"
   ]
  },
  {
   "cell_type": "markdown",
   "metadata": {},
   "source": [
    "## Tuning parameters for windspeed"
   ]
  },
  {
   "cell_type": "code",
   "execution_count": null,
   "metadata": {},
   "outputs": [],
   "source": [
    "windSpeed = exog_columns[1]\n",
    "windSpeed_train_bkk = pd.DataFrame(exo_train_bkk[windSpeed])\n",
    "windSpeed_valid_bkk = pd.DataFrame(exo_valid_bkk[windSpeed])\n",
    "windSpeed_test_bkk = pd.DataFrame(exo_test_bkk[windSpeed])\n",
    "\n",
    "windSpeed_train_cnx = pd.DataFrame(exo_train_cnx[windSpeed])\n",
    "windSpeed_valid_cnx = pd.DataFrame(exo_valid_cnx[windSpeed])\n",
    "windSpeed_test_cnx = pd.DataFrame(exo_test_cnx[windSpeed])\n",
    "\n",
    "windSpeed_train_kkc = pd.DataFrame(exo_train_kkc[windSpeed])\n",
    "windSpeed_valid_kkc = pd.DataFrame(exo_valid_kkc[windSpeed])\n",
    "windSpeed_test_kkc = pd.DataFrame(exo_test_kkc[windSpeed])\n",
    "\n",
    "windSpeed_train_ray = pd.DataFrame(exo_train_ray[windSpeed])\n",
    "windSpeed_valid_ray = pd.DataFrame(exo_valid_ray[windSpeed])\n",
    "windSpeed_test_ray = pd.DataFrame(exo_test_ray[windSpeed])\n",
    "\n",
    "windSpeed_train_sara = pd.DataFrame(exo_train_sara[windSpeed])\n",
    "windSpeed_valid_sara = pd.DataFrame(exo_valid_sara[windSpeed])\n",
    "windSpeed_test_sara = pd.DataFrame(exo_test_sara[windSpeed])\n",
    "\n",
    "windSpeed_train_surat = pd.DataFrame(exo_train_surat[windSpeed])\n",
    "windSpeed_valid_surat = pd.DataFrame(exo_valid_surat[windSpeed])\n",
    "windSpeed_test_surat = pd.DataFrame(exo_test_surat[windSpeed])"
   ]
  },
  {
   "cell_type": "code",
   "execution_count": null,
   "metadata": {},
   "outputs": [],
   "source": [
    "gSearch_windSpeed_bkk = sarimax_randomsearch(windSpeed_train_bkk, windSpeed_test_bkk, pdq, pdqs, y_val=windSpeed_valid_bkk)\n",
    "gSearch_windSpeed_cnx = sarimax_randomsearch(windSpeed_train_cnx, windSpeed_test_cnx, pdq, pdqs, y_val=windSpeed_valid_cnx)\n",
    "gSearch_windSpeed_kkc = sarimax_randomsearch(windSpeed_train_kkc, windSpeed_test_kkc, pdq, pdqs, y_val=windSpeed_valid_kkc)\n",
    "gSearch_windSpeed_ray = sarimax_randomsearch(windSpeed_train_ray, windSpeed_test_ray, pdq, pdqs, y_val=windSpeed_valid_ray)\n",
    "gSearch_windSpeed_sara = sarimax_randomsearch(windSpeed_train_sara, windSpeed_test_sara, pdq, pdqs, y_val=windSpeed_valid_sara)\n",
    "gSearch_windSpeed_surat = sarimax_randomsearch(windSpeed_train_surat, windSpeed_test_surat, pdq, pdqs, y_val=windSpeed_valid_surat)"
   ]
  },
  {
   "cell_type": "code",
   "execution_count": null,
   "metadata": {},
   "outputs": [],
   "source": [
    "windSpeed_order = {province[0]: gSearch_windSpeed_bkk.pdq, province[1]: gSearch_windSpeed_cnx.pdq, province[2]: gSearch_windSpeed_kkc.pdq, province[3]: gSearch_windSpeed_ray.pdq, province[4]: gSearch_windSpeed_sara.pdq, province[5]: gSearch_windSpeed_surat.pdq}\n",
    "windSpeed_seasonal_order = {province[0]: gSearch_windSpeed_bkk.pdqs, province[1]: gSearch_windSpeed_cnx.pdqs, province[2]: gSearch_windSpeed_kkc.pdqs, province[3]: gSearch_windSpeed_ray.pdqs, province[4]: gSearch_windSpeed_sara.pdqs, province[5]: gSearch_windSpeed_surat.pdqs}\n",
    "print(windSpeed_order)\n",
    "print(windSpeed_seasonal_order)"
   ]
  },
  {
   "cell_type": "markdown",
   "metadata": {},
   "source": [
    "## Tuning parameters for wind direction"
   ]
  },
  {
   "cell_type": "code",
   "execution_count": null,
   "metadata": {},
   "outputs": [],
   "source": [
    "windDir = exog_columns[2]\n",
    "windDir_train_bkk = pd.DataFrame(exo_train_bkk[windDir])\n",
    "windDir_test_bkk = pd.DataFrame(exo_test_bkk[windDir])\n",
    "\n",
    "windDir_train_cnx = pd.DataFrame(exo_train_cnx[windDir])\n",
    "windDir_test_cnx = pd.DataFrame(exo_test_cnx[windDir])\n",
    "\n",
    "windDir_train_kkc = pd.DataFrame(exo_train_kkc[windDir])\n",
    "windDir_test_kkc = pd.DataFrame(exo_test_kkc[windDir])\n",
    "\n",
    "windDir_train_ray = pd.DataFrame(exo_train_ray[windDir])\n",
    "windDir_test_ray = pd.DataFrame(exo_test_ray[windDir])\n",
    "\n",
    "windDir_train_sara = pd.DataFrame(exo_train_sara[windDir])\n",
    "windDir_test_sara = pd.DataFrame(exo_test_sara[windDir])\n",
    "\n",
    "windDir_train_surat = pd.DataFrame(exo_train_surat[windDir])\n",
    "windDir_test_surat = pd.DataFrame(exo_test_surat[windDir])"
   ]
  },
  {
   "cell_type": "code",
   "execution_count": null,
   "metadata": {},
   "outputs": [],
   "source": [
    "gSearch_windDir_bkk = sarimax_randomsearch(windDir_train_bkk, windDir_test_bkk, pdq, pdqs)\n",
    "gSearch_windDir_cnx = sarimax_randomsearch(windDir_train_cnx, windDir_test_cnx, pdq, pdqs)\n",
    "gSearch_windDir_kkc = sarimax_randomsearch(windDir_train_kkc, windDir_test_kkc, pdq, pdqs)\n",
    "gSearch_windDir_ray = sarimax_randomsearch(windDir_train_ray, windDir_test_ray, pdq, pdqs)\n",
    "gSearch_windDir_sara = sarimax_randomsearch(windDir_train_sara, windDir_test_sara, pdq, pdqs)\n",
    "gSearch_windDir_surat = sarimax_randomsearch(windDir_train_surat, windDir_test_surat, pdq, pdqs)"
   ]
  },
  {
   "cell_type": "code",
   "execution_count": null,
   "metadata": {},
   "outputs": [],
   "source": [
    "windDir_order = {province[0]: gSearch_windDir_bkk.pdq, province[1]: gSearch_windDir_cnx.pdq, province[2]: gSearch_windDir_kkc.pdq, province[3]: gSearch_windDir_ray.pdq, province[4]: gSearch_windDir_sara.pdq, province[5]: gSearch_windDir_surat.pdq}\n",
    "windDir_seasonal_order = {province[0]: gSearch_windDir_bkk.pdqs, province[1]: gSearch_windDir_cnx.pdqs, province[2]: gSearch_windDir_kkc.pdqs, province[3]: gSearch_windDir_ray.pdqs, province[4]: gSearch_windDir_sara.pdqs, province[5]: gSearch_windDir_surat.pdqs}\n",
    "print(windDir_order)\n",
    "print(windDir_seasonal_order)"
   ]
  },
  {
   "cell_type": "markdown",
   "metadata": {},
   "source": [
    "## Tuning parameters for PM2.5"
   ]
  },
  {
   "cell_type": "code",
   "execution_count": null,
   "metadata": {
    "scrolled": true
   },
   "outputs": [],
   "source": [
    "result_bkk = sarimax_randomsearch(pm_train_bkk, pm_test_bkk, pdq, pdqs, y_val=pm_valid_bkk, x_train=exo_train_bkk, x_test=exo_test_bkk, x_val=exo_valid_bkk)\n",
    "result_cnx = sarimax_randomsearch(pm_train_cnx, pm_test_cnx, pdq, pdqs, y_val=pm_valid_cnx, x_train=exo_train_cnx, x_test=exo_test_cnx, x_val=exo_valid_cnx)\n",
    "result_kkc = sarimax_randomsearch(pm_train_kkc, pm_test_kkc, pdq, pdqs, y_val=pm_valid_kkc, x_train=exo_train_kkc, x_test=exo_test_kkc, x_val=exo_valid_kkc)\n",
    "result_ray = sarimax_randomsearch(pm_train_ray, pm_test_ray, pdq, pdqs, y_val=pm_valid_ray, x_train=exo_train_ray, x_test=exo_test_ray, x_val=exo_valid_ray)\n",
    "result_sara = sarimax_randomsearch(pm_train_sara, pm_test_sara, pdq, pdqs, y_val=pm_valid_sara, x_train=exo_train_sara, x_test=exo_test_sara, x_val=exo_valid_sara)\n",
    "result_surat = sarimax_randomsearch(pm_train_surat, pm_test_surat, pdq, pdqs, y_val=pm_valid_surat, x_train=exo_train_surat, x_test=exo_test_surat, x_val=exo_valid_surat)"
   ]
  },
  {
   "cell_type": "code",
   "execution_count": null,
   "metadata": {},
   "outputs": [],
   "source": [
    "with open('answer_dataset/gridsearch/result_bkk_03.bin',\"wb\") as f:\n",
    "    pickle.dump(result_bkk, f)\n",
    "\n",
    "with open('answer_dataset/gridsearch/result_cnx_03.bin',\"wb\") as f:\n",
    "    pickle.dump(result_cnx, f)\n",
    "    \n",
    "with open('answer_dataset/gridsearch/result_ray_03.bin',\"wb\") as f:\n",
    "    pickle.dump(result_bkk, f)\n",
    "\n",
    "with open('answer_dataset/gridsearch/result_sara_03.bin',\"wb\") as f:\n",
    "    pickle.dump(result_sara, f)\n",
    "\n",
    "with open('answer_dataset/gridsearch/result_surat_03.bin',\"wb\") as f:\n",
    "    pickle.dump(result_surat, f)"
   ]
  },
  {
   "cell_type": "code",
   "execution_count": null,
   "metadata": {},
   "outputs": [],
   "source": [
    "order = {province[0]: result_bkk.pdq, province[1]: result_cnx.pdq, province[2]: result_kkc.pdq, province[3]: result_ray.pdq, province[4]: result_sara.pdq, province[5]: result_surat.pdq}\n",
    "seasonal_order = {province[0]: result_bkk.pdqs, province[1]: result_cnx.pdqs, province[2]: result_kkc.pdqs, province[3]: result_ray.pdqs, province[4]: result_sara.pdqs, province[5]: result_surat.pdqs}\n",
    "print(order)\n",
    "print(seasonal_order)"
   ]
  }
 ],
 "metadata": {
  "kernelspec": {
   "display_name": "Python 3 (ipykernel)",
   "language": "python",
   "name": "python3"
  },
  "language_info": {
   "codemirror_mode": {
    "name": "ipython",
    "version": 3
   },
   "file_extension": ".py",
   "mimetype": "text/x-python",
   "name": "python",
   "nbconvert_exporter": "python",
   "pygments_lexer": "ipython3",
   "version": "3.9.7"
  }
 },
 "nbformat": 4,
 "nbformat_minor": 2
}
