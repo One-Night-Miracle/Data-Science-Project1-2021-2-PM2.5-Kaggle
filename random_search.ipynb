{
 "cells": [
  {
   "cell_type": "markdown",
   "metadata": {},
   "source": [
    "# Random Search"
   ]
  },
  {
   "cell_type": "code",
   "execution_count": 76,
   "metadata": {},
   "outputs": [],
   "source": [
    "#Import the libraries\n",
    "import numpy as np\n",
    "import pandas as pd\n",
    "\n",
    "import pickle\n",
    "\n",
    "import random\n",
    "import warnings\n",
    "warnings.filterwarnings(\"ignore\")\n",
    "\n",
    "import itertools\n",
    "from tqdm import tqdm"
   ]
  },
  {
   "cell_type": "code",
   "execution_count": 77,
   "metadata": {},
   "outputs": [],
   "source": [
    "train_data = pickle.load(open('clean_dataset_2022/train_set.bin', 'rb'))\n",
    "\n",
    "test_data = pickle.load(open('clean_dataset_2022/test_set.bin', 'rb'))"
   ]
  },
  {
   "cell_type": "code",
   "execution_count": 106,
   "metadata": {},
   "outputs": [],
   "source": [
    "province = ['BKK','CNX','KKC','RAY','SARA','SURAT']\n",
    "exog_columns = ['Temp', 'WindSpeed', 'WindDir']"
   ]
  },
  {
   "cell_type": "code",
   "execution_count": 79,
   "metadata": {},
   "outputs": [],
   "source": [
    "from sklearn.metrics import mean_squared_error\n",
    "from statsmodels.tsa.statespace.sarimax import SARIMAX\n",
    "\n",
    "from matplotlib.pyplot import figure\n",
    "import matplotlib.pyplot as plt"
   ]
  },
  {
   "cell_type": "code",
   "execution_count": 80,
   "metadata": {},
   "outputs": [],
   "source": [
    "from importlib import reload\n",
    "\n",
    "from custom_function import minimalSARIMAX\n",
    "\n",
    "reload(minimalSARIMAX)\n",
    "\n",
    "from custom_function.minimalSARIMAX import MinimalSARIMAX"
   ]
  },
  {
   "cell_type": "code",
   "execution_count": 81,
   "metadata": {},
   "outputs": [],
   "source": [
    "p = d = q = range(0, 3)\n",
    "pdq = list(itertools.product(p, d, q))"
   ]
  },
  {
   "cell_type": "code",
   "execution_count": 82,
   "metadata": {},
   "outputs": [],
   "source": [
    "P = Q = D = range(0, 2) ; S = 1461\n",
    "pdqs = [(x[0], x[1], x[2], S) for x in list(itertools.product(P, D, Q))]"
   ]
  },
  {
   "cell_type": "code",
   "execution_count": 83,
   "metadata": {},
   "outputs": [],
   "source": [
    "# Define function\n",
    "def sarimax_randomsearch(y_train, y_test, pdq, PDQs, y_val = None, x_train = None, x_test = None, x_val = None, model_exog=None, verbose=0, n_rand=10):\n",
    "    '''\n",
    "    Input: \n",
    "        y_train: training data\n",
    "        y_test: test data\n",
    "        pdq : ARIMA combinations \n",
    "        pdqs : seasonal ARIMA combinations \n",
    "        x_train: exogenous training data\n",
    "        x_test: exogenous test data\n",
    "\n",
    "    Return:\n",
    "        Returns dataframe of parameter combinations with the least RMSE\n",
    "    '''\n",
    "\n",
    "    ans_df = pd.DataFrame(columns=['pdq', 'pdqs', 'rmse'])\n",
    "\n",
    "    save_comb = set()\n",
    "    \n",
    "    i = 0\n",
    "    while i!=n_rand:\n",
    "        comb = random.sample(pdq, 1)[0]\n",
    "        combs = random.sample(PDQs, 1)[0]\n",
    "\n",
    "        if (comb+combs) in save_comb:\n",
    "            continue\n",
    "        \n",
    "        save_comb.add(comb+combs)\n",
    "        \n",
    "        p, d, q = comb[0], comb[1], comb[2]\n",
    "        P, D, Q = combs[0], combs[1], combs[2]\n",
    "        if (d <= 1) and (D <= 1) and (P <= 1) and (Q <= 1):  \n",
    "            model = MinimalSARIMAX(y_train, comb, combs, exog=x_train)\n",
    "            model.fit(lr=1e-6, lr_decay=0.999, verbose=0) \n",
    "\n",
    "            if (y_val is None):\n",
    "                y_pred, err = model.predict(y_test, y_exog=x_test, verbose=verbose)\n",
    "                rmse = model.scoring(y_pred, y_test)\n",
    "\n",
    "            else:\n",
    "                Result = model.predict_step(y_val, y_test, val_X_exog=x_val, y_exog=x_test,\n",
    "                                            model_exog=model_exog, lr=np.array([1e-6, 1e-6, 1e-6, 5e-7]), lr_decay=0.999875,\n",
    "                                            learn=True, verbose=verbose, verbose_rmse=0)\n",
    "\n",
    "                _, y_pred_sav, _ = Result\n",
    "                \n",
    "                rmse = model.scoring(y_pred_sav.iloc[:,[1]], y_pred_sav.iloc[:,[2]])\n",
    "            \n",
    "            print(f\"ITER#{i} {comb} {combs} {rmse}\") ; i=i+1\n",
    "            \n",
    "            ans_df = ans_df.append({'pdq':comb, 'pdqs':combs, 'rmse':rmse}, ignore_index=True)\n",
    "        else: continue\n",
    "\n",
    "    # Sort and return a combination with the lowest RMSE\n",
    "    ans_df = ans_df.sort_values(by=['rmse'],ascending=True)\n",
    "    \n",
    "    return ans_df"
   ]
  },
  {
   "cell_type": "code",
   "execution_count": 107,
   "metadata": {},
   "outputs": [],
   "source": [
    "ratio = 0.7\n",
    "\n",
    "pm_train_bkk = train_data[province[0]][['PM25']][:int(ratio*train_data[province[0]].shape[0])]\n",
    "pm_valid_bkk = train_data[province[0]][['PM25']][int(ratio*train_data[province[0]].shape[0]):]\n",
    "pm_test_bkk = test_data[province[0]][['PM25']]\n",
    "exo_train_bkk = train_data[province[0]][exog_columns][:int(ratio*train_data[province[0]].shape[0])]\n",
    "exo_train_bkk['WindDirSin'] = pd.DataFrame(np.sin(exo_train_bkk['WindDir'])*10 + 10)\n",
    "exo_train_bkk['WindDirCos'] = pd.DataFrame(np.cos(exo_train_bkk['WindDir'])*10 + 10)\n",
    "exo_valid_bkk = train_data[province[0]][exog_columns][int(ratio*train_data[province[0]].shape[0]):]\n",
    "exo_valid_bkk['WindDirSin'] = pd.DataFrame(np.sin(exo_valid_bkk['WindDir'])*10 + 10)\n",
    "exo_valid_bkk['WindDirCos'] = pd.DataFrame(np.cos(exo_valid_bkk['WindDir'])*10 + 10)\n",
    "exo_test_bkk = test_data[province[0]][exog_columns]\n",
    "exo_test_bkk['WindDir'] = pd.to_numeric(exo_test_bkk['WindDir'], errors='coerce')\n",
    "exo_test_bkk['WindDirSin'] = pd.DataFrame(np.sin(exo_test_bkk['WindDir'])*10 + 10)\n",
    "exo_test_bkk['WindDirCos'] = pd.DataFrame(np.cos(exo_test_bkk['WindDir'])*10 + 10)\n",
    "\n",
    "\n",
    "pm_train_cnx = train_data[province[0]][['PM25']][:int(ratio*train_data[province[0]].shape[0])]\n",
    "pm_valid_cnx = train_data[province[0]][['PM25']][int(ratio*train_data[province[0]].shape[0]):]\n",
    "pm_test_cnx = test_data[province[0]][['PM25']]\n",
    "exo_train_cnx = train_data[province[0]][exog_columns][:int(ratio*train_data[province[0]].shape[0])]\n",
    "exo_train_cnx['WindDirSin'] = pd.DataFrame(np.sin(exo_train_cnx['WindDir'])*10 + 10)\n",
    "exo_train_cnx['WindDirCos'] = pd.DataFrame(np.cos(exo_train_cnx['WindDir'])*10 + 10)\n",
    "exo_valid_cnx = train_data[province[0]][exog_columns][int(ratio*train_data[province[0]].shape[0]):]\n",
    "exo_valid_cnx['WindDirSin'] = pd.DataFrame(np.sin(exo_valid_cnx['WindDir'])*10 + 10)\n",
    "exo_valid_cnx['WindDirCos'] = pd.DataFrame(np.cos(exo_valid_cnx['WindDir'])*10 + 10)\n",
    "exo_test_cnx = test_data[province[0]][exog_columns]\n",
    "exo_test_cnx['WindDir'] = pd.to_numeric(exo_test_cnx['WindDir'], errors='coerce')\n",
    "exo_test_cnx['WindDirSin'] = pd.DataFrame(np.sin(exo_test_cnx['WindDir'])*10 + 10)\n",
    "exo_test_cnx['WindDirCos'] = pd.DataFrame(np.cos(exo_test_cnx['WindDir'])*10 + 10)\n",
    "\n",
    "\n",
    "pm_train_kkc = train_data[province[0]][['PM25']][:int(ratio*train_data[province[0]].shape[0])]\n",
    "pm_valid_kkc = train_data[province[0]][['PM25']][int(ratio*train_data[province[0]].shape[0]):]\n",
    "pm_test_kkc = test_data[province[0]][['PM25']]\n",
    "exo_train_kkc = train_data[province[0]][exog_columns][:int(ratio*train_data[province[0]].shape[0])]\n",
    "exo_train_kkc['WindDirSin'] = pd.DataFrame(np.sin(exo_train_kkc['WindDir'])*10 + 10)\n",
    "exo_train_kkc['WindDirCos'] = pd.DataFrame(np.cos(exo_train_kkc['WindDir'])*10 + 10)\n",
    "exo_valid_kkc = train_data[province[0]][exog_columns][int(ratio*train_data[province[0]].shape[0]):]\n",
    "exo_valid_kkc['WindDirSin'] = pd.DataFrame(np.sin(exo_valid_kkc['WindDir'])*10 + 10)\n",
    "exo_valid_kkc['WindDirCos'] = pd.DataFrame(np.cos(exo_valid_kkc['WindDir'])*10 + 10)\n",
    "exo_test_kkc = test_data[province[0]][exog_columns]\n",
    "exo_test_kkc['WindDir'] = pd.to_numeric(exo_test_kkc['WindDir'], errors='coerce')\n",
    "exo_test_kkc['WindDirSin'] = pd.DataFrame(np.sin(exo_test_kkc['WindDir'])*10 + 10)\n",
    "exo_test_kkc['WindDirCos'] = pd.DataFrame(np.cos(exo_test_kkc['WindDir'])*10 + 10)\n",
    "\n",
    "\n",
    "pm_train_ray = train_data[province[0]][['PM25']][:int(ratio*train_data[province[0]].shape[0])]\n",
    "pm_valid_ray = train_data[province[0]][['PM25']][int(ratio*train_data[province[0]].shape[0]):]\n",
    "pm_test_ray = test_data[province[0]][['PM25']]\n",
    "exo_train_ray = train_data[province[0]][exog_columns][:int(ratio*train_data[province[0]].shape[0])]\n",
    "exo_train_ray['WindDirSin'] = pd.DataFrame(np.sin(exo_train_ray['WindDir'])*10 + 10)\n",
    "exo_train_ray['WindDirCos'] = pd.DataFrame(np.cos(exo_train_ray['WindDir'])*10 + 10)\n",
    "exo_valid_ray = train_data[province[0]][exog_columns][int(ratio*train_data[province[0]].shape[0]):]\n",
    "exo_valid_ray['WindDirSin'] = pd.DataFrame(np.sin(exo_valid_ray['WindDir'])*10 + 10)\n",
    "exo_valid_ray['WindDirCos'] = pd.DataFrame(np.cos(exo_valid_ray['WindDir'])*10 + 10)\n",
    "exo_test_ray = test_data[province[0]][exog_columns]\n",
    "exo_test_ray['WindDir'] = pd.to_numeric(exo_test_ray['WindDir'], errors='coerce')\n",
    "exo_test_ray['WindDirSin'] = pd.DataFrame(np.sin(exo_test_ray['WindDir'])*10 + 10)\n",
    "exo_test_ray['WindDirCos'] = pd.DataFrame(np.cos(exo_test_ray['WindDir'])*10 + 10)\n",
    "\n",
    "\n",
    "pm_train_sara = train_data[province[0]][['PM25']][:int(ratio*train_data[province[0]].shape[0])]\n",
    "pm_valid_sara = train_data[province[0]][['PM25']][int(ratio*train_data[province[0]].shape[0]):]\n",
    "pm_test_sara = test_data[province[0]][['PM25']]\n",
    "exo_train_sara = train_data[province[0]][exog_columns][:int(ratio*train_data[province[0]].shape[0])]\n",
    "exo_train_sara['WindDirSin'] = pd.DataFrame(np.sin(exo_train_sara['WindDir'])*10 + 10)\n",
    "exo_train_sara['WindDirCos'] = pd.DataFrame(np.cos(exo_train_sara['WindDir'])*10 + 10)\n",
    "exo_valid_sara = train_data[province[0]][exog_columns][int(ratio*train_data[province[0]].shape[0]):]\n",
    "exo_valid_sara['WindDirSin'] = pd.DataFrame(np.sin(exo_valid_sara['WindDir'])*10 + 10)\n",
    "exo_valid_sara['WindDirCos'] = pd.DataFrame(np.cos(exo_valid_sara['WindDir'])*10 + 10)\n",
    "exo_test_sara = test_data[province[0]][exog_columns]\n",
    "exo_test_sara['WindDir'] = pd.to_numeric(exo_test_sara['WindDir'], errors='coerce')\n",
    "exo_test_sara['WindDirSin'] = pd.DataFrame(np.sin(exo_test_sara['WindDir'])*10 + 10)\n",
    "exo_test_sara['WindDirCos'] = pd.DataFrame(np.cos(exo_test_sara['WindDir'])*10 + 10)\n",
    "\n",
    "\n",
    "pm_train_surat = train_data[province[0]][['PM25']][:int(ratio*train_data[province[0]].shape[0])]\n",
    "pm_valid_surat = train_data[province[0]][['PM25']][int(ratio*train_data[province[0]].shape[0]):]\n",
    "pm_test_surat = test_data[province[0]][['PM25']]\n",
    "exo_train_surat = train_data[province[0]][exog_columns][:int(ratio*train_data[province[0]].shape[0])]\n",
    "exo_train_surat['WindDirSin'] = pd.DataFrame(np.sin(exo_train_surat['WindDir'])*10 + 10)\n",
    "exo_train_surat['WindDirCos'] = pd.DataFrame(np.cos(exo_train_surat['WindDir'])*10 + 10)\n",
    "exo_valid_surat = train_data[province[0]][exog_columns][int(ratio*train_data[province[0]].shape[0]):]\n",
    "exo_valid_surat['WindDirSin'] = pd.DataFrame(np.sin(exo_valid_surat['WindDir'])*10 + 10)\n",
    "exo_valid_surat['WindDirCos'] = pd.DataFrame(np.cos(exo_valid_surat['WindDir'])*10 + 10)\n",
    "exo_test_surat = test_data[province[0]][exog_columns]\n",
    "exo_test_surat['WindDir'] = pd.to_numeric(exo_test_surat['WindDir'], errors='coerce')\n",
    "exo_test_surat['WindDirSin'] = pd.DataFrame(np.sin(exo_test_surat['WindDir'])*10 + 10)\n",
    "exo_test_surat['WindDirCos'] = pd.DataFrame(np.cos(exo_test_surat['WindDir'])*10 + 10)"
   ]
  },
  {
   "cell_type": "markdown",
   "metadata": {},
   "source": [
    "## Tuning parameters for temperature"
   ]
  },
  {
   "cell_type": "code",
   "execution_count": 96,
   "metadata": {},
   "outputs": [],
   "source": [
    "temp = exog_columns[0]\n",
    "\n",
    "temp_train_bkk = pd.DataFrame(exo_train_bkk[temp])\n",
    "temp_valid_bkk = pd.DataFrame(exo_valid_bkk[temp])\n",
    "temp_test_bkk = pd.DataFrame(exo_test_bkk[temp])\n",
    "\n",
    "temp_train_cnx = pd.DataFrame(exo_train_cnx[temp])\n",
    "temp_valid_cnx = pd.DataFrame(exo_valid_cnx[temp])\n",
    "temp_test_cnx = pd.DataFrame(exo_test_cnx[temp])\n",
    "\n",
    "temp_train_kkc = pd.DataFrame(exo_train_kkc[temp])\n",
    "temp_valid_kkc = pd.DataFrame(exo_valid_kkc[temp])\n",
    "temp_test_kkc = pd.DataFrame(exo_test_kkc[temp])\n",
    "\n",
    "temp_train_ray = pd.DataFrame(exo_train_ray[temp])\n",
    "temp_valid_ray = pd.DataFrame(exo_valid_ray[temp])\n",
    "temp_test_ray = pd.DataFrame(exo_test_ray[temp])\n",
    "\n",
    "temp_train_sara = pd.DataFrame(exo_train_sara[temp])\n",
    "temp_valid_sara = pd.DataFrame(exo_valid_sara[temp])\n",
    "temp_test_sara = pd.DataFrame(exo_test_sara[temp])\n",
    "\n",
    "temp_train_surat = pd.DataFrame(exo_train_surat[temp])\n",
    "temp_valid_surat = pd.DataFrame(exo_valid_surat[temp])\n",
    "temp_test_surat = pd.DataFrame(exo_test_surat[temp])"
   ]
  },
  {
   "cell_type": "code",
   "execution_count": null,
   "metadata": {},
   "outputs": [],
   "source": [
    "gSearch_temp_bkk = sarimax_randomsearch(temp_train_bkk, temp_test_bkk, pdq, pdqs, y_val=temp_valid_bkk, n_rand=5, verbose=1)\n",
    "display(gSearch_temp_bkk)"
   ]
  },
  {
   "cell_type": "code",
   "execution_count": null,
   "metadata": {},
   "outputs": [],
   "source": [
    "gSearch_temp_cnx = sarimax_randomsearch(temp_train_cnx, temp_test_cnx, pdq, pdqs, y_val=temp_valid_cnx, n_rand=5, verbose=1)\n",
    "display(gSearch_temp_cnx)"
   ]
  },
  {
   "cell_type": "code",
   "execution_count": null,
   "metadata": {},
   "outputs": [],
   "source": [
    "gSearch_temp_kkc = sarimax_randomsearch(temp_train_kkc, temp_test_kkc, pdq, pdqs, y_val=temp_valid_kkc, n_rand=5, verbose=1)\n",
    "display(gSearch_temp_kkc)"
   ]
  },
  {
   "cell_type": "code",
   "execution_count": 23,
   "metadata": {},
   "outputs": [
    {
     "name": "stderr",
     "output_type": "stream",
     "text": [
      "100%|██████████| 16675/16675 [18:46<00:00, 14.80it/s]\n"
     ]
    },
    {
     "name": "stdout",
     "output_type": "stream",
     "text": [
      "ITER#0 (1, 0, 0) (0, 0, 0, 1461) 15.992090812440019\n"
     ]
    },
    {
     "name": "stderr",
     "output_type": "stream",
     "text": [
      "100%|██████████| 16675/16675 [18:15<00:00, 15.22it/s]\n"
     ]
    },
    {
     "name": "stdout",
     "output_type": "stream",
     "text": [
      "ITER#1 (2, 0, 0) (1, 1, 1, 1461) 1.901751181284816\n"
     ]
    },
    {
     "name": "stderr",
     "output_type": "stream",
     "text": [
      "100%|██████████| 16675/16675 [18:12<00:00, 15.26it/s]\n"
     ]
    },
    {
     "name": "stdout",
     "output_type": "stream",
     "text": [
      "ITER#2 (2, 0, 1) (1, 1, 1, 1461) 2.018218655203814\n"
     ]
    },
    {
     "name": "stderr",
     "output_type": "stream",
     "text": [
      "100%|██████████| 16675/16675 [18:32<00:00, 14.98it/s]\n"
     ]
    },
    {
     "name": "stdout",
     "output_type": "stream",
     "text": [
      "ITER#3 (2, 1, 0) (0, 0, 1, 1461) 1.8989755763806049\n"
     ]
    },
    {
     "name": "stderr",
     "output_type": "stream",
     "text": [
      "100%|██████████| 16675/16675 [18:13<00:00, 15.25it/s]"
     ]
    },
    {
     "name": "stdout",
     "output_type": "stream",
     "text": [
      "ITER#4 (2, 1, 2) (1, 1, 1, 1461) 2.2089383756091827\n"
     ]
    },
    {
     "name": "stderr",
     "output_type": "stream",
     "text": [
      "\n"
     ]
    },
    {
     "data": {
      "text/html": [
       "<div>\n",
       "<style scoped>\n",
       "    .dataframe tbody tr th:only-of-type {\n",
       "        vertical-align: middle;\n",
       "    }\n",
       "\n",
       "    .dataframe tbody tr th {\n",
       "        vertical-align: top;\n",
       "    }\n",
       "\n",
       "    .dataframe thead th {\n",
       "        text-align: right;\n",
       "    }\n",
       "</style>\n",
       "<table border=\"1\" class=\"dataframe\">\n",
       "  <thead>\n",
       "    <tr style=\"text-align: right;\">\n",
       "      <th></th>\n",
       "      <th>pdq</th>\n",
       "      <th>pdqs</th>\n",
       "      <th>rmse</th>\n",
       "    </tr>\n",
       "  </thead>\n",
       "  <tbody>\n",
       "    <tr>\n",
       "      <th>3</th>\n",
       "      <td>(2, 1, 0)</td>\n",
       "      <td>(0, 0, 1, 1461)</td>\n",
       "      <td>1.898976</td>\n",
       "    </tr>\n",
       "    <tr>\n",
       "      <th>1</th>\n",
       "      <td>(2, 0, 0)</td>\n",
       "      <td>(1, 1, 1, 1461)</td>\n",
       "      <td>1.901751</td>\n",
       "    </tr>\n",
       "    <tr>\n",
       "      <th>2</th>\n",
       "      <td>(2, 0, 1)</td>\n",
       "      <td>(1, 1, 1, 1461)</td>\n",
       "      <td>2.018219</td>\n",
       "    </tr>\n",
       "    <tr>\n",
       "      <th>4</th>\n",
       "      <td>(2, 1, 2)</td>\n",
       "      <td>(1, 1, 1, 1461)</td>\n",
       "      <td>2.208938</td>\n",
       "    </tr>\n",
       "    <tr>\n",
       "      <th>0</th>\n",
       "      <td>(1, 0, 0)</td>\n",
       "      <td>(0, 0, 0, 1461)</td>\n",
       "      <td>15.992091</td>\n",
       "    </tr>\n",
       "  </tbody>\n",
       "</table>\n",
       "</div>"
      ],
      "text/plain": [
       "         pdq             pdqs       rmse\n",
       "3  (2, 1, 0)  (0, 0, 1, 1461)   1.898976\n",
       "1  (2, 0, 0)  (1, 1, 1, 1461)   1.901751\n",
       "2  (2, 0, 1)  (1, 1, 1, 1461)   2.018219\n",
       "4  (2, 1, 2)  (1, 1, 1, 1461)   2.208938\n",
       "0  (1, 0, 0)  (0, 0, 0, 1461)  15.992091"
      ]
     },
     "metadata": {},
     "output_type": "display_data"
    }
   ],
   "source": [
    "gSearch_temp_ray = sarimax_randomsearch(temp_train_ray, temp_test_ray, pdq, pdqs, y_val=temp_valid_ray, n_rand=5, verbose=1)\n",
    "display(gSearch_temp_ray)"
   ]
  },
  {
   "cell_type": "code",
   "execution_count": 24,
   "metadata": {},
   "outputs": [
    {
     "name": "stderr",
     "output_type": "stream",
     "text": [
      "100%|██████████| 16675/16675 [19:29<00:00, 14.26it/s]\n"
     ]
    },
    {
     "name": "stdout",
     "output_type": "stream",
     "text": [
      "ITER#0 (2, 1, 2) (1, 0, 1, 1461) 4.372241089480689\n"
     ]
    },
    {
     "name": "stderr",
     "output_type": "stream",
     "text": [
      "100%|██████████| 16675/16675 [20:14<00:00, 13.73it/s]\n"
     ]
    },
    {
     "name": "stdout",
     "output_type": "stream",
     "text": [
      "ITER#1 (2, 0, 1) (0, 0, 0, 1461) 4.610449766166291\n"
     ]
    },
    {
     "name": "stderr",
     "output_type": "stream",
     "text": [
      "100%|██████████| 16675/16675 [20:34<00:00, 13.50it/s]\n"
     ]
    },
    {
     "name": "stdout",
     "output_type": "stream",
     "text": [
      "ITER#2 (0, 0, 2) (0, 0, 0, 1461) 24.94109239910067\n"
     ]
    },
    {
     "name": "stderr",
     "output_type": "stream",
     "text": [
      "100%|██████████| 16675/16675 [20:28<00:00, 13.57it/s]\n"
     ]
    },
    {
     "name": "stdout",
     "output_type": "stream",
     "text": [
      "ITER#3 (2, 0, 2) (0, 0, 1, 1461) 4.938988995499015\n"
     ]
    },
    {
     "name": "stderr",
     "output_type": "stream",
     "text": [
      "100%|██████████| 16675/16675 [20:18<00:00, 13.69it/s]"
     ]
    },
    {
     "name": "stdout",
     "output_type": "stream",
     "text": [
      "ITER#4 (2, 1, 1) (0, 0, 0, 1461) 4.644085648835342\n"
     ]
    },
    {
     "name": "stderr",
     "output_type": "stream",
     "text": [
      "\n"
     ]
    },
    {
     "data": {
      "text/html": [
       "<div>\n",
       "<style scoped>\n",
       "    .dataframe tbody tr th:only-of-type {\n",
       "        vertical-align: middle;\n",
       "    }\n",
       "\n",
       "    .dataframe tbody tr th {\n",
       "        vertical-align: top;\n",
       "    }\n",
       "\n",
       "    .dataframe thead th {\n",
       "        text-align: right;\n",
       "    }\n",
       "</style>\n",
       "<table border=\"1\" class=\"dataframe\">\n",
       "  <thead>\n",
       "    <tr style=\"text-align: right;\">\n",
       "      <th></th>\n",
       "      <th>pdq</th>\n",
       "      <th>pdqs</th>\n",
       "      <th>rmse</th>\n",
       "    </tr>\n",
       "  </thead>\n",
       "  <tbody>\n",
       "    <tr>\n",
       "      <th>0</th>\n",
       "      <td>(2, 1, 2)</td>\n",
       "      <td>(1, 0, 1, 1461)</td>\n",
       "      <td>4.372241</td>\n",
       "    </tr>\n",
       "    <tr>\n",
       "      <th>1</th>\n",
       "      <td>(2, 0, 1)</td>\n",
       "      <td>(0, 0, 0, 1461)</td>\n",
       "      <td>4.610450</td>\n",
       "    </tr>\n",
       "    <tr>\n",
       "      <th>4</th>\n",
       "      <td>(2, 1, 1)</td>\n",
       "      <td>(0, 0, 0, 1461)</td>\n",
       "      <td>4.644086</td>\n",
       "    </tr>\n",
       "    <tr>\n",
       "      <th>3</th>\n",
       "      <td>(2, 0, 2)</td>\n",
       "      <td>(0, 0, 1, 1461)</td>\n",
       "      <td>4.938989</td>\n",
       "    </tr>\n",
       "    <tr>\n",
       "      <th>2</th>\n",
       "      <td>(0, 0, 2)</td>\n",
       "      <td>(0, 0, 0, 1461)</td>\n",
       "      <td>24.941092</td>\n",
       "    </tr>\n",
       "  </tbody>\n",
       "</table>\n",
       "</div>"
      ],
      "text/plain": [
       "         pdq             pdqs       rmse\n",
       "0  (2, 1, 2)  (1, 0, 1, 1461)   4.372241\n",
       "1  (2, 0, 1)  (0, 0, 0, 1461)   4.610450\n",
       "4  (2, 1, 1)  (0, 0, 0, 1461)   4.644086\n",
       "3  (2, 0, 2)  (0, 0, 1, 1461)   4.938989\n",
       "2  (0, 0, 2)  (0, 0, 0, 1461)  24.941092"
      ]
     },
     "metadata": {},
     "output_type": "display_data"
    }
   ],
   "source": [
    "gSearch_temp_sara = sarimax_randomsearch(temp_train_sara, temp_test_sara, pdq, pdqs, y_val=temp_valid_sara, n_rand=5, verbose=1)\n",
    "display(gSearch_temp_sara)"
   ]
  },
  {
   "cell_type": "code",
   "execution_count": 25,
   "metadata": {},
   "outputs": [
    {
     "name": "stderr",
     "output_type": "stream",
     "text": [
      "100%|██████████| 13384/13384 [15:16<00:00, 14.60it/s]\n"
     ]
    },
    {
     "name": "stdout",
     "output_type": "stream",
     "text": [
      "ITER#0 (2, 0, 2) (0, 0, 0, 1461) 6.5026777090149706\n"
     ]
    },
    {
     "name": "stderr",
     "output_type": "stream",
     "text": [
      "100%|██████████| 13384/13384 [14:22<00:00, 15.52it/s]\n"
     ]
    },
    {
     "name": "stdout",
     "output_type": "stream",
     "text": [
      "ITER#1 (1, 0, 1) (1, 0, 1, 1461) 16.33677280548023\n"
     ]
    },
    {
     "name": "stderr",
     "output_type": "stream",
     "text": [
      "100%|██████████| 13384/13384 [15:59<00:00, 13.95it/s]\n"
     ]
    },
    {
     "name": "stdout",
     "output_type": "stream",
     "text": [
      "ITER#2 (0, 1, 1) (1, 0, 0, 1461) 22.183957373613918\n"
     ]
    },
    {
     "name": "stderr",
     "output_type": "stream",
     "text": [
      "100%|██████████| 13384/13384 [14:26<00:00, 15.45it/s]\n"
     ]
    },
    {
     "name": "stdout",
     "output_type": "stream",
     "text": [
      "ITER#3 (0, 0, 0) (1, 1, 1, 1461) 8.441664080871561\n"
     ]
    },
    {
     "name": "stderr",
     "output_type": "stream",
     "text": [
      "100%|██████████| 13384/13384 [15:03<00:00, 14.82it/s]"
     ]
    },
    {
     "name": "stdout",
     "output_type": "stream",
     "text": [
      "ITER#4 (0, 0, 1) (1, 1, 0, 1461) 9.388591396304008\n"
     ]
    },
    {
     "name": "stderr",
     "output_type": "stream",
     "text": [
      "\n"
     ]
    },
    {
     "data": {
      "text/html": [
       "<div>\n",
       "<style scoped>\n",
       "    .dataframe tbody tr th:only-of-type {\n",
       "        vertical-align: middle;\n",
       "    }\n",
       "\n",
       "    .dataframe tbody tr th {\n",
       "        vertical-align: top;\n",
       "    }\n",
       "\n",
       "    .dataframe thead th {\n",
       "        text-align: right;\n",
       "    }\n",
       "</style>\n",
       "<table border=\"1\" class=\"dataframe\">\n",
       "  <thead>\n",
       "    <tr style=\"text-align: right;\">\n",
       "      <th></th>\n",
       "      <th>pdq</th>\n",
       "      <th>pdqs</th>\n",
       "      <th>rmse</th>\n",
       "    </tr>\n",
       "  </thead>\n",
       "  <tbody>\n",
       "    <tr>\n",
       "      <th>0</th>\n",
       "      <td>(2, 0, 2)</td>\n",
       "      <td>(0, 0, 0, 1461)</td>\n",
       "      <td>6.502678</td>\n",
       "    </tr>\n",
       "    <tr>\n",
       "      <th>3</th>\n",
       "      <td>(0, 0, 0)</td>\n",
       "      <td>(1, 1, 1, 1461)</td>\n",
       "      <td>8.441664</td>\n",
       "    </tr>\n",
       "    <tr>\n",
       "      <th>4</th>\n",
       "      <td>(0, 0, 1)</td>\n",
       "      <td>(1, 1, 0, 1461)</td>\n",
       "      <td>9.388591</td>\n",
       "    </tr>\n",
       "    <tr>\n",
       "      <th>1</th>\n",
       "      <td>(1, 0, 1)</td>\n",
       "      <td>(1, 0, 1, 1461)</td>\n",
       "      <td>16.336773</td>\n",
       "    </tr>\n",
       "    <tr>\n",
       "      <th>2</th>\n",
       "      <td>(0, 1, 1)</td>\n",
       "      <td>(1, 0, 0, 1461)</td>\n",
       "      <td>22.183957</td>\n",
       "    </tr>\n",
       "  </tbody>\n",
       "</table>\n",
       "</div>"
      ],
      "text/plain": [
       "         pdq             pdqs       rmse\n",
       "0  (2, 0, 2)  (0, 0, 0, 1461)   6.502678\n",
       "3  (0, 0, 0)  (1, 1, 1, 1461)   8.441664\n",
       "4  (0, 0, 1)  (1, 1, 0, 1461)   9.388591\n",
       "1  (1, 0, 1)  (1, 0, 1, 1461)  16.336773\n",
       "2  (0, 1, 1)  (1, 0, 0, 1461)  22.183957"
      ]
     },
     "metadata": {},
     "output_type": "display_data"
    }
   ],
   "source": [
    "gSearch_temp_surat = sarimax_randomsearch(temp_train_surat, temp_test_surat, pdq, pdqs, y_val=temp_valid_surat, n_rand=5, verbose=1)\n",
    "display(gSearch_temp_surat)"
   ]
  },
  {
   "cell_type": "code",
   "execution_count": null,
   "metadata": {},
   "outputs": [],
   "source": [
    "# with open('answer_dataset/gSearch_temp_bkk_03.bin',\"wb\") as f:\n",
    "#     pickle.dump(gSearch_temp_bkk, f)\n",
    "\n",
    "# with open('answer_dataset/gSearch_temp_cnx_03.bin',\"wb\") as f:\n",
    "#     pickle.dump(gSearch_temp_cnx, f)\n",
    "    \n",
    "# with open('answer_dataset/gSearch_temp_ray_03.bin',\"wb\") as f:\n",
    "#     pickle.dump(gSearch_temp_bkk, f)\n",
    "\n",
    "# with open('answer_dataset/gSearch_temp_sara_03.bin',\"wb\") as f:\n",
    "#     pickle.dump(gSearch_temp_sara, f)\n",
    "\n",
    "# with open('answer_dataset/gSearch_temp_surat_03.bin',\"wb\") as f:\n",
    "#     pickle.dump(gSearch_temp_surat, f)"
   ]
  },
  {
   "cell_type": "code",
   "execution_count": null,
   "metadata": {},
   "outputs": [],
   "source": [
    "# temp_order = {province[0]: gSearch_temp_bkk.pdq, province[1]: gSearch_temp_cnx.pdq, province[2]: gSearch_temp_kkc.pdq, province[3]: gSearch_temp_ray.pdq, province[4]: gSearch_temp_sara.pdq, province[5]: gSearch_temp_surat.pdq}\n",
    "# temp_seasonal_order = {province[0]: gSearch_temp_bkk.pdqs, province[1]: gSearch_temp_cnx.pdqs, province[2]: gSearch_temp_kkc.pdqs, province[3]: gSearch_temp_ray.pdqs, province[4]: gSearch_temp_sara.pdqs, province[5]: gSearch_temp_surat.pdqs}\n",
    "# print(temp_order)\n",
    "# print(temp_seasonal_order)"
   ]
  },
  {
   "cell_type": "markdown",
   "metadata": {},
   "source": [
    "## Tuning parameters for windspeed"
   ]
  },
  {
   "cell_type": "code",
   "execution_count": 97,
   "metadata": {},
   "outputs": [],
   "source": [
    "windSpeed = exog_columns[1]\n",
    "windSpeed_train_bkk = pd.DataFrame(exo_train_bkk[windSpeed])\n",
    "windSpeed_valid_bkk = pd.DataFrame(exo_valid_bkk[windSpeed])\n",
    "windSpeed_test_bkk = pd.DataFrame(exo_test_bkk[windSpeed])\n",
    "\n",
    "windSpeed_train_cnx = pd.DataFrame(exo_train_cnx[windSpeed])\n",
    "windSpeed_valid_cnx = pd.DataFrame(exo_valid_cnx[windSpeed])\n",
    "windSpeed_test_cnx = pd.DataFrame(exo_test_cnx[windSpeed])\n",
    "\n",
    "windSpeed_train_kkc = pd.DataFrame(exo_train_kkc[windSpeed])\n",
    "windSpeed_valid_kkc = pd.DataFrame(exo_valid_kkc[windSpeed])\n",
    "windSpeed_test_kkc = pd.DataFrame(exo_test_kkc[windSpeed])\n",
    "\n",
    "windSpeed_train_ray = pd.DataFrame(exo_train_ray[windSpeed])\n",
    "windSpeed_valid_ray = pd.DataFrame(exo_valid_ray[windSpeed])\n",
    "windSpeed_test_ray = pd.DataFrame(exo_test_ray[windSpeed])\n",
    "\n",
    "windSpeed_train_sara = pd.DataFrame(exo_train_sara[windSpeed])\n",
    "windSpeed_valid_sara = pd.DataFrame(exo_valid_sara[windSpeed])\n",
    "windSpeed_test_sara = pd.DataFrame(exo_test_sara[windSpeed])\n",
    "\n",
    "windSpeed_train_surat = pd.DataFrame(exo_train_surat[windSpeed])\n",
    "windSpeed_valid_surat = pd.DataFrame(exo_valid_surat[windSpeed])\n",
    "windSpeed_test_surat = pd.DataFrame(exo_test_surat[windSpeed])"
   ]
  },
  {
   "cell_type": "code",
   "execution_count": null,
   "metadata": {},
   "outputs": [],
   "source": [
    "gSearch_windSpeed_bkk = sarimax_randomsearch(windSpeed_train_bkk, windSpeed_test_bkk, pdq, pdqs, y_val=windSpeed_valid_bkk, n_rand=3, verbose=1)\n",
    "display(gSearch_windSpeed_bkk)"
   ]
  },
  {
   "cell_type": "code",
   "execution_count": null,
   "metadata": {},
   "outputs": [],
   "source": [
    "gSearch_windSpeed_cnx = sarimax_randomsearch(windSpeed_train_cnx, windSpeed_test_cnx, pdq, pdqs, y_val=windSpeed_valid_cnx, n_rand=3, verbose=1)\n",
    "display(gSearch_windSpeed_cnx)"
   ]
  },
  {
   "cell_type": "code",
   "execution_count": null,
   "metadata": {},
   "outputs": [],
   "source": [
    "gSearch_windSpeed_kkc = sarimax_randomsearch(windSpeed_train_kkc, windSpeed_test_kkc, pdq, pdqs, y_val=windSpeed_valid_kkc, n_rand=3, verbose=1)\n",
    "display(gSearch_windSpeed_kkc)"
   ]
  },
  {
   "cell_type": "code",
   "execution_count": 28,
   "metadata": {},
   "outputs": [
    {
     "name": "stderr",
     "output_type": "stream",
     "text": [
      "100%|██████████| 16675/16675 [19:46<00:00, 14.06it/s]\n"
     ]
    },
    {
     "name": "stdout",
     "output_type": "stream",
     "text": [
      "ITER#0 (2, 1, 2) (0, 1, 1, 1461) 8.137118239621214\n"
     ]
    },
    {
     "name": "stderr",
     "output_type": "stream",
     "text": [
      "100%|██████████| 16675/16675 [20:01<00:00, 13.88it/s]\n"
     ]
    },
    {
     "name": "stdout",
     "output_type": "stream",
     "text": [
      "ITER#1 (0, 1, 2) (1, 0, 1, 1461) 16.790215289666115\n"
     ]
    },
    {
     "name": "stderr",
     "output_type": "stream",
     "text": [
      "100%|██████████| 16675/16675 [19:16<00:00, 14.42it/s]"
     ]
    },
    {
     "name": "stdout",
     "output_type": "stream",
     "text": [
      "ITER#2 (2, 0, 2) (0, 0, 1, 1461) 6.276570302253418\n"
     ]
    },
    {
     "name": "stderr",
     "output_type": "stream",
     "text": [
      "\n"
     ]
    },
    {
     "data": {
      "text/html": [
       "<div>\n",
       "<style scoped>\n",
       "    .dataframe tbody tr th:only-of-type {\n",
       "        vertical-align: middle;\n",
       "    }\n",
       "\n",
       "    .dataframe tbody tr th {\n",
       "        vertical-align: top;\n",
       "    }\n",
       "\n",
       "    .dataframe thead th {\n",
       "        text-align: right;\n",
       "    }\n",
       "</style>\n",
       "<table border=\"1\" class=\"dataframe\">\n",
       "  <thead>\n",
       "    <tr style=\"text-align: right;\">\n",
       "      <th></th>\n",
       "      <th>pdq</th>\n",
       "      <th>pdqs</th>\n",
       "      <th>rmse</th>\n",
       "    </tr>\n",
       "  </thead>\n",
       "  <tbody>\n",
       "    <tr>\n",
       "      <th>2</th>\n",
       "      <td>(2, 0, 2)</td>\n",
       "      <td>(0, 0, 1, 1461)</td>\n",
       "      <td>6.276570</td>\n",
       "    </tr>\n",
       "    <tr>\n",
       "      <th>0</th>\n",
       "      <td>(2, 1, 2)</td>\n",
       "      <td>(0, 1, 1, 1461)</td>\n",
       "      <td>8.137118</td>\n",
       "    </tr>\n",
       "    <tr>\n",
       "      <th>1</th>\n",
       "      <td>(0, 1, 2)</td>\n",
       "      <td>(1, 0, 1, 1461)</td>\n",
       "      <td>16.790215</td>\n",
       "    </tr>\n",
       "  </tbody>\n",
       "</table>\n",
       "</div>"
      ],
      "text/plain": [
       "         pdq             pdqs       rmse\n",
       "2  (2, 0, 2)  (0, 0, 1, 1461)   6.276570\n",
       "0  (2, 1, 2)  (0, 1, 1, 1461)   8.137118\n",
       "1  (0, 1, 2)  (1, 0, 1, 1461)  16.790215"
      ]
     },
     "metadata": {},
     "output_type": "display_data"
    }
   ],
   "source": [
    "gSearch_windSpeed_ray = sarimax_randomsearch(windSpeed_train_ray, windSpeed_test_ray, pdq, pdqs, y_val=windSpeed_valid_ray, n_rand=3, verbose=1)\n",
    "display(gSearch_windSpeed_ray)"
   ]
  },
  {
   "cell_type": "code",
   "execution_count": 29,
   "metadata": {},
   "outputs": [
    {
     "name": "stderr",
     "output_type": "stream",
     "text": [
      "100%|██████████| 16675/16675 [19:52<00:00, 13.99it/s]\n"
     ]
    },
    {
     "name": "stdout",
     "output_type": "stream",
     "text": [
      "ITER#0 (1, 0, 1) (1, 1, 1, 1461) 12.681074808280666\n"
     ]
    },
    {
     "name": "stderr",
     "output_type": "stream",
     "text": [
      "100%|██████████| 16675/16675 [19:49<00:00, 14.02it/s]\n"
     ]
    },
    {
     "name": "stdout",
     "output_type": "stream",
     "text": [
      "ITER#1 (0, 1, 1) (1, 0, 1, 1461) 19.872739739631086\n"
     ]
    },
    {
     "name": "stderr",
     "output_type": "stream",
     "text": [
      "100%|██████████| 16675/16675 [20:01<00:00, 13.88it/s]"
     ]
    },
    {
     "name": "stdout",
     "output_type": "stream",
     "text": [
      "ITER#2 (1, 1, 1) (1, 0, 0, 1461) 12.362628555045351\n"
     ]
    },
    {
     "name": "stderr",
     "output_type": "stream",
     "text": [
      "\n"
     ]
    },
    {
     "data": {
      "text/html": [
       "<div>\n",
       "<style scoped>\n",
       "    .dataframe tbody tr th:only-of-type {\n",
       "        vertical-align: middle;\n",
       "    }\n",
       "\n",
       "    .dataframe tbody tr th {\n",
       "        vertical-align: top;\n",
       "    }\n",
       "\n",
       "    .dataframe thead th {\n",
       "        text-align: right;\n",
       "    }\n",
       "</style>\n",
       "<table border=\"1\" class=\"dataframe\">\n",
       "  <thead>\n",
       "    <tr style=\"text-align: right;\">\n",
       "      <th></th>\n",
       "      <th>pdq</th>\n",
       "      <th>pdqs</th>\n",
       "      <th>rmse</th>\n",
       "    </tr>\n",
       "  </thead>\n",
       "  <tbody>\n",
       "    <tr>\n",
       "      <th>2</th>\n",
       "      <td>(1, 1, 1)</td>\n",
       "      <td>(1, 0, 0, 1461)</td>\n",
       "      <td>12.362629</td>\n",
       "    </tr>\n",
       "    <tr>\n",
       "      <th>0</th>\n",
       "      <td>(1, 0, 1)</td>\n",
       "      <td>(1, 1, 1, 1461)</td>\n",
       "      <td>12.681075</td>\n",
       "    </tr>\n",
       "    <tr>\n",
       "      <th>1</th>\n",
       "      <td>(0, 1, 1)</td>\n",
       "      <td>(1, 0, 1, 1461)</td>\n",
       "      <td>19.872740</td>\n",
       "    </tr>\n",
       "  </tbody>\n",
       "</table>\n",
       "</div>"
      ],
      "text/plain": [
       "         pdq             pdqs       rmse\n",
       "2  (1, 1, 1)  (1, 0, 0, 1461)  12.362629\n",
       "0  (1, 0, 1)  (1, 1, 1, 1461)  12.681075\n",
       "1  (0, 1, 1)  (1, 0, 1, 1461)  19.872740"
      ]
     },
     "metadata": {},
     "output_type": "display_data"
    }
   ],
   "source": [
    "gSearch_windSpeed_sara = sarimax_randomsearch(windSpeed_train_sara, windSpeed_test_sara, pdq, pdqs, y_val=windSpeed_valid_sara, n_rand=3, verbose=1)\n",
    "display(gSearch_windSpeed_sara)"
   ]
  },
  {
   "cell_type": "code",
   "execution_count": 30,
   "metadata": {},
   "outputs": [
    {
     "name": "stderr",
     "output_type": "stream",
     "text": [
      "100%|██████████| 13384/13384 [15:07<00:00, 14.75it/s]\n"
     ]
    },
    {
     "name": "stdout",
     "output_type": "stream",
     "text": [
      "ITER#0 (2, 0, 1) (1, 1, 1, 1461) 12.259352841598002\n"
     ]
    },
    {
     "name": "stderr",
     "output_type": "stream",
     "text": [
      "100%|██████████| 13384/13384 [15:37<00:00, 14.27it/s]\n"
     ]
    },
    {
     "name": "stdout",
     "output_type": "stream",
     "text": [
      "ITER#1 (2, 0, 0) (0, 1, 1, 1461) 13.005182117202928\n"
     ]
    },
    {
     "name": "stderr",
     "output_type": "stream",
     "text": [
      "100%|██████████| 13384/13384 [16:26<00:00, 13.57it/s]"
     ]
    },
    {
     "name": "stdout",
     "output_type": "stream",
     "text": [
      "ITER#2 (2, 1, 0) (1, 0, 1, 1461) 8.643798578549305\n"
     ]
    },
    {
     "name": "stderr",
     "output_type": "stream",
     "text": [
      "\n"
     ]
    },
    {
     "data": {
      "text/html": [
       "<div>\n",
       "<style scoped>\n",
       "    .dataframe tbody tr th:only-of-type {\n",
       "        vertical-align: middle;\n",
       "    }\n",
       "\n",
       "    .dataframe tbody tr th {\n",
       "        vertical-align: top;\n",
       "    }\n",
       "\n",
       "    .dataframe thead th {\n",
       "        text-align: right;\n",
       "    }\n",
       "</style>\n",
       "<table border=\"1\" class=\"dataframe\">\n",
       "  <thead>\n",
       "    <tr style=\"text-align: right;\">\n",
       "      <th></th>\n",
       "      <th>pdq</th>\n",
       "      <th>pdqs</th>\n",
       "      <th>rmse</th>\n",
       "    </tr>\n",
       "  </thead>\n",
       "  <tbody>\n",
       "    <tr>\n",
       "      <th>2</th>\n",
       "      <td>(2, 1, 0)</td>\n",
       "      <td>(1, 0, 1, 1461)</td>\n",
       "      <td>8.643799</td>\n",
       "    </tr>\n",
       "    <tr>\n",
       "      <th>0</th>\n",
       "      <td>(2, 0, 1)</td>\n",
       "      <td>(1, 1, 1, 1461)</td>\n",
       "      <td>12.259353</td>\n",
       "    </tr>\n",
       "    <tr>\n",
       "      <th>1</th>\n",
       "      <td>(2, 0, 0)</td>\n",
       "      <td>(0, 1, 1, 1461)</td>\n",
       "      <td>13.005182</td>\n",
       "    </tr>\n",
       "  </tbody>\n",
       "</table>\n",
       "</div>"
      ],
      "text/plain": [
       "         pdq             pdqs       rmse\n",
       "2  (2, 1, 0)  (1, 0, 1, 1461)   8.643799\n",
       "0  (2, 0, 1)  (1, 1, 1, 1461)  12.259353\n",
       "1  (2, 0, 0)  (0, 1, 1, 1461)  13.005182"
      ]
     },
     "metadata": {},
     "output_type": "display_data"
    }
   ],
   "source": [
    "gSearch_windSpeed_surat = sarimax_randomsearch(windSpeed_train_surat, windSpeed_test_surat, pdq, pdqs, y_val=windSpeed_valid_surat, n_rand=3, verbose=1)\n",
    "display(gSearch_windSpeed_surat)"
   ]
  },
  {
   "cell_type": "code",
   "execution_count": null,
   "metadata": {},
   "outputs": [],
   "source": [
    "windSpeed_order = {province[0]: gSearch_windSpeed_bkk.pdq, province[1]: gSearch_windSpeed_cnx.pdq, province[2]: gSearch_windSpeed_kkc.pdq, province[3]: gSearch_windSpeed_ray.pdq, province[4]: gSearch_windSpeed_sara.pdq, province[5]: gSearch_windSpeed_surat.pdq}\n",
    "windSpeed_seasonal_order = {province[0]: gSearch_windSpeed_bkk.pdqs, province[1]: gSearch_windSpeed_cnx.pdqs, province[2]: gSearch_windSpeed_kkc.pdqs, province[3]: gSearch_windSpeed_ray.pdqs, province[4]: gSearch_windSpeed_sara.pdqs, province[5]: gSearch_windSpeed_surat.pdqs}\n",
    "print(windSpeed_order)\n",
    "print(windSpeed_seasonal_order)"
   ]
  },
  {
   "cell_type": "markdown",
   "metadata": {},
   "source": [
    "## Tuning parameters for wind direction"
   ]
  },
  {
   "cell_type": "code",
   "execution_count": 93,
   "metadata": {},
   "outputs": [],
   "source": [
    "windDir = exog_columns[2]\n",
    "\n",
    "windDirSin_train_bkk = pd.DataFrame(np.sin(exo_train_bkk[windDir])*10 + 10)\n",
    "windDirSin_valid_bkk = pd.DataFrame(np.sin(exo_valid_bkk[windDir])*10 + 10)\n",
    "windDirSin_test_bkk = pd.DataFrame(np.sin(exo_test_bkk[windDir])*10 + 10)\n",
    "windDirCos_train_bkk = pd.DataFrame(np.cos(exo_train_bkk[windDir])*10 + 10)\n",
    "windDirCos_valid_bkk = pd.DataFrame(np.sin(exo_valid_bkk[windDir])*10 + 10)\n",
    "windDirCos_test_bkk = pd.DataFrame(np.cos(exo_test_bkk[windDir])*10 + 10)\n",
    "\n",
    "windDirSin_train_cnx = pd.DataFrame(np.sin(exo_train_cnx[windDir])*10 + 10)\n",
    "windDirSin_valid_cnx = pd.DataFrame(np.sin(exo_valid_cnx[windDir])*10 + 10)\n",
    "windDirSin_test_cnx = pd.DataFrame(np.sin(exo_test_cnx[windDir])*10 + 10)\n",
    "windDirCos_train_cnx = pd.DataFrame(np.cos(exo_train_cnx[windDir])*10 + 10)\n",
    "windDirCos_valid_cnx = pd.DataFrame(np.sin(exo_valid_cnx[windDir])*10 + 10)\n",
    "windDirCos_test_cnx = pd.DataFrame(np.cos(exo_test_cnx[windDir])*10 + 10)\n",
    "\n",
    "windDirSin_train_kkc = pd.DataFrame(np.sin(exo_train_kkc[windDir])*10 + 10)\n",
    "windDirSin_valid_kkc = pd.DataFrame(np.sin(exo_valid_kkc[windDir])*10 + 10)\n",
    "windDirSin_test_kkc = pd.DataFrame(np.sin(exo_test_kkc[windDir])*10 + 10)\n",
    "windDirCos_train_kkc = pd.DataFrame(np.cos(exo_train_kkc[windDir])*10 + 10)\n",
    "windDirCos_valid_kkc = pd.DataFrame(np.sin(exo_valid_kkc[windDir])*10 + 10)\n",
    "windDirCos_test_kkc = pd.DataFrame(np.cos(exo_test_kkc[windDir])*10 + 10)\n",
    "\n",
    "windDirSin_train_ray = pd.DataFrame(np.sin(exo_train_ray[windDir])*10 + 10)\n",
    "windDirSin_valid_ray = pd.DataFrame(np.sin(exo_valid_ray[windDir])*10 + 10)\n",
    "windDirSin_test_ray = pd.DataFrame(np.sin(exo_test_ray[windDir])*10 + 10)\n",
    "windDirCos_train_ray = pd.DataFrame(np.cos(exo_train_ray[windDir])*10 + 10)\n",
    "windDirCos_valid_ray = pd.DataFrame(np.sin(exo_valid_ray[windDir])*10 + 10)\n",
    "windDirCos_test_ray = pd.DataFrame(np.cos(exo_test_ray[windDir])*10 + 10)\n",
    "\n",
    "windDirSin_train_sara = pd.DataFrame(np.sin(exo_train_sara[windDir])*10 + 10)\n",
    "windDirSin_valid_sara = pd.DataFrame(np.sin(exo_valid_sara[windDir])*10 + 10)\n",
    "windDirSin_test_sara = pd.DataFrame(np.sin(exo_test_sara[windDir])*10 + 10)\n",
    "windDirCos_train_sara = pd.DataFrame(np.cos(exo_train_sara[windDir])*10 + 10)\n",
    "windDirCos_valid_sara = pd.DataFrame(np.sin(exo_valid_sara[windDir])*10 + 10)\n",
    "windDirCos_test_sara = pd.DataFrame(np.cos(exo_test_sara[windDir])*10 + 10)\n",
    "\n",
    "windDirSin_train_surat = pd.DataFrame(np.sin(exo_train_surat[windDir])*10 + 10)\n",
    "windDirSin_valid_surat = pd.DataFrame(np.sin(exo_valid_surat[windDir])*10 + 10)\n",
    "windDirSin_test_surat = pd.DataFrame(np.sin(exo_test_surat[windDir])*10 + 10)\n",
    "windDirCos_train_surat = pd.DataFrame(np.cos(exo_train_surat[windDir])*10 + 10)\n",
    "windDirCos_valid_surat = pd.DataFrame(np.sin(exo_valid_surat[windDir])*10 + 10)\n",
    "windDirCos_test_surat = pd.DataFrame(np.cos(exo_test_surat[windDir])*10 + 10)"
   ]
  },
  {
   "cell_type": "code",
   "execution_count": null,
   "metadata": {},
   "outputs": [],
   "source": [
    "gSearch_windDirSin_bkk = sarimax_randomsearch(windDirSin_train_bkk, windDirSin_test_bkk, pdq, pdqs, y_val=windDirSin_valid_bkk, n_rand=3, verbose=1)\n",
    "display(gSearch_windDirSin_bkk)"
   ]
  },
  {
   "cell_type": "code",
   "execution_count": null,
   "metadata": {},
   "outputs": [],
   "source": [
    "gSearch_windDirSin_cnx = sarimax_randomsearch(windDirSin_train_cnx, windDirSin_test_cnx, pdq, pdqs, y_val=windDirSin_valid_cnx, n_rand=5, verbose=1)\n",
    "display(gSearch_windDirSin_cnx)"
   ]
  },
  {
   "cell_type": "code",
   "execution_count": null,
   "metadata": {},
   "outputs": [],
   "source": [
    "gSearch_windDirSin_kkc = sarimax_randomsearch(windDirSin_train_kkc, windDirSin_test_kkc, pdq, pdqs, y_val=windDirSin_valid_kkc, n_rand=5, verbose=1)\n",
    "display(gSearch_windDirSin_kkc)"
   ]
  },
  {
   "cell_type": "code",
   "execution_count": 11,
   "metadata": {},
   "outputs": [
    {
     "name": "stderr",
     "output_type": "stream",
     "text": [
      "100%|██████████| 16675/16675 [20:52<00:00, 13.31it/s]\n"
     ]
    },
    {
     "name": "stdout",
     "output_type": "stream",
     "text": [
      "ITER#0 (0, 1, 2) (1, 0, 0, 1461) 12.126218929802084\n"
     ]
    },
    {
     "name": "stderr",
     "output_type": "stream",
     "text": [
      "100%|██████████| 16675/16675 [19:32<00:00, 14.22it/s]\n"
     ]
    },
    {
     "name": "stdout",
     "output_type": "stream",
     "text": [
      "ITER#1 (2, 1, 0) (0, 1, 1, 1461) 10.122559327616138\n"
     ]
    },
    {
     "name": "stderr",
     "output_type": "stream",
     "text": [
      "100%|██████████| 16675/16675 [19:34<00:00, 14.20it/s]"
     ]
    },
    {
     "name": "stdout",
     "output_type": "stream",
     "text": [
      "ITER#2 (0, 0, 2) (0, 1, 0, 1461) 11.014303477260475\n"
     ]
    },
    {
     "name": "stderr",
     "output_type": "stream",
     "text": [
      "\n"
     ]
    },
    {
     "data": {
      "text/html": [
       "<div>\n",
       "<style scoped>\n",
       "    .dataframe tbody tr th:only-of-type {\n",
       "        vertical-align: middle;\n",
       "    }\n",
       "\n",
       "    .dataframe tbody tr th {\n",
       "        vertical-align: top;\n",
       "    }\n",
       "\n",
       "    .dataframe thead th {\n",
       "        text-align: right;\n",
       "    }\n",
       "</style>\n",
       "<table border=\"1\" class=\"dataframe\">\n",
       "  <thead>\n",
       "    <tr style=\"text-align: right;\">\n",
       "      <th></th>\n",
       "      <th>pdq</th>\n",
       "      <th>pdqs</th>\n",
       "      <th>rmse</th>\n",
       "    </tr>\n",
       "  </thead>\n",
       "  <tbody>\n",
       "    <tr>\n",
       "      <th>1</th>\n",
       "      <td>(2, 1, 0)</td>\n",
       "      <td>(0, 1, 1, 1461)</td>\n",
       "      <td>10.122559</td>\n",
       "    </tr>\n",
       "    <tr>\n",
       "      <th>2</th>\n",
       "      <td>(0, 0, 2)</td>\n",
       "      <td>(0, 1, 0, 1461)</td>\n",
       "      <td>11.014303</td>\n",
       "    </tr>\n",
       "    <tr>\n",
       "      <th>0</th>\n",
       "      <td>(0, 1, 2)</td>\n",
       "      <td>(1, 0, 0, 1461)</td>\n",
       "      <td>12.126219</td>\n",
       "    </tr>\n",
       "  </tbody>\n",
       "</table>\n",
       "</div>"
      ],
      "text/plain": [
       "         pdq             pdqs       rmse\n",
       "1  (2, 1, 0)  (0, 1, 1, 1461)  10.122559\n",
       "2  (0, 0, 2)  (0, 1, 0, 1461)  11.014303\n",
       "0  (0, 1, 2)  (1, 0, 0, 1461)  12.126219"
      ]
     },
     "metadata": {},
     "output_type": "display_data"
    }
   ],
   "source": [
    "gSearch_windDirSin_ray = sarimax_randomsearch(windDirSin_train_ray, windDirSin_test_ray, pdq, pdqs, y_val=windDirSin_valid_ray, n_rand=3, verbose=1)\n",
    "display(gSearch_windDirSin_ray)"
   ]
  },
  {
   "cell_type": "code",
   "execution_count": 12,
   "metadata": {},
   "outputs": [
    {
     "name": "stderr",
     "output_type": "stream",
     "text": [
      "100%|██████████| 16675/16675 [19:43<00:00, 14.08it/s]\n"
     ]
    },
    {
     "name": "stdout",
     "output_type": "stream",
     "text": [
      "ITER#0 (2, 1, 0) (1, 0, 0, 1461) 9.913282746834783\n"
     ]
    },
    {
     "name": "stderr",
     "output_type": "stream",
     "text": [
      "100%|██████████| 16675/16675 [19:54<00:00, 13.96it/s]\n"
     ]
    },
    {
     "name": "stdout",
     "output_type": "stream",
     "text": [
      "ITER#1 (1, 1, 1) (1, 1, 0, 1461) 9.161331923997333\n"
     ]
    },
    {
     "name": "stderr",
     "output_type": "stream",
     "text": [
      "100%|██████████| 16675/16675 [19:20<00:00, 14.36it/s]"
     ]
    },
    {
     "name": "stdout",
     "output_type": "stream",
     "text": [
      "ITER#2 (2, 1, 2) (0, 0, 0, 1461) 11.222181208989157\n"
     ]
    },
    {
     "name": "stderr",
     "output_type": "stream",
     "text": [
      "\n"
     ]
    },
    {
     "data": {
      "text/html": [
       "<div>\n",
       "<style scoped>\n",
       "    .dataframe tbody tr th:only-of-type {\n",
       "        vertical-align: middle;\n",
       "    }\n",
       "\n",
       "    .dataframe tbody tr th {\n",
       "        vertical-align: top;\n",
       "    }\n",
       "\n",
       "    .dataframe thead th {\n",
       "        text-align: right;\n",
       "    }\n",
       "</style>\n",
       "<table border=\"1\" class=\"dataframe\">\n",
       "  <thead>\n",
       "    <tr style=\"text-align: right;\">\n",
       "      <th></th>\n",
       "      <th>pdq</th>\n",
       "      <th>pdqs</th>\n",
       "      <th>rmse</th>\n",
       "    </tr>\n",
       "  </thead>\n",
       "  <tbody>\n",
       "    <tr>\n",
       "      <th>1</th>\n",
       "      <td>(1, 1, 1)</td>\n",
       "      <td>(1, 1, 0, 1461)</td>\n",
       "      <td>9.161332</td>\n",
       "    </tr>\n",
       "    <tr>\n",
       "      <th>0</th>\n",
       "      <td>(2, 1, 0)</td>\n",
       "      <td>(1, 0, 0, 1461)</td>\n",
       "      <td>9.913283</td>\n",
       "    </tr>\n",
       "    <tr>\n",
       "      <th>2</th>\n",
       "      <td>(2, 1, 2)</td>\n",
       "      <td>(0, 0, 0, 1461)</td>\n",
       "      <td>11.222181</td>\n",
       "    </tr>\n",
       "  </tbody>\n",
       "</table>\n",
       "</div>"
      ],
      "text/plain": [
       "         pdq             pdqs       rmse\n",
       "1  (1, 1, 1)  (1, 1, 0, 1461)   9.161332\n",
       "0  (2, 1, 0)  (1, 0, 0, 1461)   9.913283\n",
       "2  (2, 1, 2)  (0, 0, 0, 1461)  11.222181"
      ]
     },
     "metadata": {},
     "output_type": "display_data"
    }
   ],
   "source": [
    "gSearch_windDirSin_sara = sarimax_randomsearch(windDirSin_train_sara, windDirSin_test_sara, pdq, pdqs, y_val=windDirSin_valid_sara, n_rand=3, verbose=1)\n",
    "display(gSearch_windDirSin_sara)"
   ]
  },
  {
   "cell_type": "code",
   "execution_count": 13,
   "metadata": {},
   "outputs": [
    {
     "name": "stderr",
     "output_type": "stream",
     "text": [
      "100%|██████████| 13384/13384 [14:20<00:00, 15.55it/s]\n"
     ]
    },
    {
     "name": "stdout",
     "output_type": "stream",
     "text": [
      "ITER#0 (0, 0, 0) (0, 0, 1, 1461) 12.667716009570269\n"
     ]
    },
    {
     "name": "stderr",
     "output_type": "stream",
     "text": [
      "100%|██████████| 13384/13384 [14:46<00:00, 15.11it/s]\n"
     ]
    },
    {
     "name": "stdout",
     "output_type": "stream",
     "text": [
      "ITER#1 (1, 0, 2) (0, 1, 0, 1461) 10.845617259847007\n"
     ]
    },
    {
     "name": "stderr",
     "output_type": "stream",
     "text": [
      "100%|██████████| 13384/13384 [14:46<00:00, 15.10it/s]"
     ]
    },
    {
     "name": "stdout",
     "output_type": "stream",
     "text": [
      "ITER#2 (2, 1, 2) (0, 0, 0, 1461) 12.135672870576478\n"
     ]
    },
    {
     "name": "stderr",
     "output_type": "stream",
     "text": [
      "\n"
     ]
    },
    {
     "data": {
      "text/html": [
       "<div>\n",
       "<style scoped>\n",
       "    .dataframe tbody tr th:only-of-type {\n",
       "        vertical-align: middle;\n",
       "    }\n",
       "\n",
       "    .dataframe tbody tr th {\n",
       "        vertical-align: top;\n",
       "    }\n",
       "\n",
       "    .dataframe thead th {\n",
       "        text-align: right;\n",
       "    }\n",
       "</style>\n",
       "<table border=\"1\" class=\"dataframe\">\n",
       "  <thead>\n",
       "    <tr style=\"text-align: right;\">\n",
       "      <th></th>\n",
       "      <th>pdq</th>\n",
       "      <th>pdqs</th>\n",
       "      <th>rmse</th>\n",
       "    </tr>\n",
       "  </thead>\n",
       "  <tbody>\n",
       "    <tr>\n",
       "      <th>1</th>\n",
       "      <td>(1, 0, 2)</td>\n",
       "      <td>(0, 1, 0, 1461)</td>\n",
       "      <td>10.845617</td>\n",
       "    </tr>\n",
       "    <tr>\n",
       "      <th>2</th>\n",
       "      <td>(2, 1, 2)</td>\n",
       "      <td>(0, 0, 0, 1461)</td>\n",
       "      <td>12.135673</td>\n",
       "    </tr>\n",
       "    <tr>\n",
       "      <th>0</th>\n",
       "      <td>(0, 0, 0)</td>\n",
       "      <td>(0, 0, 1, 1461)</td>\n",
       "      <td>12.667716</td>\n",
       "    </tr>\n",
       "  </tbody>\n",
       "</table>\n",
       "</div>"
      ],
      "text/plain": [
       "         pdq             pdqs       rmse\n",
       "1  (1, 0, 2)  (0, 1, 0, 1461)  10.845617\n",
       "2  (2, 1, 2)  (0, 0, 0, 1461)  12.135673\n",
       "0  (0, 0, 0)  (0, 0, 1, 1461)  12.667716"
      ]
     },
     "metadata": {},
     "output_type": "display_data"
    }
   ],
   "source": [
    "gSearch_windDirSin_surat = sarimax_randomsearch(windDirSin_train_surat, windDirSin_test_surat, pdq, pdqs, y_val=windDirSin_valid_surat, n_rand=3, verbose=1)\n",
    "display(gSearch_windDirSin_surat)"
   ]
  },
  {
   "cell_type": "code",
   "execution_count": 14,
   "metadata": {},
   "outputs": [
    {
     "name": "stderr",
     "output_type": "stream",
     "text": [
      "100%|██████████| 16675/16675 [19:27<00:00, 14.28it/s]\n"
     ]
    },
    {
     "name": "stdout",
     "output_type": "stream",
     "text": [
      "ITER#0 (2, 1, 2) (0, 0, 1, 1461) 11.961316618412\n"
     ]
    },
    {
     "name": "stderr",
     "output_type": "stream",
     "text": [
      "100%|██████████| 16675/16675 [20:31<00:00, 13.54it/s]\n"
     ]
    },
    {
     "name": "stdout",
     "output_type": "stream",
     "text": [
      "ITER#1 (0, 1, 2) (1, 1, 1, 1461) 10.719768930057587\n"
     ]
    },
    {
     "name": "stderr",
     "output_type": "stream",
     "text": [
      "100%|██████████| 16675/16675 [21:55<00:00, 12.67it/s]"
     ]
    },
    {
     "name": "stdout",
     "output_type": "stream",
     "text": [
      "ITER#2 (2, 1, 0) (0, 0, 1, 1461) 12.391357735712376\n"
     ]
    },
    {
     "name": "stderr",
     "output_type": "stream",
     "text": [
      "\n"
     ]
    },
    {
     "data": {
      "text/html": [
       "<div>\n",
       "<style scoped>\n",
       "    .dataframe tbody tr th:only-of-type {\n",
       "        vertical-align: middle;\n",
       "    }\n",
       "\n",
       "    .dataframe tbody tr th {\n",
       "        vertical-align: top;\n",
       "    }\n",
       "\n",
       "    .dataframe thead th {\n",
       "        text-align: right;\n",
       "    }\n",
       "</style>\n",
       "<table border=\"1\" class=\"dataframe\">\n",
       "  <thead>\n",
       "    <tr style=\"text-align: right;\">\n",
       "      <th></th>\n",
       "      <th>pdq</th>\n",
       "      <th>pdqs</th>\n",
       "      <th>rmse</th>\n",
       "    </tr>\n",
       "  </thead>\n",
       "  <tbody>\n",
       "    <tr>\n",
       "      <th>1</th>\n",
       "      <td>(0, 1, 2)</td>\n",
       "      <td>(1, 1, 1, 1461)</td>\n",
       "      <td>10.719769</td>\n",
       "    </tr>\n",
       "    <tr>\n",
       "      <th>0</th>\n",
       "      <td>(2, 1, 2)</td>\n",
       "      <td>(0, 0, 1, 1461)</td>\n",
       "      <td>11.961317</td>\n",
       "    </tr>\n",
       "    <tr>\n",
       "      <th>2</th>\n",
       "      <td>(2, 1, 0)</td>\n",
       "      <td>(0, 0, 1, 1461)</td>\n",
       "      <td>12.391358</td>\n",
       "    </tr>\n",
       "  </tbody>\n",
       "</table>\n",
       "</div>"
      ],
      "text/plain": [
       "         pdq             pdqs       rmse\n",
       "1  (0, 1, 2)  (1, 1, 1, 1461)  10.719769\n",
       "0  (2, 1, 2)  (0, 0, 1, 1461)  11.961317\n",
       "2  (2, 1, 0)  (0, 0, 1, 1461)  12.391358"
      ]
     },
     "metadata": {},
     "output_type": "display_data"
    }
   ],
   "source": [
    "gSearch_windDirCos_ray = sarimax_randomsearch(windDirCos_train_ray, windDirCos_test_ray, pdq, pdqs, y_val=windDirCos_valid_ray, n_rand=3, verbose=1)\n",
    "display(gSearch_windDirCos_ray)"
   ]
  },
  {
   "cell_type": "code",
   "execution_count": 15,
   "metadata": {},
   "outputs": [
    {
     "name": "stderr",
     "output_type": "stream",
     "text": [
      "100%|██████████| 16675/16675 [20:12<00:00, 13.75it/s]\n"
     ]
    },
    {
     "name": "stdout",
     "output_type": "stream",
     "text": [
      "ITER#0 (0, 1, 1) (0, 1, 0, 1461) 10.245684563019658\n"
     ]
    },
    {
     "name": "stderr",
     "output_type": "stream",
     "text": [
      "100%|██████████| 16675/16675 [20:26<00:00, 13.60it/s]\n"
     ]
    },
    {
     "name": "stdout",
     "output_type": "stream",
     "text": [
      "ITER#1 (2, 0, 2) (1, 1, 1, 1461) 9.324734055740773\n"
     ]
    },
    {
     "name": "stderr",
     "output_type": "stream",
     "text": [
      "100%|██████████| 16675/16675 [19:01<00:00, 14.60it/s]"
     ]
    },
    {
     "name": "stdout",
     "output_type": "stream",
     "text": [
      "ITER#2 (0, 1, 0) (0, 0, 0, 1461) 11.748596516952324\n"
     ]
    },
    {
     "name": "stderr",
     "output_type": "stream",
     "text": [
      "\n"
     ]
    },
    {
     "data": {
      "text/html": [
       "<div>\n",
       "<style scoped>\n",
       "    .dataframe tbody tr th:only-of-type {\n",
       "        vertical-align: middle;\n",
       "    }\n",
       "\n",
       "    .dataframe tbody tr th {\n",
       "        vertical-align: top;\n",
       "    }\n",
       "\n",
       "    .dataframe thead th {\n",
       "        text-align: right;\n",
       "    }\n",
       "</style>\n",
       "<table border=\"1\" class=\"dataframe\">\n",
       "  <thead>\n",
       "    <tr style=\"text-align: right;\">\n",
       "      <th></th>\n",
       "      <th>pdq</th>\n",
       "      <th>pdqs</th>\n",
       "      <th>rmse</th>\n",
       "    </tr>\n",
       "  </thead>\n",
       "  <tbody>\n",
       "    <tr>\n",
       "      <th>1</th>\n",
       "      <td>(2, 0, 2)</td>\n",
       "      <td>(1, 1, 1, 1461)</td>\n",
       "      <td>9.324734</td>\n",
       "    </tr>\n",
       "    <tr>\n",
       "      <th>0</th>\n",
       "      <td>(0, 1, 1)</td>\n",
       "      <td>(0, 1, 0, 1461)</td>\n",
       "      <td>10.245685</td>\n",
       "    </tr>\n",
       "    <tr>\n",
       "      <th>2</th>\n",
       "      <td>(0, 1, 0)</td>\n",
       "      <td>(0, 0, 0, 1461)</td>\n",
       "      <td>11.748597</td>\n",
       "    </tr>\n",
       "  </tbody>\n",
       "</table>\n",
       "</div>"
      ],
      "text/plain": [
       "         pdq             pdqs       rmse\n",
       "1  (2, 0, 2)  (1, 1, 1, 1461)   9.324734\n",
       "0  (0, 1, 1)  (0, 1, 0, 1461)  10.245685\n",
       "2  (0, 1, 0)  (0, 0, 0, 1461)  11.748597"
      ]
     },
     "metadata": {},
     "output_type": "display_data"
    }
   ],
   "source": [
    "gSearch_windDirCos_sara = sarimax_randomsearch(windDirCos_train_sara, windDirCos_test_sara, pdq, pdqs, y_val=windDirCos_valid_sara, n_rand=3, verbose=1)\n",
    "display(gSearch_windDirCos_sara)"
   ]
  },
  {
   "cell_type": "code",
   "execution_count": 16,
   "metadata": {},
   "outputs": [
    {
     "name": "stderr",
     "output_type": "stream",
     "text": [
      "100%|██████████| 13384/13384 [16:09<00:00, 13.80it/s]\n"
     ]
    },
    {
     "name": "stdout",
     "output_type": "stream",
     "text": [
      "ITER#0 (2, 0, 2) (0, 1, 0, 1461) 10.179417251700995\n"
     ]
    },
    {
     "name": "stderr",
     "output_type": "stream",
     "text": [
      "100%|██████████| 13384/13384 [15:07<00:00, 14.74it/s]\n"
     ]
    },
    {
     "name": "stdout",
     "output_type": "stream",
     "text": [
      "ITER#1 (1, 1, 1) (1, 1, 0, 1461) 10.394841982514222\n"
     ]
    },
    {
     "name": "stderr",
     "output_type": "stream",
     "text": [
      "100%|██████████| 13384/13384 [14:38<00:00, 15.23it/s]"
     ]
    },
    {
     "name": "stdout",
     "output_type": "stream",
     "text": [
      "ITER#2 (1, 0, 0) (0, 1, 1, 1461) 10.579088569821547\n"
     ]
    },
    {
     "name": "stderr",
     "output_type": "stream",
     "text": [
      "\n"
     ]
    },
    {
     "data": {
      "text/html": [
       "<div>\n",
       "<style scoped>\n",
       "    .dataframe tbody tr th:only-of-type {\n",
       "        vertical-align: middle;\n",
       "    }\n",
       "\n",
       "    .dataframe tbody tr th {\n",
       "        vertical-align: top;\n",
       "    }\n",
       "\n",
       "    .dataframe thead th {\n",
       "        text-align: right;\n",
       "    }\n",
       "</style>\n",
       "<table border=\"1\" class=\"dataframe\">\n",
       "  <thead>\n",
       "    <tr style=\"text-align: right;\">\n",
       "      <th></th>\n",
       "      <th>pdq</th>\n",
       "      <th>pdqs</th>\n",
       "      <th>rmse</th>\n",
       "    </tr>\n",
       "  </thead>\n",
       "  <tbody>\n",
       "    <tr>\n",
       "      <th>0</th>\n",
       "      <td>(2, 0, 2)</td>\n",
       "      <td>(0, 1, 0, 1461)</td>\n",
       "      <td>10.179417</td>\n",
       "    </tr>\n",
       "    <tr>\n",
       "      <th>1</th>\n",
       "      <td>(1, 1, 1)</td>\n",
       "      <td>(1, 1, 0, 1461)</td>\n",
       "      <td>10.394842</td>\n",
       "    </tr>\n",
       "    <tr>\n",
       "      <th>2</th>\n",
       "      <td>(1, 0, 0)</td>\n",
       "      <td>(0, 1, 1, 1461)</td>\n",
       "      <td>10.579089</td>\n",
       "    </tr>\n",
       "  </tbody>\n",
       "</table>\n",
       "</div>"
      ],
      "text/plain": [
       "         pdq             pdqs       rmse\n",
       "0  (2, 0, 2)  (0, 1, 0, 1461)  10.179417\n",
       "1  (1, 1, 1)  (1, 1, 0, 1461)  10.394842\n",
       "2  (1, 0, 0)  (0, 1, 1, 1461)  10.579089"
      ]
     },
     "metadata": {},
     "output_type": "display_data"
    }
   ],
   "source": [
    "gSearch_windDirCos_surat = sarimax_randomsearch(windDirCos_train_surat, windDirCos_test_surat, pdq, pdqs, y_val=windDirCos_valid_surat, n_rand=3, verbose=1)\n",
    "display(gSearch_windDirCos_surat)"
   ]
  },
  {
   "cell_type": "code",
   "execution_count": null,
   "metadata": {},
   "outputs": [],
   "source": [
    "# gSearch_windDir_cnx = sarimax_randomsearch(windDir_train_cnx, windDir_test_cnx, pdq, pdqs, y_val=windDirCos_valid_cnx, n_rand=5, verbose=1)\n",
    "# gSearch_windDir_kkc = sarimax_randomsearch(windDir_train_kkc, windDir_test_kkc, pdq, pdqs, y_val=windDirCos_valid_kkc, n_rand=5, verbose=1)\n",
    "# gSearch_windDir_ray = sarimax_randomsearch(windDir_train_ray, windDir_test_ray, pdq, pdqs, y_val=windDirCos_valid_ray, n_rand=5, verbose=1)\n",
    "# gSearch_windDir_sara = sarimax_randomsearch(windDir_train_sara, windDir_test_sara, pdq, pdqs, y_val=windDirCos_valid_sara, n_rand=5, verbose=1)\n",
    "# gSearch_windDir_surat = sarimax_randomsearch(windDir_train_surat, windDir_test_surat, pdq, pdqs, y_val=windDirCos_valid_surat, n_rand=5, verbose=1)"
   ]
  },
  {
   "cell_type": "code",
   "execution_count": null,
   "metadata": {},
   "outputs": [],
   "source": [
    "# windDir_order = {province[0]: gSearch_windDir_bkk.pdq, province[1]: gSearch_windDir_cnx.pdq, province[2]: gSearch_windDir_kkc.pdq, province[3]: gSearch_windDir_ray.pdq, province[4]: gSearch_windDir_sara.pdq, province[5]: gSearch_windDir_surat.pdq}\n",
    "# windDir_seasonal_order = {province[0]: gSearch_windDir_bkk.pdqs, province[1]: gSearch_windDir_cnx.pdqs, province[2]: gSearch_windDir_kkc.pdqs, province[3]: gSearch_windDir_ray.pdqs, province[4]: gSearch_windDir_sara.pdqs, province[5]: gSearch_windDir_surat.pdqs}\n",
    "# print(windDir_order)\n",
    "# print(windDir_seasonal_order)"
   ]
  },
  {
   "cell_type": "markdown",
   "metadata": {},
   "source": [
    "## Tuning parameters for PM2.5"
   ]
  },
  {
   "cell_type": "code",
   "execution_count": 108,
   "metadata": {},
   "outputs": [],
   "source": [
    "exog_columns = ['Temp', 'WindSpeed', 'WindDirSin', 'WindDirCos']"
   ]
  },
  {
   "cell_type": "code",
   "execution_count": null,
   "metadata": {
    "scrolled": true
   },
   "outputs": [],
   "source": [
    "result_bkk = sarimax_randomsearch(pm_train_bkk, pm_test_bkk, pdq, pdqs, y_val=pm_valid_bkk, x_train=exo_train_bkk, x_test=exo_test_bkk, x_val=exo_valid_bkk)\n",
    "display(result_bkk)"
   ]
  },
  {
   "cell_type": "code",
   "execution_count": null,
   "metadata": {},
   "outputs": [],
   "source": [
    "result_cnx = sarimax_randomsearch(pm_train_cnx, pm_test_cnx, pdq, pdqs, y_val=pm_valid_cnx, x_train=exo_train_cnx, x_test=exo_test_cnx, x_val=exo_valid_cnx)\n",
    "display(result_cnx)"
   ]
  },
  {
   "cell_type": "code",
   "execution_count": null,
   "metadata": {},
   "outputs": [],
   "source": [
    "result_kkc = sarimax_randomsearch(pm_train_kkc, pm_test_kkc, pdq, pdqs, y_val=pm_valid_kkc, x_train=exo_train_kkc, x_test=exo_test_kkc, x_val=exo_valid_kkc)\n",
    "display(result_kkc)"
   ]
  },
  {
   "cell_type": "code",
   "execution_count": 109,
   "metadata": {},
   "outputs": [
    {
     "name": "stderr",
     "output_type": "stream",
     "text": [
      "100%|██████████| 16675/16675 [2:43:32<00:00,  1.70it/s]  \n"
     ]
    },
    {
     "name": "stdout",
     "output_type": "stream",
     "text": [
      "ITER#0 (0, 1, 2) (1, 0, 0, 1461) 11.789344728849196\n"
     ]
    },
    {
     "name": "stderr",
     "output_type": "stream",
     "text": [
      "100%|██████████| 16675/16675 [2:47:32<00:00,  1.66it/s]  \n"
     ]
    },
    {
     "name": "stdout",
     "output_type": "stream",
     "text": [
      "ITER#1 (0, 1, 0) (0, 1, 1, 1461) 12.156300366231592\n"
     ]
    },
    {
     "name": "stderr",
     "output_type": "stream",
     "text": [
      "100%|██████████| 16675/16675 [2:40:07<00:00,  1.74it/s]  "
     ]
    },
    {
     "name": "stdout",
     "output_type": "stream",
     "text": [
      "ITER#2 (2, 0, 1) (0, 1, 1, 1461) 11.380818345770507\n"
     ]
    },
    {
     "name": "stderr",
     "output_type": "stream",
     "text": [
      "\n"
     ]
    },
    {
     "data": {
      "text/html": [
       "<div>\n",
       "<style scoped>\n",
       "    .dataframe tbody tr th:only-of-type {\n",
       "        vertical-align: middle;\n",
       "    }\n",
       "\n",
       "    .dataframe tbody tr th {\n",
       "        vertical-align: top;\n",
       "    }\n",
       "\n",
       "    .dataframe thead th {\n",
       "        text-align: right;\n",
       "    }\n",
       "</style>\n",
       "<table border=\"1\" class=\"dataframe\">\n",
       "  <thead>\n",
       "    <tr style=\"text-align: right;\">\n",
       "      <th></th>\n",
       "      <th>pdq</th>\n",
       "      <th>pdqs</th>\n",
       "      <th>rmse</th>\n",
       "    </tr>\n",
       "  </thead>\n",
       "  <tbody>\n",
       "    <tr>\n",
       "      <th>2</th>\n",
       "      <td>(2, 0, 1)</td>\n",
       "      <td>(0, 1, 1, 1461)</td>\n",
       "      <td>11.380818</td>\n",
       "    </tr>\n",
       "    <tr>\n",
       "      <th>0</th>\n",
       "      <td>(0, 1, 2)</td>\n",
       "      <td>(1, 0, 0, 1461)</td>\n",
       "      <td>11.789345</td>\n",
       "    </tr>\n",
       "    <tr>\n",
       "      <th>1</th>\n",
       "      <td>(0, 1, 0)</td>\n",
       "      <td>(0, 1, 1, 1461)</td>\n",
       "      <td>12.156300</td>\n",
       "    </tr>\n",
       "  </tbody>\n",
       "</table>\n",
       "</div>"
      ],
      "text/plain": [
       "         pdq             pdqs       rmse\n",
       "2  (2, 0, 1)  (0, 1, 1, 1461)  11.380818\n",
       "0  (0, 1, 2)  (1, 0, 0, 1461)  11.789345\n",
       "1  (0, 1, 0)  (0, 1, 1, 1461)  12.156300"
      ]
     },
     "metadata": {},
     "output_type": "display_data"
    }
   ],
   "source": [
    "model_exog_ray = {}\n",
    "exog_order_ray = {}\n",
    "exog_seasonal_order_ray = {}\n",
    "\n",
    "model_exog_ray['Temp'] = MinimalSARIMAX(temp_train_ray, (2, 1, 0), (0, 0, 1, 1461))\n",
    "model_exog_ray['WindSpeed'] = MinimalSARIMAX(windSpeed_train_ray, (2, 0, 2), (0, 0, 1, 1461))\n",
    "model_exog_ray['WindDirSin'] = MinimalSARIMAX(windDirSin_train_ray, (2, 1, 0), (0, 1, 1, 1461))\n",
    "model_exog_ray['WindDirCos'] = MinimalSARIMAX(windDirCos_train_ray, (0, 1, 2), (1, 1, 1, 1461))\n",
    "\n",
    "for exog in exog_columns:\n",
    "    model_exog_ray[exog].fit(lr=1e-6, lr_decay=0.999, verbose=0)\n",
    "\n",
    "result_ray = sarimax_randomsearch(pm_train_ray, pm_test_ray, pdq, pdqs, y_val=pm_valid_ray, x_train=exo_train_ray[exog_columns], x_test=exo_test_ray[exog_columns], x_val=exo_valid_ray[exog_columns],\n",
    "                                  model_exog=model_exog_ray, n_rand=3, verbose=1)\n",
    "\n",
    "display(result_ray)"
   ]
  },
  {
   "cell_type": "code",
   "execution_count": null,
   "metadata": {},
   "outputs": [],
   "source": [
    "model_exog_sara = {}\n",
    "exog_order_sara = {}\n",
    "exog_seasonal_order_sara = {}\n",
    "\n",
    "model_exog_sara['Temp'] = MinimalSARIMAX(temp_train_sara, (2, 1, 2), (1, 0, 1, 1461))\n",
    "model_exog_sara['WindSpeed'] = MinimalSARIMAX(windSpeed_train_sara, (1, 1, 1), (1, 0, 0, 1461))\n",
    "model_exog_sara['WindDirSin'] = MinimalSARIMAX(windDirSin_train_sara, (1, 1, 1), (1, 1, 0, 1461))\n",
    "model_exog_sara['WindDirCos'] = MinimalSARIMAX(windDirCos_train_sara, (2, 0, 2), (1, 1, 1, 1461))\n",
    "\n",
    "for exog in exog_columns:\n",
    "    model_exog_sara[exog].fit(lr=1e-6, lr_decay=0.999, verbose=0)\n",
    "\n",
    "result_sara = sarimax_randomsearch(pm_train_sara, pm_test_sara, pdq, pdqs, y_val=pm_valid_sara, x_train=exo_train_sara[exog_columns], x_test=exo_test_sara[exog_columns], x_val=exo_valid_sara[exog_columns],\n",
    "                                  model_exog=model_exog_sara, n_rand=3, verbose=1)\n",
    "\n",
    "display(result_sara)"
   ]
  },
  {
   "cell_type": "code",
   "execution_count": null,
   "metadata": {},
   "outputs": [],
   "source": [
    "model_exog_surat = {}\n",
    "exog_order_surat = {}\n",
    "exog_seasonal_order_surat = {}\n",
    "\n",
    "model_exog_surat['Temp'] = MinimalSARIMAX(temp_train_surat, (2, 0, 2), (0, 0, 0, 1461))\n",
    "model_exog_surat['WindSpeed'] = MinimalSARIMAX(windSpeed_train_surat, (2, 1, 0), (1, 0, 1, 1461))\n",
    "model_exog_surat['WindDirSin'] = MinimalSARIMAX(windDirSin_train_surat, (1, 0, 2), (0, 1, 0, 1461))\n",
    "model_exog_surat['WindDirCos'] = MinimalSARIMAX(windDirCos_train_surat, (2, 0, 2), (0, 1, 0, 1461)\t)\n",
    "\n",
    "for exog in exog_columns:\n",
    "    model_exog_surat[exog].fit(lr=1e-6, lr_decay=0.999, verbose=0)\n",
    "\n",
    "result_surat = sarimax_randomsearch(pm_train_surat, pm_test_surat, pdq, pdqs, y_val=pm_valid_surat, x_train=exo_train_surat[exog_columns], x_test=exo_test_surat[exog_columns], x_val=exo_valid_surat[exog_columns],\n",
    "                                  model_exog=model_exog_surat, n_rand=3, verbose=1)\n",
    "\n",
    "display(result_surat)"
   ]
  },
  {
   "cell_type": "code",
   "execution_count": null,
   "metadata": {},
   "outputs": [],
   "source": [
    "# with open('answer_dataset/gridsearch/result_bkk_03.bin',\"wb\") as f:\n",
    "#     pickle.dump(result_bkk, f)\n",
    "\n",
    "# with open('answer_dataset/gridsearch/result_cnx_03.bin',\"wb\") as f:\n",
    "#     pickle.dump(result_cnx, f)\n",
    "    \n",
    "# with open('answer_dataset/gridsearch/result_ray_03.bin',\"wb\") as f:\n",
    "#     pickle.dump(result_bkk, f)\n",
    "\n",
    "# with open('answer_dataset/gridsearch/result_sara_03.bin',\"wb\") as f:\n",
    "#     pickle.dump(result_sara, f)\n",
    "\n",
    "# with open('answer_dataset/gridsearch/result_surat_03.bin',\"wb\") as f:\n",
    "#     pickle.dump(result_surat, f)"
   ]
  },
  {
   "cell_type": "code",
   "execution_count": null,
   "metadata": {},
   "outputs": [],
   "source": [
    "# order = {province[0]: result_bkk.pdq, province[1]: result_cnx.pdq, province[2]: result_kkc.pdq, province[3]: result_ray.pdq, province[4]: result_sara.pdq, province[5]: result_surat.pdq}\n",
    "# seasonal_order = {province[0]: result_bkk.pdqs, province[1]: result_cnx.pdqs, province[2]: result_kkc.pdqs, province[3]: result_ray.pdqs, province[4]: result_sara.pdqs, province[5]: result_surat.pdqs}\n",
    "# print(order)\n",
    "# print(seasonal_order)"
   ]
  }
 ],
 "metadata": {
  "kernelspec": {
   "display_name": "Python 3 (ipykernel)",
   "language": "python",
   "name": "python3"
  },
  "language_info": {
   "codemirror_mode": {
    "name": "ipython",
    "version": 3
   },
   "file_extension": ".py",
   "mimetype": "text/x-python",
   "name": "python",
   "nbconvert_exporter": "python",
   "pygments_lexer": "ipython3",
   "version": "3.9.7"
  }
 },
 "nbformat": 4,
 "nbformat_minor": 2
}
