{
 "cells": [
  {
   "cell_type": "code",
   "execution_count": 1,
   "metadata": {
    "id": "xXgecYKfoECO"
   },
   "outputs": [],
   "source": [
    "#Import the libraries\n",
    "import numpy as np\n",
    "import pandas as pd\n",
    "\n",
    "import pickle\n",
    "\n",
    "import warnings\n",
    "warnings.filterwarnings(\"ignore\")"
   ]
  },
  {
   "cell_type": "markdown",
   "metadata": {
    "id": "BVf1rACoZREf"
   },
   "source": [
    "## SARIMAX"
   ]
  },
  {
   "cell_type": "code",
   "execution_count": 2,
   "metadata": {
    "id": "5YThJtVMZlap"
   },
   "outputs": [],
   "source": [
    "from sklearn.metrics import mean_squared_error\n",
    "from statsmodels.tsa.statespace.sarimax import SARIMAX\n",
    "\n",
    "from matplotlib.pyplot import figure\n",
    "import matplotlib.pyplot as plt"
   ]
  },
  {
   "cell_type": "markdown",
   "metadata": {},
   "source": [
    "### Training BKK with *minimal_SARIMAX*"
   ]
  },
  {
   "cell_type": "code",
   "execution_count": 3,
   "metadata": {},
   "outputs": [],
   "source": [
    "import sys\n",
    "sys.path.append('../')"
   ]
  },
  {
   "cell_type": "code",
   "execution_count": 4,
   "metadata": {},
   "outputs": [],
   "source": [
    "from importlib import reload\n",
    "\n",
    "from custom_function import minimalSARIMAX\n",
    "\n",
    "reload(minimalSARIMAX)\n",
    "\n",
    "from custom_function.minimalSARIMAX import MinimalSARIMAX"
   ]
  },
  {
   "cell_type": "code",
   "execution_count": 5,
   "metadata": {},
   "outputs": [],
   "source": [
    "train_set = pd.read_csv('6Hsampled_data_set/SARA/train_set.csv')\n",
    "train_set['WindDirSin'] = np.sin(train_set['WindDir'])*10 + 10\n",
    "train_set['WindDirCos'] = np.cos(train_set['WindDir'])*10 + 10 \n",
    "train_set['Time'] = pd.to_datetime(train_set['Time'])\n",
    "train_set = train_set.set_index('Time')\n",
    "\n",
    "valid_set = pd.read_csv('6Hsampled_data_set/SARA/valid_set.csv')\n",
    "valid_set['WindDirSin'] = np.sin(valid_set['WindDir'])*10 + 10 \n",
    "valid_set['WindDirCos'] = np.cos(valid_set['WindDir'])*10 + 10 \n",
    "valid_set['Time'] = pd.to_datetime(valid_set['Time'])\n",
    "valid_set = valid_set.set_index('Time')\n",
    "\n",
    "test_set = pd.read_csv('6Hsampled_data_set/SARA/test_set.csv')\n",
    "test_set['WindDirSin'] = np.sin(test_set['WindDir'])*10 + 10 \n",
    "test_set['WindDirCos'] = np.cos(test_set['WindDir'])*10 + 10 \n",
    "test_set['Time'] = pd.to_datetime(test_set['Time'])\n",
    "test_set = test_set.set_index('Time')"
   ]
  },
  {
   "cell_type": "markdown",
   "metadata": {},
   "source": [
    "##### Tuning Parameters"
   ]
  },
  {
   "cell_type": "code",
   "execution_count": 6,
   "metadata": {},
   "outputs": [],
   "source": [
    "order = (1, 0, 1)\n",
    "seasonal_order = (0, 0, 0, 1461)\n",
    "\n",
    "exog_order = {}\n",
    "exog_order['Temp'] = (1, 1, 0)\n",
    "exog_order['WindSpeed'] = (1, 0, 0)\n",
    "exog_order['WindDir'] = (1, 0, 1)\n",
    "\n",
    "exog_seasonal_order = {}\n",
    "exog_seasonal_order['Temp'] = (0, 1, 0, 1461)\n",
    "exog_seasonal_order['WindSpeed'] = (0, 0, 0, 1461)\n",
    "exog_seasonal_order['WindDir'] = (0, 1, 1, 1461)\n",
    "\n",
    "exog_columns = ['Temp', 'WindSpeed', 'WindDir']"
   ]
  },
  {
   "cell_type": "code",
   "execution_count": 7,
   "metadata": {},
   "outputs": [],
   "source": [
    "model = {}\n",
    "model_exog = {}\n",
    "\n",
    "model = MinimalSARIMAX(train_set[['PM25']],\n",
    "                          order,\n",
    "                          seasonal_order,\n",
    "                          exog=train_set[exog_columns])\n",
    "    \n",
    "model_exog = {}\n",
    "for exog in exog_columns:\n",
    "    model_exog[exog] = MinimalSARIMAX(train_set[[exog]],\n",
    "                                      exog_order[exog],\n",
    "                                      exog_seasonal_order[exog])"
   ]
  },
  {
   "cell_type": "code",
   "execution_count": 8,
   "metadata": {},
   "outputs": [],
   "source": [
    "model.fit(lr=1e-6, lr_decay=0.999 ,verbose=0)\n",
    "\n",
    "for exog in exog_columns:\n",
    "        if exog == 'WindDir':\n",
    "            model_exog[exog].fit(lr=5e-7, lr_decay=0.999, verbose=0)\n",
    "        else:\n",
    "            model_exog[exog].fit(lr=1e-6, lr_decay=0.999, verbose=0)"
   ]
  },
  {
   "cell_type": "markdown",
   "metadata": {},
   "source": [
    "#### Saraburi"
   ]
  },
  {
   "cell_type": "code",
   "execution_count": null,
   "metadata": {},
   "outputs": [],
   "source": [
    "Result_train = model.predict_step(train_set[['PM25']],\n",
    "                                  valid_set[['PM25']], \n",
    "                                  val_X_exog=train_set[exog_columns],\n",
    "                                  y_exog=valid_set[exog_columns], \n",
    "                                  model_exog=model_exog,\n",
    "                                  lr=np.array([1e-6, 1e-6, 1e-6, 5e-7]), lr_decay=0.99875, lr_decay_iter=10,\n",
    "                                  step=12, n_iter=3, learn=True, verbose=1)\n",
    "\n",
    "train_pred_sav, val1_pred_sav, Error_save = Result_train"
   ]
  },
  {
   "cell_type": "code",
   "execution_count": null,
   "metadata": {},
   "outputs": [],
   "source": [
    "train_pred_sav"
   ]
  },
  {
   "cell_type": "code",
   "execution_count": 17,
   "metadata": {},
   "outputs": [],
   "source": [
    "with open('../model_save/model_sara.model',\"wb\") as f:\n",
    "    pickle.dump(model, f)"
   ]
  },
  {
   "cell_type": "code",
   "execution_count": null,
   "metadata": {},
   "outputs": [],
   "source": [
    "train_X = pd.concat([train_pred_sav, val1_pred_sav])\n",
    "train_X = train_X.set_index('Time')\n",
    "\n",
    "plt.figure(num=None, figsize=(18, 6), dpi=80, facecolor='w', edgecolor='k')\n",
    "plt.plot(train_X['Actual'], color='g', label='ground truth')\n",
    "plt.plot(train_X['Predict'], alpha=.7, color='r', label='predict')\n",
    "plt.legend(loc=\"upper right\")"
   ]
  },
  {
   "cell_type": "code",
   "execution_count": 67,
   "metadata": {},
   "outputs": [
    {
     "name": "stderr",
     "output_type": "stream",
     "text": [
      "100%|██████████████████████████████████████████████████████████████████████████████| 2779/2779 [06:09<00:00,  7.51it/s]\n"
     ]
    }
   ],
   "source": [
    "Result_test = model.predict_step(valid_set[['PM25']],\n",
    "                                               test_set[['PM25']], \n",
    "                                               val_X_exog=valid_set[exog_columns],\n",
    "                                               y_exog=test_set[exog_columns], \n",
    "                                               model_exog=model_exog,\n",
    "                                               lr=np.array([1e-7, 1e-7, 1e-7, 5e-9]), lr_decay=0.9998975,\n",
    "                                               step=12, n_iter=1, learn=False)\t\n",
    "\n",
    "val2_pred_sav, test_pred_sav, Error_save = Result_test"
   ]
  },
  {
   "cell_type": "code",
   "execution_count": null,
   "metadata": {},
   "outputs": [],
   "source": [
    "test_X = pd.concat([val2_pred_sav, test_pred_sav])\n",
    "test_X = test_X.set_index('Time')\n",
    "\n",
    "plt.figure(num=None, figsize=(18, 6), dpi=80, facecolor='w', edgecolor='k')\n",
    "plt.plot(test_X['Actual'], color='g', label='ground truth')\n",
    "plt.plot(test_X['Predict'], alpha=.7, color='r', label='predict')\n",
    "plt.legend(loc=\"upper right\")"
   ]
  },
  {
   "cell_type": "code",
   "execution_count": null,
   "metadata": {},
   "outputs": [],
   "source": [
    "((Error_save**2).mean())**(1/2)"
   ]
  },
  {
   "cell_type": "code",
   "execution_count": 18,
   "metadata": {},
   "outputs": [],
   "source": [
    "test_pred_sav.to_csv('answer_dataset/pred_and_actual/y_pred_sav_SARA.csv')"
   ]
  }
 ],
 "metadata": {
  "colab": {
   "collapsed_sections": [],
   "name": "project_nb.ipynb",
   "provenance": [],
   "toc_visible": true
  },
  "interpreter": {
   "hash": "f6dbfcbd98b0ac394f24d96bedfb0bb0156c4fd54eb61167ff2e8fedb4cd16de"
  },
  "kernelspec": {
   "display_name": "Python 3.7 (torch)",
   "language": "python",
   "name": "python3"
  },
  "language_info": {
   "codemirror_mode": {
    "name": "ipython",
    "version": 3
   },
   "file_extension": ".py",
   "mimetype": "text/x-python",
   "name": "python",
   "nbconvert_exporter": "python",
   "pygments_lexer": "ipython3",
   "version": "3.9.7"
  }
 },
 "nbformat": 4,
 "nbformat_minor": 1
}
