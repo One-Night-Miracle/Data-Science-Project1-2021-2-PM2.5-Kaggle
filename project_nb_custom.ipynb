{
 "cells": [
  {
   "cell_type": "code",
   "execution_count": 1,
   "metadata": {
    "id": "xXgecYKfoECO"
   },
   "outputs": [],
   "source": [
    "#Import the libraries\n",
    "import numpy as np\n",
    "import pandas as pd\n",
    "import warnings\n",
    "warnings.filterwarnings(\"ignore\")"
   ]
  },
  {
   "cell_type": "markdown",
   "metadata": {
    "id": "9Q8kjFgTgF-R"
   },
   "source": [
    "## Download and Unzip the dataset."
   ]
  },
  {
   "cell_type": "code",
   "execution_count": 2,
   "metadata": {
    "colab": {
     "base_uri": "https://localhost:8080/"
    },
    "id": "vawEUIM6oIoc",
    "outputId": "6a5219ba-aa9b-4f88-b2df-325524590b6e"
   },
   "outputs": [],
   "source": [
    "# url_to_the_zip_file = \"https://storage.googleapis.com/kaggle-competitions-data/kaggle-v2/34330/3265183/bundle/archive.zip?GoogleAccessId=web-data@kaggle-161607.iam.gserviceaccount.com&Expires=1647437599&Signature=qVPxXAvAiFlZLpO%2Fp287NXm%2FlUOymBxRMs7NJKMGXlm3afW9PV9LuNalMJS56E%2BjsMSHh46ouLS6gNHYbyPwmdLSQiPpLQPGU6NTKTNprbDUOgYb2rqC4w6AgLOpdRh%2FGdabYAVAdjIh24Teoj5k%2Bs%2Fybm00sxAGf358%2BcxjEonvvUJDEhK7GTtv9NAFxAfsO%2F69xOWSkLEhjjnCwQ3QzfXWxbuYVnqlwy0dwQ6S%2F8iQappRaQg2%2BF9j76t1ay0B3Kg3ANj0P5EuVMDL2KVld3cQLiM7DPi9vQQV531T8snYsbiHjoE%2BhkH6w%2BWeULvu5UpDSaiVRepgtoscjgM8ig%3D%3D&response-content-disposition=attachment%3B+filename%3D2110446-data-science-and-data-engineering-2022.zip\"\n",
    "# new_file_name = \"2110446-data-science-and-data-engineering-2022.zip\"\n",
    "\n",
    "# !rm -f \"$new_file_name\"\n",
    "# !wget -c \"$url_to_the_zip_file\" -O \"$new_file_name\"\n",
    "# !unzip \"$new_file_name\""
   ]
  },
  {
   "cell_type": "markdown",
   "metadata": {
    "id": "DsnbYs9_gRM7"
   },
   "source": [
    "## read_csv()"
   ]
  },
  {
   "cell_type": "code",
   "execution_count": 3,
   "metadata": {
    "id": "vwR4ICpPpgnP"
   },
   "outputs": [],
   "source": [
    "def toDF(pm25_filename, temp_filename, wind_filename):\n",
    "  pm25_df = pd.read_csv('datasci_dataset_2022/'+pm25_filename, names=['Time', 'PM25'], skiprows=1)\n",
    "  pm25_df['Time'] = pd.to_datetime(pm25_df['Time'])\n",
    "  # pm25_df['Time'] = pm25_df['Time'].dt.tz_localize('UTC').dt.tz_convert('Asia/Bangkok')\n",
    "  # pm25_df['Time'] = pm25_df['Time'].dt.tz_localize(None)\n",
    "  pm25_df.set_index('Time', inplace=True)\n",
    "  pm25_df.columns = ['PM25']\n",
    "  pm25_df = pm25_df[~pm25_df.index.duplicated(keep='first')]\n",
    "  pm25_df.interpolate(inplace=True)\n",
    "  pm25_df.index = pd.DatetimeIndex(pm25_df.index)\n",
    "\n",
    "  temp_df = pd.read_csv('datasci_dataset_2022/'+temp_filename, names=['Time', 'Temp'], skiprows=1)\n",
    "  temp_df['Time'] = pd.to_datetime(temp_df['Time'])\n",
    "  temp_df.set_index(temp_df['Time'], inplace=True)\n",
    "  temp_df.drop(columns={'Time'}, inplace=True)\n",
    "  temp_df.columns = ['Temp']\n",
    "  # pad() is similar to fillna() with forward filling\n",
    "  temp_df = temp_df.resample('h').pad()\n",
    "  # temp_df.index = pd.DatetimeIndex(temp_df.index)\n",
    "\n",
    "  wind_df = pd.read_csv('datasci_dataset_2022/'+wind_filename, names=['Time', 'WindSpeed', 'WindDir'], skiprows=1)\n",
    "  wind_df['Time'] = pd.to_datetime(wind_df['Time'])\n",
    "  wind_df.set_index(wind_df['Time'], inplace=True)\n",
    "  wind_df.drop(columns={'Time'}, inplace=True)\n",
    "  wind_df.columns = ['WindSpeed', 'WindDir']\n",
    "  # backward filling\n",
    "  wind_df = wind_df.resample('h').bfill()\n",
    "  # wind_df.index = pd.DatetimeIndex(wind_df.index)\n",
    "\n",
    "  pm25_df['copy_index'] = pm25_df.index\n",
    "  df = pd.merge(pm25_df, temp_df, left_index=True, right_index=True)\n",
    "  df = pd.merge(df, wind_df, left_index=True, right_index=True)\n",
    "\n",
    "  df = df[['Temp','WindSpeed','WindDir','PM25']]\n",
    "  \n",
    "  # padding first and last indices\n",
    "  # df = df.ffill()\n",
    "  # df = df.bfill()\n",
    "\n",
    "  return df"
   ]
  },
  {
   "cell_type": "code",
   "execution_count": 4,
   "metadata": {
    "id": "N1z5Yu1ibV6A"
   },
   "outputs": [],
   "source": [
    "def toDFtest(pm25_filename, temp_filename, wind_filename):\n",
    "  pm25_df = pd.read_csv('datasci_dataset_2022/'+pm25_filename, names=['Time', 'PM25'], skiprows=1)\n",
    "  pm25_df['Time'] = pd.to_datetime(pm25_df['Time'])\n",
    "  pm25_df.set_index('Time', inplace=True)\n",
    "  pm25_df.columns = ['PM25']\n",
    "  pm25_df = pm25_df[~pm25_df.index.duplicated(keep='first')]\n",
    "  pm25_df.index = pd.DatetimeIndex(pm25_df.index)\n",
    "\n",
    "  temp_df = pd.read_csv('datasci_dataset_2022/'+temp_filename, names=['Time', 'Temp'], skiprows=1)\n",
    "  temp_df['Time'] = pd.to_datetime(temp_df['Time'])\n",
    "  temp_df.set_index(temp_df['Time'], inplace=True)\n",
    "  temp_df.drop(columns={'Time'}, inplace=True)\n",
    "  temp_df.columns = ['Temp']\n",
    "  temp_df = temp_df.resample('h').bfill()\n",
    "\n",
    "  wind_df = pd.read_csv('datasci_dataset_2022/'+wind_filename, names=['Time', 'WindSpeed', 'WindDir'], skiprows=1)\n",
    "  wind_df['Time'] = pd.to_datetime(wind_df['Time'])\n",
    "  wind_df.set_index(wind_df['Time'], inplace=True)\n",
    "  wind_df.drop(columns={'Time'}, inplace=True)\n",
    "  wind_df.columns = ['WindSpeed', 'WindDir']\n",
    "  # backward filling\n",
    "  wind_df = wind_df.resample('h').bfill()\n",
    "  # wind_df.index = pd.DatetimeIndex(wind_df.index)\n",
    "\n",
    "  pm25_df['copy_index'] = pm25_df.index\n",
    "  df = pd.merge(pm25_df, temp_df, left_index=True, right_index=True)\n",
    "  df = pd.merge(df, wind_df, left_index=True, right_index=True)\n",
    "\n",
    "  df = df[['Temp','WindSpeed','WindDir','PM25']]\n",
    "\n",
    "  return df"
   ]
  },
  {
   "cell_type": "code",
   "execution_count": 5,
   "metadata": {
    "id": "-pesZD33wbfW"
   },
   "outputs": [],
   "source": [
    "bkk_train = toDF('BKK/train/bkk_train.csv', 'BKK/train/bkk_temp_surface.csv', 'BKK/train/bkk_weather_wind.csv')\n",
    "bkk_test = toDF('BKK/test/bkk_test.csv', 'BKK/test/bkk_temp_test.csv', 'BKK/test/bkk_wind_test.csv')\n",
    "\n",
    "cnx_train = toDF('Chiangmai/train/chiangmai_train.csv', 'Chiangmai/train/chiangmai_temp_surface.csv', 'Chiangmai/train/chiangmai_weather_wind.csv')\n",
    "cnx_test = toDF('Chiangmai/test/chiangmai_test.csv', 'Chiangmai/test/chiangmai_temp_test.csv', 'Chiangmai/test/chiangmai_wind_test.csv')\n",
    "\n",
    "kkc_train = toDF('Khonkaen/train/khonkhan_train.csv', 'Khonkaen/train/khonkaen_temp_surface.csv', 'Khonkaen/train/khonkaen_weather_wind.csv')\n",
    "kkc_test = toDF('Khonkaen/test/khonkhan_test.csv', 'Khonkaen/test/khonkaen_temp_test.csv', 'Khonkaen/test/khonkaen_wind_test.csv')\n",
    "\n",
    "rayong_train = toDF('Rayong/train/rayong_train.csv', 'Rayong/train/rayong_temp_surface.csv', 'Rayong/train/rayong_weather_wind.csv')\n",
    "rayong_test = toDF('Rayong/test/rayong_test.csv', 'Rayong/test/rayong_temp_test.csv', 'Rayong/test/rayong_wind_test.csv')\n",
    "\n",
    "saraburi_train = toDF('Saraburi/train/saraburi_train.csv', 'Saraburi/train/saraburi_temp_surface.csv', 'Saraburi/train/saraburi_weather_wind.csv')\n",
    "saraburi_test = toDF('Saraburi/test/saraburi_test.csv', 'Saraburi/test/saraburi_temp_test.csv', 'Saraburi/test/saraburi_wind_test.csv')\n",
    "\n",
    "surat_train = toDF('Surat/train/surat_train.csv', 'Surat/train/surat_temp_surface.csv', 'Surat/train/surat_weather_wind.csv')\n",
    "surat_test = toDF('Surat/test/surat_test.csv', 'Surat/test/surat_temp_test.csv', 'Surat/test/surat_wind_test.csv')"
   ]
  },
  {
   "cell_type": "code",
   "execution_count": 6,
   "metadata": {
    "id": "g6yh3t62xExb"
   },
   "outputs": [],
   "source": [
    "train_set={}\n",
    "train_set['BKK'] = bkk_train\n",
    "train_set['CNX'] = cnx_train\n",
    "train_set['KKC'] = kkc_train\n",
    "train_set['RAY'] = rayong_train\n",
    "train_set['SARA'] = saraburi_train\n",
    "train_set['SURAT'] = surat_train\n",
    "\n",
    "test_set={}\n",
    "test_set['BKK'] = bkk_test\n",
    "test_set['CNX'] = cnx_test\n",
    "test_set['KKC'] = kkc_test\n",
    "test_set['RAY'] = rayong_test\n",
    "test_set['SARA'] = saraburi_test\n",
    "test_set['SURAT'] = surat_test"
   ]
  },
  {
   "cell_type": "markdown",
   "metadata": {
    "id": "jFyqozn2gCfP"
   },
   "source": [
    "## Number of null values"
   ]
  },
  {
   "cell_type": "markdown",
   "metadata": {
    "id": "1sIgs-pZk9-o"
   },
   "source": [
    "### Before Dropping"
   ]
  },
  {
   "cell_type": "code",
   "execution_count": 7,
   "metadata": {
    "colab": {
     "base_uri": "https://localhost:8080/"
    },
    "id": "-QMUjz5lSKcb",
    "outputId": "174a0c44-7935-4b67-dc64-4c78cccbe52b"
   },
   "outputs": [
    {
     "name": "stdout",
     "output_type": "stream",
     "text": [
      "[bkk_train] Number of null values in each column:\n",
      "Temp         3\n",
      "WindSpeed    0\n",
      "WindDir      0\n",
      "PM25         0\n",
      "dtype: int64\n",
      "\n",
      "\n",
      "[cnx_train] Number of null values in each column:\n",
      "Temp         6\n",
      "WindSpeed    0\n",
      "WindDir      0\n",
      "PM25         0\n",
      "dtype: int64\n",
      "\n",
      "\n",
      "[kkc_train] Number of null values in each column:\n",
      "Temp         0\n",
      "WindSpeed    0\n",
      "WindDir      0\n",
      "PM25         0\n",
      "dtype: int64\n",
      "\n",
      "\n",
      "[rayong_train] Number of null values in each column:\n",
      "Temp         0\n",
      "WindSpeed    0\n",
      "WindDir      0\n",
      "PM25         0\n",
      "dtype: int64\n",
      "\n",
      "\n",
      "[saraburi_train] Number of null values in each column:\n",
      "Temp         0\n",
      "WindSpeed    0\n",
      "WindDir      0\n",
      "PM25         0\n",
      "dtype: int64\n",
      "\n",
      "\n",
      "[surat_train] Number of null values in each column:\n",
      "Temp         126\n",
      "WindSpeed      0\n",
      "WindDir        0\n",
      "PM25           0\n",
      "dtype: int64\n"
     ]
    }
   ],
   "source": [
    "null_counts_bkk_train = bkk_train.isnull().sum()\n",
    "print(\"[bkk_train] Number of null values in each column:\\n{}\".format(null_counts_bkk_train))\n",
    "print('\\n')\n",
    "\n",
    "null_counts_cnx_train = cnx_train.isnull().sum()\n",
    "print(\"[cnx_train] Number of null values in each column:\\n{}\".format(null_counts_cnx_train))\n",
    "print('\\n')\n",
    "\n",
    "null_counts_kkc_train = kkc_train.isnull().sum()\n",
    "print(\"[kkc_train] Number of null values in each column:\\n{}\".format(null_counts_kkc_train))\n",
    "print('\\n')\n",
    "\n",
    "null_counts_rayong_train = rayong_train.isnull().sum()\n",
    "print(\"[rayong_train] Number of null values in each column:\\n{}\".format(null_counts_rayong_train))\n",
    "print('\\n')\n",
    "\n",
    "null_counts_saraburi_train = saraburi_train.isnull().sum()\n",
    "print(\"[saraburi_train] Number of null values in each column:\\n{}\".format(null_counts_saraburi_train))\n",
    "print('\\n')\n",
    "\n",
    "null_counts_surat_train = surat_train.isnull().sum()\n",
    "print(\"[surat_train] Number of null values in each column:\\n{}\".format(null_counts_surat_train))"
   ]
  },
  {
   "cell_type": "markdown",
   "metadata": {
    "id": "4CCQLxJfkJH7"
   },
   "source": [
    "### Drop null-valued rows (Temp & PM25)"
   ]
  },
  {
   "cell_type": "code",
   "execution_count": 8,
   "metadata": {
    "id": "CsXSNDKNgbcZ"
   },
   "outputs": [],
   "source": [
    "bkk_train.dropna(subset=['Temp','PM25'], inplace=True)\n",
    "\n",
    "cnx_train.dropna(subset=['Temp','PM25'], inplace=True)\n",
    "\n",
    "kkc_train.dropna(subset=['Temp','PM25'], inplace=True)\n",
    "\n",
    "rayong_train.dropna(subset=['Temp','PM25'], inplace=True)\n",
    "\n",
    "saraburi_train.dropna(subset=['Temp','PM25'], inplace=True)\n",
    "\n",
    "surat_train.dropna(subset=['Temp','PM25'], inplace=True)"
   ]
  },
  {
   "cell_type": "markdown",
   "metadata": {
    "id": "o8G8zw34QbBX"
   },
   "source": [
    "## Graph Plotting"
   ]
  },
  {
   "cell_type": "code",
   "execution_count": 9,
   "metadata": {
    "id": "jehuJYr8liF-"
   },
   "outputs": [],
   "source": [
    "import matplotlib.pyplot as plt\n",
    "import seaborn as sns\n",
    "\n",
    "from scipy.stats import kurtosis, skew\n",
    "\n",
    "import warnings\n",
    "warnings.simplefilter(action='ignore', category=FutureWarning)\n",
    "\n",
    "%matplotlib inline\n",
    "plt.rcParams[\"figure.figsize\"] = (10, 6)"
   ]
  },
  {
   "cell_type": "code",
   "execution_count": 10,
   "metadata": {
    "id": "voo5JkVyQpq2"
   },
   "outputs": [],
   "source": [
    "def multiDisplot(dataset, col, hist=False, xlim=None):\n",
    "  for prov, _ in dataset.items():\n",
    "    sns.distplot(dataset[prov][col], hist=hist, label=prov)\n",
    "    # print(f\"{prov} {col}={dataset[prov][col].mean()}\")\n",
    "  plt.xlim(xlim)\n",
    "  plt.legend()\n",
    "  plt.show()"
   ]
  },
  {
   "cell_type": "code",
   "execution_count": 11,
   "metadata": {
    "colab": {
     "base_uri": "https://localhost:8080/",
     "height": 387
    },
    "id": "HjqMfjGtQiD1",
    "outputId": "bb139400-1991-402a-d838-0cab841c32b1"
   },
   "outputs": [],
   "source": [
    "# multiDisplot(train_set, 'PM25', xlim=(-10, 120), hist=True)"
   ]
  },
  {
   "cell_type": "code",
   "execution_count": 12,
   "metadata": {
    "colab": {
     "base_uri": "https://localhost:8080/",
     "height": 392
    },
    "id": "gQiGswNGYaIj",
    "outputId": "049db434-1a92-4134-f306-404759595fc3"
   },
   "outputs": [],
   "source": [
    "# multiDisplot(train_set, 'Temp', hist=True)"
   ]
  },
  {
   "cell_type": "code",
   "execution_count": 13,
   "metadata": {
    "colab": {
     "base_uri": "https://localhost:8080/",
     "height": 387
    },
    "id": "3cA6qxBYYcqQ",
    "outputId": "f902577b-3297-4c83-abd3-3cb51caa5d67"
   },
   "outputs": [],
   "source": [
    "# multiDisplot(train_set, 'WindDir', hist=True)"
   ]
  },
  {
   "cell_type": "code",
   "execution_count": 14,
   "metadata": {
    "colab": {
     "base_uri": "https://localhost:8080/",
     "height": 387
    },
    "id": "7_l3n0kpYevb",
    "outputId": "59c723b7-fc5b-4ffa-9d9c-401240db0fd9"
   },
   "outputs": [],
   "source": [
    "# multiDisplot(train_set, 'WindSpeed', hist=True)"
   ]
  },
  {
   "cell_type": "markdown",
   "metadata": {
    "id": "7y2JL7qjleFi"
   },
   "source": [
    "## Handle outliers"
   ]
  },
  {
   "cell_type": "code",
   "execution_count": 15,
   "metadata": {
    "id": "y-zzUaiUnI4a"
   },
   "outputs": [],
   "source": [
    "class Handle_Outliers:\n",
    "  def __init__(self, dataset):\n",
    "    self.dataset=dataset.copy()\n",
    "    self.dataShape={}\n",
    "\n",
    "    for prov, dfcol in dataset.items():\n",
    "      self.dataShape[prov] = {}\n",
    "      for col, _ in dfcol.items():\n",
    "        self.dataShape[prov][col] = {'Kurt':{}, 'Skew':{}}\n",
    "   \n",
    "  def plotIQR(self, province, col, title=\"\", thresh=None, fig=None, subplots=None, figsize=None):\n",
    "    dataset = self.dataset\n",
    "\n",
    "    if subplots is None: subplots = [211, 212]\n",
    "    if figsize is None: figsize = (10,8)\n",
    "\n",
    "\n",
    "    if fig is not None:\n",
    "      rows = subplots[0]//100\n",
    "      cols = (subplots[0]%100)//10\n",
    "      fig.add_subplot(rows, cols, subplots[0]%10)\n",
    "    else:\n",
    "      plt.figure(figsize=figsize)\n",
    "      plt.subplot(subplots[0])\n",
    "\n",
    "    plt.title(title)\n",
    "    plt.xlim(dataset[province][col].min()/1.1, dataset[province][col].max()*1.1)\n",
    "    if thresh:\n",
    "      plt.axvline(x=thresh[province]['min'])\n",
    "      plt.axvline(x=thresh[province]['max'])\n",
    "\n",
    "    ax = dataset[province][col].plot(kind='kde')\n",
    "\n",
    "    if fig is not None:\n",
    "      rows = subplots[1]//100\n",
    "      cols = (subplots[1]%100)//10\n",
    "      fig.add_subplot(rows, cols, subplots[1]%10)\n",
    "    else:\n",
    "      plt.figure(figsize=figsize)\n",
    "      plt.subplot(subplots[1])\n",
    "      \n",
    "    plt.xlim(dataset[province][col].min()/1.1, dataset[province][col].max()*1.1)\n",
    "    sns.boxplot(x=dataset[province][col])\n",
    "\n",
    "    if thresh is not None:\n",
    "      plt.axvline(x=thresh[province]['min'])\n",
    "      plt.axvline(x=thresh[province]['max'])\n",
    "\n",
    "    if subplots is None:\n",
    "      plt.show()\n",
    "\n",
    "  def calcDataShape(self, province, col, verbose=0, save_slot=None):\n",
    "    dataset = self.dataset\n",
    "\n",
    "    kurtosis_value = kurtosis(dataset[province][col])\n",
    "    skew_value = skew(dataset[province][col])\n",
    "\n",
    "    if (verbose>0):\n",
    "      print(\"\\n\")\n",
    "      print(f\"kurtosis_value = {kurtosis_value}\")\n",
    "      print(f\"skew_value = {skew_value}\")\n",
    "\n",
    "    if (save_slot is not None):\n",
    "      self.saveDataShape(province, col, kurtosis_value, skew_value, save_slot)\n",
    "  \n",
    "  def showDataShape(self, province, col, save_slot=None):\n",
    "    dataShape = self.dataShape\n",
    "\n",
    "    if (save_slot is not None):\n",
    "      kurtosis_value = dataShape[province][col]['Kurt'][save_slot]\n",
    "      skew_value = dataShape[province][col]['Skew'][save_slot]\n",
    "      print(f\"{save_slot}:\")\n",
    "      print(f\"kurtosis_value = {kurtosis_value}\")\n",
    "      print(f\"skew_value = {skew_value}\")\n",
    "      print(\"\\n\")\n",
    "\n",
    "    else:\n",
    "      for sav_slot, _ in dataShape[province][col]['Kurt'].items():\n",
    "        kurtosis_value = dataShape[province][col]['Kurt'][sav_slot]\n",
    "        skew_value = dataShape[province][col]['Skew'][sav_slot]\n",
    "        print(f\"{sav_slot}:\")\n",
    "        print(f\"kurtosis_value = {kurtosis_value}\")\n",
    "        print(f\"skew_value = {skew_value}\")\n",
    "        print(\"\\n\")\n",
    "  \n",
    "  def saveDataShape(self, province, col, kurt, skew, save_slot):\n",
    "    dataShape = self.dataShape\n",
    "\n",
    "    dataShape[province][col]['Kurt'][save_slot] = kurt\n",
    "    dataShape[province][col]['Skew'][save_slot] = skew\n",
    "  \n",
    "  def addColumns(self, col, new_col, func):\n",
    "    dataset = self.dataset\n",
    "    dataShape = self.dataShape\n",
    "\n",
    "    for prov, _ in dataset.items():\n",
    "      dataset[prov][new_col] = func(dataset[prov][col])\n",
    "      dataShape[prov][new_col] = {'Kurt':{}, 'Skew':{}}\n",
    "  \n",
    "  def calcOutliersMinMax(self, province, col, C_std):\n",
    "    dataset = self.dataset\n",
    "\n",
    "    thresh_min = dataset[province][col].mean() - C_std*dataset[province][col].std()\n",
    "    thresh_min = 0 if (thresh_min<0) else thresh_min\n",
    "\n",
    "    thresh_max = dataset[province][col].mean() + C_std*dataset[province][col].std()\n",
    "    \n",
    "    return thresh_min, thresh_max\n",
    "  \n",
    "  def setOutliersThreshold(self, province, col, new_col, thresh):\n",
    "    dataset = self.dataset\n",
    "\n",
    "    min, max = thresh[province]['min'], thresh[province]['max']\n",
    "\n",
    "    dataset[province][new_col] = dataset[province][col]\n",
    "\n",
    "    dataset[province].loc[dataset[province][new_col]<min, new_col] = min\n",
    "    dataset[province].loc[dataset[province][new_col]>max, new_col] = max"
   ]
  },
  {
   "cell_type": "markdown",
   "metadata": {
    "id": "2gp5C_mpmHIh"
   },
   "source": [
    "### Using IQR to detect outliers"
   ]
  },
  {
   "cell_type": "code",
   "execution_count": 16,
   "metadata": {
    "id": "1zNGh889orze"
   },
   "outputs": [],
   "source": [
    "handle_outliers = Handle_Outliers(train_set)"
   ]
  },
  {
   "cell_type": "markdown",
   "metadata": {
    "id": "zth7aXeErTuJ"
   },
   "source": [
    "#### Before Log"
   ]
  },
  {
   "cell_type": "code",
   "execution_count": 17,
   "metadata": {
    "colab": {
     "base_uri": "https://localhost:8080/",
     "height": 513
    },
    "id": "N1dYhGk8ljJT",
    "outputId": "b09c5dae-0630-48d2-b631-582ac55f1b3f"
   },
   "outputs": [],
   "source": [
    "# handle_outliers.plotIQR('BKK', 'PM25', 'Bangkok_Train PM2.5')\n",
    "# handle_outliers.calcDataShape('BKK', 'PM25', save_slot='Before')"
   ]
  },
  {
   "cell_type": "code",
   "execution_count": 18,
   "metadata": {
    "colab": {
     "base_uri": "https://localhost:8080/",
     "height": 513
    },
    "id": "HNfSlKTMlqZw",
    "outputId": "c0aa08f7-3893-4c87-9a50-04692638724d"
   },
   "outputs": [],
   "source": [
    "# handle_outliers.plotIQR('CNX', 'PM25', \"Chiangmai_Train PM2.5\")\n",
    "# handle_outliers.calcDataShape('CNX', 'PM25', save_slot='Before')"
   ]
  },
  {
   "cell_type": "code",
   "execution_count": 19,
   "metadata": {
    "colab": {
     "base_uri": "https://localhost:8080/",
     "height": 513
    },
    "id": "EPht5qPamirr",
    "outputId": "fb76d78f-28ea-43c6-8d64-d9eca07b8619"
   },
   "outputs": [],
   "source": [
    "# handle_outliers.plotIQR('KKC', 'PM25', \"Khonkaen_Train PM2.5\")\n",
    "# handle_outliers.calcDataShape('KKC', 'PM25', save_slot='Before')"
   ]
  },
  {
   "cell_type": "code",
   "execution_count": 20,
   "metadata": {
    "colab": {
     "base_uri": "https://localhost:8080/",
     "height": 513
    },
    "id": "VXEeJlvXmss3",
    "outputId": "334eb7fa-67cb-4ac1-ab4a-949402de2cb6"
   },
   "outputs": [],
   "source": [
    "# handle_outliers.plotIQR('RAY', 'PM25', \"Rayong_Train PM2.5\")\n",
    "# handle_outliers.calcDataShape('RAY', 'PM25', save_slot='Before')"
   ]
  },
  {
   "cell_type": "code",
   "execution_count": 21,
   "metadata": {
    "colab": {
     "base_uri": "https://localhost:8080/",
     "height": 513
    },
    "id": "8GRia0a9ms-V",
    "outputId": "12706c46-976f-4c1e-f003-534a81641ffb"
   },
   "outputs": [],
   "source": [
    "# handle_outliers.plotIQR(\"SARA\", 'PM25', \"Saraburi_Train PM2.5\")\n",
    "# handle_outliers.calcDataShape(\"SARA\", 'PM25', save_slot='Before')"
   ]
  },
  {
   "cell_type": "code",
   "execution_count": 22,
   "metadata": {
    "colab": {
     "base_uri": "https://localhost:8080/",
     "height": 513
    },
    "id": "kx2AAC29m02T",
    "outputId": "c173dce5-422f-4fd3-f3d2-e0353aa82cfc"
   },
   "outputs": [],
   "source": [
    "# handle_outliers.plotIQR('SURAT', 'PM25', \"Surat_Train PM2.5\")\n",
    "# handle_outliers.calcDataShape('SURAT', 'PM25', save_slot='Before')"
   ]
  },
  {
   "cell_type": "markdown",
   "metadata": {
    "id": "4_eE7bdoress"
   },
   "source": [
    "#### After Log"
   ]
  },
  {
   "cell_type": "code",
   "execution_count": 23,
   "metadata": {
    "id": "b3J4EmhzFvZr"
   },
   "outputs": [],
   "source": [
    "handle_outliers.addColumns('PM25', 'Log_PM25', lambda x: np.log(1+x))"
   ]
  },
  {
   "cell_type": "code",
   "execution_count": 24,
   "metadata": {
    "colab": {
     "base_uri": "https://localhost:8080/",
     "height": 514
    },
    "id": "qJXgJwbTm3hH",
    "outputId": "33c2651e-b41d-4855-b15c-26ed7eabb5fc"
   },
   "outputs": [],
   "source": [
    "# handle_outliers.plotIQR('BKK', 'Log_PM25', \"Bangkok_Train Log(PM2.5)\")\n",
    "# handle_outliers.calcDataShape('BKK', 'Log_PM25', save_slot='After')"
   ]
  },
  {
   "cell_type": "code",
   "execution_count": 25,
   "metadata": {
    "colab": {
     "base_uri": "https://localhost:8080/",
     "height": 514
    },
    "id": "hBlNkvGhs90S",
    "outputId": "485aa080-ed28-4a17-ae86-f033c9391697"
   },
   "outputs": [],
   "source": [
    "# handle_outliers.plotIQR('CNX', 'Log_PM25', \"Chiangmai_Train Log(PM2.5)\")\n",
    "# handle_outliers.calcDataShape('CNX', 'Log_PM25', save_slot='After')"
   ]
  },
  {
   "cell_type": "code",
   "execution_count": 26,
   "metadata": {
    "colab": {
     "base_uri": "https://localhost:8080/",
     "height": 514
    },
    "id": "E4y1vjTzypBE",
    "outputId": "21f63cad-f39b-4350-8aa0-2da36d977c28"
   },
   "outputs": [],
   "source": [
    "# handle_outliers.plotIQR('KKC', 'Log_PM25', \"Khonkaen_Train Log(PM2.5)\")\n",
    "# handle_outliers.calcDataShape('KKC', 'Log_PM25', save_slot='After')"
   ]
  },
  {
   "cell_type": "code",
   "execution_count": 27,
   "metadata": {
    "colab": {
     "base_uri": "https://localhost:8080/",
     "height": 514
    },
    "id": "46EzEOgaysIY",
    "outputId": "21c14ed9-aeea-4bfe-e57f-beab143c3eff"
   },
   "outputs": [],
   "source": [
    "# handle_outliers.plotIQR('RAY', 'Log_PM25', \"Rayong_Train Log(PM2.5)\")\n",
    "# handle_outliers.calcDataShape('RAY', 'Log_PM25', save_slot='After')"
   ]
  },
  {
   "cell_type": "code",
   "execution_count": 28,
   "metadata": {
    "colab": {
     "base_uri": "https://localhost:8080/",
     "height": 514
    },
    "id": "69vV1VnzyuUg",
    "outputId": "45b98c00-dbde-407f-e4ee-03084a8fcddf"
   },
   "outputs": [],
   "source": [
    "# handle_outliers.plotIQR('SARA', 'Log_PM25', \"Saraburi_Train Log(PM2.5)\")\n",
    "# handle_outliers.calcDataShape('SARA', 'Log_PM25', save_slot='After')"
   ]
  },
  {
   "cell_type": "code",
   "execution_count": 29,
   "metadata": {
    "colab": {
     "base_uri": "https://localhost:8080/",
     "height": 514
    },
    "id": "YWNAS6Q_yzCD",
    "outputId": "430aeece-7576-4c6a-b905-eb5399b6d912"
   },
   "outputs": [],
   "source": [
    "# handle_outliers.plotIQR('SURAT', 'Log_PM25', \"Surat_Train Log(PM2.5)\")\n",
    "# handle_outliers.calcDataShape('SURAT', 'Log_PM25', save_slot='After')"
   ]
  },
  {
   "cell_type": "markdown",
   "metadata": {
    "id": "7wQjPl3pzPOZ"
   },
   "source": [
    "#### Set the outliers to min or max"
   ]
  },
  {
   "cell_type": "code",
   "execution_count": 30,
   "metadata": {
    "colab": {
     "base_uri": "https://localhost:8080/"
    },
    "id": "WA_BRSalONxs",
    "outputId": "4d4131e5-c584-4d21-ce19-d1e644f213e4"
   },
   "outputs": [],
   "source": [
    "# handle_outliers.showDataShape('BKK', 'PM25', 'Before')\n",
    "# handle_outliers.showDataShape('BKK', 'Log_PM25')"
   ]
  },
  {
   "cell_type": "code",
   "execution_count": 31,
   "metadata": {},
   "outputs": [],
   "source": [
    "thresh = {}\n",
    "\n",
    "for prov, _ in train_set.items():\n",
    "    thresh[prov] = {}\n",
    "    thresh[prov]['min'], thresh[prov]['max'] = handle_outliers.calcOutliersMinMax(prov, 'Log_PM25', 3)\n",
    "    handle_outliers.setOutliersThreshold(prov, 'Log_PM25', 'new_Log_PM25', thresh)\n",
    "\n",
    "handle_outliers.addColumns('new_Log_PM25','new_PM25', lambda x: np.exp(x)-1)"
   ]
  },
  {
   "cell_type": "markdown",
   "metadata": {},
   "source": [
    "##### Example 'Saraburi' : Boxplots of old and new PM2.5 after outlier handling"
   ]
  },
  {
   "cell_type": "code",
   "execution_count": 32,
   "metadata": {},
   "outputs": [
    {
     "data": {
      "text/html": [
       "<div>\n",
       "<style scoped>\n",
       "    .dataframe tbody tr th:only-of-type {\n",
       "        vertical-align: middle;\n",
       "    }\n",
       "\n",
       "    .dataframe tbody tr th {\n",
       "        vertical-align: top;\n",
       "    }\n",
       "\n",
       "    .dataframe thead th {\n",
       "        text-align: right;\n",
       "    }\n",
       "</style>\n",
       "<table border=\"1\" class=\"dataframe\">\n",
       "  <thead>\n",
       "    <tr style=\"text-align: right;\">\n",
       "      <th></th>\n",
       "      <th>Temp</th>\n",
       "      <th>WindSpeed</th>\n",
       "      <th>WindDir</th>\n",
       "      <th>PM25</th>\n",
       "      <th>Log_PM25</th>\n",
       "      <th>new_Log_PM25</th>\n",
       "      <th>new_PM25</th>\n",
       "    </tr>\n",
       "  </thead>\n",
       "  <tbody>\n",
       "    <tr>\n",
       "      <th>count</th>\n",
       "      <td>26302.000000</td>\n",
       "      <td>26302.000000</td>\n",
       "      <td>26302.000000</td>\n",
       "      <td>26302.000000</td>\n",
       "      <td>26302.000000</td>\n",
       "      <td>26302.000000</td>\n",
       "      <td>26302.000000</td>\n",
       "    </tr>\n",
       "    <tr>\n",
       "      <th>mean</th>\n",
       "      <td>28.329245</td>\n",
       "      <td>21.015360</td>\n",
       "      <td>173.065546</td>\n",
       "      <td>33.852616</td>\n",
       "      <td>3.351286</td>\n",
       "      <td>3.354525</td>\n",
       "      <td>33.851236</td>\n",
       "    </tr>\n",
       "    <tr>\n",
       "      <th>std</th>\n",
       "      <td>4.062801</td>\n",
       "      <td>13.520995</td>\n",
       "      <td>83.727460</td>\n",
       "      <td>21.925800</td>\n",
       "      <td>0.671915</td>\n",
       "      <td>0.660619</td>\n",
       "      <td>21.777554</td>\n",
       "    </tr>\n",
       "    <tr>\n",
       "      <th>min</th>\n",
       "      <td>14.000000</td>\n",
       "      <td>0.000000</td>\n",
       "      <td>0.000000</td>\n",
       "      <td>1.000000</td>\n",
       "      <td>0.693147</td>\n",
       "      <td>1.335541</td>\n",
       "      <td>2.802054</td>\n",
       "    </tr>\n",
       "    <tr>\n",
       "      <th>25%</th>\n",
       "      <td>25.400000</td>\n",
       "      <td>11.000000</td>\n",
       "      <td>90.000000</td>\n",
       "      <td>18.000000</td>\n",
       "      <td>2.944439</td>\n",
       "      <td>2.944439</td>\n",
       "      <td>18.000000</td>\n",
       "    </tr>\n",
       "    <tr>\n",
       "      <th>50%</th>\n",
       "      <td>27.800000</td>\n",
       "      <td>18.000000</td>\n",
       "      <td>180.000000</td>\n",
       "      <td>29.000000</td>\n",
       "      <td>3.401197</td>\n",
       "      <td>3.401197</td>\n",
       "      <td>29.000000</td>\n",
       "    </tr>\n",
       "    <tr>\n",
       "      <th>75%</th>\n",
       "      <td>31.200000</td>\n",
       "      <td>28.000000</td>\n",
       "      <td>250.000000</td>\n",
       "      <td>44.000000</td>\n",
       "      <td>3.806662</td>\n",
       "      <td>3.806662</td>\n",
       "      <td>44.000000</td>\n",
       "    </tr>\n",
       "    <tr>\n",
       "      <th>max</th>\n",
       "      <td>40.900000</td>\n",
       "      <td>91.000000</td>\n",
       "      <td>360.000000</td>\n",
       "      <td>407.000000</td>\n",
       "      <td>6.011267</td>\n",
       "      <td>5.367030</td>\n",
       "      <td>213.225732</td>\n",
       "    </tr>\n",
       "  </tbody>\n",
       "</table>\n",
       "</div>"
      ],
      "text/plain": [
       "               Temp     WindSpeed       WindDir          PM25      Log_PM25  \\\n",
       "count  26302.000000  26302.000000  26302.000000  26302.000000  26302.000000   \n",
       "mean      28.329245     21.015360    173.065546     33.852616      3.351286   \n",
       "std        4.062801     13.520995     83.727460     21.925800      0.671915   \n",
       "min       14.000000      0.000000      0.000000      1.000000      0.693147   \n",
       "25%       25.400000     11.000000     90.000000     18.000000      2.944439   \n",
       "50%       27.800000     18.000000    180.000000     29.000000      3.401197   \n",
       "75%       31.200000     28.000000    250.000000     44.000000      3.806662   \n",
       "max       40.900000     91.000000    360.000000    407.000000      6.011267   \n",
       "\n",
       "       new_Log_PM25      new_PM25  \n",
       "count  26302.000000  26302.000000  \n",
       "mean       3.354525     33.851236  \n",
       "std        0.660619     21.777554  \n",
       "min        1.335541      2.802054  \n",
       "25%        2.944439     18.000000  \n",
       "50%        3.401197     29.000000  \n",
       "75%        3.806662     44.000000  \n",
       "max        5.367030    213.225732  "
      ]
     },
     "execution_count": 32,
     "metadata": {},
     "output_type": "execute_result"
    }
   ],
   "source": [
    "handle_outliers.dataset['SARA'].describe()"
   ]
  },
  {
   "cell_type": "code",
   "execution_count": 33,
   "metadata": {},
   "outputs": [
    {
     "data": {
      "image/png": "[encoded data removed]",
      "text/plain": [
       "<Figure size 1440x720 with 4 Axes>"
      ]
     },
     "metadata": {
      "needs_background": "light"
     },
     "output_type": "display_data"
    }
   ],
   "source": [
    "fig = plt.figure(figsize=(20,10))\n",
    "\n",
    "handle_outliers.plotIQR('SARA', 'new_PM25', 'Saraburi_Train new PM2.5', thresh, fig=fig, subplots=[221, 223], figsize=(15,10))\n",
    "handle_outliers.plotIQR('SARA', 'PM25', 'Saraburi_Train old PM2.5', thresh, fig=fig, subplots=[222, 224], figsize=(15,10))\n",
    "plt.show()"
   ]
  },
  {
   "cell_type": "markdown",
   "metadata": {
    "id": "BVf1rACoZREf"
   },
   "source": [
    "## SARIMAX"
   ]
  },
  {
   "cell_type": "code",
   "execution_count": 34,
   "metadata": {
    "id": "5YThJtVMZlap"
   },
   "outputs": [],
   "source": [
    "from sklearn.metrics import mean_squared_error\n",
    "from statsmodels.tsa.statespace.sarimax import SARIMAX\n",
    "\n",
    "import pickle\n",
    "import random\n",
    "\n",
    "from matplotlib.pyplot import figure"
   ]
  },
  {
   "cell_type": "code",
   "execution_count": 315,
   "metadata": {},
   "outputs": [],
   "source": [
    "class SARIMAX_Custom():\n",
    "    def __init__(self, X_train, order, seasonal_order, exog=None):\n",
    "        self.X_train = X_train\n",
    "        self.p, self.d, self.q = order\n",
    "        self.P, self.D, self.Q, self.S = seasonal_order\n",
    "        self.X_train_exog = exog\n",
    "        self.params = {}\n",
    "        self.params['p'] = [random.uniform(0,0.1)]*self.p\n",
    "        self.params['pX'] = [random.uniform(0,0.1)]*self.X_train_exog.shape[1]\n",
    "        self.params['d'] = [random.uniform(0,0.1)]*self.d\n",
    "        self.params['q'] = [random.uniform(0,0.1)]*self.q\n",
    "        self.params['P'] = [random.uniform(0,0.1)]*self.P if (self.P!=0) else [0]\n",
    "        self.params['D'] = [random.uniform(0,0.1)]*self.D\n",
    "        self.params['Q'] = [random.uniform(0,0.1)]*self.Q if (self.Q!=0) else [0]\n",
    "        self.params['c'] = 1\n",
    "    \n",
    "    def p_prediction(self, X_train, t):\n",
    "        start = max(t-self.p, 0)\n",
    "        X_train_t = np.array(X_train[start:t])[::-1]\n",
    "        params_p = np.array(self.params['p'][:t-start])[::-1]\n",
    "\n",
    "        p_pred = X_train_t @ params_p\n",
    "\n",
    "        return p_pred, X_train_t[::-1]\n",
    "\n",
    "    def pX_prediction(self, X_train_exog, t):\n",
    "        if (t==0):\n",
    "            return [0], [0]\n",
    "        X_train_Xt = np.array(X_train_exog[t-1])\n",
    "        params_pX = np.array(self.params['pX'])\n",
    "\n",
    "        pX_pred = X_train_Xt @ params_pX\n",
    "\n",
    "        return pX_pred, X_train_Xt\n",
    "\n",
    "    def d_prediction(self, diff_X, t):\n",
    "        start = max(t-self.p, 0)\n",
    "        diff_X_t = np.array(diff_X.iloc[t-1])\n",
    "        params_d = np.array(self.params['d'][:t-start])\n",
    "\n",
    "        d_pred = diff_X_t @ params_d\n",
    "\n",
    "        return d_pred, diff_X_t\n",
    "\n",
    "    def q_prediction(self, X_train, Error, t):\n",
    "        start = max(t-self.q, 0)\n",
    "        error_t = np.array(Error[start:t])[::-1]\n",
    "        params_q = np.array(self.params['q'][:t-start])[::-1]\n",
    "\n",
    "        q_pred = error_t @ params_q\n",
    "\n",
    "        return q_pred, error_t[::-1]\n",
    "\n",
    "    def P_prediction(self, X_train, t):\n",
    "        ss_c = t//self.S # season_count\n",
    "        if (ss_c==0 or len(self.params['P'])==0):\n",
    "            return [0], [0]\n",
    "        ss_c = min(ss_c, self.P)\n",
    "        X_train_ts = np.array(X_train[t-self.S::-self.S])[:ss_c]\n",
    "        params_P = np.array(self.params['P'][::-1])[:ss_c]\n",
    "        \n",
    "        P_pred = X_train_ts @ params_P\n",
    "\n",
    "        return P_pred, X_train_ts[::-1]\n",
    "\n",
    "    def D_prediction(self, X_train, t):\n",
    "        ss_c = t-1//self.S # season_count\n",
    "        if (ss_c==0 or len(self.params['D'])==0):\n",
    "            return [0], [0]\n",
    "        ss_c = min(ss_c, self.P)\n",
    "        diff_X_ts = np.array(X_train[t-1-self.S::-self.S])[:1]\n",
    "        params_D = np.array(self.params['D'])\n",
    "        \n",
    "        D_pred = diff_X_ts @ params_D\n",
    "\n",
    "        return [D_pred], diff_X_ts[::-1]\n",
    "\n",
    "    def Q_prediction(self, X_train, Error, t):\n",
    "        ss_c = t//self.S # season_count\n",
    "        if (ss_c==0 or len(self.params['Q'])==0):\n",
    "            return [0], [0]\n",
    "        ss_c = min(ss_c, self.P)\n",
    "        error_ts = np.array(Error[t-self.S::-self.S])[:ss_c]\n",
    "        params_Q = np.array(self.params['Q'][::-1])[:ss_c]\n",
    "\n",
    "        Q_pred = error_ts @ params_Q.T\n",
    "\n",
    "        return Q_pred, error_ts[::-1]\n",
    "    \n",
    "    def update_params(self, x, error_t, lr):\n",
    "        self.params['p'] += np.pad(x['p'], (0, max(self.p - len(x['p']),0))) * error_t * lr\n",
    "        self.params['pX'] += np.array(x['pX']) * error_t * lr\n",
    "        self.params['d'] += np.array(x['d']) * error_t * lr\n",
    "        self.params['q'] += np.pad(x['q'], (0, max(self.q - len(x['q']),0))) * error_t * lr\n",
    "        self.params['P'] += np.pad(x['P'], (0, max(self.P - len(x['P']),0))) * error_t * lr\n",
    "        self.params['D'] += np.array(x['D']) * error_t * lr\n",
    "        self.params['Q'] += np.pad(x['Q'], (0, max(self.Q - len(x['Q']),0))) * error_t * lr\n",
    "        self.params['c'] += (error_t) * lr\n",
    "\n",
    "     \n",
    "    def fit(self, verbose=0, lr=1e-5, lr_decay=0.999):\n",
    "        X_train = self.X_train.iloc[:,0].copy()\n",
    "        X_train = X_train.to_numpy()\n",
    "\n",
    "        X_train_exog = self.X_train_exog.copy()\n",
    "        X_train_exog = X_train_exog.to_numpy()\n",
    "\n",
    "        diff_X = self.X_train.copy()\n",
    "        for i in range(1,self.d+1):\n",
    "            diff_X[f'diff{i}'] = diff_X.iloc[:,[0]].diff(periods=i)\n",
    "\n",
    "        diff_X = diff_X.fillna(0)\n",
    "        diff_X = diff_X.iloc[:,1:]\n",
    "\n",
    "        Error = [X_train[0]-X_train.mean()]\n",
    "\n",
    "        for t in range(1,X_train.shape[0]):\n",
    "            lr *= lr_decay\n",
    "            pred = {} ; x = {}\n",
    "            pred['p'], x['p'] = self.p_prediction(X_train, t)\n",
    "            pred['pX'], x['pX'] = self.pX_prediction(X_train_exog, t)\n",
    "            pred['d'], x['d'] = self.d_prediction(diff_X, t)\n",
    "            pred['q'], x['q'] = self.q_prediction(X_train, Error, t)\n",
    "            pred['P'], x['P'] = self.P_prediction(X_train, t)\n",
    "            pred['D'], x['D'] = self.D_prediction(X_train, t)\n",
    "            pred['Q'], x['Q'] = self.Q_prediction(X_train, Error, t)\n",
    "\n",
    "            # y_pred = p_pred.sum() + q_pred.sum() + P_pred.sum() + Q_pred.sum() + self.params['c']\n",
    "            pred['y'] = (pred['p'] + pred['pX'] + pred['q'] + pred['P'] + pred['Q'] + self.params['c']).sum()\n",
    "\n",
    "            error_t = X_train[t] - pred['y']\n",
    "\n",
    "            if (verbose):\n",
    "                print(t, pred['y'], X_train[t], error_t, lr)\n",
    "\n",
    "            Error.append(error_t)\n",
    "\n",
    "\n",
    "            self.update_params(x, error_t, lr)\n",
    "        \n",
    "\n",
    "        return Error\n",
    "    \n",
    "    def predict(self, y, y_X, start_date, t_forecast=1, y_exog=None, verbose=0):\n",
    "        y_t = y.iloc[:,0].copy()\n",
    "        y_t = y_t.to_numpy()\n",
    "        \n",
    "        y_t = y.iloc[:,0].copy()\n",
    "        y_t = y_t.to_numpy()\n",
    "\n",
    "        y_Xt = y_X.to_numpy()\n",
    "\n",
    "        Error = [y_t[0]-10]\n",
    "\n",
    "        y_pred = [10]\n",
    "\n",
    "        for t in range(1,len(y_t)):\n",
    "            pred = {} ; x = {}\n",
    "            pred['p'], x['p'] = self.p_prediction(y_t, t)\n",
    "            pred['pX'], x['pX'] = self.pX_prediction(y_Xt, t)\n",
    "            pred['q'], x['q'] = self.q_prediction(y_t, Error, t)\n",
    "            pred['P'], x['P'] = self.P_prediction(y_t, t)\n",
    "            pred['Q'], x['Q'] = self.Q_prediction(y_t, Error, t)\n",
    "\n",
    "            pred['y'] = (pred['p'] + pred['pX'] + pred['q'] + pred['P'] + pred['Q'] + self.params['c']).sum()\n",
    "            \n",
    "            y_pred.append(pred['y'])\n",
    "\n",
    "            error_t = y_t[t] - pred['y']\n",
    "\n",
    "            if (verbose):\n",
    "                print(t, pred['y'], y_t[t], error_t)\n",
    "\n",
    "            Error.append(error_t)\n",
    "        \n",
    "        y_pred_tmp = y.iloc[:,[0]].copy()\n",
    "        y_pred_tmp['PM25'] = np.array(y_pred)\n",
    "        \n",
    "        return y_pred_tmp, Error\n",
    "    \n",
    "    def RMSE(self, y_test, y_pred):\n",
    "        mse = mean_squared_error(y_test, y_pred)\n",
    "        rmse = np.sqrt(mse)\n",
    "        print(f'Test on SARIMAX with RMSE: {rmse}')\n",
    "    \n",
    "    def plot(self, dataset, y_pred, title=\"\"):\n",
    "        figure(num=None, figsize=(18, 6), dpi=80, facecolor='w', edgecolor='k')\n",
    "        plt.plot(dataset, color='g',label='ground truth')\n",
    "        plt.plot(y_pred, alpha=.7, color='r',label='predict')\n",
    "        plt.title(title)\n",
    "        plt.legend(loc=\"upper right\")\n",
    "\n",
    "        plt.show()"
   ]
  },
  {
   "cell_type": "code",
   "execution_count": 316,
   "metadata": {},
   "outputs": [
    {
     "data": {
      "text/plain": [
       "(1464, 4)"
      ]
     },
     "execution_count": 316,
     "metadata": {},
     "output_type": "execute_result"
    }
   ],
   "source": [
    "cnx_train_tmp = handle_outliers.dataset['CNX'][['new_PM25', 'Temp', 'WindSpeed', 'WindDir']]\n",
    "cnx_train_tmp.rename(columns={'new_PM25':'PM25'}, inplace=True)\n",
    "cnx_train_tmp = cnx_train_tmp.resample('6H').mean()\n",
    "cnx_test = test_set['CNX']\n",
    "cnx_test = cnx_test.resample('6H').mean()\n",
    "cnx_test.shape"
   ]
  },
  {
   "cell_type": "code",
   "execution_count": 317,
   "metadata": {},
   "outputs": [
    {
     "data": {
      "text/plain": [
       "(1464, 4)"
      ]
     },
     "execution_count": 317,
     "metadata": {},
     "output_type": "execute_result"
    }
   ],
   "source": [
    "bkk_train_tmp = handle_outliers.dataset['BKK'][['new_PM25', 'Temp', 'WindSpeed', 'WindDir']]\n",
    "bkk_train_tmp.rename(columns={'new_PM25':'PM25'}, inplace=True)\n",
    "bkk_train_tmp = bkk_train_tmp.resample('6H').mean()\n",
    "bkk_test = test_set['BKK']\n",
    "bkk_test = bkk_test.resample('6H').mean()\n",
    "bkk_test.shape"
   ]
  },
  {
   "cell_type": "code",
   "execution_count": 318,
   "metadata": {},
   "outputs": [],
   "source": [
    "cnx_train_size, cnx_valid_size = 7*cnx_train_tmp.shape[0]//10, 3*cnx_train_tmp.shape[0]//10\n",
    "\n",
    "cnx_train, cnx_valid = cnx_train_tmp.iloc[:cnx_train_size], cnx_train_tmp.iloc[cnx_train_size: ]\n",
    "\n",
    "bkk_train_size, bkk_valid_size = 7*bkk_train_tmp.shape[0]//10, 3*bkk_train_tmp.shape[0]//10\n",
    "\n",
    "bkk_train, bkk_valid = bkk_train_tmp.iloc[:bkk_train_size], bkk_train_tmp.iloc[bkk_train_size: ],"
   ]
  },
  {
   "cell_type": "code",
   "execution_count": 319,
   "metadata": {},
   "outputs": [
    {
     "data": {
      "text/html": [
       "<div>\n",
       "<style scoped>\n",
       "    .dataframe tbody tr th:only-of-type {\n",
       "        vertical-align: middle;\n",
       "    }\n",
       "\n",
       "    .dataframe tbody tr th {\n",
       "        vertical-align: top;\n",
       "    }\n",
       "\n",
       "    .dataframe thead th {\n",
       "        text-align: right;\n",
       "    }\n",
       "</style>\n",
       "<table border=\"1\" class=\"dataframe\">\n",
       "  <thead>\n",
       "    <tr style=\"text-align: right;\">\n",
       "      <th></th>\n",
       "      <th>PM25</th>\n",
       "      <th>Temp</th>\n",
       "      <th>WindSpeed</th>\n",
       "      <th>WindDir</th>\n",
       "    </tr>\n",
       "    <tr>\n",
       "      <th>Time</th>\n",
       "      <th></th>\n",
       "      <th></th>\n",
       "      <th></th>\n",
       "      <th></th>\n",
       "    </tr>\n",
       "  </thead>\n",
       "  <tbody>\n",
       "    <tr>\n",
       "      <th>2017-07-01 00:00:00</th>\n",
       "      <td>11.800000</td>\n",
       "      <td>22.840000</td>\n",
       "      <td>30.400000</td>\n",
       "      <td>247.000000</td>\n",
       "    </tr>\n",
       "    <tr>\n",
       "      <th>2017-07-01 06:00:00</th>\n",
       "      <td>14.333333</td>\n",
       "      <td>25.633333</td>\n",
       "      <td>27.000000</td>\n",
       "      <td>246.666667</td>\n",
       "    </tr>\n",
       "    <tr>\n",
       "      <th>2017-07-01 12:00:00</th>\n",
       "      <td>12.500000</td>\n",
       "      <td>30.583333</td>\n",
       "      <td>23.000000</td>\n",
       "      <td>243.333333</td>\n",
       "    </tr>\n",
       "    <tr>\n",
       "      <th>2017-07-01 18:00:00</th>\n",
       "      <td>16.666667</td>\n",
       "      <td>26.200000</td>\n",
       "      <td>26.000000</td>\n",
       "      <td>259.166667</td>\n",
       "    </tr>\n",
       "    <tr>\n",
       "      <th>2017-07-02 00:00:00</th>\n",
       "      <td>14.833333</td>\n",
       "      <td>23.066667</td>\n",
       "      <td>22.333333</td>\n",
       "      <td>249.166667</td>\n",
       "    </tr>\n",
       "    <tr>\n",
       "      <th>2017-07-02 06:00:00</th>\n",
       "      <td>13.833333</td>\n",
       "      <td>26.033333</td>\n",
       "      <td>19.333333</td>\n",
       "      <td>246.666667</td>\n",
       "    </tr>\n",
       "    <tr>\n",
       "      <th>2017-07-02 12:00:00</th>\n",
       "      <td>14.166667</td>\n",
       "      <td>31.066667</td>\n",
       "      <td>25.500000</td>\n",
       "      <td>237.500000</td>\n",
       "    </tr>\n",
       "    <tr>\n",
       "      <th>2017-07-02 18:00:00</th>\n",
       "      <td>16.666667</td>\n",
       "      <td>26.000000</td>\n",
       "      <td>32.000000</td>\n",
       "      <td>260.000000</td>\n",
       "    </tr>\n",
       "    <tr>\n",
       "      <th>2017-07-03 00:00:00</th>\n",
       "      <td>12.833333</td>\n",
       "      <td>22.833333</td>\n",
       "      <td>31.666667</td>\n",
       "      <td>277.500000</td>\n",
       "    </tr>\n",
       "    <tr>\n",
       "      <th>2017-07-03 06:00:00</th>\n",
       "      <td>18.833333</td>\n",
       "      <td>25.566667</td>\n",
       "      <td>21.333333</td>\n",
       "      <td>255.833333</td>\n",
       "    </tr>\n",
       "    <tr>\n",
       "      <th>2017-07-03 12:00:00</th>\n",
       "      <td>20.333333</td>\n",
       "      <td>31.150000</td>\n",
       "      <td>24.500000</td>\n",
       "      <td>255.833333</td>\n",
       "    </tr>\n",
       "    <tr>\n",
       "      <th>2017-07-03 18:00:00</th>\n",
       "      <td>18.333333</td>\n",
       "      <td>25.633333</td>\n",
       "      <td>38.000000</td>\n",
       "      <td>270.833333</td>\n",
       "    </tr>\n",
       "    <tr>\n",
       "      <th>2017-07-04 00:00:00</th>\n",
       "      <td>14.666667</td>\n",
       "      <td>22.800000</td>\n",
       "      <td>39.666667</td>\n",
       "      <td>265.000000</td>\n",
       "    </tr>\n",
       "    <tr>\n",
       "      <th>2017-07-04 06:00:00</th>\n",
       "      <td>21.333333</td>\n",
       "      <td>23.816667</td>\n",
       "      <td>36.333333</td>\n",
       "      <td>265.000000</td>\n",
       "    </tr>\n",
       "    <tr>\n",
       "      <th>2017-07-04 12:00:00</th>\n",
       "      <td>23.666667</td>\n",
       "      <td>27.366667</td>\n",
       "      <td>26.500000</td>\n",
       "      <td>269.166667</td>\n",
       "    </tr>\n",
       "    <tr>\n",
       "      <th>2017-07-04 18:00:00</th>\n",
       "      <td>22.166667</td>\n",
       "      <td>23.783333</td>\n",
       "      <td>27.333333</td>\n",
       "      <td>271.666667</td>\n",
       "    </tr>\n",
       "    <tr>\n",
       "      <th>2017-07-05 00:00:00</th>\n",
       "      <td>18.500000</td>\n",
       "      <td>21.266667</td>\n",
       "      <td>18.000000</td>\n",
       "      <td>253.333333</td>\n",
       "    </tr>\n",
       "    <tr>\n",
       "      <th>2017-07-05 06:00:00</th>\n",
       "      <td>17.166667</td>\n",
       "      <td>24.150000</td>\n",
       "      <td>23.000000</td>\n",
       "      <td>256.666667</td>\n",
       "    </tr>\n",
       "    <tr>\n",
       "      <th>2017-07-05 12:00:00</th>\n",
       "      <td>17.333333</td>\n",
       "      <td>30.166667</td>\n",
       "      <td>15.500000</td>\n",
       "      <td>240.000000</td>\n",
       "    </tr>\n",
       "    <tr>\n",
       "      <th>2017-07-05 18:00:00</th>\n",
       "      <td>21.500000</td>\n",
       "      <td>25.366667</td>\n",
       "      <td>20.333333</td>\n",
       "      <td>266.666667</td>\n",
       "    </tr>\n",
       "  </tbody>\n",
       "</table>\n",
       "</div>"
      ],
      "text/plain": [
       "                          PM25       Temp  WindSpeed     WindDir\n",
       "Time                                                            \n",
       "2017-07-01 00:00:00  11.800000  22.840000  30.400000  247.000000\n",
       "2017-07-01 06:00:00  14.333333  25.633333  27.000000  246.666667\n",
       "2017-07-01 12:00:00  12.500000  30.583333  23.000000  243.333333\n",
       "2017-07-01 18:00:00  16.666667  26.200000  26.000000  259.166667\n",
       "2017-07-02 00:00:00  14.833333  23.066667  22.333333  249.166667\n",
       "2017-07-02 06:00:00  13.833333  26.033333  19.333333  246.666667\n",
       "2017-07-02 12:00:00  14.166667  31.066667  25.500000  237.500000\n",
       "2017-07-02 18:00:00  16.666667  26.000000  32.000000  260.000000\n",
       "2017-07-03 00:00:00  12.833333  22.833333  31.666667  277.500000\n",
       "2017-07-03 06:00:00  18.833333  25.566667  21.333333  255.833333\n",
       "2017-07-03 12:00:00  20.333333  31.150000  24.500000  255.833333\n",
       "2017-07-03 18:00:00  18.333333  25.633333  38.000000  270.833333\n",
       "2017-07-04 00:00:00  14.666667  22.800000  39.666667  265.000000\n",
       "2017-07-04 06:00:00  21.333333  23.816667  36.333333  265.000000\n",
       "2017-07-04 12:00:00  23.666667  27.366667  26.500000  269.166667\n",
       "2017-07-04 18:00:00  22.166667  23.783333  27.333333  271.666667\n",
       "2017-07-05 00:00:00  18.500000  21.266667  18.000000  253.333333\n",
       "2017-07-05 06:00:00  17.166667  24.150000  23.000000  256.666667\n",
       "2017-07-05 12:00:00  17.333333  30.166667  15.500000  240.000000\n",
       "2017-07-05 18:00:00  21.500000  25.366667  20.333333  266.666667"
      ]
     },
     "execution_count": 319,
     "metadata": {},
     "output_type": "execute_result"
    }
   ],
   "source": [
    "cnx_train.head(20)"
   ]
  },
  {
   "cell_type": "code",
   "execution_count": 320,
   "metadata": {},
   "outputs": [
    {
     "data": {
      "text/html": [
       "<div>\n",
       "<style scoped>\n",
       "    .dataframe tbody tr th:only-of-type {\n",
       "        vertical-align: middle;\n",
       "    }\n",
       "\n",
       "    .dataframe tbody tr th {\n",
       "        vertical-align: top;\n",
       "    }\n",
       "\n",
       "    .dataframe thead th {\n",
       "        text-align: right;\n",
       "    }\n",
       "</style>\n",
       "<table border=\"1\" class=\"dataframe\">\n",
       "  <thead>\n",
       "    <tr style=\"text-align: right;\">\n",
       "      <th></th>\n",
       "      <th>Temp</th>\n",
       "      <th>WindSpeed</th>\n",
       "      <th>WindDir</th>\n",
       "      <th>PM25</th>\n",
       "    </tr>\n",
       "    <tr>\n",
       "      <th>Time</th>\n",
       "      <th></th>\n",
       "      <th></th>\n",
       "      <th></th>\n",
       "      <th></th>\n",
       "    </tr>\n",
       "  </thead>\n",
       "  <tbody>\n",
       "    <tr>\n",
       "      <th>2020-07-01 00:00:00</th>\n",
       "      <td>23.760000</td>\n",
       "      <td>22.200000</td>\n",
       "      <td>274.000000</td>\n",
       "      <td>11.800000</td>\n",
       "    </tr>\n",
       "    <tr>\n",
       "      <th>2020-07-01 06:00:00</th>\n",
       "      <td>25.850000</td>\n",
       "      <td>20.333333</td>\n",
       "      <td>260.833333</td>\n",
       "      <td>12.666667</td>\n",
       "    </tr>\n",
       "    <tr>\n",
       "      <th>2020-07-01 12:00:00</th>\n",
       "      <td>31.133333</td>\n",
       "      <td>22.166667</td>\n",
       "      <td>248.333333</td>\n",
       "      <td>11.166667</td>\n",
       "    </tr>\n",
       "    <tr>\n",
       "      <th>2020-07-01 18:00:00</th>\n",
       "      <td>26.333333</td>\n",
       "      <td>26.000000</td>\n",
       "      <td>269.166667</td>\n",
       "      <td>15.000000</td>\n",
       "    </tr>\n",
       "    <tr>\n",
       "      <th>2020-07-02 00:00:00</th>\n",
       "      <td>23.233333</td>\n",
       "      <td>22.166667</td>\n",
       "      <td>274.166667</td>\n",
       "      <td>9.500000</td>\n",
       "    </tr>\n",
       "    <tr>\n",
       "      <th>...</th>\n",
       "      <td>...</td>\n",
       "      <td>...</td>\n",
       "      <td>...</td>\n",
       "      <td>...</td>\n",
       "    </tr>\n",
       "    <tr>\n",
       "      <th>2021-06-30 18:00:00</th>\n",
       "      <td>25.833333</td>\n",
       "      <td>24.333333</td>\n",
       "      <td>264.166667</td>\n",
       "      <td>15.000000</td>\n",
       "    </tr>\n",
       "    <tr>\n",
       "      <th>2021-07-01 00:00:00</th>\n",
       "      <td>22.650000</td>\n",
       "      <td>26.333333</td>\n",
       "      <td>270.000000</td>\n",
       "      <td>14.333333</td>\n",
       "    </tr>\n",
       "    <tr>\n",
       "      <th>2021-07-01 06:00:00</th>\n",
       "      <td>22.883333</td>\n",
       "      <td>17.833333</td>\n",
       "      <td>259.166667</td>\n",
       "      <td>13.416667</td>\n",
       "    </tr>\n",
       "    <tr>\n",
       "      <th>2021-07-01 12:00:00</th>\n",
       "      <td>29.266667</td>\n",
       "      <td>18.833333</td>\n",
       "      <td>237.500000</td>\n",
       "      <td>13.583333</td>\n",
       "    </tr>\n",
       "    <tr>\n",
       "      <th>2021-07-01 18:00:00</th>\n",
       "      <td>25.460000</td>\n",
       "      <td>25.400000</td>\n",
       "      <td>256.000000</td>\n",
       "      <td>13.000000</td>\n",
       "    </tr>\n",
       "  </tbody>\n",
       "</table>\n",
       "<p>1464 rows × 4 columns</p>\n",
       "</div>"
      ],
      "text/plain": [
       "                          Temp  WindSpeed     WindDir       PM25\n",
       "Time                                                            \n",
       "2020-07-01 00:00:00  23.760000  22.200000  274.000000  11.800000\n",
       "2020-07-01 06:00:00  25.850000  20.333333  260.833333  12.666667\n",
       "2020-07-01 12:00:00  31.133333  22.166667  248.333333  11.166667\n",
       "2020-07-01 18:00:00  26.333333  26.000000  269.166667  15.000000\n",
       "2020-07-02 00:00:00  23.233333  22.166667  274.166667   9.500000\n",
       "...                        ...        ...         ...        ...\n",
       "2021-06-30 18:00:00  25.833333  24.333333  264.166667  15.000000\n",
       "2021-07-01 00:00:00  22.650000  26.333333  270.000000  14.333333\n",
       "2021-07-01 06:00:00  22.883333  17.833333  259.166667  13.416667\n",
       "2021-07-01 12:00:00  29.266667  18.833333  237.500000  13.583333\n",
       "2021-07-01 18:00:00  25.460000  25.400000  256.000000  13.000000\n",
       "\n",
       "[1464 rows x 4 columns]"
      ]
     },
     "execution_count": 320,
     "metadata": {},
     "output_type": "execute_result"
    }
   ],
   "source": [
    "cnx_test"
   ]
  },
  {
   "cell_type": "code",
   "execution_count": 321,
   "metadata": {},
   "outputs": [],
   "source": [
    "best_order = (4, 0, 2)\n",
    "best_seasonal_order = (1, 0, 1, 1461) # 365.25 * 4\n",
    "\n",
    "exog_columns = ['Temp', 'WindSpeed', 'WindDir']"
   ]
  },
  {
   "cell_type": "code",
   "execution_count": 322,
   "metadata": {},
   "outputs": [],
   "source": [
    "model_cnx = SARIMAX_Custom(cnx_train[['PM25']],\n",
    "              best_order,\n",
    "              best_seasonal_order,\n",
    "              exog=cnx_train[exog_columns])\n",
    "\n",
    "model_bkk = SARIMAX_Custom(bkk_train[['PM25']],\n",
    "              best_order,\n",
    "              best_seasonal_order,\n",
    "              exog=bkk_train[exog_columns])"
   ]
  },
  {
   "cell_type": "code",
   "execution_count": 323,
   "metadata": {},
   "outputs": [],
   "source": [
    "cnx_ERR = model_cnx.fit(lr=1e-5, lr_decay=0.999 ,verbose=0)\n",
    "bkk_ERR = model_bkk.fit(lr=1e-5, lr_decay=0.999 ,verbose=0)"
   ]
  },
  {
   "cell_type": "code",
   "execution_count": 324,
   "metadata": {},
   "outputs": [],
   "source": [
    "# def predict(self, x, y, start_date, t_forecast=1, y_exog=None, verbose=0):"
   ]
  },
  {
   "cell_type": "code",
   "execution_count": 325,
   "metadata": {},
   "outputs": [],
   "source": [
    "df_test = cnx_test[['PM25']].iloc[:,0].copy()"
   ]
  },
  {
   "cell_type": "code",
   "execution_count": 326,
   "metadata": {},
   "outputs": [],
   "source": [
    "# y_t = df_test.to_numpy()\n",
    "\n",
    "# Error = [y_t[0]-10]\n",
    "\n",
    "# y_pred = [10]\n",
    "\n",
    "# for t in range(1,len(y_t)):\n",
    "#     pred = {} ; x = {}\n",
    "#     pred['p'], x['p'] = model_cnx.p_prediction(y_t, t)\n",
    "#     pred['q'], x['q'] = model_cnx.q_prediction(y_t, Error, t)\n",
    "#     pred['P'], x['P'] = model_cnx.P_prediction(y_t, t)\n",
    "#     pred['Q'], x['Q'] = model_cnx.Q_prediction(y_t, Error, t)\n",
    "\n",
    "#     pred['y'] = (pred['p'] + pred['q'] + pred['P'] + pred['Q'] + model_cnx.params['c']).sum()\n",
    "    \n",
    "#     y_pred.append(pred['y'])\n",
    "\n",
    "#     error_t = y_t[t] - pred['y']\n",
    "\n",
    "#     print(t, pred['y'], y_t[t], error_t)\n",
    "\n",
    "#     Error.append(error_t)\n",
    "\n",
    "# y_pred_tmp = y.iloc[:,[0]].copy()\n",
    "# y_pred_tmp['PM25'] = np.array(y_pred)"
   ]
  },
  {
   "cell_type": "code",
   "execution_count": 327,
   "metadata": {},
   "outputs": [
    {
     "data": {
      "text/plain": [
       "{'p': array([0.21033884, 0.09788719, 0.04923555, 0.15537244]),\n",
       " 'pX': array([ 0.15142467,  0.10326464, -0.00586904]),\n",
       " 'd': array([], dtype=float64),\n",
       " 'q': array([0.03211666, 0.16640901]),\n",
       " 'P': array([0.05197559]),\n",
       " 'D': array([], dtype=float64),\n",
       " 'Q': array([0.0610506]),\n",
       " 'c': 1.0028450841931384}"
      ]
     },
     "execution_count": 327,
     "metadata": {},
     "output_type": "execute_result"
    }
   ],
   "source": [
    "model_cnx.params"
   ]
  },
  {
   "cell_type": "code",
   "execution_count": 328,
   "metadata": {},
   "outputs": [
    {
     "data": {
      "text/plain": [
       "{'p': array([0.1816184 , 0.11818149, 0.11960634, 0.23684009]),\n",
       " 'pX': array([ 0.17870819,  0.07923047, -0.02185037]),\n",
       " 'd': array([], dtype=float64),\n",
       " 'q': array([0.0401874 , 0.19839081]),\n",
       " 'P': array([0.07035136]),\n",
       " 'D': array([], dtype=float64),\n",
       " 'Q': array([-0.00686154]),\n",
       " 'c': 1.0050073804237813}"
      ]
     },
     "execution_count": 328,
     "metadata": {},
     "output_type": "execute_result"
    }
   ],
   "source": [
    "model_bkk.params"
   ]
  },
  {
   "cell_type": "code",
   "execution_count": 329,
   "metadata": {},
   "outputs": [],
   "source": [
    "cnx_y_pred, _ = model_cnx.predict(cnx_test[['PM25']], cnx_test[exog_columns], start_date=0)\n",
    "bkk_y_pred, _ = model_bkk.predict(bkk_test[['PM25']], bkk_test[exog_columns], start_date=0)"
   ]
  },
  {
   "cell_type": "code",
   "execution_count": 330,
   "metadata": {},
   "outputs": [
    {
     "name": "stdout",
     "output_type": "stream",
     "text": [
      "Test on SARIMAX with RMSE: 12.204526670254655\n"
     ]
    }
   ],
   "source": [
    "model_cnx.RMSE(cnx_y_pred['PM25'], cnx_test['PM25'])"
   ]
  },
  {
   "cell_type": "code",
   "execution_count": 331,
   "metadata": {},
   "outputs": [
    {
     "name": "stdout",
     "output_type": "stream",
     "text": [
      "Test on SARIMAX with RMSE: 4.6332203993041485\n"
     ]
    }
   ],
   "source": [
    "model_bkk.RMSE(bkk_y_pred['PM25'], bkk_test['PM25'])"
   ]
  },
  {
   "cell_type": "code",
   "execution_count": 332,
   "metadata": {},
   "outputs": [],
   "source": [
    "cnx_data = pd.concat((cnx_train, cnx_valid, cnx_test), axis=0)\n",
    "bkk_data = pd.concat((bkk_train, bkk_valid, bkk_test), axis=0)"
   ]
  },
  {
   "cell_type": "code",
   "execution_count": 333,
   "metadata": {},
   "outputs": [
    {
     "data": {
      "image/png": "[encoded data removed]",
      "text/plain": [
       "<Figure size 1440x480 with 1 Axes>"
      ]
     },
     "metadata": {},
     "output_type": "display_data"
    }
   ],
   "source": [
    "model_cnx.plot(cnx_data['PM25'], cnx_y_pred['PM25'], \"Chiangmai PM2.5 Prediction\")"
   ]
  },
  {
   "cell_type": "code",
   "execution_count": 334,
   "metadata": {},
   "outputs": [
    {
     "data": {
      "image/png": "[encoded data removed]",
      "text/plain": [
       "<Figure size 1440x480 with 1 Axes>"
      ]
     },
     "metadata": {},
     "output_type": "display_data"
    }
   ],
   "source": [
    "model_bkk.plot(bkk_data['PM25'], bkk_y_pred['PM25'], \"Bangkok PM2.5 Prediction\")"
   ]
  },
  {
   "cell_type": "code",
   "execution_count": 335,
   "metadata": {},
   "outputs": [],
   "source": [
    "# # Open file - Write binary mode\n",
    "# model_file = open('mod_cnx[0-1-1_1-1-0-365].model', 'wb')\n",
    "\n",
    "# # Save Decision tree model\n",
    "# pickle.dump(mod_cnx, model_file)\n",
    "\n",
    "# # Close file\n",
    "# model_file.close()"
   ]
  },
  {
   "cell_type": "code",
   "execution_count": 336,
   "metadata": {},
   "outputs": [],
   "source": [
    "# test_exog = pd.concat((cnx_valid[exog_columns], cnx_test[exog_columns]), axis=0)"
   ]
  },
  {
   "cell_type": "code",
   "execution_count": 337,
   "metadata": {},
   "outputs": [],
   "source": [
    "# bkk_data = pd.concat((bkk_train, cnx_valid, bkk_test), axis=0)"
   ]
  },
  {
   "cell_type": "markdown",
   "metadata": {},
   "source": [
    "# Grid Search"
   ]
  },
  {
   "cell_type": "code",
   "execution_count": 338,
   "metadata": {},
   "outputs": [],
   "source": [
    "# from sklearn.model_selection import GridSearchCV"
   ]
  },
  {
   "cell_type": "code",
   "execution_count": null,
   "metadata": {},
   "outputs": [],
   "source": []
  }
 ],
 "metadata": {
  "colab": {
   "collapsed_sections": [],
   "name": "project_nb.ipynb",
   "provenance": [],
   "toc_visible": true
  },
  "kernelspec": {
   "display_name": "Python 3 (ipykernel)",
   "language": "python",
   "name": "python3"
  },
  "language_info": {
   "codemirror_mode": {
    "name": "ipython",
    "version": 3
   },
   "file_extension": ".py",
   "mimetype": "text/x-python",
   "name": "python",
   "nbconvert_exporter": "python",
   "pygments_lexer": "ipython3",
   "version": "3.9.7"
  }
 },
 "nbformat": 4,
 "nbformat_minor": 1
}
