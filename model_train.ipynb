{
 "cells": [
  {
   "cell_type": "code",
   "execution_count": 1,
   "metadata": {
    "id": "xXgecYKfoECO"
   },
   "outputs": [],
   "source": [
    "#Import the libraries\n",
    "import numpy as np\n",
    "import pandas as pd\n",
    "\n",
    "import pickle\n",
    "\n",
    "import warnings\n",
    "warnings.filterwarnings(\"ignore\")"
   ]
  },
  {
   "cell_type": "code",
   "execution_count": 2,
   "metadata": {},
   "outputs": [],
   "source": [
    "train_data = pickle.load(open('clean_dataset_2022/train_set.bin', 'rb'))\n",
    "\n",
    "test_data = pickle.load(open('clean_dataset_2022/test_set.bin', 'rb'))"
   ]
  },
  {
   "cell_type": "markdown",
   "metadata": {
    "id": "BVf1rACoZREf"
   },
   "source": [
    "## SARIMAX"
   ]
  },
  {
   "cell_type": "code",
   "execution_count": 3,
   "metadata": {
    "id": "5YThJtVMZlap"
   },
   "outputs": [],
   "source": [
    "from sklearn.metrics import mean_squared_error\n",
    "from statsmodels.tsa.statespace.sarimax import SARIMAX\n",
    "\n",
    "from matplotlib.pyplot import figure"
   ]
  },
  {
   "cell_type": "markdown",
   "metadata": {},
   "source": [
    "### Resample"
   ]
  },
  {
   "cell_type": "code",
   "execution_count": 4,
   "metadata": {},
   "outputs": [],
   "source": [
    "province = ['BKK','CNX','KKC','RAY','SARA','SURAT']"
   ]
  },
  {
   "cell_type": "code",
   "execution_count": 5,
   "metadata": {},
   "outputs": [],
   "source": [
    "for p in province:\n",
    "    train_data[p] = train_data[p].resample('6H').mean()\n",
    "\n",
    "    test_data[p] = test_data[p].resample('6H').mean()"
   ]
  },
  {
   "cell_type": "code",
   "execution_count": 32,
   "metadata": {},
   "outputs": [
    {
     "data": {
      "text/plain": [
       "{'BKK':                           Temp  WindSpeed     WindDir       PM25\n",
       " Time                                                            \n",
       " 2020-07-01 00:00:00  28.420000  52.000000  264.000000   9.600000\n",
       " 2020-07-01 06:00:00  29.550000  48.666667  260.000000  12.333333\n",
       " 2020-07-01 12:00:00  29.883333  36.166667  270.833333  17.166667\n",
       " 2020-07-01 18:00:00  28.833333  51.833333  273.333333  11.833333\n",
       " 2020-07-02 00:00:00  28.416667  38.666667  274.166667  12.666667\n",
       " ...                        ...        ...         ...        ...\n",
       " 2021-06-30 18:00:00  27.833333  21.833333  261.666667  15.000000\n",
       " 2021-07-01 00:00:00  27.350000  22.833333  274.166667  15.000000\n",
       " 2021-07-01 06:00:00  29.883333  19.333333  255.000000  14.000000\n",
       " 2021-07-01 12:00:00  31.933333  18.166667  240.000000  14.000000\n",
       " 2021-07-01 18:00:00  29.100000  16.800000  247.000000  13.800000\n",
       " \n",
       " [1464 rows x 4 columns],\n",
       " 'CNX':                           Temp  WindSpeed     WindDir       PM25\n",
       " Time                                                            \n",
       " 2020-07-01 00:00:00  23.660000  22.200000  274.000000  11.800000\n",
       " 2020-07-01 06:00:00  28.133333  20.333333  260.833333  12.666667\n",
       " 2020-07-01 12:00:00  30.500000  22.166667  248.333333  11.166667\n",
       " 2020-07-01 18:00:00  24.666667  26.000000  269.166667  15.000000\n",
       " 2020-07-02 00:00:00  23.116667  22.166667  274.166667   9.500000\n",
       " ...                        ...        ...         ...        ...\n",
       " 2021-06-30 18:00:00  24.250000  24.333333  264.166667  15.000000\n",
       " 2021-07-01 00:00:00  22.316667  26.333333  270.000000  14.333333\n",
       " 2021-07-01 06:00:00  24.533333  17.833333  259.166667  13.400000\n",
       " 2021-07-01 12:00:00  29.300000  18.833333  237.500000  13.600000\n",
       " 2021-07-01 18:00:00  23.940000  25.400000  256.000000  13.000000\n",
       " \n",
       " [1464 rows x 4 columns],\n",
       " 'KKC':                           Temp  WindSpeed     WindDir       PM25\n",
       " Time                                                            \n",
       " 2020-07-01 00:00:00  25.840000  38.000000  253.000000  11.000000\n",
       " 2020-07-01 06:00:00  28.833333  32.333333  261.666667  12.333333\n",
       " 2020-07-01 12:00:00  32.033333  16.166667  262.500000  11.000000\n",
       " 2020-07-01 18:00:00  27.200000  10.000000  260.000000  13.166667\n",
       " 2020-07-02 00:00:00  25.350000  19.500000  258.333333  11.833333\n",
       " ...                        ...        ...         ...        ...\n",
       " 2021-06-30 18:00:00  28.483333  33.500000  240.000000  16.666667\n",
       " 2021-07-01 00:00:00  25.683333  28.833333  252.500000  15.833333\n",
       " 2021-07-01 06:00:00  30.566667  24.833333  260.833333  16.000000\n",
       " 2021-07-01 12:00:00  34.316667  25.333333  226.666667  16.000000\n",
       " 2021-07-01 18:00:00  29.080000  29.200000  222.000000  16.000000\n",
       " \n",
       " [1464 rows x 4 columns],\n",
       " 'RAY':                           Temp  WindSpeed     WindDir       PM25\n",
       " Time                                                            \n",
       " 2020-07-01 00:00:00  27.960000  43.800000  259.000000   3.400000\n",
       " 2020-07-01 06:00:00  29.116667  38.166667  253.333333   6.666667\n",
       " 2020-07-01 12:00:00  29.316667  36.833333  267.500000   8.833333\n",
       " 2020-07-01 18:00:00  28.733333  45.833333  277.500000   7.166667\n",
       " 2020-07-02 00:00:00  28.133333  36.333333  270.000000   4.833333\n",
       " ...                        ...        ...         ...        ...\n",
       " 2021-06-30 18:00:00  28.383333  24.000000  251.666667  13.333333\n",
       " 2021-07-01 00:00:00  28.100000  21.000000  247.500000  15.000000\n",
       " 2021-07-01 06:00:00  29.283333  14.500000  249.166667  14.800000\n",
       " 2021-07-01 12:00:00  29.766667  19.666667  250.000000  15.200000\n",
       " 2021-07-01 18:00:00  28.320000  24.400000  249.000000  16.000000\n",
       " \n",
       " [1464 rows x 4 columns],\n",
       " 'SARA':                           Temp  WindSpeed     WindDir       PM25\n",
       " Time                                                            \n",
       " 2020-07-01 00:00:00  25.320000  48.000000  262.000000   4.666667\n",
       " 2020-07-01 06:00:00  28.000000  55.500000  262.500000   9.500000\n",
       " 2020-07-01 12:00:00  29.683333  45.833333  271.666667  11.000000\n",
       " 2020-07-01 18:00:00  26.333333  42.500000  276.666667   2.500000\n",
       " 2020-07-02 00:00:00  25.416667  43.333333  279.166667   5.500000\n",
       " ...                        ...        ...         ...        ...\n",
       " 2021-06-30 18:00:00  26.300000  31.000000  254.166667   9.333333\n",
       " 2021-07-01 00:00:00  25.016667  26.666667  259.166667  10.666667\n",
       " 2021-07-01 06:00:00  29.866667  25.833333  254.166667  10.600000\n",
       " 2021-07-01 12:00:00  33.716667  22.833333  231.666667  11.000000\n",
       " 2021-07-01 18:00:00  27.480000  24.200000  240.000000  13.000000\n",
       " \n",
       " [1464 rows x 4 columns],\n",
       " 'SURAT':                           Temp  WindSpeed     WindDir       PM25\n",
       " Time                                                            \n",
       " 2020-07-01 00:00:00  24.940000  28.600000  254.000000  22.600000\n",
       " 2020-07-01 06:00:00  28.400000  34.500000  250.833333  24.000000\n",
       " 2020-07-01 12:00:00  31.016667  28.000000  258.333333  13.500000\n",
       " 2020-07-01 18:00:00  26.233333  24.000000  265.833333  18.333333\n",
       " 2020-07-02 00:00:00  24.933333  24.166667  264.166667  22.666667\n",
       " ...                        ...        ...         ...        ...\n",
       " 2021-06-30 18:00:00  25.850000  10.333333  257.500000  11.166667\n",
       " 2021-07-01 00:00:00  24.350000  12.166667  255.000000  11.666667\n",
       " 2021-07-01 06:00:00  28.916667   8.833333  245.000000  12.000000\n",
       " 2021-07-01 12:00:00  30.600000   8.500000  240.833333  12.833333\n",
       " 2021-07-01 18:00:00  26.140000   9.000000  239.000000  13.400000\n",
       " \n",
       " [1464 rows x 4 columns]}"
      ]
     },
     "execution_count": 32,
     "metadata": {},
     "output_type": "execute_result"
    }
   ],
   "source": [
    "test_data"
   ]
  },
  {
   "cell_type": "markdown",
   "metadata": {},
   "source": [
    "### Split 70% 30%"
   ]
  },
  {
   "cell_type": "code",
   "execution_count": 6,
   "metadata": {},
   "outputs": [],
   "source": [
    "train_set = {} ; valid_set = {}\n",
    "\n",
    "ratio = 0.7\n",
    "\n",
    "for p in province:\n",
    "    train_size, valid_size = int(ratio*train_data[p].shape[0]), int((1-ratio)*train_data[p].shape[0])\n",
    "    train_set[p], valid_set[p] = train_data[p].iloc[:train_size], train_data[p].iloc[train_size: ]"
   ]
  },
  {
   "cell_type": "markdown",
   "metadata": {},
   "source": [
    "### Tuning Parameters"
   ]
  },
  {
   "cell_type": "code",
   "execution_count": 7,
   "metadata": {},
   "outputs": [],
   "source": [
    "order = (4, 0, 2)\n",
    "seasonal_order = (1, 0, 1, 1461) # 365.25 * 4\n",
    "\n",
    "exog_order = (5, 0, 4)\n",
    "exog_seasonal_order = (1, 0, 1, 1461) # 365.25 * 4\n",
    "\n",
    "exog_columns = ['Temp', 'WindSpeed', 'WindDir']"
   ]
  },
  {
   "cell_type": "markdown",
   "metadata": {},
   "source": [
    "### Training 6 provinces with *minimal_SARIMAX*"
   ]
  },
  {
   "cell_type": "code",
   "execution_count": 8,
   "metadata": {},
   "outputs": [],
   "source": [
    "from importlib import reload"
   ]
  },
  {
   "cell_type": "code",
   "execution_count": 9,
   "metadata": {},
   "outputs": [],
   "source": [
    "from custom_function import minimalSARIMAX\n",
    "\n",
    "reload(minimalSARIMAX)\n",
    "\n",
    "from custom_function.minimalSARIMAX import MinimalSARIMAX"
   ]
  },
  {
   "cell_type": "code",
   "execution_count": 10,
   "metadata": {},
   "outputs": [],
   "source": [
    "model = {}\n",
    "model_exog = {}\n",
    "\n",
    "for p in province:\n",
    "    model[p] = MinimalSARIMAX(train_data[p][['PM25']],\n",
    "                order,\n",
    "                seasonal_order,\n",
    "                exog=train_data[p][exog_columns])\n",
    "    \n",
    "    model_exog[p] = {}    \n",
    "    for exog in exog_columns:\n",
    "        model_exog[p][exog] = MinimalSARIMAX(train_data[p][[exog]],\n",
    "                        exog_order,\n",
    "                        exog_seasonal_order)"
   ]
  },
  {
   "cell_type": "code",
   "execution_count": 11,
   "metadata": {},
   "outputs": [
    {
     "name": "stderr",
     "output_type": "stream",
     "text": [
      "100%|██████████| 4383/4383 [00:00<00:00, 4811.23it/s]\n",
      "100%|██████████| 4383/4383 [00:00<00:00, 4551.42it/s]\n",
      "100%|██████████| 4383/4383 [00:00<00:00, 5312.82it/s]\n",
      "100%|██████████| 4383/4383 [00:01<00:00, 4369.91it/s]\n",
      "100%|██████████| 4383/4383 [00:00<00:00, 5000.21it/s]\n",
      "100%|██████████| 2555/2555 [00:00<00:00, 5424.62it/s]\n"
     ]
    }
   ],
   "source": [
    "for p in province:\n",
    "    model[p].fit(lr=1e-5, lr_decay=0.999 ,verbose=0)"
   ]
  },
  {
   "cell_type": "code",
   "execution_count": 12,
   "metadata": {},
   "outputs": [
    {
     "name": "stderr",
     "output_type": "stream",
     "text": [
      "100%|██████████| 4383/4383 [00:01<00:00, 2864.75it/s]\n",
      "100%|██████████| 4383/4383 [00:01<00:00, 3162.36it/s]\n",
      "100%|██████████| 4383/4383 [00:01<00:00, 3258.74it/s]\n",
      "100%|██████████| 4383/4383 [00:01<00:00, 3854.94it/s]\n",
      "100%|██████████| 4383/4383 [00:01<00:00, 3405.59it/s]\n",
      "100%|██████████| 4383/4383 [00:00<00:00, 4908.21it/s]\n",
      "100%|██████████| 4383/4383 [00:00<00:00, 4707.84it/s]\n",
      "100%|██████████| 4383/4383 [00:00<00:00, 4551.44it/s]\n",
      "100%|██████████| 4383/4383 [00:01<00:00, 4369.94it/s]\n",
      "100%|██████████| 4383/4383 [00:01<00:00, 4374.25it/s]\n",
      "100%|██████████| 4383/4383 [00:00<00:00, 4483.74it/s]\n",
      "100%|██████████| 4383/4383 [00:00<00:00, 4463.31it/s]\n",
      "100%|██████████| 4383/4383 [00:00<00:00, 4723.15it/s]\n",
      "100%|██████████| 4383/4383 [00:01<00:00, 3343.25it/s]\n",
      "100%|██████████| 4383/4383 [00:01<00:00, 3952.19it/s]\n",
      "100%|██████████| 2555/2555 [00:00<00:00, 3906.80it/s]\n",
      "100%|██████████| 2555/2555 [00:00<00:00, 3422.37it/s]\n",
      "100%|██████████| 2555/2555 [00:01<00:00, 2392.86it/s]\n"
     ]
    }
   ],
   "source": [
    "for p in province:\n",
    "    for exog in exog_columns:\n",
    "        model_exog[p][exog].fit(lr=1e-5, lr_decay=0.999 ,verbose=0)"
   ]
  },
  {
   "cell_type": "code",
   "execution_count": 13,
   "metadata": {},
   "outputs": [],
   "source": [
    "y_pred = {} ; Err = {}"
   ]
  },
  {
   "cell_type": "code",
   "execution_count": 14,
   "metadata": {},
   "outputs": [],
   "source": [
    "y_pred['BKK'], Err['BKK'] = model['BKK'].predict(train_data['BKK'][['PM25']], y_X=train_data['BKK'][exog_columns], verbose=0)"
   ]
  },
  {
   "cell_type": "code",
   "execution_count": 15,
   "metadata": {},
   "outputs": [
    {
     "name": "stdout",
     "output_type": "stream",
     "text": [
      "Test on SARIMAX with RMSE: 8.00366456684599\n"
     ]
    }
   ],
   "source": [
    "model['BKK'].RMSE(y_pred['BKK'], train_data['BKK'][['PM25']])"
   ]
  },
  {
   "cell_type": "code",
   "execution_count": 16,
   "metadata": {},
   "outputs": [],
   "source": [
    "df_test = valid_set['BKK'].copy()"
   ]
  },
  {
   "cell_type": "code",
   "execution_count": 17,
   "metadata": {},
   "outputs": [],
   "source": [
    "y_t = df_test.iloc[:,[0]].to_numpy().ravel()\n",
    "\n",
    "y_Xt = df_test[exog_columns].to_numpy()\n",
    "\n",
    "y_pred = [10]\n",
    "\n",
    "Error = [y_t[0]-10]\n",
    "\n",
    "\n",
    "verbose = 0\n",
    "\n",
    "for t in range(1,len(y_t)):\n",
    "    pred = {} ; x = {}\n",
    "    pred['p'], x['p'] = model['BKK'].p_prediction(y_t, t)\n",
    "    pred['q'], x['q'] = model['BKK'].q_prediction(y_t, Error, t)\n",
    "    pred['pX'], x['pX'] = model['BKK'].pX_prediction(y_Xt, t)\n",
    "    pred['P'], x['P'] = model['BKK'].P_prediction(y_t, t)\n",
    "    pred['Q'], x['Q'] = model['BKK'].Q_prediction(y_t, Error, t)\n",
    "\n",
    "    pred['y'] = (pred['p'] + pred['q'] + pred['P'] + pred['Q'] + model['BKK'].params['c']).sum()\n",
    "    \n",
    "    y_pred.append(pred['y'])\n",
    "\n",
    "    error_t = y_t[t] - pred['y']\n",
    "\n",
    "    if verbose:\n",
    "        print(t, pred['y'], y_t[t], error_t)\n",
    "\n",
    "    Error.append(error_t)\n",
    "\n",
    "y_pred_tmp = df_test.iloc[:,[0]].copy()\n",
    "y_pred_tmp['PM25'] = np.array(y_pred)"
   ]
  },
  {
   "cell_type": "code",
   "execution_count": 18,
   "metadata": {},
   "outputs": [],
   "source": [
    "# cnx_data = pd.concat((cnx_train, cnx_valid, cnx_test), axis=0)\n",
    "# bkk_data = pd.concat((bkk_train, bkk_valid, bkk_test), axis=0)"
   ]
  },
  {
   "cell_type": "code",
   "execution_count": 19,
   "metadata": {},
   "outputs": [],
   "source": [
    "# model_cnx.plot(cnx_data['PM25'], cnx_y_pred['PM25'], \"Chiangmai PM2.5 Prediction\")"
   ]
  },
  {
   "cell_type": "code",
   "execution_count": 20,
   "metadata": {},
   "outputs": [],
   "source": [
    "# model_bkk.plot(bkk_data['PM25'], bkk_y_pred['PM25'], \"Bangkok PM2.5 Prediction\")"
   ]
  },
  {
   "cell_type": "code",
   "execution_count": 21,
   "metadata": {},
   "outputs": [],
   "source": [
    "# # Open file - Write binary mode\n",
    "# model_file = open('mod_cnx[0-1-1_1-1-0-365].model', 'wb')\n",
    "\n",
    "# # Save Decision tree model\n",
    "# pickle.dump(mod_cnx, model_file)\n",
    "\n",
    "# # Close file\n",
    "# model_file.close()"
   ]
  },
  {
   "cell_type": "code",
   "execution_count": 22,
   "metadata": {},
   "outputs": [],
   "source": [
    "# test_exog = pd.concat((cnx_valid[exog_columns], cnx_test[exog_columns]), axis=0)"
   ]
  },
  {
   "cell_type": "code",
   "execution_count": 23,
   "metadata": {},
   "outputs": [],
   "source": [
    "# bkk_data = pd.concat((bkk_train, cnx_valid, bkk_test), axis=0)"
   ]
  },
  {
   "cell_type": "markdown",
   "metadata": {},
   "source": [
    "# Grid Search"
   ]
  },
  {
   "cell_type": "code",
   "execution_count": 24,
   "metadata": {},
   "outputs": [],
   "source": [
    "# from sklearn.model_selection import GridSearchCV"
   ]
  },
  {
   "cell_type": "code",
   "execution_count": 25,
   "metadata": {},
   "outputs": [],
   "source": [
    "import itertools\n",
    "import statsmodels.api as sm"
   ]
  },
  {
   "cell_type": "code",
   "execution_count": 33,
   "metadata": {},
   "outputs": [
    {
     "data": {
      "text/plain": [
       "[(0, 0, 0),\n",
       " (0, 0, 1),\n",
       " (0, 0, 2),\n",
       " (0, 1, 0),\n",
       " (0, 1, 1),\n",
       " (0, 1, 2),\n",
       " (0, 2, 0),\n",
       " (0, 2, 1),\n",
       " (0, 2, 2),\n",
       " (1, 0, 0),\n",
       " (1, 0, 1),\n",
       " (1, 0, 2),\n",
       " (1, 1, 0),\n",
       " (1, 1, 1),\n",
       " (1, 1, 2),\n",
       " (1, 2, 0),\n",
       " (1, 2, 1),\n",
       " (1, 2, 2),\n",
       " (2, 0, 0),\n",
       " (2, 0, 1),\n",
       " (2, 0, 2),\n",
       " (2, 1, 0),\n",
       " (2, 1, 1),\n",
       " (2, 1, 2),\n",
       " (2, 2, 0),\n",
       " (2, 2, 1),\n",
       " (2, 2, 2)]"
      ]
     },
     "execution_count": 33,
     "metadata": {},
     "output_type": "execute_result"
    }
   ],
   "source": [
    "p = d = q = range(0, 3)\n",
    "pdq = list(itertools.product(p, d, q))\n",
    "pdq"
   ]
  },
  {
   "cell_type": "code",
   "execution_count": 34,
   "metadata": {},
   "outputs": [
    {
     "data": {
      "text/plain": [
       "[(0, 0, 0, 1461),\n",
       " (0, 0, 1, 1461),\n",
       " (0, 0, 2, 1461),\n",
       " (0, 1, 0, 1461),\n",
       " (0, 1, 1, 1461),\n",
       " (0, 1, 2, 1461),\n",
       " (0, 2, 0, 1461),\n",
       " (0, 2, 1, 1461),\n",
       " (0, 2, 2, 1461),\n",
       " (1, 0, 0, 1461),\n",
       " (1, 0, 1, 1461),\n",
       " (1, 0, 2, 1461),\n",
       " (1, 1, 0, 1461),\n",
       " (1, 1, 1, 1461),\n",
       " (1, 1, 2, 1461),\n",
       " (1, 2, 0, 1461),\n",
       " (1, 2, 1, 1461),\n",
       " (1, 2, 2, 1461),\n",
       " (2, 0, 0, 1461),\n",
       " (2, 0, 1, 1461),\n",
       " (2, 0, 2, 1461),\n",
       " (2, 1, 0, 1461),\n",
       " (2, 1, 1, 1461),\n",
       " (2, 1, 2, 1461),\n",
       " (2, 2, 0, 1461),\n",
       " (2, 2, 1, 1461),\n",
       " (2, 2, 2, 1461)]"
      ]
     },
     "execution_count": 34,
     "metadata": {},
     "output_type": "execute_result"
    }
   ],
   "source": [
    "pdqs = [(x[0], x[1], x[2], 1461) for x in list(itertools.product(p, d, q))]\n",
    "pdqs"
   ]
  },
  {
   "cell_type": "code",
   "execution_count": 44,
   "metadata": {},
   "outputs": [],
   "source": [
    "# Define function\n",
    "def sarimax_gridsearch(pm_train, exo_train, pm_test, exo_test, pdq, PDQs):\n",
    "    '''\n",
    "    Input: \n",
    "        pm_train: PM2.5 training data\n",
    "        exo_train: exogenous training data\n",
    "        pdq : ARIMA combinations \n",
    "        pdqs : seasonal ARIMA combinations \n",
    "\n",
    "    Return:\n",
    "        Prints out top 5 parameter combinations\n",
    "        Returns dataframe of parameter combinations ranked by RMSE\n",
    "    '''\n",
    "    ans = []\n",
    "    for comb in pdq:\n",
    "        for combs in PDQs:\n",
    "            p, d, q = comb[0], comb[1], comb[2]\n",
    "            P, D, Q = combs[0], combs[1], combs[2]\n",
    "            if (p+q <= 2) and (d <= 2) and (d+D <= 2) and (P+Q <= 1):  \n",
    "                try:\n",
    "                    model = MinimalSARIMAX(pm_train, comb, combs,exog=exo_train)\n",
    "                    model.fit(lr=1e-5, lr_decay=0.999 ,verbose=0) \n",
    "                    y_pred, err = model.predict(pm_test, y_X=exo_test, verbose=0)\n",
    "                    rmse = model.scoring(y_pred, pm_test)\n",
    "                    ans.append([comb, combs, rmse])\n",
    "                    print(f'SARIMAX {comb} x {combs}12 : RMSE Calculated ={rmse}')\n",
    "                except Exception as e: \n",
    "                    print(e)\n",
    "                    continue\n",
    "\n",
    "    # Convert into a dataframe\n",
    "    ans_df = pd.DataFrame(ans, columns=['pdq', 'pdqs', 'rmse'])\n",
    "\n",
    "    # Sort and return top 5 combinations\n",
    "    ans_df = ans_df.sort_values(by=['rmse'],ascending=True)[0:5]\n",
    "    \n",
    "    return ans_df"
   ]
  },
  {
   "cell_type": "code",
   "execution_count": 54,
   "metadata": {},
   "outputs": [
    {
     "name": "stdout",
     "output_type": "stream",
     "text": [
      "PM25    66\n",
      "dtype: int64\n"
     ]
    }
   ],
   "source": [
    "pm_train = train_data['BKK'][['PM25']]\n",
    "pm_test = test_data['BKK'][['PM25']]\n",
    "exo_train = train_data['BKK'][exog_columns]\n",
    "exo_test = test_data['BKK'][exog_columns]\n",
    "print(pm_test.isna().sum())"
   ]
  },
  {
   "cell_type": "code",
   "execution_count": 45,
   "metadata": {},
   "outputs": [
    {
     "name": "stderr",
     "output_type": "stream",
     "text": [
      "100%|██████████| 4383/4383 [00:00<00:00, 9131.29it/s]\n"
     ]
    },
    {
     "name": "stdout",
     "output_type": "stream",
     "text": [
      "Input contains NaN, infinity or a value too large for dtype('float64').\n"
     ]
    },
    {
     "name": "stderr",
     "output_type": "stream",
     "text": [
      "100%|██████████| 4383/4383 [00:00<00:00, 8577.34it/s]\n"
     ]
    },
    {
     "name": "stdout",
     "output_type": "stream",
     "text": [
      "Input contains NaN, infinity or a value too large for dtype('float64').\n"
     ]
    },
    {
     "name": "stderr",
     "output_type": "stream",
     "text": [
      "100%|██████████| 4383/4383 [00:00<00:00, 9285.98it/s]\n"
     ]
    },
    {
     "name": "stdout",
     "output_type": "stream",
     "text": [
      "Input contains NaN, infinity or a value too large for dtype('float64').\n"
     ]
    },
    {
     "name": "stderr",
     "output_type": "stream",
     "text": [
      "100%|██████████| 4383/4383 [00:00<00:00, 9246.89it/s]\n"
     ]
    },
    {
     "name": "stdout",
     "output_type": "stream",
     "text": [
      "Input contains NaN, infinity or a value too large for dtype('float64').\n"
     ]
    },
    {
     "name": "stderr",
     "output_type": "stream",
     "text": [
      "  0%|          | 0/4383 [00:00<?, ?it/s]\n"
     ]
    },
    {
     "name": "stdout",
     "output_type": "stream",
     "text": [
      "matmul: Input operand 1 has a mismatch in its core dimension 0, with gufunc signature (n?,k),(k,m?)->(n?,m?) (size 2 is different from 1)\n"
     ]
    },
    {
     "name": "stderr",
     "output_type": "stream",
     "text": [
      "  0%|          | 0/4383 [00:00<?, ?it/s]\n"
     ]
    },
    {
     "name": "stdout",
     "output_type": "stream",
     "text": [
      "matmul: Input operand 1 has a mismatch in its core dimension 0, with gufunc signature (n?,k),(k,m?)->(n?,m?) (size 2 is different from 1)\n"
     ]
    },
    {
     "name": "stderr",
     "output_type": "stream",
     "text": [
      "100%|██████████| 4383/4383 [00:00<00:00, 8731.07it/s]\n"
     ]
    },
    {
     "name": "stdout",
     "output_type": "stream",
     "text": [
      "Input contains NaN, infinity or a value too large for dtype('float64').\n"
     ]
    },
    {
     "name": "stderr",
     "output_type": "stream",
     "text": [
      "100%|██████████| 4383/4383 [00:00<00:00, 9037.16it/s]\n"
     ]
    },
    {
     "name": "stdout",
     "output_type": "stream",
     "text": [
      "Input contains NaN, infinity or a value too large for dtype('float64').\n"
     ]
    },
    {
     "name": "stderr",
     "output_type": "stream",
     "text": [
      "  0%|          | 0/4383 [00:00<?, ?it/s]\n"
     ]
    },
    {
     "name": "stdout",
     "output_type": "stream",
     "text": [
      "matmul: Input operand 1 has a mismatch in its core dimension 0, with gufunc signature (n?,k),(k,m?)->(n?,m?) (size 2 is different from 1)\n"
     ]
    },
    {
     "name": "stderr",
     "output_type": "stream",
     "text": [
      "100%|██████████| 4383/4383 [00:00<00:00, 9169.59it/s]\n"
     ]
    },
    {
     "name": "stdout",
     "output_type": "stream",
     "text": [
      "Input contains NaN, infinity or a value too large for dtype('float64').\n"
     ]
    },
    {
     "name": "stderr",
     "output_type": "stream",
     "text": [
      "100%|██████████| 4383/4383 [00:00<00:00, 7954.70it/s]\n"
     ]
    },
    {
     "name": "stdout",
     "output_type": "stream",
     "text": [
      "Input contains NaN, infinity or a value too large for dtype('float64').\n"
     ]
    },
    {
     "name": "stderr",
     "output_type": "stream",
     "text": [
      "100%|██████████| 4383/4383 [00:00<00:00, 8908.61it/s]\n"
     ]
    },
    {
     "name": "stdout",
     "output_type": "stream",
     "text": [
      "Input contains NaN, infinity or a value too large for dtype('float64').\n"
     ]
    },
    {
     "name": "stderr",
     "output_type": "stream",
     "text": [
      "100%|██████████| 4383/4383 [00:00<00:00, 8543.95it/s]\n"
     ]
    },
    {
     "name": "stdout",
     "output_type": "stream",
     "text": [
      "Input contains NaN, infinity or a value too large for dtype('float64').\n"
     ]
    },
    {
     "name": "stderr",
     "output_type": "stream",
     "text": [
      "  0%|          | 0/4383 [00:00<?, ?it/s]\n"
     ]
    },
    {
     "name": "stdout",
     "output_type": "stream",
     "text": [
      "matmul: Input operand 1 has a mismatch in its core dimension 0, with gufunc signature (n?,k),(k,m?)->(n?,m?) (size 2 is different from 1)\n"
     ]
    },
    {
     "name": "stderr",
     "output_type": "stream",
     "text": [
      "  0%|          | 0/4383 [00:00<?, ?it/s]\n"
     ]
    },
    {
     "name": "stdout",
     "output_type": "stream",
     "text": [
      "matmul: Input operand 1 has a mismatch in its core dimension 0, with gufunc signature (n?,k),(k,m?)->(n?,m?) (size 2 is different from 1)\n"
     ]
    },
    {
     "name": "stderr",
     "output_type": "stream",
     "text": [
      "100%|██████████| 4383/4383 [00:00<00:00, 8560.63it/s]\n"
     ]
    },
    {
     "name": "stdout",
     "output_type": "stream",
     "text": [
      "Input contains NaN, infinity or a value too large for dtype('float64').\n"
     ]
    },
    {
     "name": "stderr",
     "output_type": "stream",
     "text": [
      "100%|██████████| 4383/4383 [00:00<00:00, 9074.55it/s]\n"
     ]
    },
    {
     "name": "stdout",
     "output_type": "stream",
     "text": [
      "Input contains NaN, infinity or a value too large for dtype('float64').\n"
     ]
    },
    {
     "name": "stderr",
     "output_type": "stream",
     "text": [
      "  0%|          | 0/4383 [00:00<?, ?it/s]\n"
     ]
    },
    {
     "name": "stdout",
     "output_type": "stream",
     "text": [
      "matmul: Input operand 1 has a mismatch in its core dimension 0, with gufunc signature (n?,k),(k,m?)->(n?,m?) (size 2 is different from 1)\n"
     ]
    },
    {
     "name": "stderr",
     "output_type": "stream",
     "text": [
      "100%|██████████| 4383/4383 [00:00<00:00, 9188.91it/s]\n"
     ]
    },
    {
     "name": "stdout",
     "output_type": "stream",
     "text": [
      "Input contains NaN, infinity or a value too large for dtype('float64').\n"
     ]
    },
    {
     "name": "stderr",
     "output_type": "stream",
     "text": [
      "100%|██████████| 4383/4383 [00:00<00:00, 8981.63it/s]\n"
     ]
    },
    {
     "name": "stdout",
     "output_type": "stream",
     "text": [
      "Input contains NaN, infinity or a value too large for dtype('float64').\n"
     ]
    },
    {
     "name": "stderr",
     "output_type": "stream",
     "text": [
      "100%|██████████| 4383/4383 [00:00<00:00, 8944.94it/s]\n"
     ]
    },
    {
     "name": "stdout",
     "output_type": "stream",
     "text": [
      "Input contains NaN, infinity or a value too large for dtype('float64').\n"
     ]
    },
    {
     "name": "stderr",
     "output_type": "stream",
     "text": [
      "100%|██████████| 4383/4383 [00:00<00:00, 8809.46it/s]\n"
     ]
    },
    {
     "name": "stdout",
     "output_type": "stream",
     "text": [
      "Input contains NaN, infinity or a value too large for dtype('float64').\n"
     ]
    },
    {
     "name": "stderr",
     "output_type": "stream",
     "text": [
      "  0%|          | 0/4383 [00:00<?, ?it/s]\n"
     ]
    },
    {
     "name": "stdout",
     "output_type": "stream",
     "text": [
      "matmul: Input operand 1 has a mismatch in its core dimension 0, with gufunc signature (n?,k),(k,m?)->(n?,m?) (size 2 is different from 1)\n"
     ]
    },
    {
     "name": "stderr",
     "output_type": "stream",
     "text": [
      "  0%|          | 0/4383 [00:00<?, ?it/s]\n"
     ]
    },
    {
     "name": "stdout",
     "output_type": "stream",
     "text": [
      "matmul: Input operand 1 has a mismatch in its core dimension 0, with gufunc signature (n?,k),(k,m?)->(n?,m?) (size 2 is different from 1)\n"
     ]
    },
    {
     "name": "stderr",
     "output_type": "stream",
     "text": [
      "100%|██████████| 4383/4383 [00:00<00:00, 8645.08it/s]\n"
     ]
    },
    {
     "name": "stdout",
     "output_type": "stream",
     "text": [
      "Input contains NaN, infinity or a value too large for dtype('float64').\n"
     ]
    },
    {
     "name": "stderr",
     "output_type": "stream",
     "text": [
      "100%|██████████| 4383/4383 [00:00<00:00, 8981.72it/s]\n"
     ]
    },
    {
     "name": "stdout",
     "output_type": "stream",
     "text": [
      "Input contains NaN, infinity or a value too large for dtype('float64').\n"
     ]
    },
    {
     "name": "stderr",
     "output_type": "stream",
     "text": [
      "  0%|          | 0/4383 [00:00<?, ?it/s]\n"
     ]
    },
    {
     "name": "stdout",
     "output_type": "stream",
     "text": [
      "matmul: Input operand 1 has a mismatch in its core dimension 0, with gufunc signature (n?,k),(k,m?)->(n?,m?) (size 2 is different from 1)\n"
     ]
    },
    {
     "name": "stderr",
     "output_type": "stream",
     "text": [
      "  0%|          | 0/4383 [00:00<?, ?it/s]\n"
     ]
    },
    {
     "name": "stdout",
     "output_type": "stream",
     "text": [
      "matmul: Input operand 1 has a mismatch in its core dimension 0, with gufunc signature (n?,k),(k,m?)->(n?,m?) (size 0 is different from 1)\n"
     ]
    },
    {
     "name": "stderr",
     "output_type": "stream",
     "text": [
      "  0%|          | 0/4383 [00:00<?, ?it/s]\n"
     ]
    },
    {
     "name": "stdout",
     "output_type": "stream",
     "text": [
      "matmul: Input operand 1 has a mismatch in its core dimension 0, with gufunc signature (n?,k),(k,m?)->(n?,m?) (size 0 is different from 1)\n"
     ]
    },
    {
     "name": "stderr",
     "output_type": "stream",
     "text": [
      "  0%|          | 0/4383 [00:00<?, ?it/s]\n"
     ]
    },
    {
     "name": "stdout",
     "output_type": "stream",
     "text": [
      "matmul: Input operand 1 has a mismatch in its core dimension 0, with gufunc signature (n?,k),(k,m?)->(n?,m?) (size 0 is different from 1)\n"
     ]
    },
    {
     "name": "stderr",
     "output_type": "stream",
     "text": [
      "  0%|          | 0/4383 [00:00<?, ?it/s]\n"
     ]
    },
    {
     "name": "stdout",
     "output_type": "stream",
     "text": [
      "matmul: Input operand 1 has a mismatch in its core dimension 0, with gufunc signature (n?,k),(k,m?)->(n?,m?) (size 0 is different from 1)\n"
     ]
    },
    {
     "name": "stderr",
     "output_type": "stream",
     "text": [
      "  0%|          | 0/4383 [00:00<?, ?it/s]\n"
     ]
    },
    {
     "name": "stdout",
     "output_type": "stream",
     "text": [
      "matmul: Input operand 1 has a mismatch in its core dimension 0, with gufunc signature (n?,k),(k,m?)->(n?,m?) (size 0 is different from 1)\n"
     ]
    },
    {
     "name": "stderr",
     "output_type": "stream",
     "text": [
      "  0%|          | 0/4383 [00:00<?, ?it/s]\n"
     ]
    },
    {
     "name": "stdout",
     "output_type": "stream",
     "text": [
      "matmul: Input operand 1 has a mismatch in its core dimension 0, with gufunc signature (n?,k),(k,m?)->(n?,m?) (size 0 is different from 1)\n"
     ]
    },
    {
     "name": "stderr",
     "output_type": "stream",
     "text": [
      "  0%|          | 0/4383 [00:00<?, ?it/s]\n"
     ]
    },
    {
     "name": "stdout",
     "output_type": "stream",
     "text": [
      "matmul: Input operand 1 has a mismatch in its core dimension 0, with gufunc signature (n?,k),(k,m?)->(n?,m?) (size 0 is different from 1)\n"
     ]
    },
    {
     "name": "stderr",
     "output_type": "stream",
     "text": [
      "  0%|          | 0/4383 [00:00<?, ?it/s]\n"
     ]
    },
    {
     "name": "stdout",
     "output_type": "stream",
     "text": [
      "matmul: Input operand 1 has a mismatch in its core dimension 0, with gufunc signature (n?,k),(k,m?)->(n?,m?) (size 0 is different from 1)\n"
     ]
    },
    {
     "name": "stderr",
     "output_type": "stream",
     "text": [
      "  0%|          | 0/4383 [00:00<?, ?it/s]\n"
     ]
    },
    {
     "name": "stdout",
     "output_type": "stream",
     "text": [
      "matmul: Input operand 1 has a mismatch in its core dimension 0, with gufunc signature (n?,k),(k,m?)->(n?,m?) (size 0 is different from 1)\n"
     ]
    },
    {
     "name": "stderr",
     "output_type": "stream",
     "text": [
      "  0%|          | 0/4383 [00:00<?, ?it/s]\n"
     ]
    },
    {
     "name": "stdout",
     "output_type": "stream",
     "text": [
      "matmul: Input operand 1 has a mismatch in its core dimension 0, with gufunc signature (n?,k),(k,m?)->(n?,m?) (size 0 is different from 1)\n"
     ]
    },
    {
     "name": "stderr",
     "output_type": "stream",
     "text": [
      "  0%|          | 0/4383 [00:00<?, ?it/s]\n"
     ]
    },
    {
     "name": "stdout",
     "output_type": "stream",
     "text": [
      "matmul: Input operand 1 has a mismatch in its core dimension 0, with gufunc signature (n?,k),(k,m?)->(n?,m?) (size 0 is different from 1)\n"
     ]
    },
    {
     "name": "stderr",
     "output_type": "stream",
     "text": [
      "  0%|          | 0/4383 [00:00<?, ?it/s]\n"
     ]
    },
    {
     "name": "stdout",
     "output_type": "stream",
     "text": [
      "matmul: Input operand 1 has a mismatch in its core dimension 0, with gufunc signature (n?,k),(k,m?)->(n?,m?) (size 0 is different from 1)\n"
     ]
    },
    {
     "name": "stderr",
     "output_type": "stream",
     "text": [
      "  0%|          | 0/4383 [00:00<?, ?it/s]\n"
     ]
    },
    {
     "name": "stdout",
     "output_type": "stream",
     "text": [
      "matmul: Input operand 1 has a mismatch in its core dimension 0, with gufunc signature (n?,k),(k,m?)->(n?,m?) (size 0 is different from 1)\n"
     ]
    },
    {
     "name": "stderr",
     "output_type": "stream",
     "text": [
      "  0%|          | 0/4383 [00:00<?, ?it/s]\n"
     ]
    },
    {
     "name": "stdout",
     "output_type": "stream",
     "text": [
      "matmul: Input operand 1 has a mismatch in its core dimension 0, with gufunc signature (n?,k),(k,m?)->(n?,m?) (size 0 is different from 1)\n"
     ]
    },
    {
     "name": "stderr",
     "output_type": "stream",
     "text": [
      "  0%|          | 0/4383 [00:00<?, ?it/s]\n"
     ]
    },
    {
     "name": "stdout",
     "output_type": "stream",
     "text": [
      "matmul: Input operand 1 has a mismatch in its core dimension 0, with gufunc signature (n?,k),(k,m?)->(n?,m?) (size 0 is different from 1)\n"
     ]
    },
    {
     "name": "stderr",
     "output_type": "stream",
     "text": [
      "  0%|          | 0/4383 [00:00<?, ?it/s]\n"
     ]
    },
    {
     "name": "stdout",
     "output_type": "stream",
     "text": [
      "matmul: Input operand 1 has a mismatch in its core dimension 0, with gufunc signature (n?,k),(k,m?)->(n?,m?) (size 0 is different from 1)\n"
     ]
    },
    {
     "name": "stderr",
     "output_type": "stream",
     "text": [
      "  0%|          | 0/4383 [00:00<?, ?it/s]\n"
     ]
    },
    {
     "name": "stdout",
     "output_type": "stream",
     "text": [
      "matmul: Input operand 1 has a mismatch in its core dimension 0, with gufunc signature (n?,k),(k,m?)->(n?,m?) (size 0 is different from 1)\n"
     ]
    },
    {
     "name": "stderr",
     "output_type": "stream",
     "text": [
      "  0%|          | 0/4383 [00:00<?, ?it/s]\n"
     ]
    },
    {
     "name": "stdout",
     "output_type": "stream",
     "text": [
      "matmul: Input operand 1 has a mismatch in its core dimension 0, with gufunc signature (n?,k),(k,m?)->(n?,m?) (size 0 is different from 1)\n"
     ]
    },
    {
     "name": "stderr",
     "output_type": "stream",
     "text": [
      "  0%|          | 0/4383 [00:00<?, ?it/s]\n"
     ]
    },
    {
     "name": "stdout",
     "output_type": "stream",
     "text": [
      "matmul: Input operand 1 has a mismatch in its core dimension 0, with gufunc signature (n?,k),(k,m?)->(n?,m?) (size 0 is different from 2)\n"
     ]
    },
    {
     "name": "stderr",
     "output_type": "stream",
     "text": [
      "  0%|          | 0/4383 [00:00<?, ?it/s]\n"
     ]
    },
    {
     "name": "stdout",
     "output_type": "stream",
     "text": [
      "matmul: Input operand 1 has a mismatch in its core dimension 0, with gufunc signature (n?,k),(k,m?)->(n?,m?) (size 0 is different from 2)\n"
     ]
    },
    {
     "name": "stderr",
     "output_type": "stream",
     "text": [
      "  0%|          | 0/4383 [00:00<?, ?it/s]\n"
     ]
    },
    {
     "name": "stdout",
     "output_type": "stream",
     "text": [
      "matmul: Input operand 1 has a mismatch in its core dimension 0, with gufunc signature (n?,k),(k,m?)->(n?,m?) (size 0 is different from 2)\n"
     ]
    },
    {
     "name": "stderr",
     "output_type": "stream",
     "text": [
      "  0%|          | 0/4383 [00:00<?, ?it/s]\n"
     ]
    },
    {
     "name": "stdout",
     "output_type": "stream",
     "text": [
      "matmul: Input operand 1 has a mismatch in its core dimension 0, with gufunc signature (n?,k),(k,m?)->(n?,m?) (size 0 is different from 2)\n"
     ]
    },
    {
     "name": "stderr",
     "output_type": "stream",
     "text": [
      "  0%|          | 0/4383 [00:00<?, ?it/s]\n"
     ]
    },
    {
     "name": "stdout",
     "output_type": "stream",
     "text": [
      "matmul: Input operand 1 has a mismatch in its core dimension 0, with gufunc signature (n?,k),(k,m?)->(n?,m?) (size 0 is different from 2)\n"
     ]
    },
    {
     "name": "stderr",
     "output_type": "stream",
     "text": [
      "  0%|          | 0/4383 [00:00<?, ?it/s]"
     ]
    },
    {
     "name": "stdout",
     "output_type": "stream",
     "text": [
      "matmul: Input operand 1 has a mismatch in its core dimension 0, with gufunc signature (n?,k),(k,m?)->(n?,m?) (size 0 is different from 2)\n"
     ]
    },
    {
     "name": "stderr",
     "output_type": "stream",
     "text": [
      "\n",
      "  0%|          | 0/4383 [00:00<?, ?it/s]\n"
     ]
    },
    {
     "name": "stdout",
     "output_type": "stream",
     "text": [
      "matmul: Input operand 1 has a mismatch in its core dimension 0, with gufunc signature (n?,k),(k,m?)->(n?,m?) (size 0 is different from 2)\n"
     ]
    },
    {
     "name": "stderr",
     "output_type": "stream",
     "text": [
      "  0%|          | 0/4383 [00:00<?, ?it/s]\n"
     ]
    },
    {
     "name": "stdout",
     "output_type": "stream",
     "text": [
      "matmul: Input operand 1 has a mismatch in its core dimension 0, with gufunc signature (n?,k),(k,m?)->(n?,m?) (size 0 is different from 2)\n"
     ]
    },
    {
     "name": "stderr",
     "output_type": "stream",
     "text": [
      "  0%|          | 0/4383 [00:00<?, ?it/s]\n"
     ]
    },
    {
     "name": "stdout",
     "output_type": "stream",
     "text": [
      "matmul: Input operand 1 has a mismatch in its core dimension 0, with gufunc signature (n?,k),(k,m?)->(n?,m?) (size 0 is different from 2)\n"
     ]
    },
    {
     "name": "stderr",
     "output_type": "stream",
     "text": [
      "100%|██████████| 4383/4383 [00:00<00:00, 7954.63it/s]\n"
     ]
    },
    {
     "name": "stdout",
     "output_type": "stream",
     "text": [
      "Input contains NaN, infinity or a value too large for dtype('float64').\n"
     ]
    },
    {
     "name": "stderr",
     "output_type": "stream",
     "text": [
      "100%|██████████| 4383/4383 [00:00<00:00, 8854.53it/s]\n"
     ]
    },
    {
     "name": "stdout",
     "output_type": "stream",
     "text": [
      "Input contains NaN, infinity or a value too large for dtype('float64').\n"
     ]
    },
    {
     "name": "stderr",
     "output_type": "stream",
     "text": [
      "100%|██████████| 4383/4383 [00:00<00:00, 8926.79it/s]\n"
     ]
    },
    {
     "name": "stdout",
     "output_type": "stream",
     "text": [
      "Input contains NaN, infinity or a value too large for dtype('float64').\n"
     ]
    },
    {
     "name": "stderr",
     "output_type": "stream",
     "text": [
      " 32%|███▏      | 1422/4383 [00:00<00:00, 9355.27it/s]\n"
     ]
    },
    {
     "ename": "KeyboardInterrupt",
     "evalue": "",
     "output_type": "error",
     "traceback": [
      "\u001b[1;31m---------------------------------------------------------------------------\u001b[0m",
      "\u001b[1;31mKeyboardInterrupt\u001b[0m                         Traceback (most recent call last)",
      "\u001b[1;32md:\\Backup_5_1_21\\Desktop\\Work\\3rd_year\\DataSci\\2110446-data-science-and-data-engineering-2021_project\\model_train.ipynb Cell 37'\u001b[0m in \u001b[0;36m<module>\u001b[1;34m\u001b[0m\n\u001b[1;32m----> <a href='vscode-notebook-cell:/d%3A/Backup_5_1_21/Desktop/Work/3rd_year/DataSci/2110446-data-science-and-data-engineering-2021_project/model_train.ipynb#ch0000035?line=0'>1</a>\u001b[0m sarimax_gridsearch(pm_train, exo_train, pm_test, exo_test, pdq, pdqs)\n",
      "\u001b[1;32md:\\Backup_5_1_21\\Desktop\\Work\\3rd_year\\DataSci\\2110446-data-science-and-data-engineering-2021_project\\model_train.ipynb Cell 35'\u001b[0m in \u001b[0;36msarimax_gridsearch\u001b[1;34m(pm_train, exo_train, pm_test, exo_test, pdq, PDQs)\u001b[0m\n\u001b[0;32m     <a href='vscode-notebook-cell:/d%3A/Backup_5_1_21/Desktop/Work/3rd_year/DataSci/2110446-data-science-and-data-engineering-2021_project/model_train.ipynb#ch0000033?line=19'>20</a>\u001b[0m \u001b[39mtry\u001b[39;00m:\n\u001b[0;32m     <a href='vscode-notebook-cell:/d%3A/Backup_5_1_21/Desktop/Work/3rd_year/DataSci/2110446-data-science-and-data-engineering-2021_project/model_train.ipynb#ch0000033?line=20'>21</a>\u001b[0m     model \u001b[39m=\u001b[39m MinimalSARIMAX(pm_train, comb, combs,exog\u001b[39m=\u001b[39mexo_train)\n\u001b[1;32m---> <a href='vscode-notebook-cell:/d%3A/Backup_5_1_21/Desktop/Work/3rd_year/DataSci/2110446-data-science-and-data-engineering-2021_project/model_train.ipynb#ch0000033?line=21'>22</a>\u001b[0m     model\u001b[39m.\u001b[39;49mfit(lr\u001b[39m=\u001b[39;49m\u001b[39m1e-5\u001b[39;49m, lr_decay\u001b[39m=\u001b[39;49m\u001b[39m0.999\u001b[39;49m ,verbose\u001b[39m=\u001b[39;49m\u001b[39m0\u001b[39;49m) \n\u001b[0;32m     <a href='vscode-notebook-cell:/d%3A/Backup_5_1_21/Desktop/Work/3rd_year/DataSci/2110446-data-science-and-data-engineering-2021_project/model_train.ipynb#ch0000033?line=22'>23</a>\u001b[0m     y_pred, err \u001b[39m=\u001b[39m model\u001b[39m.\u001b[39mpredict(pm_test, y_X\u001b[39m=\u001b[39mexo_test, verbose\u001b[39m=\u001b[39m\u001b[39m0\u001b[39m)\n\u001b[0;32m     <a href='vscode-notebook-cell:/d%3A/Backup_5_1_21/Desktop/Work/3rd_year/DataSci/2110446-data-science-and-data-engineering-2021_project/model_train.ipynb#ch0000033?line=23'>24</a>\u001b[0m     rmse \u001b[39m=\u001b[39m model\u001b[39m.\u001b[39mscoring(y_pred, pm_test)\n",
      "File \u001b[1;32md:\\Backup_5_1_21\\Desktop\\Work\\3rd_year\\DataSci\\2110446-data-science-and-data-engineering-2021_project\\custom_function\\minimalSARIMAX.py:166\u001b[0m, in \u001b[0;36mMinimalSARIMAX.fit\u001b[1;34m(self, verbose, lr, lr_decay)\u001b[0m\n\u001b[0;32m    <a href='file:///d%3A/Backup_5_1_21/Desktop/Work/3rd_year/DataSci/2110446-data-science-and-data-engineering-2021_project/custom_function/minimalSARIMAX.py?line=162'>163</a>\u001b[0m pred[\u001b[39m'\u001b[39m\u001b[39mpX\u001b[39m\u001b[39m'\u001b[39m], x[\u001b[39m'\u001b[39m\u001b[39mpX\u001b[39m\u001b[39m'\u001b[39m] \u001b[39m=\u001b[39m \u001b[39mself\u001b[39m\u001b[39m.\u001b[39mpX_prediction(\n\u001b[0;32m    <a href='file:///d%3A/Backup_5_1_21/Desktop/Work/3rd_year/DataSci/2110446-data-science-and-data-engineering-2021_project/custom_function/minimalSARIMAX.py?line=163'>164</a>\u001b[0m     X_train_exog, t) \u001b[39mif\u001b[39;00m \u001b[39mself\u001b[39m\u001b[39m.\u001b[39mX_train_exog \u001b[39mis\u001b[39;00m \u001b[39mnot\u001b[39;00m \u001b[39mNone\u001b[39;00m \u001b[39melse\u001b[39;00m ([\u001b[39m0\u001b[39m], [\u001b[39m0\u001b[39m])\n\u001b[0;32m    <a href='file:///d%3A/Backup_5_1_21/Desktop/Work/3rd_year/DataSci/2110446-data-science-and-data-engineering-2021_project/custom_function/minimalSARIMAX.py?line=164'>165</a>\u001b[0m pred[\u001b[39m'\u001b[39m\u001b[39md\u001b[39m\u001b[39m'\u001b[39m], x[\u001b[39m'\u001b[39m\u001b[39md\u001b[39m\u001b[39m'\u001b[39m] \u001b[39m=\u001b[39m \u001b[39mself\u001b[39m\u001b[39m.\u001b[39md_prediction(diff_X, t)\n\u001b[1;32m--> <a href='file:///d%3A/Backup_5_1_21/Desktop/Work/3rd_year/DataSci/2110446-data-science-and-data-engineering-2021_project/custom_function/minimalSARIMAX.py?line=165'>166</a>\u001b[0m pred[\u001b[39m'\u001b[39m\u001b[39mq\u001b[39m\u001b[39m'\u001b[39m], x[\u001b[39m'\u001b[39m\u001b[39mq\u001b[39m\u001b[39m'\u001b[39m] \u001b[39m=\u001b[39m \u001b[39mself\u001b[39;49m\u001b[39m.\u001b[39;49mq_prediction(X_train, Error, t)\n\u001b[0;32m    <a href='file:///d%3A/Backup_5_1_21/Desktop/Work/3rd_year/DataSci/2110446-data-science-and-data-engineering-2021_project/custom_function/minimalSARIMAX.py?line=167'>168</a>\u001b[0m pred[\u001b[39m'\u001b[39m\u001b[39mP\u001b[39m\u001b[39m'\u001b[39m], x[\u001b[39m'\u001b[39m\u001b[39mP\u001b[39m\u001b[39m'\u001b[39m] \u001b[39m=\u001b[39m \u001b[39mself\u001b[39m\u001b[39m.\u001b[39mP_prediction(X_train, t)\n\u001b[0;32m    <a href='file:///d%3A/Backup_5_1_21/Desktop/Work/3rd_year/DataSci/2110446-data-science-and-data-engineering-2021_project/custom_function/minimalSARIMAX.py?line=168'>169</a>\u001b[0m pred[\u001b[39m'\u001b[39m\u001b[39mD\u001b[39m\u001b[39m'\u001b[39m], x[\u001b[39m'\u001b[39m\u001b[39mD\u001b[39m\u001b[39m'\u001b[39m] \u001b[39m=\u001b[39m \u001b[39mself\u001b[39m\u001b[39m.\u001b[39mD_prediction(X_train, t)\n",
      "File \u001b[1;32md:\\Backup_5_1_21\\Desktop\\Work\\3rd_year\\DataSci\\2110446-data-science-and-data-engineering-2021_project\\custom_function\\minimalSARIMAX.py:64\u001b[0m, in \u001b[0;36mMinimalSARIMAX.q_prediction\u001b[1;34m(self, X_train, Error, t)\u001b[0m\n\u001b[0;32m     <a href='file:///d%3A/Backup_5_1_21/Desktop/Work/3rd_year/DataSci/2110446-data-science-and-data-engineering-2021_project/custom_function/minimalSARIMAX.py?line=61'>62</a>\u001b[0m start \u001b[39m=\u001b[39m \u001b[39mmax\u001b[39m(t\u001b[39m-\u001b[39m\u001b[39mself\u001b[39m\u001b[39m.\u001b[39mq, \u001b[39m0\u001b[39m)\n\u001b[0;32m     <a href='file:///d%3A/Backup_5_1_21/Desktop/Work/3rd_year/DataSci/2110446-data-science-and-data-engineering-2021_project/custom_function/minimalSARIMAX.py?line=62'>63</a>\u001b[0m error_t \u001b[39m=\u001b[39m np\u001b[39m.\u001b[39marray(Error[start:t])[::\u001b[39m-\u001b[39m\u001b[39m1\u001b[39m]\n\u001b[1;32m---> <a href='file:///d%3A/Backup_5_1_21/Desktop/Work/3rd_year/DataSci/2110446-data-science-and-data-engineering-2021_project/custom_function/minimalSARIMAX.py?line=63'>64</a>\u001b[0m params_q \u001b[39m=\u001b[39m np\u001b[39m.\u001b[39;49marray(\u001b[39mself\u001b[39;49m\u001b[39m.\u001b[39;49mparams[\u001b[39m'\u001b[39;49m\u001b[39mq\u001b[39;49m\u001b[39m'\u001b[39;49m][:t\u001b[39m-\u001b[39;49mstart])[::\u001b[39m-\u001b[39m\u001b[39m1\u001b[39m]\n\u001b[0;32m     <a href='file:///d%3A/Backup_5_1_21/Desktop/Work/3rd_year/DataSci/2110446-data-science-and-data-engineering-2021_project/custom_function/minimalSARIMAX.py?line=65'>66</a>\u001b[0m q_pred \u001b[39m=\u001b[39m error_t \u001b[39m@\u001b[39m params_q\n\u001b[0;32m     <a href='file:///d%3A/Backup_5_1_21/Desktop/Work/3rd_year/DataSci/2110446-data-science-and-data-engineering-2021_project/custom_function/minimalSARIMAX.py?line=67'>68</a>\u001b[0m \u001b[39mreturn\u001b[39;00m q_pred, error_t[::\u001b[39m-\u001b[39m\u001b[39m1\u001b[39m]\n",
      "\u001b[1;31mKeyboardInterrupt\u001b[0m: "
     ]
    }
   ],
   "source": [
    "sarimax_gridsearch(pm_train, exo_train, pm_test, exo_test, pdq, pdqs)"
   ]
  },
  {
   "cell_type": "code",
   "execution_count": null,
   "metadata": {},
   "outputs": [],
   "source": []
  }
 ],
 "metadata": {
  "colab": {
   "collapsed_sections": [],
   "name": "project_nb.ipynb",
   "provenance": [],
   "toc_visible": true
  },
  "kernelspec": {
   "display_name": "Python 3 (ipykernel)",
   "language": "python",
   "name": "python3"
  },
  "language_info": {
   "codemirror_mode": {
    "name": "ipython",
    "version": 3
   },
   "file_extension": ".py",
   "mimetype": "text/x-python",
   "name": "python",
   "nbconvert_exporter": "python",
   "pygments_lexer": "ipython3",
   "version": "3.10.1"
  }
 },
 "nbformat": 4,
 "nbformat_minor": 1
}
