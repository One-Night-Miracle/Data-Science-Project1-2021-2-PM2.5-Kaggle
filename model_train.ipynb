{
 "cells": [
  {
   "cell_type": "code",
   "execution_count": 1,
   "metadata": {
    "id": "xXgecYKfoECO"
   },
   "outputs": [],
   "source": [
    "#Import the libraries\n",
    "import numpy as np\n",
    "import pandas as pd\n",
    "\n",
    "import pickle\n",
    "\n",
    "import warnings\n",
    "warnings.filterwarnings(\"ignore\")"
   ]
  },
  {
   "cell_type": "code",
   "execution_count": 2,
   "metadata": {},
   "outputs": [],
   "source": [
    "train_data = pickle.load(open('clean_dataset_2022/train_set.bin', 'rb'))\n",
    "\n",
    "test_data = pickle.load(open('clean_dataset_2022/test_set.bin', 'rb'))"
   ]
  },
  {
   "cell_type": "markdown",
   "metadata": {
    "id": "BVf1rACoZREf"
   },
   "source": [
    "## SARIMAX"
   ]
  },
  {
   "cell_type": "code",
   "execution_count": 3,
   "metadata": {
    "id": "5YThJtVMZlap"
   },
   "outputs": [],
   "source": [
    "from sklearn.metrics import mean_squared_error\n",
    "from statsmodels.tsa.statespace.sarimax import SARIMAX\n",
    "\n",
    "from matplotlib.pyplot import figure\n",
    "import matplotlib.pyplot as plt"
   ]
  },
  {
   "cell_type": "markdown",
   "metadata": {},
   "source": [
    "### Resample"
   ]
  },
  {
   "cell_type": "code",
   "execution_count": 4,
   "metadata": {},
   "outputs": [],
   "source": [
    "province = ['BKK','CNX','KKC','RAY','SARA','SURAT']"
   ]
  },
  {
   "cell_type": "code",
   "execution_count": 5,
   "metadata": {},
   "outputs": [],
   "source": [
    "for p in province:\n",
    "    train_data[p] = train_data[p].resample('6H').mean()\n",
    "\n",
    "    tmp_df = test_data[p].copy()\n",
    "    tmp_df['PM25'] = test_data[p]['PM25'].asfreq(freq='6H')\n",
    "    test_data[p] = test_data[p].resample('6H').mean()\n",
    "    test_data[p]['PM25'] = tmp_df['PM25']"
   ]
  },
  {
   "cell_type": "markdown",
   "metadata": {},
   "source": [
    "### Split 70% 30%"
   ]
  },
  {
   "cell_type": "code",
   "execution_count": 6,
   "metadata": {},
   "outputs": [],
   "source": [
    "train_set = {} ; valid_set = {} ; test_set = test_data\n",
    "\n",
    "ratio = 0.7\n",
    "\n",
    "for p in province:\n",
    "    train_size, valid_size = int(ratio*train_data[p].shape[0]), int((1-ratio)*train_data[p].shape[0])\n",
    "    train_set[p], valid_set[p] = train_data[p].iloc[:train_size], train_data[p].iloc[train_size: ]"
   ]
  },
  {
   "cell_type": "markdown",
   "metadata": {},
   "source": [
    "### Training 6 provinces with *minimal_SARIMAX*"
   ]
  },
  {
   "cell_type": "code",
   "execution_count": 7,
   "metadata": {},
   "outputs": [],
   "source": [
    "from importlib import reload"
   ]
  },
  {
   "cell_type": "code",
   "execution_count": 8,
   "metadata": {},
   "outputs": [],
   "source": [
    "from custom_function import minimalSARIMAX\n",
    "\n",
    "reload(minimalSARIMAX)\n",
    "\n",
    "from custom_function.minimalSARIMAX import MinimalSARIMAX"
   ]
  },
  {
   "cell_type": "markdown",
   "metadata": {},
   "source": [
    "##### Tuning Parameters"
   ]
  },
  {
   "cell_type": "code",
   "execution_count": 9,
   "metadata": {},
   "outputs": [],
   "source": [
    "order = [(2, 0, 0), (2, 1, 0), (2, 1, 0), (2, 1, 0), (1, 0, 1), (2, 0, 0)]\n",
    "seasonal_order = [(1, 0, 0, 1461), (0, 1, 1, 1461), (0, 1, 1, 1461), (0, 0, 0, 1461), (0, 0, 0, 1461), (0, 1, 0, 1461)]\n",
    "\n",
    "exog_order = {}\n",
    "exog_order['Temp'] = [(1, 1, 0), (1, 1, 0), (1, 1, 0), (1, 0, 0), (1, 1, 0), (1, 1, 0)]\n",
    "exog_order['WindSpeed'] = [(1, 1, 0), (1, 1, 0), (1, 1, 0), (1, 1, 0), (1, 0, 0), (1, 1, 0)]\n",
    "exog_order['WindDir'] = [(1, 1, 0), (1, 0, 0), (2, 0, 0), (1, 1, 0), (1, 0, 0), (1, 0, 1)]\n",
    "\n",
    "exog_seasonal_order = {}\n",
    "exog_seasonal_order['Temp'] = [(0, 1, 1, 1461), (0, 1, 1, 1461), (0, 1, 1, 1461), (0, 0, 1, 1461), (0, 1, 0, 1461), (0, 1, 1, 1461)]\n",
    "exog_seasonal_order['WindSpeed'] = [(0, 1, 1, 1461), (0, 1, 1, 1461), (0, 1, 1, 1461), (0, 1, 1, 1461), (0, 0, 0, 1461), (0, 1, 1, 1461)]\n",
    "exog_seasonal_order['WindDir'] = [(1, 1, 0, 1461), (0, 1, 0, 1461), (1, 0, 0, 1461), (1, 1, 0, 1461), (0, 1, 1, 1461), (0, 1, 1, 1461)]\n",
    "\n",
    "exog_columns = ['Temp', 'WindSpeed', 'WindDir']"
   ]
  },
  {
   "cell_type": "code",
   "execution_count": 10,
   "metadata": {},
   "outputs": [],
   "source": [
    "model = {}\n",
    "model_exog = {}\n",
    "\n",
    "for i, p in enumerate(province):\n",
    "    model[p] = MinimalSARIMAX(train_data[p][['PM25']],\n",
    "                order[i],\n",
    "                seasonal_order[i],\n",
    "                exog=train_data[p][exog_columns])\n",
    "    \n",
    "    model_exog[p] = {}    \n",
    "    for exog in exog_columns:\n",
    "        model_exog[p][exog] = MinimalSARIMAX(train_data[p][[exog]],\n",
    "                                            exog_order[exog][i],\n",
    "                                            exog_seasonal_order[exog][i])"
   ]
  },
  {
   "cell_type": "code",
   "execution_count": 11,
   "metadata": {},
   "outputs": [],
   "source": [
    "for p in province:\n",
    "    model[p].fit(lr=1e-5, lr_decay=0.999 ,verbose=0)"
   ]
  },
  {
   "cell_type": "code",
   "execution_count": 12,
   "metadata": {},
   "outputs": [],
   "source": [
    "for p in province:\n",
    "    for exog in exog_columns:\n",
    "        if exog == 'WindDir':\n",
    "            model_exog[p][exog].fit(lr=5e-7, lr_decay=0.999, verbose=0)\n",
    "        else:\n",
    "            model_exog[p][exog].fit(lr=1e-5, lr_decay=0.999, verbose=0)"
   ]
  },
  {
   "cell_type": "code",
   "execution_count": 13,
   "metadata": {},
   "outputs": [],
   "source": [
    "Result = {}\n",
    "train_pred_sav = {}\n",
    "test_pred_sav = {}\n",
    "Error_save = {}"
   ]
  },
  {
   "cell_type": "markdown",
   "metadata": {},
   "source": [
    "#### Bangkok"
   ]
  },
  {
   "cell_type": "code",
   "execution_count": 14,
   "metadata": {},
   "outputs": [
    {
     "name": "stderr",
     "output_type": "stream",
     "text": [
      "100%|██████████| 5847/5847 [15:41<00:00,  6.21it/s]\n"
     ]
    }
   ],
   "source": [
    "Result['BKK'] = model['BKK'].predict_step(train_data['BKK'][['PM25']],\n",
    "                                    test_data['BKK'][['PM25']], \n",
    "                                    val_X_exog=train_data['BKK'][exog_columns],\n",
    "                                    y_exog=test_data['BKK'][exog_columns], \n",
    "                                    model_exog=model_exog['BKK'],\n",
    "                                    lr=np.array([1e-7, 1e-7, 1e-7, 5e-9]), lr_decay=0.9998975,\n",
    "                                    step=12, learn=True)\n",
    "\n",
    "train_pred_sav['BKK'], test_pred_sav['BKK'], Error_save['BKK'] = Result['BKK']"
   ]
  },
  {
   "cell_type": "code",
   "execution_count": null,
   "metadata": {},
   "outputs": [],
   "source": [
    "with open('model_save/model_bkk.model',\"wb\") as f:\n",
    "    pickle.dump(model['BKK'], f)"
   ]
  },
  {
   "cell_type": "code",
   "execution_count": 15,
   "metadata": {},
   "outputs": [],
   "source": [
    "predict = test_pred_sav['BKK'].sort_values(by=['Time'])\n",
    "\n",
    "X = pd.concat([train_pred_sav['BKK'], test_pred_sav['BKK']]).sort_values(by=['Time'])\n",
    "X_time = X.drop_duplicates(subset=['Time'])\n",
    "Acu = X.sort_values(by=['Time'])"
   ]
  },
  {
   "cell_type": "code",
   "execution_count": 16,
   "metadata": {},
   "outputs": [
    {
     "data": {
      "text/plain": [
       "<matplotlib.legend.Legend at 0x1d38bbf2bb0>"
      ]
     },
     "execution_count": 16,
     "metadata": {},
     "output_type": "execute_result"
    },
    {
     "data": {
      "image/png": "[encoded data removed]",
      "text/plain": [
       "<Figure size 1440x480 with 1 Axes>"
      ]
     },
     "metadata": {},
     "output_type": "display_data"
    }
   ],
   "source": [
    "plt.figure(num=None, figsize=(18, 6), dpi=80, facecolor='w', edgecolor='k')\n",
    "plt.plot(X_time['Time'], X_time['Actual'], color='g', label='ground truth')\n",
    "plt.plot(predict['Time'], predict['Predict'], alpha=.7, color='r', label='predict')\n",
    "plt.legend(loc=\"upper right\")"
   ]
  },
  {
   "cell_type": "code",
   "execution_count": null,
   "metadata": {},
   "outputs": [],
   "source": [
    "test_pred_sav['BKK'].drop(columns=['t','s']).to_csv('answer_dataset/pred_and_actual/y_pred_sav_BKK.csv')"
   ]
  },
  {
   "cell_type": "markdown",
   "metadata": {},
   "source": [
    "#### Chiangmai"
   ]
  },
  {
   "cell_type": "code",
   "execution_count": null,
   "metadata": {},
   "outputs": [],
   "source": [
    "Result['CNX'] = model['CNX'].predict_step(train_data['CNX'][['PM25']],\n",
    "                                    test_data['CNX'][['PM25']], \n",
    "                                    val_X_exog=train_data['CNX'][exog_columns],\n",
    "                                    y_exog=test_data['CNX'][exog_columns], \n",
    "                                    model_exog=model_exog['CNX'],\n",
    "                                    lr=np.array([1e-7, 1e-7, 1e-7, 5e-9]), lr_decay=0.9998975,\n",
    "                                    step=12, learn=True)\n",
    "\n",
    "train_pred_sav['CNX'], test_pred_sav['CNX'], Error_save['CNX'] = Result['CNX']"
   ]
  },
  {
   "cell_type": "code",
   "execution_count": null,
   "metadata": {},
   "outputs": [],
   "source": [
    "with open('model_save/model_cnx.model',\"wb\") as f:\n",
    "    pickle.dump(model['CNX'], f)"
   ]
  },
  {
   "cell_type": "code",
   "execution_count": null,
   "metadata": {},
   "outputs": [],
   "source": [
    "predict = test_pred_sav['CNX'].sort_values(by=['Time'])\n",
    "\n",
    "X = pd.concat([train_pred_sav['CNX'],test_pred_sav['CNX']]).sort_values(by=['Time'])\n",
    "X_time = X.drop_duplicates(subset=['Time'])\n",
    "Acu = X.sort_values(by=['Time'])"
   ]
  },
  {
   "cell_type": "code",
   "execution_count": null,
   "metadata": {},
   "outputs": [],
   "source": [
    "plt.figure(num=None, figsize=(18, 6), dpi=80, facecolor='w', edgecolor='k')\n",
    "plt.plot(X_time['Time'], X_time['Actual'], color='g', label='ground truth')\n",
    "plt.plot(predict['Time'], predict['Predict'], alpha=.7, color='r', label='predict')\n",
    "plt.legend(loc=\"upper right\")"
   ]
  },
  {
   "cell_type": "code",
   "execution_count": null,
   "metadata": {},
   "outputs": [],
   "source": [
    "test_pred_sav['CNX'].drop(columns=['t','s']).to_csv('answer_dataset/pred_and_actual/y_pred_sav_CNX.csv')"
   ]
  },
  {
   "cell_type": "markdown",
   "metadata": {},
   "source": [
    "#### Khonkaen"
   ]
  },
  {
   "cell_type": "code",
   "execution_count": null,
   "metadata": {},
   "outputs": [],
   "source": [
    "Result['KKC'] = model['KKC'].predict_step(train_data['KKC'][['PM25']],\n",
    "                                    test_data['KKC'][['PM25']], \n",
    "                                    val_X_exog=train_data['KKC'][exog_columns],\n",
    "                                    y_exog=test_data['KKC'][exog_columns], \n",
    "                                    model_exog=model_exog['KKC'],\n",
    "                                    lr=np.array([1e-7, 1e-7, 1e-7, 5e-9]), lr_decay=0.9998975,\n",
    "                                    step=12, learn=True)\n",
    "\n",
    "train_pred_sav['KKC'], test_pred_sav['KKC'], Error_save['KKC'] = Result['KKC']"
   ]
  },
  {
   "cell_type": "code",
   "execution_count": null,
   "metadata": {},
   "outputs": [],
   "source": [
    "with open('model_save/model_kkc.model',\"wb\") as f:\n",
    "    pickle.dump(model['KKC'], f)"
   ]
  },
  {
   "cell_type": "code",
   "execution_count": null,
   "metadata": {},
   "outputs": [],
   "source": [
    "predict = test_pred_sav['KKC'].sort_values(by=['Time'])\n",
    "\n",
    "X = pd.concat([train_pred_sav['KKC'],test_pred_sav['KKC']]).sort_values(by=['Time'])\n",
    "X_time = X.drop_duplicates(subset=['Time'])\n",
    "Acu = X.sort_values(by=['Time'])"
   ]
  },
  {
   "cell_type": "code",
   "execution_count": null,
   "metadata": {},
   "outputs": [],
   "source": [
    "plt.figure(num=None, figsize=(18, 6), dpi=80, facecolor='w', edgecolor='k')\n",
    "plt.plot(X_time['Time'], X_time['Actual'], color='g', label='ground truth')\n",
    "plt.plot(predict['Time'], predict['Predict'], alpha=.7, color='r', label='predict')\n",
    "plt.legend(loc=\"upper right\")"
   ]
  },
  {
   "cell_type": "code",
   "execution_count": null,
   "metadata": {},
   "outputs": [],
   "source": [
    "test_pred_sav['KKC'].drop(columns=['t','s']).to_csv('answer_dataset/pred_and_actual/y_pred_sav_KKC.csv')"
   ]
  },
  {
   "cell_type": "markdown",
   "metadata": {},
   "source": [
    "#### Rayong"
   ]
  },
  {
   "cell_type": "code",
   "execution_count": null,
   "metadata": {},
   "outputs": [],
   "source": [
    "Result['RAY'] = model['RAY'].predict_step(train_data['RAY'][['PM25']],\n",
    "                                    test_data['RAY'][['PM25']], \n",
    "                                    val_X_exog=train_data['RAY'][exog_columns],\n",
    "                                    y_exog=test_data['RAY'][exog_columns], \n",
    "                                    model_exog=model_exog['RAY'],\n",
    "                                    lr=np.array([1e-7, 1e-7, 1e-7, 5e-9]), lr_decay=0.9998975,\n",
    "                                    step=12, learn=True)\n",
    "\n",
    "train_pred_sav['RAY'], test_pred_sav['RAY'], Error_save['RAY'] = Result['RAY']"
   ]
  },
  {
   "cell_type": "code",
   "execution_count": null,
   "metadata": {},
   "outputs": [],
   "source": [
    "with open('model_save/model_ray.model',\"wb\") as f:\n",
    "    pickle.dump(model['RAY'], f)"
   ]
  },
  {
   "cell_type": "code",
   "execution_count": null,
   "metadata": {},
   "outputs": [],
   "source": [
    "predict = test_pred_sav['RAY'].sort_values(by=['Time'])\n",
    "\n",
    "X = pd.concat([train_pred_sav['RAY'],test_pred_sav['RAY']]).sort_values(by=['Time'])\n",
    "X_time = X.drop_duplicates(subset=['Time'])\n",
    "Acu = X.sort_values(by=['Time'])"
   ]
  },
  {
   "cell_type": "code",
   "execution_count": null,
   "metadata": {},
   "outputs": [],
   "source": [
    "plt.figure(num=None, figsize=(18, 6), dpi=80, facecolor='w', edgecolor='k')\n",
    "plt.plot(X_time['Time'], X_time['Actual'], color='g', label='ground truth')\n",
    "plt.plot(predict['Time'], predict['Predict'], alpha=.7, color='r', label='predict')\n",
    "plt.legend(loc=\"upper right\")"
   ]
  },
  {
   "cell_type": "code",
   "execution_count": null,
   "metadata": {},
   "outputs": [],
   "source": [
    "test_pred_sav['RAY'].drop(columns=['t','s']).to_csv('answer_dataset/pred_and_actual/y_pred_sav_RAY.csv')"
   ]
  },
  {
   "cell_type": "markdown",
   "metadata": {},
   "source": [
    "#### Saraburi"
   ]
  },
  {
   "cell_type": "code",
   "execution_count": null,
   "metadata": {},
   "outputs": [],
   "source": [
    "Result['SARA'] = model['SARA'].predict_step(train_data['SARA'][['PM25']],\n",
    "                                    test_data['SARA'][['PM25']], \n",
    "                                    val_X_exog=train_data['SARA'][exog_columns],\n",
    "                                    y_exog=test_data['SARA'][exog_columns], \n",
    "                                    model_exog=model_exog['SARA'],\n",
    "                                    lr=np.array([1e-7, 1e-7, 1e-7, 5e-9]), lr_decay=0.9998975,\n",
    "                                    step=12, learn=True)\n",
    "\n",
    "train_pred_sav['SARA'], test_pred_sav['SARA'], Error_save['SARA'] = Result['SARA']"
   ]
  },
  {
   "cell_type": "code",
   "execution_count": null,
   "metadata": {},
   "outputs": [],
   "source": [
    "with open('model_save/model_sara.model',\"wb\") as f:\n",
    "    pickle.dump(model['SARA'], f)"
   ]
  },
  {
   "cell_type": "code",
   "execution_count": 149,
   "metadata": {},
   "outputs": [],
   "source": [
    "predict = test_pred_sav['SARA'].sort_values(by=['Time'])\n",
    "\n",
    "X = pd.concat([train_pred_sav['SARA'],test_pred_sav['SARA']]).sort_values(by=['Time'])\n",
    "X_time = X.drop_duplicates(subset=['Time'])\n",
    "Acu = X.sort_values(by=['Time'])"
   ]
  },
  {
   "cell_type": "code",
   "execution_count": 150,
   "metadata": {},
   "outputs": [],
   "source": [
    "plt.figure(num=None, figsize=(18, 6), dpi=80, facecolor='w', edgecolor='k')\n",
    "plt.plot(X_time['Time'], X_time['Actual'], color='g', label='ground truth')\n",
    "plt.plot(predict['Time'], predict['Predict'], alpha=.7, color='r', label='predict')\n",
    "plt.legend(loc=\"upper right\")"
   ]
  },
  {
   "cell_type": "code",
   "execution_count": null,
   "metadata": {},
   "outputs": [],
   "source": [
    "test_pred_sav['SARA'].drop(columns=['t','s']).to_csv('answer_dataset/pred_and_actual/y_pred_sav_SARA.csv')"
   ]
  },
  {
   "cell_type": "markdown",
   "metadata": {},
   "source": [
    "#### Surat"
   ]
  },
  {
   "cell_type": "code",
   "execution_count": null,
   "metadata": {},
   "outputs": [],
   "source": [
    "Result['SURAT'] = model['SURAT'].predict_step(train_data['SURAT'][['PM25']],\n",
    "                                    test_data['SURAT'][['PM25']], \n",
    "                                    val_X_exog=train_data['SURAT'][exog_columns],\n",
    "                                    y_exog=test_data['SURAT'][exog_columns], \n",
    "                                    model_exog=model_exog['SURAT'],\n",
    "                                    lr=np.array([1e-7, 1e-7, 1e-7, 5e-9]), lr_decay=0.9998975,\n",
    "                                    step=12, learn=True)\n",
    "\n",
    "train_pred_sav['SURAT'], test_pred_sav['SURAT'], Error_save['SURAT'] = Result['SURAT']"
   ]
  },
  {
   "cell_type": "code",
   "execution_count": null,
   "metadata": {},
   "outputs": [],
   "source": [
    "with open('model_save/model_sara.model',\"wb\") as f:\n",
    "    pickle.dump(model['SURAT'], f)"
   ]
  },
  {
   "cell_type": "code",
   "execution_count": null,
   "metadata": {},
   "outputs": [],
   "source": [
    "predict = test_pred_sav['SURAT'].sort_values(by=['Time'])\n",
    "\n",
    "X = pd.concat([train_pred_sav['SURAT'],test_pred_sav['SURAT']]).sort_values(by=['Time'])\n",
    "X_time = X.drop_duplicates(subset=['Time'])\n",
    "Acu = X.sort_values(by=['Time'])"
   ]
  },
  {
   "cell_type": "code",
   "execution_count": null,
   "metadata": {},
   "outputs": [],
   "source": [
    "plt.figure(num=None, figsize=(18, 6), dpi=80, facecolor='w', edgecolor='k')\n",
    "plt.plot(X_time['Time'], X_time['Actual'], color='g', label='ground truth')\n",
    "plt.plot(predict['Time'], predict['Predict'], alpha=.7, color='r', label='predict')\n",
    "plt.legend(loc=\"upper right\")"
   ]
  },
  {
   "cell_type": "code",
   "execution_count": null,
   "metadata": {},
   "outputs": [],
   "source": [
    "test_pred_sav['SURAT'].drop(columns=['t','s']).to_csv('answer_dataset/pred_and_actual/y_pred_sav_SURAT.csv')"
   ]
  }
 ],
 "metadata": {
  "colab": {
   "collapsed_sections": [],
   "name": "project_nb.ipynb",
   "provenance": [],
   "toc_visible": true
  },
  "kernelspec": {
   "display_name": "Python 3 (ipykernel)",
   "language": "python",
   "name": "python3"
  },
  "language_info": {
   "codemirror_mode": {
    "name": "ipython",
    "version": 3
   },
   "file_extension": ".py",
   "mimetype": "text/x-python",
   "name": "python",
   "nbconvert_exporter": "python",
   "pygments_lexer": "ipython3",
   "version": "3.9.7"
  }
 },
 "nbformat": 4,
 "nbformat_minor": 1
}
