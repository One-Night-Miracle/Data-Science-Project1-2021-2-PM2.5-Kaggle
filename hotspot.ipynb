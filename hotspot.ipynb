{
 "cells": [
  {
   "cell_type": "code",
   "execution_count": 1,
   "metadata": {},
   "outputs": [],
   "source": [
    "import pandas as pd\n",
    "rootPath = './datasci_dataset_2022/Hotspot'\n",
    "cutoff_date = '2020-07-01'\n",
    "last_date = '2021-07-02'"
   ]
  },
  {
   "cell_type": "code",
   "execution_count": 2,
   "metadata": {},
   "outputs": [],
   "source": [
    "hotspot_cambodia = pd.read_csv(f'{rootPath}/fire_archive_SV-C2_Cambodia.csv')\n",
    "hotspot_lao = pd.read_csv(f'{rootPath}/fire_archive_SV-C2_LaoPDR.csv')\n",
    "hotspot_myanmar = pd.read_csv(f'{rootPath}/fire_archive_SV-C2_Myanmar.csv')\n",
    "hotspot_thailand = pd.read_csv(f'{rootPath}/fire_archive_SV-C2_Thailand.csv')"
   ]
  },
  {
   "cell_type": "code",
   "execution_count": 3,
   "metadata": {},
   "outputs": [
    {
     "name": "stdout",
     "output_type": "stream",
     "text": [
      "<class 'pandas.core.frame.DataFrame'>\n",
      "RangeIndex: 703186 entries, 0 to 703185\n",
      "Data columns (total 15 columns):\n",
      " #   Column      Non-Null Count   Dtype  \n",
      "---  ------      --------------   -----  \n",
      " 0   latitude    703186 non-null  float64\n",
      " 1   longitude   703186 non-null  float64\n",
      " 2   brightness  703186 non-null  float64\n",
      " 3   scan        703186 non-null  float64\n",
      " 4   track       703186 non-null  float64\n",
      " 5   acq_date    703186 non-null  object \n",
      " 6   acq_time    703186 non-null  int64  \n",
      " 7   satellite   703186 non-null  object \n",
      " 8   instrument  703186 non-null  object \n",
      " 9   confidence  703186 non-null  object \n",
      " 10  version     703186 non-null  int64  \n",
      " 11  bright_t31  703186 non-null  float64\n",
      " 12  frp         703186 non-null  float64\n",
      " 13  daynight    703186 non-null  object \n",
      " 14  type        703186 non-null  int64  \n",
      "dtypes: float64(7), int64(3), object(5)\n",
      "memory usage: 80.5+ MB\n",
      "None\n"
     ]
    }
   ],
   "source": [
    "print(hotspot_cambodia.info())"
   ]
  },
  {
   "cell_type": "code",
   "execution_count": 4,
   "metadata": {},
   "outputs": [
    {
     "name": "stdout",
     "output_type": "stream",
     "text": [
      "<class 'pandas.core.frame.DataFrame'>\n",
      "RangeIndex: 577798 entries, 0 to 577797\n",
      "Data columns (total 15 columns):\n",
      " #   Column      Non-Null Count   Dtype  \n",
      "---  ------      --------------   -----  \n",
      " 0   latitude    577798 non-null  float64\n",
      " 1   longitude   577798 non-null  float64\n",
      " 2   brightness  577798 non-null  float64\n",
      " 3   scan        577798 non-null  float64\n",
      " 4   track       577798 non-null  float64\n",
      " 5   acq_date    577798 non-null  object \n",
      " 6   acq_time    577798 non-null  int64  \n",
      " 7   satellite   577798 non-null  object \n",
      " 8   instrument  577798 non-null  object \n",
      " 9   confidence  577798 non-null  object \n",
      " 10  version     577798 non-null  int64  \n",
      " 11  bright_t31  577798 non-null  float64\n",
      " 12  frp         577798 non-null  float64\n",
      " 13  daynight    577798 non-null  object \n",
      " 14  type        577798 non-null  int64  \n",
      "dtypes: float64(7), int64(3), object(5)\n",
      "memory usage: 66.1+ MB\n",
      "None\n"
     ]
    }
   ],
   "source": [
    "print(hotspot_lao.info())"
   ]
  },
  {
   "cell_type": "code",
   "execution_count": 5,
   "metadata": {},
   "outputs": [
    {
     "name": "stdout",
     "output_type": "stream",
     "text": [
      "<class 'pandas.core.frame.DataFrame'>\n",
      "RangeIndex: 1395469 entries, 0 to 1395468\n",
      "Data columns (total 15 columns):\n",
      " #   Column      Non-Null Count    Dtype  \n",
      "---  ------      --------------    -----  \n",
      " 0   latitude    1395469 non-null  float64\n",
      " 1   longitude   1395469 non-null  float64\n",
      " 2   brightness  1395469 non-null  float64\n",
      " 3   scan        1395469 non-null  float64\n",
      " 4   track       1395469 non-null  float64\n",
      " 5   acq_date    1395469 non-null  object \n",
      " 6   acq_time    1395469 non-null  int64  \n",
      " 7   satellite   1395469 non-null  object \n",
      " 8   instrument  1395469 non-null  object \n",
      " 9   confidence  1395469 non-null  object \n",
      " 10  version     1395469 non-null  int64  \n",
      " 11  bright_t31  1395469 non-null  float64\n",
      " 12  frp         1395469 non-null  float64\n",
      " 13  daynight    1395469 non-null  object \n",
      " 14  type        1395469 non-null  int64  \n",
      "dtypes: float64(7), int64(3), object(5)\n",
      "memory usage: 159.7+ MB\n",
      "None\n"
     ]
    }
   ],
   "source": [
    "print(hotspot_myanmar.info())"
   ]
  },
  {
   "cell_type": "code",
   "execution_count": 6,
   "metadata": {},
   "outputs": [
    {
     "name": "stdout",
     "output_type": "stream",
     "text": [
      "<class 'pandas.core.frame.DataFrame'>\n",
      "RangeIndex: 679553 entries, 0 to 679552\n",
      "Data columns (total 15 columns):\n",
      " #   Column      Non-Null Count   Dtype  \n",
      "---  ------      --------------   -----  \n",
      " 0   latitude    679553 non-null  float64\n",
      " 1   longitude   679553 non-null  float64\n",
      " 2   brightness  679553 non-null  float64\n",
      " 3   scan        679553 non-null  float64\n",
      " 4   track       679553 non-null  float64\n",
      " 5   acq_date    679553 non-null  object \n",
      " 6   acq_time    679553 non-null  int64  \n",
      " 7   satellite   679553 non-null  object \n",
      " 8   instrument  679553 non-null  object \n",
      " 9   confidence  679553 non-null  object \n",
      " 10  version     679553 non-null  int64  \n",
      " 11  bright_t31  679553 non-null  float64\n",
      " 12  frp         679553 non-null  float64\n",
      " 13  daynight    679553 non-null  object \n",
      " 14  type        679553 non-null  int64  \n",
      "dtypes: float64(7), int64(3), object(5)\n",
      "memory usage: 77.8+ MB\n",
      "None\n"
     ]
    }
   ],
   "source": [
    "print(hotspot_thailand.info())"
   ]
  },
  {
   "cell_type": "code",
   "execution_count": 7,
   "metadata": {},
   "outputs": [],
   "source": [
    "drop_columns = ['latitude', 'longitude', 'scan', 'track', 'satellite', 'instrument', 'confidence', 'version', 'daynight', 'type']\n",
    "hotspot_cambodia.drop(columns=drop_columns, inplace=True)\n",
    "hotspot_lao.drop(columns=drop_columns, inplace=True)\n",
    "hotspot_myanmar.drop(columns=drop_columns, inplace=True)\n",
    "hotspot_thailand.drop(columns=drop_columns, inplace=True)"
   ]
  },
  {
   "cell_type": "code",
   "execution_count": 8,
   "metadata": {},
   "outputs": [],
   "source": [
    "train_cambodia = hotspot_cambodia[hotspot_cambodia['acq_date'] < cutoff_date]\n",
    "train_lao = hotspot_lao[hotspot_lao['acq_date'] < cutoff_date]\n",
    "train_myanmar = hotspot_myanmar[hotspot_myanmar['acq_date'] < cutoff_date]\n",
    "train_thailand = hotspot_thailand[hotspot_thailand['acq_date'] < cutoff_date]"
   ]
  },
  {
   "cell_type": "code",
   "execution_count": 9,
   "metadata": {},
   "outputs": [],
   "source": [
    "test_cambodia = hotspot_cambodia[hotspot_cambodia['acq_date'] >= cutoff_date]\n",
    "test_lao = hotspot_lao[hotspot_lao['acq_date'] >= cutoff_date]\n",
    "test_myanmar = hotspot_myanmar[hotspot_myanmar['acq_date'] >= cutoff_date]\n",
    "test_thailand = hotspot_thailand[hotspot_thailand['acq_date'] >= cutoff_date]"
   ]
  },
  {
   "cell_type": "code",
   "execution_count": 12,
   "metadata": {},
   "outputs": [
    {
     "name": "stdout",
     "output_type": "stream",
     "text": [
      "False\n",
      "False\n",
      "True\n",
      "False\n"
     ]
    }
   ],
   "source": [
    "print(train_cambodia.shape[0] + test_cambodia.shape[0] == hotspot_cambodia.shape[0])\n",
    "print(train_lao.shape[0] + test_lao.shape[0] == hotspot_lao.shape[0])\n",
    "print(train_myanmar.shape[0] + test_myanmar.shape[0] == hotspot_myanmar.shape[0])\n",
    "print(train_thailand.shape[0] + test_thailand.shape[0] == hotspot_thailand.shape[0])"
   ]
  },
  {
   "cell_type": "code",
   "execution_count": 11,
   "metadata": {},
   "outputs": [],
   "source": [
    "test_cambodia = test_cambodia[test_cambodia['acq_date'] < last_date]\n",
    "test_lao = test_lao[test_lao['acq_date'] < last_date]\n",
    "test_myanmar = test_myanmar[test_myanmar['acq_date'] < last_date]\n",
    "test_thailand = test_thailand[test_thailand['acq_date'] < last_date]"
   ]
  },
  {
   "cell_type": "code",
   "execution_count": 13,
   "metadata": {},
   "outputs": [],
   "source": [
    "train_cambodia.to_csv(f'{rootPath}/cambodia_hotspot.csv', index=False)\n",
    "train_lao.to_csv(f'{rootPath}/lao_hotspot.csv', index=False)\n",
    "train_myanmar.to_csv(f'{rootPath}/myanmar_hotspot.csv', index=False)\n",
    "train_thailand.to_csv(f'{rootPath}/thailand_hotspot.csv', index=False)"
   ]
  },
  {
   "cell_type": "code",
   "execution_count": 14,
   "metadata": {},
   "outputs": [],
   "source": [
    "test_cambodia.to_csv(f'{rootPath}/cambodia_hotspot_test.csv', index=False)\n",
    "test_lao.to_csv(f'{rootPath}/lao_hotspot_test.csv', index=False)\n",
    "test_myanmar.to_csv(f'{rootPath}/myanmar_hotspot_test.csv', index=False)\n",
    "test_thailand.to_csv(f'{rootPath}/thailand_hotspot_test.csv', index=False)"
   ]
  },
  {
   "cell_type": "code",
   "execution_count": 22,
   "metadata": {},
   "outputs": [
    {
     "name": "stdout",
     "output_type": "stream",
     "text": [
      "2020-07-01 06:36:00+00:00 2020-07-01 13:36:00\n"
     ]
    }
   ],
   "source": [
    "# date = pd.to_datetime('2020-07-01 6:36', utc=True)\n",
    "# date2 = date.tz_convert('Asia/Bangkok').strftime('%Y-%m-%d %H:%M:%S')\n",
    "# print(date, date2)"
   ]
  },
  {
   "cell_type": "code",
   "execution_count": 30,
   "metadata": {},
   "outputs": [
    {
     "data": {
      "text/plain": [
       "Timestamp('2020-07-01 07:00:00+0000', tz='UTC')"
      ]
     },
     "execution_count": 30,
     "metadata": {},
     "output_type": "execute_result"
    }
   ],
   "source": [
    "# date.round('H')"
   ]
  },
  {
   "cell_type": "code",
   "execution_count": null,
   "metadata": {},
   "outputs": [],
   "source": []
  }
 ],
 "metadata": {
  "interpreter": {
   "hash": "2594fca41359fbaf0c8b5f809cf3edce024c2b7d49fe63f1f071c1881f7b3daa"
  },
  "kernelspec": {
   "display_name": "Python 3.10.1 64-bit",
   "language": "python",
   "name": "python3"
  },
  "language_info": {
   "codemirror_mode": {
    "name": "ipython",
    "version": 3
   },
   "file_extension": ".py",
   "mimetype": "text/x-python",
   "name": "python",
   "nbconvert_exporter": "python",
   "pygments_lexer": "ipython3",
   "version": "3.10.1"
  },
  "orig_nbformat": 4
 },
 "nbformat": 4,
 "nbformat_minor": 2
}
